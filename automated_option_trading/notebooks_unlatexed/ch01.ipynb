{
 "cells": [
  {
   "cell_type": "markdown",
   "metadata": {},
   "source": [
    "1.1\n",
    "Developing option trading strategies, numerous specificities, distinguish option-based strategies from other trading systems."
   ]
  },
  {
   "cell_type": "markdown",
   "metadata": {},
   "source": [
    "1.1.1\n",
    "nonlinear payoff functions, evaluating  investment potential, generating trading signals, linear assets trading,\n",
    "specially designed indicators, assessing price trends, dynamics of trading volume, overbought/oversold patterns, based\n",
    "on fundamental characteristics, quality of trading signals, effectiveness of indicators, forecast the future price movements"
   ]
  },
  {
   "cell_type": "markdown",
   "metadata": {},
   "source": [
    "Option strategies, explicitly require forecasts of price movement direction, trading signals,  application of special\n",
    "criteria,\n",
    " potential profitability and risk, identify undervalued and overvalued investment assets."
   ]
  },
  {
   "cell_type": "markdown",
   "metadata": {},
   "source": [
    "Fair value, extent of uncertainty, future fluctuations, underlying asset price, option price,  probability distribution\n",
    "of underlying asset price outcomes, market estimate, degree of uncertainty,  magnitude of uncertainty estimated by the\n",
    "investor is different, interrelationship between these two uncertainties, principle underlying criteria creation,\n",
    "expressed either directly or indirectly,  main component, algorithm of criteria calculation"
   ]
  },
  {
   "cell_type": "markdown",
   "metadata": {},
   "source": [
    "fairness of t,he option market price, express values of both uncertainties numerically, same dimension, compare with\n",
    "each\n",
    " other, criterion effectiveness, express the relationship between the divergence of two uncertainties, magnitude of\n",
    " option over- or underpricing, algorithms for calculation of many options-specific criteria, main principles of criteria\n",
    "  creation,  optimization of their parameters, diff,erent approaches, evaluation of criteria effectiveness"
   ]
  },
  {
   "cell_type": "markdown",
   "metadata": {},
   "source": [
    "1.1.2\n",
    "limited life span, certain limitations, duration of the position holding period, rollover procedures, slippage and transaction costs\n",
    ",\n",
    "position opening, closing the same position, no close signals, strategy holds positions until expiration, options expire\n",
    " out-of-the-money, in-the-money at expiration, signals for opening option positions, close signals, underlying assets, same direction"
   ]
  },
  {
   "cell_type": "markdown",
   "metadata": {},
   "source": [
    "Generation of an open signal, divergence of analytically estimated fair value, persist at the market for an infinitely\n",
    "long time,  judge the accuracy of his valuation algorithms, fixed expiration date, period of estimates verification"
   ]
  },
  {
   "cell_type": "markdown",
   "metadata": {},
   "source": [
    "1.1.3\n",
    "each underlying asset, multitude of options, different strike prices, expiration date, over- or undervalued"
   ]
  },
  {
   "cell_type": "markdown",
   "metadata": {},
   "source": [
    "number of different option contracts"
   ]
  },
  {
   "cell_type": "markdown",
   "metadata": {},
   "source": [
    "limits his system, combinations whose payoff functions,  trading strategy, filtered by liquidity, spread, pending\n",
    "corporate events, fundamental characteristics, and many other parameters, initial set of suitable combinations"
   ]
  },
  {
   "cell_type": "markdown",
   "metadata": {},
   "source": [
    "1.2\n",
    "Market-neutral positions, direction of price fluctuations, small change in the price, large price movement, direction of\n",
    " price movement, index delta, cumulative delta, delta-neutral"
   ]
  },
  {
   "cell_type": "markdown",
   "metadata": {},
   "source": [
    "1.2.1\n",
    "simplest form of a market-neutral strategy, basic form, specific properties,  main structural elements, comparison, option trading strategies."
   ]
  },
  {
   "cell_type": "markdown",
   "metadata": {},
   "source": [
    "Position opening signals, single indicator, expected profit, basis of lognormal distribution, threshold value, range of\n",
    "allowable values, exact threshold value, optimization, calculated daily, opened for all combinations"
   ]
  },
  {
   "cell_type": "markdown",
   "metadata": {},
   "source": [
    "held until expiration, After the expiration, expired in-the-money, closed"
   ]
  },
  {
   "cell_type": "markdown",
   "metadata": {},
   "source": [
    "algorithm, expected value of the underlying asset price, variance, expected price, equal, current underlying asset\n",
    "price, criterion calculation date, accurate estimate of the future price, expert forecasts, square of historical\n",
    "volatility, additional subparameter, length of the historical period, historical horizon, set empirically, optimization"
   ]
  },
  {
   "cell_type": "markdown",
   "metadata": {},
   "source": [
    "initial set of investment assets, allowable, available, all options on stocks in the S&P 500 index, unit of the\n",
    "investment object, combination of options, long and short strangles and straddles"
   ]
  },
  {
   "cell_type": "markdown",
   "metadata": {},
   "source": [
    "liquidity and slippage risks, strike prices, beyond 50%, underlying asset price, maximum allowable value, time left to\n",
    "options expiration, restrictions, ranges of permissible values,  prior experience,  exact values, optimization,\n",
    "empirical approach methods"
   ]
  },
  {
   "cell_type": "markdown",
   "metadata": {},
   "source": [
    "money management, distributing funds, risk-free money market assets, investment portfolio, after new open signals, part\n",
    "of unused capital, new positions, basic form, distributed equally, all trading days, operating cycle, strategy,\n",
    "expiration dates, Within each trading,  funds available, invested"
   ]
  },
  {
   "cell_type": "markdown",
   "metadata": {},
   "source": [
    "Distribution of capital, different option combinations, principle of stock equivalency, position volume, should the\n",
    "options be exercised, funds required, fulfill the obligation, approximately equal for each combination"
   ]
  },
  {
   "cell_type": "markdown",
   "metadata": {},
   "source": [
    "risk management, delta-neutrality, index delta, different parameters, equal or close to zero, Value at Risk (VaR),\n",
    "asymmetry coefficient, loss probability"
   ]
  },
  {
   "cell_type": "markdown",
   "metadata": {},
   "source": [
    "1.2.2\n",
    "strategies, large number of parameters, values, set and fixed, huge,  different variants, power law, combinations, not\n",
    "attainable"
   ]
  },
  {
   "cell_type": "markdown",
   "metadata": {},
   "source": [
    "three parameters, threshold value, range of strike prices, Option series, time left, expiration date"
   ]
  },
  {
   "cell_type": "markdown",
   "metadata": {},
   "source": [
    "parameters, influence, portfolio characteristics, relative frequency, long and short positions, diversification,  risk\n",
    "indicators, relationships, portfolio delta, portfolio index delta, deviates from zero"
   ]
  },
  {
   "cell_type": "markdown",
   "metadata": {},
   "source": [
    "combination, parameter values, delta-neutrality, fulfilled, point of delta-neutrality, whole set, boundary of\n",
    "delta-neutrality"
   ]
  },
  {
   "cell_type": "markdown",
   "metadata": {},
   "source": [
    "CONTINUE"
   ]
  },
  {
   "cell_type": "markdown",
   "metadata": {},
   "source": [
    "1.4.2\n",
    "select, whole set, attainable delta-neutral portfolios, variant, characteristics, requirements, trading strategy, full\n",
    "match, within one single portfolio, alternative, set of characteristics, closest, reference standard"
   ]
  },
  {
   "cell_type": "markdown",
   "metadata": {},
   "source": [
    "two following cases, portfolios, one-week options, two-month options, calm market period, loss probability, construct a\n",
    "table, each characteristic, fix values, delta-neutrality points, delta-neutrality boundaries"
   ]
  },
  {
   "cell_type": "markdown",
   "metadata": {},
   "source": [
    "separate tables for each characteristic, summarize, characteristics relating only to delta-neutral portfolios, all\n",
    "available variants, values of six characteristics, short-term options, long-term options, all obtainable delta-neutral\n",
    "portfolios, analyze these data, fix the intervals, peculiarities of the strategy, individual preferences, external\n",
    "restrictions,  each specific case, intervals of the desired values, number of combinations, number of underlying assets,\n",
    " percentage of short combinations, Loss probability, Asymmetry coefficient, VaR"
   ]
  },
  {
   "cell_type": "markdown",
   "metadata": {},
   "source": [
    "portfolios, nearest options, characteristics, atisfying our requirements, portfolios prove in line, portfolios is\n",
    "suitable, selection algorithm"
   ]
  },
  {
   "cell_type": "markdown",
   "metadata": {},
   "source": [
    "variety of algorithms, optimal delta-neutral portfolio, different variant, problem of multicriteria selection, each characteristic"
   ]
  },
  {
   "cell_type": "markdown",
   "metadata": {},
   "source": [
    "most restrictive algorithm, first stage, portfolios, all characteristics,  a priori established requirements, second\n",
    "stage, several alternative, ranked by their significance, portfolio with the best value, most significant\n",
    "characteristic, more than one, characteristic,  ranked second in importance, drawback, objective difficulty, ranging\n",
    "different characteristics, order of their relative importance, equally significant, Pareto method, multicriteria\n",
    "analysis, cannot control the number of selected portfolios, drawback, substantial, opening, more positions,  increase\n",
    "losses, slippage and operational costs"
   ]
  },
  {
   "cell_type": "markdown",
   "metadata": {},
   "source": [
    "\n",
    "less restrictive algorithm, first stage, all portfolios,  n characteristics,  interval of desired values, total number\n",
    "of characteristics, second stage, more restrictive algorithm, Alternatively, variants, first stage, portfolio,  best\n",
    "value,  failed characteristic, dominates over all other variants, portfolio,  optimal one,"
   ]
  },
  {
   "cell_type": "markdown",
   "metadata": {},
   "source": [
    "more restrictive and less restrictive algorithm, second stage, priori ranking, relative significance, characteristic,\n",
    "widest range of values, values of “asymmetry coefficient”,  first stage, second selection stage, number of combinations,\n",
    " VaR,  main characteristics, final selection, optimal delta-neutral portfolio"
   ]
  },
  {
   "cell_type": "markdown",
   "metadata": {},
   "source": [
    "algorithm, automated trading strategy, main factor, delta-neutral portfolio, open trading positions"
   ]
  },
  {
   "cell_type": "markdown",
   "metadata": {},
   "source": []
  }
 ],
 "metadata": {
  "kernelspec": {
   "display_name": "Python 3",
   "language": "python",
   "name": "python3"
  },
  "language_info": {
   "codemirror_mode": {
    "name": "ipython",
    "version": 3
   },
   "file_extension": ".py",
   "mimetype": "text/x-python",
   "name": "python",
   "nbconvert_exporter": "python",
   "pygments_lexer": "ipython3",
   "version": "3.6.7"
  }
 },
 "nbformat": 4,
 "nbformat_minor": 2
}
