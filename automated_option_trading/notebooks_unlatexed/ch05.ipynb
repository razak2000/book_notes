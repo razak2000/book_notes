{
 "cells": [
  {
   "cell_type": "markdown",
   "metadata": {},
   "source": [
    "testing options trading strategies, historical data"
   ]
  },
  {
   "cell_type": "markdown",
   "metadata": {},
   "source": [
    "a historical database, a generator of position opening and closing signals, a simulator of trading orders execution,\n",
    "system of performance evaluation, model a long-term trading process, evaluate its results"
   ]
  },
  {
   "cell_type": "markdown",
   "metadata": {},
   "source": [
    "5.1\n",
    "Historical data,\n",
    "5.1.1\n",
    "brokerage firms, observation, current option quotes,  Current quotes, option contracts, finance.yahoo.com, finance\n",
    ".google.com, options price history, special data vendors, range of underlying assets, OptionVue system, price history\n",
    "directly"
   ]
  },
  {
   "cell_type": "markdown",
   "metadata": {},
   "source": [
    "wide range of underlying assets,  considerable length of price history, www.historicaloptiondata.com, www.ivolatility\n",
    ".com, www.livevol.com, www.optionmetrics.com, and www.stricknet.com,  livevol.com, daily close prices, intra-day prices,\n",
    " IVolatility.com, option-specific indicators, analytical materials"
   ]
  },
  {
   "cell_type": "markdown",
   "metadata": {},
   "source": [
    " problem of omission of underlying assets, survival bias problem, company acquisition, bankruptcy, or delisting,\n",
    " “extinct” underlying assets, overlook important market events, volatility selling strategy, full set of all underlying\n",
    " assets that have existed, backtesting period"
   ]
  },
  {
   "cell_type": "markdown",
   "metadata": {},
   "source": [
    "5.1.2\n",
    "minimum information, certain time frame, open and close prices of the day, daily high and low prices, detailed\n",
    "databases, intra-day prices, given frequency,  ticks data, all deals executed, time frame"
   ]
  },
  {
   "cell_type": "markdown",
   "metadata": {},
   "source": [
    "Historical prices of options, distinctive features, task of synchronization, option quotes, connected, underlying asset\n",
    "price,  same moment, structure of the historical database"
   ]
  },
  {
   "cell_type": "markdown",
   "metadata": {},
   "source": [
    "wide spreads, low liquidity of options, bid and ask quotes, when close prices of a trading day, last option transaction,\n",
    " underlying asset, last transaction, moment of market closing,  mistiming"
   ]
  },
  {
   "cell_type": "markdown",
   "metadata": {},
   "source": [
    "Underlying assets price history, open, close, high, and low prices, supported time frames"
   ]
  },
  {
   "cell_type": "markdown",
   "metadata": {},
   "source": [
    "Options prices history, history of bid/ask quotes, option contract, ticker, transactions history, options related, same underlying asset"
   ]
  },
  {
   "cell_type": "markdown",
   "metadata": {},
   "source": [
    "Trading volume, underlying assets and options, open interest (for options"
   ]
  },
  {
   "cell_type": "markdown",
   "metadata": {},
   "source": [
    "History of dividend payments, splits, and ticker changes,  underlying assets"
   ]
  },
  {
   "cell_type": "markdown",
   "metadata": {},
   "source": [
    "History of quarterly earnings reports, simulate the past decision-making process, real chronology of quarterly earnings\n",
    "reports, fundamental errors, expected date of the event, expected dates of earnings releases,  real dates, automatic\n",
    "daily scanning,  www.marketwatch.com, www.earnings.com, and www.finance.yahoo.com."
   ]
  },
  {
   "cell_type": "markdown",
   "metadata": {},
   "source": [
    "History of irregular corporate events, mergers/acquisitions, bankruptcies, court decisions, announcements of products\n",
    "approval or rejection, influence the implied volatility, reliable only after the event,  use only assumptions and\n",
    "expectations, before the date of occurrence of the event,  impossible to determine the information, given moment in the\n",
    "past, transaction should be excluded"
   ]
  },
  {
   "cell_type": "markdown",
   "metadata": {},
   "source": [
    "Fundamental financial indicators, P/E, PEG, ROE, EPS, corporate financial statements, fundamental analysis, fundamental\n",
    "indicators, application in the option strategies, data from quarterly reports, estimates by the leading financial\n",
    "analysts, before the report was published"
   ]
  },
  {
   "cell_type": "markdown",
   "metadata": {},
   "source": [
    "data vendors, different variants of volatility calculations, volatility indexes, the Greeks"
   ]
  },
  {
   "cell_type": "markdown",
   "metadata": {},
   "source": [
    "5.1.3\n"
   ]
  }
 ],
 "metadata": {
  "kernelspec": {
   "display_name": "Python 3",
   "language": "python",
   "name": "python3"
  },
  "language_info": {
   "codemirror_mode": {
    "name": "ipython",
    "version": 3
   },
   "file_extension": ".py",
   "mimetype": "text/x-python",
   "name": "python",
   "nbconvert_exporter": "python",
   "pygments_lexer": "ipython3",
   "version": "3.6.7"
  }
 },
 "nbformat": 4,
 "nbformat_minor": 2
}
