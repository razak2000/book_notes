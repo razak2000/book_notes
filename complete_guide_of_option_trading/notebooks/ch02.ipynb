{
 "cells": [
  {
   "cell_type": "markdown",
   "metadata": {},
   "source": [
    "You should understand the fundamentals of opening and closing an option position, the fundamentals of option buying versus selling, and other basics."
   ]
  },
  {
   "cell_type": "markdown",
   "metadata": {},
   "source": [
    "You can establish (open) a position by buying an option; you can subsequently close (offset) it by selling it in the marketplace."
   ]
  },
  {
   "cell_type": "markdown",
   "metadata": {},
   "source": [
    "You can establish (open) a position by selling an option; you can subsequently close (offset) it by buying it in the marketplace."
   ]
  },
  {
   "cell_type": "markdown",
   "metadata": {},
   "source": [
    "in the unique options world, you are not dealing with ownership interests; rather, you are dealing with contracts representing rights and obligations."
   ]
  },
  {
   "cell_type": "markdown",
   "metadata": {},
   "source": [
    "When you close an option position, you are taking the opposite side of the established position."
   ]
  },
  {
   "cell_type": "markdown",
   "metadata": {},
   "source": [
    "The term “offset” simply means to eliminate a long or short option position that was previously established."
   ]
  },
  {
   "cell_type": "markdown",
   "metadata": {},
   "source": [
    "In the options world, many option contracts are initially sold, so the term “offset” is useful to indicate that something is being closed."
   ]
  },
  {
   "cell_type": "markdown",
   "metadata": {},
   "source": [
    "When you establish a position, you enter an order to buy (long position) or an order to sell (short position) to open, and when you close a position, you enter an order to sell or an order to buy to close."
   ]
  },
  {
   "cell_type": "markdown",
   "metadata": {},
   "source": [
    "When closing an option position you previously purchased, you would enter a sell to close order, in which you offset the original position."
   ]
  },
  {
   "cell_type": "markdown",
   "metadata": {},
   "source": [
    "When you sell (write) an option, you are opening a short option position, and you can subsequently close (offset) it by buying it in the marketplace. When closing such an option position, you would enter a buy to close order, in which you offset the original position."
   ]
  },
  {
   "cell_type": "markdown",
   "metadata": {},
   "source": [
    "Both an option buyer and an option writer can close the option position by closing out (offsetting) the original position prior to the expiration date. To do so, you place an order to buy or sell the same number of contracts with the same terms."
   ]
  },
  {
   "cell_type": "markdown",
   "metadata": {},
   "source": [
    "In general, you would typically buy a call if you believe the underlying stock is going to move higher and you want limited risk."
   ]
  },
  {
   "cell_type": "markdown",
   "metadata": {},
   "source": [
    "You would typically buy a put if you believe the underlying stock is going to move lower and you want limited risk."
   ]
  },
  {
   "cell_type": "markdown",
   "metadata": {},
   "source": [
    "One of the main attractions of a long option is limited risk."
   ]
  },
  {
   "cell_type": "markdown",
   "metadata": {},
   "source": [
    "When you enter into a long option position (call or put), you are not required to hold the position until the expiration date."
   ]
  },
  {
   "cell_type": "markdown",
   "metadata": {},
   "source": [
    "For an option buyer, there are three methods to exit a position:\n",
    "    1. Close the position.\n",
    "    2. Let the option expire worthless.\n",
    "    3. Exercise the option."
   ]
  },
  {
   "cell_type": "markdown",
   "metadata": {},
   "source": [
    "You can offset an option position in a closing transaction at any time before expiration. In fact, most options are offset prior to expiration."
   ]
  },
  {
   "cell_type": "markdown",
   "metadata": {},
   "source": [
    "To do so, you place an order to sell the same number of contracts with the same terms"
   ]
  },
  {
   "cell_type": "markdown",
   "metadata": {},
   "source": [
    "You can let the option expire worthless on the expiration date if it settles out-of-the-money, thus realizing a loss equal to the premium paid for the option."
   ]
  },
  {
   "cell_type": "markdown",
   "metadata": {},
   "source": [
    "By exercising a call option, you are choosing to buy the underlying stock at the strike price."
   ]
  },
  {
   "cell_type": "markdown",
   "metadata": {},
   "source": [
    "By exercising a put option, you are choosing to sell the underlying stock at the strike price."
   ]
  },
  {
   "cell_type": "markdown",
   "metadata": {},
   "source": [
    "A long option is a limited-risk strategy because an option buyer cannot lose more than the premium paid (in addition to commission and other transaction costs, of course)"
   ]
  },
  {
   "cell_type": "markdown",
   "metadata": {},
   "source": [
    "A long put is described as an unlimited reward strategy, although, mathematically speaking, a long put profit is limited to the difference between the exercise price and zero times the number of options (at $100 per contract)"
   ]
  },
  {
   "cell_type": "markdown",
   "metadata": {},
   "source": [
    "The goal of option selling is the same as in traditional trading but in reverse order. In traditional trading, the goal is to buy low and sell high, whereas in option selling, the goal is to sell high and buy low."
   ]
  },
  {
   "cell_type": "markdown",
   "metadata": {},
   "source": [
    "An option buyer makes a profit when he buys an option and later sells it at a price above the level at which it was purchased"
   ]
  },
  {
   "cell_type": "markdown",
   "metadata": {},
   "source": [
    "An option writer (seller) makes a profit when the option that was sold is later purchased at a price below the level at which it was written or when it expires worthless"
   ]
  },
  {
   "cell_type": "markdown",
   "metadata": {},
   "source": [
    "Remember that you are an option writer if you sell an option to open a position."
   ]
  },
  {
   "cell_type": "markdown",
   "metadata": {},
   "source": [
    "A call obligates the writer (seller) to sell the underlying stock on or before an expiration date at the strike price."
   ]
  },
  {
   "cell_type": "markdown",
   "metadata": {},
   "source": [
    "Typically, you would write a call if you believe that the underlying stock is going to move lower or sideways"
   ]
  },
  {
   "cell_type": "markdown",
   "metadata": {},
   "source": [
    "A put, on the other hand, obligates the writer to buy the underlying stock on or before an expiration date at the strike price."
   ]
  },
  {
   "cell_type": "markdown",
   "metadata": {},
   "source": [
    "You would typically write a put if you believe the underlying stock is going to move higher or sideways."
   ]
  },
  {
   "cell_type": "markdown",
   "metadata": {},
   "source": [
    "When writing an option, you are considered short the option."
   ]
  },
  {
   "cell_type": "markdown",
   "metadata": {},
   "source": [
    "An option writer profits if he can later buy (offset) that option at a lower price and loses if he later buys (offsets) at a higher price."
   ]
  },
  {
   "cell_type": "markdown",
   "metadata": {},
   "source": [
    "Depending on the rules in effect, the shorting of a stock may be subject to the uptick rule, which does not permit the shorting of a stock unless the last trade was higher than the previous trade (an uptick)."
   ]
  },
  {
   "cell_type": "markdown",
   "metadata": {},
   "source": [
    "Thus, buying a put can be an effective way to avoid the uptick rule if it is in effect."
   ]
  },
  {
   "cell_type": "markdown",
   "metadata": {},
   "source": [
    "Playing defense is especially important when selling options"
   ]
  },
  {
   "cell_type": "markdown",
   "metadata": {},
   "source": [
    "When you enter into a short option position, you are not required to continue the position until the expiration date, and you can exit the position in a number of different ways"
   ]
  },
  {
   "cell_type": "markdown",
   "metadata": {},
   "source": [
    "For an option seller (writer), three methods can be used to exit a position:\n",
    "    1. Close the position.\n",
    "    2. Let the option expire worthless.\n",
    "    3. Assignment of option."
   ]
  },
  {
   "cell_type": "markdown",
   "metadata": {},
   "source": [
    "You can close the position at any time before expiration; for example, if the stock rises to $108 two weeks prior to expiration, the call option might trade at $10, so you can buy (offset) it in a closing transaction at that time."
   ]
  },
  {
   "cell_type": "markdown",
   "metadata": {},
   "source": [
    "You can let the option expire worthless on the expiration date, thus realizing a gain equal to the premium collected"
   ]
  },
  {
   "cell_type": "markdown",
   "metadata": {},
   "source": [
    "If you sell an option to open, then you want it to expire worthless because you get to keep the entire credit you received from the option premium."
   ]
  },
  {
   "cell_type": "markdown",
   "metadata": {},
   "source": [
    "If the option buyer exercises an option, it is assigned to the seller (writer)."
   ]
  },
  {
   "cell_type": "markdown",
   "metadata": {},
   "source": [
    "Under an assignment, a call option writer is required to sell (or buy, in the case of a put) the underlying stock at the strike price."
   ]
  },
  {
   "cell_type": "markdown",
   "metadata": {},
   "source": [
    "A naked option is a short call or put option without the holding of an opposite position to limit your potential loss."
   ]
  },
  {
   "cell_type": "markdown",
   "metadata": {},
   "source": [
    "It can be called an uncovered option, naked call, or naked put."
   ]
  },
  {
   "cell_type": "markdown",
   "metadata": {},
   "source": [
    "It makes sense that it is called “naked” because the seller (writer) is fully exposed to risk."
   ]
  },
  {
   "cell_type": "markdown",
   "metadata": {},
   "source": [
    "For a naked option call writer, the risk is unlimited because there is no mathematical limitation to how high an underlying stock can rise."
   ]
  },
  {
   "cell_type": "markdown",
   "metadata": {},
   "source": [
    "A naked put seller is often described as having unlimited risk when, mathematically, in fact, his risk is limited to the underlying stock declining to zero."
   ]
  },
  {
   "cell_type": "markdown",
   "metadata": {},
   "source": [
    "A naked option writer can lose more of the premium collected and is typically described as someone who has unlimited risk."
   ]
  },
  {
   "cell_type": "markdown",
   "metadata": {},
   "source": [
    "The risk of selling one at-the-money call contract is the same as shorting 100 shares of stock (less the premium collected)."
   ]
  },
  {
   "cell_type": "markdown",
   "metadata": {},
   "source": [
    "The risk of selling one at-the-money put contract is the same as owning 100 shares of stock (less the premium collected)."
   ]
  },
  {
   "cell_type": "markdown",
   "metadata": {},
   "source": [
    "Briefly, margin on equities is typically determined under 20 percent standard margin or portfolio margin, and margin on futures is typically determined under the Standard Portfolio Analysis of Risk (SPAN) margining system"
   ]
  },
  {
   "cell_type": "markdown",
   "metadata": {},
   "source": [
    "Margin is the mechanism by which options gain leverage"
   ]
  },
  {
   "cell_type": "markdown",
   "metadata": {},
   "source": [
    "A margin requirement for options is the amount of cash (or other assets) an option seller is required to deposit and maintain to cover a position as collateral"
   ]
  },
  {
   "cell_type": "markdown",
   "metadata": {},
   "source": [
    "It is the amount of assets (e.g., cash, treasury bills) that must be deposited by an option seller to ensure performance of the seller’s obligations under an option contract"
   ]
  },
  {
   "cell_type": "markdown",
   "metadata": {},
   "source": [
    "Initial margin is the amount of margin required when a position is opened."
   ]
  },
  {
   "cell_type": "markdown",
   "metadata": {},
   "source": [
    "Maintenance margin is the amount that must be maintained on deposit after a position is open."
   ]
  },
  {
   "cell_type": "markdown",
   "metadata": {},
   "source": [
    "A margin call is a request from a brokerage firm to a customer to bring margin deposits up to initial levels after a position is open."
   ]
  },
  {
   "cell_type": "markdown",
   "metadata": {},
   "source": [
    "When you buy an option, the entire cost of a long option position is typically required to be paid at the time an option order is executed;"
   ]
  },
  {
   "cell_type": "markdown",
   "metadata": {},
   "source": [
    "Option margin rules, conversely, are concerned with short option positions."
   ]
  },
  {
   "cell_type": "markdown",
   "metadata": {},
   "source": [
    "The minimum initial margin requirement for an equity uncovered option varies from broker to broker but is typically set at the option premium credited plus 20 or 25 percent (15 percent for a broad-based index) of the underlying security or index minus the amount the option is out-of-the-money, subject to a minimum."
   ]
  },
  {
   "cell_type": "markdown",
   "metadata": {},
   "source": [
    "A spread can be broadly defined as two or more options working together to form a position."
   ]
  },
  {
   "cell_type": "markdown",
   "metadata": {},
   "source": [
    "A spread typically involves the purchase of one option contract (e.g., an XYZ February 100 call) and the sale of another option contract (e.g., an XYZ February 105 call) on the same underlying stock."
   ]
  },
  {
   "cell_type": "markdown",
   "metadata": {},
   "source": [
    "If a spread includes options with different expiration dates, the near-term (front month) is the expiration month closest to the present date, and the longer-term option (back month, far month, distant month, or deferred month) is the month after the near-term month."
   ]
  },
  {
   "cell_type": "markdown",
   "metadata": {},
   "source": [
    "A spread can consist of all calls or all puts or a combination of calls and puts."
   ]
  },
  {
   "cell_type": "markdown",
   "metadata": {},
   "source": [
    "When you enter into a spread position, you can offset the position, let the options expire worthless, exercise any long option, or wait for assignment on any short option."
   ]
  },
  {
   "cell_type": "markdown",
   "metadata": {},
   "source": [
    "The bid price represents the price you will likely receive if you place a market order to sell (for a specific quantity)."
   ]
  },
  {
   "cell_type": "markdown",
   "metadata": {},
   "source": [
    "The ask price (offer price) is the price you will likely pay if you place a market order to buy (for a specific quantity)"
   ]
  },
  {
   "cell_type": "markdown",
   "metadata": {},
   "source": [
    "The difference between the two prices is the bid/ask spread."
   ]
  },
  {
   "cell_type": "markdown",
   "metadata": {},
   "source": [
    "In other words, the bid represents the highest price a prospective buyer is willing to pay you at a particular time for an option.\n",
    "The ask price represents the lowest price a prospective seller is willing to receive from you at a particular time for an option."
   ]
  },
  {
   "cell_type": "markdown",
   "metadata": {},
   "source": [
    "When trading equity options, you should be able to see the bid/ask spreads in your trading platform"
   ]
  },
  {
   "cell_type": "markdown",
   "metadata": {},
   "source": [
    "Some options trade in nickel increments; others trade in pennies."
   ]
  },
  {
   "cell_type": "markdown",
   "metadata": {},
   "source": [
    "In addition, bid/ask spreads tend to be less onerous when they are at-the-money because they tend to be the most liquid options."
   ]
  },
  {
   "cell_type": "markdown",
   "metadata": {},
   "source": [
    "Bid/ask spreads tend to narrow for options with high trading volumes, especially on large capitalization stocks"
   ]
  },
  {
   "cell_type": "markdown",
   "metadata": {},
   "source": [
    "Before trading any option, you should determine the size of the bid/ask spread"
   ]
  },
  {
   "cell_type": "markdown",
   "metadata": {},
   "source": [
    "Bid/ask spreads vary, depending on the volume and volatility in the underlying stock."
   ]
  },
  {
   "cell_type": "markdown",
   "metadata": {},
   "source": [
    "In reality, options are typically purchased at the midpoint or at or near the ask price and sold at the midpoint or at or near the bid price."
   ]
  },
  {
   "cell_type": "markdown",
   "metadata": {},
   "source": [
    "An option chain is a list of option prices at a specific point in time and is similar to a stock screen, except that it has information on option prices."
   ]
  },
  {
   "cell_type": "markdown",
   "metadata": {},
   "source": [
    "An option chain shows prices at various strike prices, with the lowest strike price typically shown at the top and higher strike prices shown as you move down the page."
   ]
  },
  {
   "cell_type": "markdown",
   "metadata": {},
   "source": [
    "You should notice that call prices decline and put prices rise as you move to higher strike prices."
   ]
  },
  {
   "cell_type": "markdown",
   "metadata": {},
   "source": [
    "New option strike prices are added when the underlying shares trade near the highest or lowest strike prices available or when options expire and new expiration months are added."
   ]
  },
  {
   "cell_type": "markdown",
   "metadata": {},
   "source": [
    "Your trading platform should provide real-time bid/ask prices, whereas some web sites may have a delay in pricing."
   ]
  },
  {
   "cell_type": "markdown",
   "metadata": {},
   "source": [
    "You should use a trading platform that specializes in option trading that can automatically open or close option orders at the click of a mouse; for example, your option trading platform should automatically present an opening or offsetting order so that you only have to review it and make changes before transmitting the order."
   ]
  },
  {
   "cell_type": "markdown",
   "metadata": {},
   "source": [
    "There are more than a dozen order types you can place for stocks, such as market and limit orders, and you can generally enter the same types of orders for options."
   ]
  },
  {
   "cell_type": "markdown",
   "metadata": {},
   "source": [
    "You should have a trading platform that enables you to open or close a simple or complex equity option order in the same order."
   ]
  }
 ],
 "metadata": {
  "kernelspec": {
   "display_name": "Python 3",
   "language": "python",
   "name": "python3"
  },
  "language_info": {
   "codemirror_mode": {
    "name": "ipython",
    "version": 3
   },
   "file_extension": ".py",
   "mimetype": "text/x-python",
   "name": "python",
   "nbconvert_exporter": "python",
   "pygments_lexer": "ipython3",
   "version": "3.6.7"
  }
 },
 "nbformat": 4,
 "nbformat_minor": 2
}
