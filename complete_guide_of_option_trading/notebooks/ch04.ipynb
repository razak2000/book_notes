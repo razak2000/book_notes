{
 "cells": [
  {
   "cell_type": "markdown",
   "metadata": {},
   "source": [
    "The Greeks are a tool that can enable you to estimate future option values based on a small change in the stock price, time, volatility, and other factors."
   ]
  },
  {
   "cell_type": "markdown",
   "metadata": {},
   "source": [
    " Delta measures the change in the price of an option in response to a one-point increase in the underlying stock."
   ]
  },
  {
   "cell_type": "markdown",
   "metadata": {},
   "source": [
    " Gamma measures the change in the delta of an option resulting from a one-point increase in the underlying stock."
   ]
  },
  {
   "cell_type": "markdown",
   "metadata": {},
   "source": [
    " Theta measures the change in the price of an option from the passage of one day in time (time value)."
   ]
  },
  {
   "cell_type": "markdown",
   "metadata": {},
   "source": [
    " Vega measures the change in the price of an option from a one-point increase in implied volatility."
   ]
  },
  {
   "cell_type": "markdown",
   "metadata": {},
   "source": [
    " rho, measures the sensitivity of an option value from a one-point increase in the assumed interest rate"
   ]
  },
  {
   "cell_type": "markdown",
   "metadata": {},
   "source": [
    " It is not necessary for you to understand the model’s mathematical details to trade options, but it is helpful to understand the model’s assumptions and limitations. "
   ]
  },
  {
   "cell_type": "markdown",
   "metadata": {},
   "source": [
    " The best-known option pricing model is Black-Scholes, Other option pricing models are Cox-Ross and Bi Nomal. Some advanced traders and firms create their own pricing models. "
   ]
  },
  {
   "cell_type": "markdown",
   "metadata": {},
   "source": [
    " An option pricing model is especially valuable if you have multiple positions or complex positions; for instance, you may be long calls in one position and short puts and/or short calls in another position."
   ]
  },
  {
   "cell_type": "markdown",
   "metadata": {},
   "source": [
    " Keep in mind that option pricing models showing Greeks are only estimates."
   ]
  },
  {
   "cell_type": "markdown",
   "metadata": {},
   "source": [
    " Assumptions of the Black-Scholes model include the following:\n",
    " \tThere is a one-unit change."
   ]
  },
  {
   "cell_type": "markdown",
   "metadata": {},
   "source": [
    " \tOne Greek changes, while the other Greeks do not change."
   ]
  },
  {
   "cell_type": "markdown",
   "metadata": {},
   "source": [
    " \tIn determining whether a sign is positive or negative, the Greeks assume that there is an increase in the underlying stock, an increase in delta, an increase in time, an increase in volatility, or an increase in interest rates."
   ]
  },
  {
   "cell_type": "markdown",
   "metadata": {},
   "source": [
    " Rarely do stocks change exactly one point, and never do the other factors affecting option prices remain constant. Therefore, you should approach the Greeks with an open mind, understanding that they can provide valuable information but do not provide all the information you need to quantify your risks and potential rewards with respect to an option position."
   ]
  },
  {
   "cell_type": "markdown",
   "metadata": {},
   "source": [
    "Some other option-pricing-model assumptions include the following: no dividend is paid, European exercise, volatility is constant, interest rates remain constant, no commission is charged, and returns are lognormally distributed (I think this is a fancy way of saying that call and put prices are not symmetrical, even though they may be equidistant from the underlying stock price)."
   ]
  },
  {
   "cell_type": "markdown",
   "metadata": {},
   "source": [
    "A plus or minus sign for a Greek is based on the assumption that the underlying stock rises, time is moving forward, volatility is increasing, and the interest rate is rising."
   ]
  },
  {
   "cell_type": "markdown",
   "metadata": {},
   "source": [
    "A Greek can be a positive or a negative number, depending on whether you are long or short the option and whether it is a call or a put."
   ]
  },
  {
   "cell_type": "markdown",
   "metadata": {},
   "source": [
    "If delta is positive, you profit if the underlying stock rises. If delta is negative, you lose if the underlying stock rises. As a result, a long call and short put would have positive signs, whereas a short call and long put would have negative signs."
   ]
  },
  {
   "cell_type": "markdown",
   "metadata": {},
   "source": [
    "If theta is positive, you profit with the passage of time. If theta is negative, you lose with the passage of time. As a result, a short call and short put would have positive signs, whereas a long call and long put would have negative signs."
   ]
  },
  {
   "cell_type": "markdown",
   "metadata": {},
   "source": [
    "If vega is positive, you profit if volatility rises. If vega is negative, you lose if volatility rises. As a result, a long call and long put would have positive signs, whereas a short call and short put would have negative signs."
   ]
  },
  {
   "cell_type": "markdown",
   "metadata": {},
   "source": [
    "Unlike the other Greeks, gamma does not indicate whether you have a profit or loss. Instead, gamma measures the effect on delta based on certain assumptions. Gamma is positive if you are long an option and is negative if you are short an option."
   ]
  },
  {
   "cell_type": "markdown",
   "metadata": {},
   "source": [
    "If rho is positive, you profit if the assumed interest rate rises. If rho is negative, you lose if the assumed interest rate rises. As a result, a long call and short put would have positive signs, whereas a short call and long put would have negative signs."
   ]
  },
  {
   "cell_type": "markdown",
   "metadata": {},
   "source": [
    "As result, except for gamma, if your position reflects a gain from an increase in what it measures, then it will show a positive sign. If your position reflects a loss from an increase in what it measures, then it will show a negative sign."
   ]
  },
  {
   "cell_type": "markdown",
   "metadata": {},
   "source": [
    "Greeks can be expressed as a fraction (or percentage) or converted to dollars to reflect an actual position."
   ]
  },
  {
   "cell_type": "markdown",
   "metadata": {},
   "source": [
    "Delta is measured from zero (0 percent) to 1.0 (100 percent) and can be a positive or negative number."
   ]
  },
  {
   "cell_type": "markdown",
   "metadata": {},
   "source": [
    "In general, an at-the-money option typically has a delta of approximately 0.50 (50 percent). It is common to refer to such a delta as 50 because it is understood to mean a percentage."
   ]
  },
  {
   "cell_type": "markdown",
   "metadata": {},
   "source": [
    "As an aside, the delta is typically around 0.55 for calls and 0.45 for puts if they are at-the-money, but it is assumed for simplicity in this book that all at-the-money options have a delta of 0.50. "
   ]
  },
  {
   "cell_type": "markdown",
   "metadata": {},
   "source": [
    "The delta for an in-the-money option is usually greater than 0.50 and increases the further the underlying stock moves in-the-money"
   ]
  },
  {
   "cell_type": "markdown",
   "metadata": {},
   "source": [
    "The delta for an out-of-the-money option is usually less than 0.50 and declines the further the underlying stock moves out-of-the-money"
   ]
  },
  {
   "cell_type": "markdown",
   "metadata": {},
   "source": [
    "The problem with delta is that it only calculates what occurs if there is a one-point increase in the stock and does not calculate the value if there is a one-point decline in the stock, although you can reasonably conclude that it would approximate the change from an increase but in the opposite direction."
   ]
  },
  {
   "cell_type": "markdown",
   "metadata": {},
   "source": [
    "A long call has a delta ranging from zero (far-out-of-the-money call) to 1.00 (deep-in-the-money call). "
   ]
  },
  {
   "cell_type": "markdown",
   "metadata": {},
   "source": [
    "A short call has a delta ranging from zero (far-out-of-the-money call) to -1.00 (deep-in-the-money call)."
   ]
  },
  {
   "cell_type": "markdown",
   "metadata": {},
   "source": [
    "A long put has a delta ranging from zero (far-out-of-the-money put) to -1.00 (deep-in-the-money put)"
   ]
  },
  {
   "cell_type": "markdown",
   "metadata": {},
   "source": [
    "A short put has a delta ranging from zero (far-out-of-the-money put) to 1.00 (deep-in-the-money put)"
   ]
  },
  {
   "cell_type": "markdown",
   "metadata": {},
   "source": [
    "Keep in mind that the delta of an option changes throughout the trading day as there are changes in the price of the underlying stock, time, and volatility."
   ]
  },
  {
   "cell_type": "markdown",
   "metadata": {},
   "source": [
    "Position Delta Delta can be expressed as a fraction (or percentage), such as 0.50, or converted to dollars to reflect an actual position, such as $50. "
   ]
  },
  {
   "cell_type": "markdown",
   "metadata": {},
   "source": [
    "Your trading platform should help you determine your position delta for long and short option positions."
   ]
  },
  {
   "cell_type": "markdown",
   "metadata": {},
   "source": [
    "Your position can also be converted to dollars to create a position gamma, position theta, and position vega so you can see the dollar effect of your actual positions held."
   ]
  },
  {
   "cell_type": "markdown",
   "metadata": {},
   "source": [
    "Your trading platform should be able to convert your position so you can see the dollar impact. At the end of the day, you want to know your total exposure by converting your positions to dollars. "
   ]
  },
  {
   "cell_type": "markdown",
   "metadata": {},
   "source": [
    "To normalize the Greeks to dollars, you typically multiply the number of contracts times the Greek percentages times 100 (if a stock)."
   ]
  },
  {
   "cell_type": "markdown",
   "metadata": {},
   "source": [
    "The great thing about delta (if you can get excited about these things) is that it can be used to measure the probability of an option finishing in-the-money on the expiration date. "
   ]
  },
  {
   "cell_type": "markdown",
   "metadata": {},
   "source": [
    "If we ignore the sign of the delta, the delta is approximately equal to the probability, according to pricing in the marketplace, that the option will finish in-the-money."
   ]
  },
  {
   "cell_type": "markdown",
   "metadata": {},
   "source": [
    "As delta moves closer to 1.00, the option becomes more and more likely to finish in-the-money. "
   ]
  },
  {
   "cell_type": "markdown",
   "metadata": {},
   "source": [
    "As delta moves closer to zero, the option becomes less and less likely to finish in-the-money."
   ]
  },
  {
   "cell_type": "markdown",
   "metadata": {},
   "source": [
    "If you compare the probability of expiring in-the-money to the delta, you will see that the two percentages are relatively close."
   ]
  },
  {
   "cell_type": "markdown",
   "metadata": {},
   "source": [
    "The delta of an option is not a stagnant number and instead expands and contracts in response to changing conditions."
   ]
  },
  {
   "cell_type": "markdown",
   "metadata": {},
   "source": [
    "Delta moves closer to 1.0 as a stock moves deeper in-the-money and moves closer to zero as a stock moves further out-of-the-money."
   ]
  },
  {
   "cell_type": "markdown",
   "metadata": {},
   "source": [
    "If you are long a call option, for instance, as delta increases, it is like owning additional shares of stock, and as delta declines, it is like owning fewer shares of stock."
   ]
  },
  {
   "cell_type": "markdown",
   "metadata": {},
   "source": [
    "Gamma is sometimes referred to as the curvature of an option because it is the rate at which an option delta changes as the price of the underlying stock changes. "
   ]
  },
  {
   "cell_type": "markdown",
   "metadata": {},
   "source": [
    "If you were short the call option, gamma would be an indication of your growing exposure. \n",
    "Gamma can be viewed as the gift that keeps on giving because it tells you how your position will accelerate (or decelerate). In effect, it can be viewed as the hidden leverage buried in the option."
   ]
  },
  {
   "cell_type": "markdown",
   "metadata": {},
   "source": [
    "Gamma reaches its peak when an option is close to at-the-money and declines gradually the further it moves out-of-the-money or in-the-money. "
   ]
  },
  {
   "cell_type": "markdown",
   "metadata": {},
   "source": [
    "A long call and long put have positive gamma and a short call and short put have negative gamma;"
   ]
  },
  {
   "cell_type": "markdown",
   "metadata": {},
   "source": [
    "Gamma is positive for a long call because the positive delta increases as the underlying stock moves higher. "
   ]
  },
  {
   "cell_type": "markdown",
   "metadata": {},
   "source": [
    "Gamma is positive for a long put because the negative delta contracts as the underlying stock moves higher. "
   ]
  },
  {
   "cell_type": "markdown",
   "metadata": {},
   "source": [
    "Gamma is negative for a short call because the negative delta increases as the underlying stock moves higher."
   ]
  },
  {
   "cell_type": "markdown",
   "metadata": {},
   "source": [
    "Gamma is negative for a short put because the positive delta contracts as the underlying stock moves higher."
   ]
  },
  {
   "cell_type": "markdown",
   "metadata": {},
   "source": [
    "A long option position has a negative theta, and a short option position has a positive theta. A positive theta represents a potential gain with respect to the passage of time, and a negative theta represents a risk with respect to the passage of time. "
   ]
  },
  {
   "cell_type": "markdown",
   "metadata": {},
   "source": [
    "A positive theta represents a potential gain with respect to the passage of time, and a negative theta represents a risk with respect to the passage of time."
   ]
  },
  {
   "cell_type": "markdown",
   "metadata": {},
   "source": [
    "If you are long a call, the increase of the underlying stock helps to increase the value of the option, but the passage of time hurts the value of the option. Said another way, if price movement in the underlying stock helps you (positive gamma), the passage of time hurts you (negative theta)."
   ]
  },
  {
   "cell_type": "markdown",
   "metadata": {},
   "source": [
    "As a general principle, an option position will have a gamma and a theta of opposite signs. "
   ]
  },
  {
   "cell_type": "markdown",
   "metadata": {},
   "source": [
    "Theta reaches its peak when an option is close to at-the-money and declines gradually the further it moves out-of-the-money or in-the-money. "
   ]
  },
  {
   "cell_type": "markdown",
   "metadata": {},
   "source": [
    "Because an option gains value with rising volatility, the vega for both long calls and long puts is positive. "
   ]
  },
  {
   "cell_type": "markdown",
   "metadata": {},
   "source": [
    "Because an option loses value with declining volatility, the vega for both a short call and a short put is negative. "
   ]
  },
  {
   "cell_type": "markdown",
   "metadata": {},
   "source": [
    "A position with a positive vega gains from an increase in implied volatility, whereas a position with a negative vega gains from a decline in implied volatility. "
   ]
  },
  {
   "cell_type": "markdown",
   "metadata": {},
   "source": [
    "Vega, like gamma and theta, reaches its peak when an option is close to at-the-money and declines gradually the further it moves out-of-the-money or in-the-money."
   ]
  },
  {
   "cell_type": "markdown",
   "metadata": {},
   "source": [
    "A position with a positive rho rises in value from an increase in the assumed interest rate, whereas a position with a negative rho declines in value from an increase in the assumed interest rate. "
   ]
  },
  {
   "cell_type": "markdown",
   "metadata": {},
   "source": [
    "The interest rate is usually the least important of the inputs into a theoretical pricing model. "
   ]
  },
  {
   "cell_type": "markdown",
   "metadata": {},
   "source": [
    "Rho reaches its peak for a call the further an option is in-the-money. It declines gradually as the option is at-the-money and declines further as it moves out-of-the-money."
   ]
  },
  {
   "cell_type": "markdown",
   "metadata": {},
   "source": [
    "The Greeks can be a valuable tool in determining in advance how a change in assumptions can affect your overall position, including spreads"
   ]
  },
  {
   "cell_type": "markdown",
   "metadata": {},
   "source": [
    "Assuming that an option chain shows strike prices in five-point increments, you can move up and down the chain to the next strike price to determine what would occur if there was a five-point move in the underlying stock."
   ]
  },
  {
   "cell_type": "markdown",
   "metadata": {},
   "source": [
    "To estimate gamma, you can move up and down the chain to compare how a 5-point stock change would affect the option price versus a 10-point change, and so on"
   ]
  },
  {
   "cell_type": "markdown",
   "metadata": {},
   "source": [
    "Although knowing the delta of a one-point change may be useful to some degree, adding an analysis of what a five-point change looks like may also be helpful."
   ]
  },
  {
   "cell_type": "markdown",
   "metadata": {},
   "source": [
    "You can use an option chain to estimate time decay (theta) from month to month. For instance, by taking the difference between an option premium that expires in two months and subtracting the option premium from the near-term month, you can determine an estimate of time decay for the first four weeks of the longer-dated-month contract."
   ]
  },
  {
   "cell_type": "markdown",
   "metadata": {},
   "source": [
    "Remember that the Greeks produced by typical option pricing models do not address large movements in the underlying stock, volatility, or time."
   ]
  },
  {
   "cell_type": "markdown",
   "metadata": {},
   "source": [
    "The use of delta as a probability indicator can be a valuable tool in assessing probabilities to establish positions and manage risk."
   ]
  },
  {
   "cell_type": "markdown",
   "metadata": {},
   "source": [
    "Option strategies can be broken down into whether they are in-the-money, at-the-money, or out-of-the-money."
   ]
  },
  {
   "cell_type": "markdown",
   "metadata": {},
   "source": [
    "An option that is deep-in-the-money is intended to represent an option that consists almost entirely of intrinsic value and has a nominal extrinsic value."
   ]
  },
  {
   "cell_type": "markdown",
   "metadata": {},
   "source": [
    "A slightly-in-the-money option is intended to represent an option that consists mostly of intrinsic value but has a relatively small extrinsic value."
   ]
  },
  {
   "cell_type": "markdown",
   "metadata": {},
   "source": [
    "An at-the-money option is intended to represent an option with a strike price the same as, or closest to, the current trading price of the stock."
   ]
  },
  {
   "cell_type": "markdown",
   "metadata": {},
   "source": [
    "A slightly-out-of-the-money option is intended to represent an option that is fairly close to the at-the-money strike price, and a far-out-of-the-money option is intended to represent an option that is relatively low priced and unlikely ever to become in-the-money."
   ]
  },
  {
   "cell_type": "markdown",
   "metadata": {},
   "source": [
    "It is interesting to observe how delta varies based on the strike price versus the stock price."
   ]
  },
  {
   "cell_type": "markdown",
   "metadata": {},
   "source": [
    "The deeper in-the-money an option, the more the option moves like the underlying stock and has a delta closer to 1.0."
   ]
  },
  {
   "cell_type": "markdown",
   "metadata": {},
   "source": [
    "When an option is far-out-of-the-money, its value may change only a small fraction relative to the stock value but may move a high percentage relative to itself (the option value)"
   ]
  },
  {
   "cell_type": "markdown",
   "metadata": {},
   "source": [
    "The delta is greatest when the option is deep-in-the-money, approaches 50 percent when the option is at-the-money, and approaches zero as it goes far-out-of-the-money."
   ]
  },
  {
   "cell_type": "markdown",
   "metadata": {},
   "source": [
    "The delta of the call plus the delta of the put (ignoring the negative sign) is equal to 1."
   ]
  },
  {
   "cell_type": "markdown",
   "metadata": {},
   "source": [
    "It is interesting to observe how delta varies based on time remaining to expiration. As options near expiration, far-out-of-the-money contracts approach a delta of zero and deep-in-the-money contracts approach a delta of 1.00"
   ]
  },
  {
   "cell_type": "markdown",
   "metadata": {},
   "source": [
    "delta for an in-the-money option rises as the option expiration date approaches, delta for an at-the-money option declines as the expiration date approaches, and delta for an out-of-the-money option declines at a more rapid rate than the at-the-money option"
   ]
  },
  {
   "cell_type": "markdown",
   "metadata": {},
   "source": [
    "As a general rule, a rise in volatility moves options toward a 0.50 delta. As a result, if volatility rises, the in-the-money option delta declines because it is above 0.50 and the out-of-the-money delta rises because it is below 0.50."
   ]
  },
  {
   "cell_type": "markdown",
   "metadata": {},
   "source": [
    "Likewise, as a general rule, a decline in volatility moves options away from a 0.50 delta. As a result, if volatility declines, the in-the-money option delta rises and the out-of-the-money delta declines."
   ]
  },
  {
   "cell_type": "markdown",
   "metadata": {},
   "source": [
    "Option strategies that attempt to profit from a trading range (as opposed to directional strategies) strategy are, in many cases, called delta-neutral because a loss on one side of the position is approximately offset by another side."
   ]
  },
  {
   "cell_type": "markdown",
   "metadata": {},
   "source": [
    "A hedge ratio can be determined by dividing 1.00 by an option delta."
   ]
  },
  {
   "cell_type": "markdown",
   "metadata": {},
   "source": [
    "The Greeks can be used as money and risk management tools."
   ]
  },
  {
   "cell_type": "markdown",
   "metadata": {},
   "source": [
    "The Greeks can be especially useful in evaluating potential trades and monitoring multiple positions."
   ]
  },
  {
   "cell_type": "markdown",
   "metadata": {},
   "source": []
  },
  {
   "cell_type": "markdown",
   "metadata": {},
   "source": []
  },
  {
   "cell_type": "markdown",
   "metadata": {},
   "source": []
  },
  {
   "cell_type": "markdown",
   "metadata": {},
   "source": [
    "\n"
   ]
  }
 ],
 "metadata": {
  "kernelspec": {
   "display_name": "Python 3",
   "language": "python",
   "name": "python3"
  },
  "language_info": {
   "codemirror_mode": {
    "name": "ipython",
    "version": 3
   },
   "file_extension": ".py",
   "mimetype": "text/x-python",
   "name": "python",
   "nbconvert_exporter": "python",
   "pygments_lexer": "ipython3",
   "version": "3.6.7"
  }
 },
 "nbformat": 4,
 "nbformat_minor": 2
}
