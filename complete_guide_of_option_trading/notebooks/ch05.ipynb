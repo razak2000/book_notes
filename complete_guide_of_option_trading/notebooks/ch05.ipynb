{
 "cells": [
  {
   "cell_type": "markdown",
   "metadata": {},
   "source": [
    "Because an option has a fixed expiration date, you should determine the time horizon of the move in the underlying stock as well as how far and how fast (velocity) the underlying stock will move. As a result, the best option strategy should involve a determination regarding the direction, timing, and velocity of a move in the underlying stock."
   ]
  },
  {
   "cell_type": "markdown",
   "metadata": {},
   "source": [
    "A way to look at the difference between buying versus selling is that when you buy, your position can be profitable, at expiration, under one scenario, but if you sell, your position can be profitable under three scenarios."
   ]
  },
  {
   "cell_type": "markdown",
   "metadata": {},
   "source": [
    "You should consider buying (going long) an option if you have confidence that you can predict the direction and magnitude of a stock move."
   ]
  },
  {
   "cell_type": "markdown",
   "metadata": {},
   "source": [
    "You should consider selling (going short) an option if you are comfortable estimating a trading range and you want short-term statistical probabilities on your side."
   ]
  },
  {
   "cell_type": "markdown",
   "metadata": {},
   "source": [
    "When you buy or sell an option, a key factor that will determine whether or not you profit from the trade is the strike price you choose."
   ]
  },
  {
   "cell_type": "markdown",
   "metadata": {},
   "source": [
    "A short option, for example, achieves its maximum profit, at expiration, if the underlying stock finishes at or below the strike price of a call or at or above the strike price of a put."
   ]
  },
  {
   "cell_type": "markdown",
   "metadata": {},
   "source": [
    "A short option can be structured so that it has a higher probability of success, but the downside is a lower relative premium collected, and you can lose more money than the premium collected."
   ]
  },
  {
   "cell_type": "markdown",
   "metadata": {},
   "source": [
    "Delta can be used as a general guideline to determine what options are best to buy and sell. As a reminder, delta can be used to approximate the statistical probability of an option finishing in-the-money on the expiration date."
   ]
  },
  {
   "cell_type": "markdown",
   "metadata": {},
   "source": [
    "Keep in mind that the statistical percentages are based on representative delta amounts and that delta can be viewed as a measurement of the likelihood that an option will finish (by $0.01) in-the-money."
   ]
  },
  {
   "cell_type": "markdown",
   "metadata": {},
   "source": [
    "If you look closer at the delta numbers, you will realize that the statistical probabilities are naturally slanted in favor of the option seller."
   ]
  },
  {
   "cell_type": "markdown",
   "metadata": {},
   "source": [
    "If the underlying stock moves sideways, the at-the-money or out-of-the-money option seller is allowed to earn the entire premium, and the buyer loses the entire premium."
   ]
  },
  {
   "cell_type": "markdown",
   "metadata": {},
   "source": [
    "Therefore, delta does not equate to the probability of profiting, but instead is the probability of finishing in-the-money"
   ]
  },
  {
   "cell_type": "markdown",
   "metadata": {},
   "source": [
    "In general, buying an in-the-money option can enable you to benefit from a rise in a stock almost dollar for dollar, with a built-in limited risk feature and the ability to take advantage of leverage."
   ]
  },
  {
   "cell_type": "markdown",
   "metadata": {},
   "source": [
    "Buying an at-the-money or out-of-the-money option has the benefit of lower cost, but if the underlying stock does not move far and fast enough, an option buyer may lose money because of time decay."
   ]
  },
  {
   "cell_type": "markdown",
   "metadata": {},
   "source": [
    "Buying an option can make a lot of sense because the purchase of a deep-in-the-money call can serve as a proxy for owning stock, and a put can serve as a proxy for shorting stock."
   ]
  },
  {
   "cell_type": "markdown",
   "metadata": {},
   "source": [
    "Buying a deep-in-the-money option can be a cost-effective, limited-risk strategy preferable to trading the underlying stock itself."
   ]
  },
  {
   "cell_type": "markdown",
   "metadata": {},
   "source": [
    "depending on the rules in effect, the shorting of a stock may be subject to the uptick rule. The uptick rule does not permit the shorting of a stock unless the last trade was higher than the previous trade (an uptick). Buying a put can be an effective way to avoid the uptick rule if it is in effect."
   ]
  },
  {
   "cell_type": "markdown",
   "metadata": {},
   "source": [
    "The object of selling an out-of-the-money option can be to make a limited but consistent profit, by stacking the statistical probability on your side."
   ]
  },
  {
   "cell_type": "markdown",
   "metadata": {},
   "source": [
    "When you write an option, the option premium is your maximum profit (ignoring your ability to offset it and establish a new position) and is set at the time of sale. Option writing, as a result, offers the unique opportunity to know in advance the target profit from the transaction. As a result, you can establish a goal to earn a certain amount each month or quarter from the sale of options."
   ]
  },
  {
   "cell_type": "markdown",
   "metadata": {},
   "source": [
    "When selling an out-of-the-money option, you should first determine where the underlying stock will not go; for instance, when you sell a far-out-of-the-money option, you are concerned about where stock prices will not be headed, which can be an easier task than determining where a stock is headed, when, and to what magnitude."
   ]
  },
  {
   "cell_type": "markdown",
   "metadata": {},
   "source": [
    "When selling an option, you can still make money, even though your market prediction was incorrect, as long as there is not drastic movement in the stock in the wrong direction."
   ]
  },
  {
   "cell_type": "markdown",
   "metadata": {},
   "source": [
    "Writing a far-out-of-the-money option can provide you with a statistical edge, where you can take advantage of time decay, while not having to worry about minor movements in the underlying stock."
   ]
  },
  {
   "cell_type": "markdown",
   "metadata": {},
   "source": [
    "Selling an out-of-the-money option can be an appropriate strategy investment for a trader who is not comfortable predicting precisely the direction of an underlying stock, index, ETF, or futures."
   ]
  },
  {
   "cell_type": "markdown",
   "metadata": {},
   "source": [
    "A far-out-of-the-money call option can usually be written at a fairly inexpensive price, it can offer a leveraged way to make a higher-probability trade and possibly consistent profit."
   ]
  },
  {
   "cell_type": "markdown",
   "metadata": {},
   "source": [
    "Keep in mind that greater risk accompanies the potential for greater profit."
   ]
  },
  {
   "cell_type": "markdown",
   "metadata": {},
   "source": [
    "Although the markets can have a tendency to move in a range or to trend, which creates an environment that can be attractive to option selling, the market can break out of its range or trend and create havoc (that is a euphemism for losing money) for option sellers."
   ]
  },
  {
   "cell_type": "markdown",
   "metadata": {},
   "source": [
    "option sellers have a number of choices they can make; for instance, an option seller, like an option buyer, can offset his position in the marketplace at any time during regular trading hours."
   ]
  },
  {
   "cell_type": "markdown",
   "metadata": {},
   "source": [
    "Also, an option seller can manage overall risk by buying and selling the underlying stock to hedge his current position or adding other options to limit risk."
   ]
  },
  {
   "cell_type": "markdown",
   "metadata": {},
   "source": [
    "In general, when a trader enters into a short option position, he is required to post (have on deposit by the date set by the broker) an initial margin of an amount specified by the broker, exchange, or clearing organization."
   ]
  },
  {
   "cell_type": "markdown",
   "metadata": {},
   "source": [
    "Thereafter, the position is monitored daily. If the amount of money in the margin account falls below the specified maintenance margin, the trader is required to take appropriate action to bring the account up to the initial margin level."
   ]
  },
  {
   "cell_type": "markdown",
   "metadata": {},
   "source": [
    "Briefly, margin on equities is typically determined under the 20 percent standard margin or portfolio margin, and margin on futures is typically determined under the Standard Portfolio Analysis of Risk Assessment (SPAN) margining system."
   ]
  },
  {
   "cell_type": "markdown",
   "metadata": {},
   "source": [
    "In general, under traditional margining rules, the minimum initial margin requirement for uncovered options is set at the option premium credited plus 20 or 25 percent (15 percent for a broad-based index) of the underlying security or index minus the amount the option is out-of-the-money, subject to a minimum."
   ]
  },
  {
   "cell_type": "markdown",
   "metadata": {},
   "source": [
    "The 20 percent standard margin requirement is a strategy-based methodology that primarily uses the price of the underlying stock or index as a starting point."
   ]
  },
  {
   "cell_type": "markdown",
   "metadata": {},
   "source": [
    "In contrast, portfolio margining is a method for computing margin option positions based on the risk profile of the account, rather than on fixed percentages, for qualified customers."
   ]
  },
  {
   "cell_type": "markdown",
   "metadata": {},
   "source": [
    "The portfolio margining method uses a risk-based scheme, instead of a strategy-based scheme, by using theoretical pricing models to calculate the loss of a position at different price points above and below the current stock or index price."
   ]
  },
  {
   "cell_type": "markdown",
   "metadata": {},
   "source": [
    "Futures margins are typically determined by the SPAN margining system, which takes into account all positions in a customer’s account and, in general, usually produces a lower margin requirement than the 20 percent standard margin methodology."
   ]
  },
  {
   "cell_type": "markdown",
   "metadata": {},
   "source": [
    "For options, the margin is essentially a bookkeeping entry and does not represent the actual use of money. As a result, interest can be earned in an account for the full amount."
   ]
  },
  {
   "cell_type": "markdown",
   "metadata": {},
   "source": [
    "Leverage and margin are interrelated because the margin requirement affects the amount of leverage allowed by a seller of an option."
   ]
  },
  {
   "cell_type": "markdown",
   "metadata": {},
   "source": [
    "Buying an option does not automatically mean that you are bullish, and selling an option does not necessarily mean that you are bearish. Instead, if you are bullish, you can buy a call or sell a put, and if you are bearish, you can buy a put or sell a call."
   ]
  },
  {
   "cell_type": "markdown",
   "metadata": {},
   "source": [
    "In general, if you buy an option, you want unlimited profit potential with limited risk, and if you sell an option, you want a high probability of success in exchange for limited profit potential (with unlimited risk)."
   ]
  },
  {
   "cell_type": "markdown",
   "metadata": {},
   "source": [
    "Although a long call and a short put are bullish strategies, the similarities, risks, and rewards seem to end there"
   ]
  },
  {
   "cell_type": "markdown",
   "metadata": {},
   "source": [
    "buying a call is a limited-risk strategy, and selling a put is an unlimited-risk strategy"
   ]
  },
  {
   "cell_type": "markdown",
   "metadata": {},
   "source": [
    "Which strategy is better in your particular circumstance depends on your risk profile, time frame, and anticipated magnitude of the move."
   ]
  },
  {
   "cell_type": "markdown",
   "metadata": {},
   "source": [
    "If you are bullish in the short run, then the purchase of a call may be appropriate; however, if you are bullish but believe that the underlying stock can fluctuate to a lower level and that it will take time for the bullish move to occur, then selling an out-of-the-money put may be appropriate."
   ]
  },
  {
   "cell_type": "markdown",
   "metadata": {},
   "source": [
    "A long put and a short call are bearish strategies but have opposite risks and rewards. For example, buying a put is a limited-risk strategy, and selling a call is an unlimited-risk strategy."
   ]
  },
  {
   "cell_type": "markdown",
   "metadata": {},
   "source": [
    "If you are bearish in the short run, then the purchase of a put may be appropriate; however, if you are bearish but believe that the underlying stock can fluctuate to a higher level and that it will take time for the bearish move to occur, then selling an out-of-the-money call may be appropriate."
   ]
  },
  {
   "cell_type": "markdown",
   "metadata": {},
   "source": [
    "You should be familiar with rolling options. When you roll an option position, you offset your current position and reestablish a new position on the same underlying stock."
   ]
  },
  {
   "cell_type": "markdown",
   "metadata": {},
   "source": [
    "In some cases, you may offset your current position because there are only a few days left in an option’s expiration cycle and you are interested in reestablishing a new position in the subsequent expiration month."
   ]
  },
  {
   "cell_type": "markdown",
   "metadata": {},
   "source": [
    "In other cases, you may roll options to minimize risk, cut losses, and/or take into account your new view of the market."
   ]
  },
  {
   "cell_type": "markdown",
   "metadata": {},
   "source": [
    "When rolling, you can establish the new position with the same or a different number of options and with the same or a different strike price and expiration date. You are readjusting your option positions to take advantage of opportunities, play defense, or take into account new market conditions."
   ]
  },
  {
   "cell_type": "markdown",
   "metadata": {},
   "source": [
    "Rolling up occurs when one position is closed out at a lower strike price and another position is opened at a higher strike price (offset long February 100 call and buy February 110 call)."
   ]
  },
  {
   "cell_type": "markdown",
   "metadata": {},
   "source": [
    "Rolling down means closing out one option at one strike price and simultaneously opening another option at a lower strike price (offset long February 100 put and buy February 95 put)."
   ]
  },
  {
   "cell_type": "markdown",
   "metadata": {},
   "source": [
    "Rolling out means one option position is closed at a near-term expiration date and another position is opened at the same strike but at a longer-term expiration date (offset long February 100 call and buy March 100 call)."
   ]
  },
  {
   "cell_type": "markdown",
   "metadata": {},
   "source": [
    "Rolling back is when an investor replaces an old option position with a new one having an earlier expiration date and the same strike price (offset long March 100 call and buy February 100 call)."
   ]
  },
  {
   "cell_type": "markdown",
   "metadata": {},
   "source": [
    "Flipping (I made up this term) occurs by closing out a call option and simultaneously opening a put option to change directions (offset short February 105 call and sell February 95 put) or by closing out a put option and simultaneously opening a call option to change directions (offset short February 95 put and sell February 105 call)."
   ]
  },
  {
   "cell_type": "markdown",
   "metadata": {},
   "source": []
  },
  {
   "cell_type": "markdown",
   "metadata": {},
   "source": []
  },
  {
   "cell_type": "markdown",
   "metadata": {},
   "source": []
  }
 ],
 "metadata": {
  "kernelspec": {
   "display_name": "Python 3",
   "language": "python",
   "name": "python3"
  },
  "language_info": {
   "codemirror_mode": {
    "name": "ipython",
    "version": 3
   },
   "file_extension": ".py",
   "mimetype": "text/x-python",
   "name": "python",
   "nbconvert_exporter": "python",
   "pygments_lexer": "ipython3",
   "version": "3.6.7"
  }
 },
 "nbformat": 4,
 "nbformat_minor": 2
}
