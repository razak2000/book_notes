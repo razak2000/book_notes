{
 "cells": [
  {
   "cell_type": "markdown",
   "metadata": {},
   "source": [
    " In the business world, a spread can have a variety of meanings but generally refers to the difference between two (or more) prices from different sides, or legs, of a trade."
   ]
  },
  {
   "cell_type": "markdown",
   "metadata": {},
   "source": [
    " Another type of spread is the bid/ask spread, which represents the difference in the price at which an instrument can be purchased versus bought, as determined by the marketplace."
   ]
  },
  {
   "cell_type": "markdown",
   "metadata": {},
   "source": [
    " An option spread is the purchase (or sale) of one option contract against the sale (or purchase) of another option contract on the same underlying stock"
   ]
  },
  {
   "cell_type": "markdown",
   "metadata": {},
   "source": [
    " An option spread can be executed with all calls or puts, or with a combination of calls and puts, and can be executed for a debit, credit, or zero cost."
   ]
  },
  {
   "cell_type": "markdown",
   "metadata": {},
   "source": [
    " When describing an option spread, it is assumed that all options are based on the same underlying instrument (stock) and are of the same type (all calls or all puts), unless otherwise noted"
   ]
  },
  {
   "cell_type": "markdown",
   "metadata": {},
   "source": [
    " A spread typically consists of a long market position and a short market position, but this is not always the case."
   ]
  },
  {
   "cell_type": "markdown",
   "metadata": {},
   "source": [
    " A spread trade consists of option positions, referred to as legs. In a two-legged spread, a trader buys one leg and sells the other. The two legs typically profit from opposing directional price movements."
   ]
  },
  {
   "cell_type": "markdown",
   "metadata": {},
   "source": [
    " Spreads are typically executed in your trading platform in one order, even though there are multiple legs."
   ]
  },
  {
   "cell_type": "markdown",
   "metadata": {},
   "source": [
    " Instead of either buying or selling an option outright (no spread is involved), a spread can enable you to fine-tune the amount of premium paid or collected, limit potential losses, minimize fluctuations in your account, and reduce margin."
   ]
  },
  {
   "cell_type": "markdown",
   "metadata": {},
   "source": [
    " A spread can provide traders more ways to profit; for example, a spread trader can be expressing an opinion about whether the spread will widen or narrow and not necessarily whether the underlying stock will rise or fall in price"
   ]
  },
  {
   "cell_type": "markdown",
   "metadata": {},
   "source": [
    " A short spread position is typically recognized as a lower-risk trade than an uncovered short option. As a result, margin requirements can be substantially reduced."
   ]
  },
  {
   "cell_type": "markdown",
   "metadata": {},
   "source": [
    " Depending on your trading platform and broker, you can generally enter the same types of orders for outright (single position) and spread orders as you can for stocks. Your trading platform should permit you to enter and exit spreads as one order rather than entering separate orders. As a result of entering an order in this manner, you will not be executed on only one side of a transaction, unless the entire transaction is executed."
   ]
  },
  {
   "cell_type": "markdown",
   "metadata": {},
   "source": [
    " If an option is bought for an amount greater than that for which the option is sold, it is for a debit and can be viewed, in general, as a purchase, even though the transaction as a whole involves buying and selling."
   ]
  },
  {
   "cell_type": "markdown",
   "metadata": {},
   "source": [
    " If the option is sold for an amount greater than that for which the option is purchased, it is for a credit and can be viewed, in general, as a sale."
   ]
  },
  {
   "cell_type": "markdown",
   "metadata": {},
   "source": [
    " Option positions are commonly classified according to whether they produce a debit (debit spreads), in which the amount paid is greater than the amount collected, or a credit (credit spreads), in which the amount collected is greater than the amount paid."
   ]
  },
  {
   "cell_type": "markdown",
   "metadata": {},
   "source": [
    " Debit spreads, in general, attempt to profit by directional bets as a net buyer."
   ]
  },
  {
   "cell_type": "markdown",
   "metadata": {},
   "source": [
    " Credit spreads, in general, attempt to take advantage of time decay as a net seller"
   ]
  },
  {
   "cell_type": "markdown",
   "metadata": {},
   "source": [
    "A net debit transaction typically means that you are long a position and want the underlying stock to move in a certain direction, by a certain amount, and within a certain time frame."
   ]
  },
  {
   "cell_type": "markdown",
   "metadata": {},
   "source": [
    "A net credit typically implies that you are short the option position and benefit from a trading range, the passage of time, and declining volatility."
   ]
  },
  {
   "cell_type": "markdown",
   "metadata": {},
   "source": [
    "A debit-spread strategy attempts to profit from the widening of the spread between the various options."
   ]
  },
  {
   "cell_type": "markdown",
   "metadata": {},
   "source": [
    "A credit-spread strategy attempts to profit from the narrowing of the spread between the various options."
   ]
  },
  {
   "cell_type": "markdown",
   "metadata": {},
   "source": [
    "An option executed as a debit is typically considered a long position, whereas an option position executed for a credit is typically considered a short position."
   ]
  },
  {
   "cell_type": "markdown",
   "metadata": {},
   "source": [
    "A debit position usually means that the position will lose money because of time decay, unless there is sufficient price movement in the underlying stock."
   ]
  },
  {
   "cell_type": "markdown",
   "metadata": {},
   "source": [
    "A credit position typically means that the position will lose money if there is sufficient price movement in the wrong direction"
   ]
  },
  {
   "cell_type": "markdown",
   "metadata": {},
   "source": [
    "A call debit spread typically wants the underlying stock to increase in price."
   ]
  },
  {
   "cell_type": "markdown",
   "metadata": {},
   "source": [
    "A put debit spread typically wants the underlying stock to decline in price."
   ]
  },
  {
   "cell_type": "markdown",
   "metadata": {},
   "source": [
    "A call credit spread typically wants the underlying stock to decline in price and move sideways and time to pass."
   ]
  },
  {
   "cell_type": "markdown",
   "metadata": {},
   "source": [
    "A put credit spread typically wants the underlying stock to rise in price and move sideways and time to pass."
   ]
  },
  {
   "cell_type": "markdown",
   "metadata": {},
   "source": [
    "Stated another way, in general, a debit position needs movement to occur, whereas a credit position profits when movement does not occur (in a particular direction)."
   ]
  },
  {
   "cell_type": "markdown",
   "metadata": {},
   "source": [
    "An option strategy is often described from the perspective of how the strategy is profitable, primarily based on whether it profits when the underlying stock rises (bullish), declines (bearish), or moves within a range (neutral or sideways)."
   ]
  },
  {
   "cell_type": "markdown",
   "metadata": {},
   "source": [
    "Keep in mind that some option strategies can be profitable in more than one market environment; for example, if you sell an out-of-the-money call option, it can be profitable if the stock declines, moves sideways, or rises to the strike price (ignoring the premium)."
   ]
  },
  {
   "cell_type": "markdown",
   "metadata": {},
   "source": [
    "There are a host of option strategies that are nondirectional and do not attempt to profit when the underlying stock moves in one direction or the other. Instead, such strategies profit when the underlying stock moves within a selected trading range. Other terms used to describe a trading range are neutral, sideways, and sluggish."
   ]
  },
  {
   "cell_type": "markdown",
   "metadata": {},
   "source": [
    "The word neutral means that the option strategy will profit if the underlying stock moves sideways, but it can also be profitable if it moves in a particular direction, as long as it does not pierce the strike price at expiration (ignoring the premium)"
   ]
  },
  {
   "cell_type": "markdown",
   "metadata": {},
   "source": [
    "Strategies that attempt to profit from a trading range (nondirectional) strategy, in many cases, are called delta-neutral because a loss on one side, or leg, of a position is approximately offset by another side or leg, as long as the underlying stock stays within a trading range; for example, a loss on the call side of a spread may be offset by a gain on the put side."
   ]
  },
  {
   "cell_type": "markdown",
   "metadata": {},
   "source": [
    "A spread strategy can be viewed from the perspective of whether it primarily profits from a bullish or bearish move in the underlying stock."
   ]
  },
  {
   "cell_type": "markdown",
   "metadata": {},
   "source": [
    "A bull call spread and bull put spread are profitable primarily if the underlying stock moves higher, and a bear call spread and bear put spread are profitable primarily if the underlying stock declines."
   ]
  },
  {
   "cell_type": "markdown",
   "metadata": {},
   "source": [
    " a spread can also be described based on whether the options expire in the same month but have different strike prices (vertical), different numbers of options that are long versus short (ratio spread or backspread), and different expiration dates (calendar spread)."
   ]
  },
  {
   "cell_type": "markdown",
   "metadata": {},
   "source": [
    "A vertical spread involves the simultaneous purchase and sale of options with the same expiration date but different strike prices. Vertical in this context means having the same expiration date."
   ]
  },
  {
   "cell_type": "markdown",
   "metadata": {},
   "source": [
    "A vertical debit spread is an option position with different strike prices and the same expiration date, and that is established for a debit (an option bought at a higher price than the option sold)"
   ]
  },
  {
   "cell_type": "markdown",
   "metadata": {},
   "source": [
    "A vertical credit spread is an option position with different strike prices and the same expiration date, and that is established for a credit (an option sold at a higher price than the option bought)"
   ]
  },
  {
   "cell_type": "markdown",
   "metadata": {},
   "source": [
    "The profit potential of a vertical debit spread is typically limited to the difference in the strike prices times 100 shares per contract minus the premium paid."
   ]
  },
  {
   "cell_type": "markdown",
   "metadata": {},
   "source": [
    "The loss in a vertical credit spread is typically limited to the difference in the strike prices times 100 shares minus the premium collected."
   ]
  },
  {
   "cell_type": "markdown",
   "metadata": {},
   "source": [
    "A ratio spread can be loosely defined as any spread in which the numbers of long market contracts and short market contracts are unequal.  A ratio strategy can be constructed with either calls or puts."
   ]
  },
  {
   "cell_type": "markdown",
   "metadata": {},
   "source": [
    "In this book, a front spread (a type of ratio spread) is defined as a strategy in which you buy one (or more) options and sell a larger number of further out-of-the-money options."
   ]
  },
  {
   "cell_type": "markdown",
   "metadata": {},
   "source": [
    "To confuse matters, a ratio spread is also called a ratio vertical spread, a front spread, or a short ratio spread."
   ]
  },
  {
   "cell_type": "markdown",
   "metadata": {},
   "source": [
    "A backspread (a type of ratio spread) is defined as a strategy in which you sell one (or more) options and buy a larger number of further out-of-the-money options. It is probably more common to refer to a front spread as a ratio spread."
   ]
  },
  {
   "cell_type": "markdown",
   "metadata": {},
   "source": [
    "A calendar spread (also called a time spread) involves the purchase of an option and the simultaneous sale of the same type of option (call or put) with the same strike price but a different expiration date."
   ]
  },
  {
   "cell_type": "markdown",
   "metadata": {},
   "source": [
    "Vertical spread: Purchase and sale of options at different strike prices, with the same expiration date"
   ]
  },
  {
   "cell_type": "markdown",
   "metadata": {},
   "source": [
    "Iron condor: Combination of vertical call and vertical put spreads"
   ]
  },
  {
   "cell_type": "markdown",
   "metadata": {},
   "source": [
    "Ratio (front) spread: Purchase and sale of options at different strike prices, where the number of options sold exceeds the number purchased"
   ]
  },
  {
   "cell_type": "markdown",
   "metadata": {},
   "source": [
    "Backspread: Purchase and sale of options at different strike prices, where the number options purchased exceeds the number sold"
   ]
  },
  {
   "cell_type": "markdown",
   "metadata": {},
   "source": [
    "Straddle: Sell (or buy) call and put options at the same strike price and maturity date"
   ]
  },
  {
   "cell_type": "markdown",
   "metadata": {},
   "source": [
    "Strangle: Sell (or buy) call and put options with the same maturity date but different strike prices"
   ]
  },
  {
   "cell_type": "markdown",
   "metadata": {},
   "source": [
    "Butterfly spread: Options at three equally spaced exercise prices, where all options expire at the same time. In a long butterfly, the same number of outside exercise prices are purchased and twice the number of the inside exercise prices are sold"
   ]
  },
  {
   "cell_type": "markdown",
   "metadata": {},
   "source": [
    "Condor: A four-legged option spread in which each leg has the same expiration date but different strike prices. In a long condor, two outside exercise prices are purchased and two inside exercise prices are sold (four total contracts)"
   ]
  },
  {
   "cell_type": "markdown",
   "metadata": {},
   "source": [
    "Calendar spread: Purchase of a put or call option and the simultaneous sale of the same type of option (call or put) with the same strike price but different expiration date"
   ]
  },
  {
   "cell_type": "markdown",
   "metadata": {},
   "source": [
    "Diagonal spread: Buy and sell options with different strike prices and different expiration dates"
   ]
  },
  {
   "cell_type": "markdown",
   "metadata": {},
   "source": [
    "Double diagonal spread: Combination of vertical and calendar spreads, where you buy and sell options where there is a difference of at least two strike prices and two expiration dates"
   ]
  },
  {
   "cell_type": "markdown",
   "metadata": {},
   "source": [
    "Combination: Any option strategy utilizing both call and put options. A straddle and strangle can be considered a type of combination"
   ]
  },
  {
   "cell_type": "markdown",
   "metadata": {},
   "source": [
    "A spread can be executed from the call side or from the put side, or involve both calls and puts, and can be executed for a credit, debit, or zero cost."
   ]
  },
  {
   "cell_type": "markdown",
   "metadata": {},
   "source": [
    " Each of the credit spread trades illustrated previously can be converted to a debit spread by changing the buys to sells and the sells to buys."
   ]
  },
  {
   "cell_type": "markdown",
   "metadata": {},
   "source": [
    " Each spread strategy can be broken down into the perspective of long calls, long puts, short calls, and short puts."
   ]
  },
  {
   "cell_type": "markdown",
   "metadata": {},
   "source": [
    " Volatility in options is defined, in general, as the amount an instrument is expected to fluctuate within a given time. On Wall Street, however, when they say you can expect “volatility,” what they really mean is that the market is going lower."
   ]
  },
  {
   "cell_type": "markdown",
   "metadata": {},
   "source": [
    "An option position is typically considered covered if there is an offsetting opposite market position; for example, a short call is considered covered if you are also long a call at the same or lower strike price on the same stock."
   ]
  },
  {
   "cell_type": "markdown",
   "metadata": {},
   "source": [
    "However, the word covered is also used to indicate whether underlying stock is owned; for example, a short call is considered covered if you also long the stock, called a covered call strategy."
   ]
  },
  {
   "cell_type": "markdown",
   "metadata": {},
   "source": [
    "An option strategy where stock is owned can be called covered and an option strategy where stock is not owned can be called uncovered."
   ]
  },
  {
   "cell_type": "markdown",
   "metadata": {},
   "source": [
    "This can lead to confusion because, for example, the name “covered strangle” is a misnomer because the position is not covered in the usual sense, because the call portion of the trade is covered by the long stock, but the put is actually uncovered. The name “covered” in this context means an underlying stock is owned and is used to differentiate it from an uncovered position where stock is not owned. Such terminology may have some traders shaking their heads, but please do not let the terminology get in the way of your trading."
   ]
  },
  {
   "cell_type": "markdown",
   "metadata": {},
   "source": [
    "Any type of option sale can be covered (long or short stock) or uncovered (no underlying stock)."
   ]
  },
  {
   "cell_type": "markdown",
   "metadata": {},
   "source": [
    "The covered option sale strategy is similar to a covered call writing strategy."
   ]
  },
  {
   "cell_type": "markdown",
   "metadata": {},
   "source": [
    "The uncovered option sale can be attractive to a trader interested in selling time premium."
   ]
  },
  {
   "cell_type": "markdown",
   "metadata": {},
   "source": [
    "Practically any strategy can be modified to add a long or short stock position."
   ]
  },
  {
   "cell_type": "markdown",
   "metadata": {},
   "source": []
  },
  {
   "cell_type": "markdown",
   "metadata": {},
   "source": []
  },
  {
   "cell_type": "markdown",
   "metadata": {},
   "source": []
  }
 ],
 "metadata": {
  "kernelspec": {
   "display_name": "Python 3",
   "language": "python",
   "name": "python3"
  },
  "language_info": {
   "codemirror_mode": {
    "name": "ipython",
    "version": 3
   },
   "file_extension": ".py",
   "mimetype": "text/x-python",
   "name": "python",
   "nbconvert_exporter": "python",
   "pygments_lexer": "ipython3",
   "version": "3.6.7"
  }
 },
 "nbformat": 4,
 "nbformat_minor": 2
}
