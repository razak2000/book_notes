{
 "cells": [
  {
   "cell_type": "markdown",
   "metadata": {},
   "source": [
    "A long put involves the purchase of a put option and is a bearish strategy."
   ]
  },
  {
   "cell_type": "markdown",
   "metadata": {},
   "source": [
    "An advantage of a long put is that if the stock declines, you have unlimited potential with limited risk."
   ]
  },
  {
   "cell_type": "markdown",
   "metadata": {},
   "source": [
    "A long put typically increases in value from a decline in the underlying stock or volatility expansion and declines in value from a rise in the underlying stock, time decay, or volatility contraction."
   ]
  },
  {
   "cell_type": "markdown",
   "metadata": {},
   "source": [
    "summary profile of a long call:\n",
    "    Direction: Bearish.\n",
    "    Profit potential: Unlimited. (Technically, strike price minus premium paid.)\n",
    "    Risk: Limited to premium paid.\n",
    "    Time decay: Negative (theta).\n",
    "    Volatility: Increase is positive (positive theta), decrease is negative.\n",
    "    Delta: Negative.\n",
    "    Gamma: Positive.\n",
    "    Theta (time): Negative.\n",
    "    Vega (volatility): Positive.\n",
    "    Breakeven: Stock at strike price minus premium paid.\n",
    "    Margin: Premium paid in full at time of purchase.\n",
    "    Exercise and assignment: Can exercise if in-the-money.\n",
    "    How to exit: Sell in closing transaction, exercise, or let expire worthless.\n",
    "    IRA: Permitted.\n",
    "    Main advantages: Unlimited profit potential; risk is capped; requires less capital in comparison to short stock; can potentially profit from decline in stock price without being subject to stock uptick rule.\n",
    "    Main disadvantages: Can cost more than you are willing to pay; time decay; can lose entire premium."
   ]
  },
  {
   "cell_type": "markdown",
   "metadata": {},
   "source": [
    "A risk for a long put is that the underlying stock will rise or not decline far or fast enough, forcing the put to decline in value."
   ]
  },
  {
   "cell_type": "markdown",
   "metadata": {},
   "source": [
    "If implied volatility increases, assuming that all other factors remain constant, a put option will increase in value."
   ]
  },
  {
   "cell_type": "markdown",
   "metadata": {},
   "source": [
    "If implied volatility declines, assuming that all other factors remain constant, a put option will decline in value"
   ]
  },
  {
   "cell_type": "markdown",
   "metadata": {},
   "source": [
    "A change in volatility is a two-edged sword because a spike in volatility helps an existing long option holder but hurts a short option position."
   ]
  },
  {
   "cell_type": "markdown",
   "metadata": {},
   "source": [
    "If you are long a put and choose to exercise, you sell the underlying stock at the exercise price."
   ]
  },
  {
   "cell_type": "markdown",
   "metadata": {},
   "source": [
    "The fractional (percentage) movement of a long put relative to the movement in a stock price (delta) varies based on the strike price versus the stock price; for example, the deeper in-the-money an option, the more the option moves like the underlying stock and the closer its delta is to -1.0."
   ]
  },
  {
   "cell_type": "markdown",
   "metadata": {},
   "source": [
    "In this case, when an option is deep-in-the-money, it changes at a rate almost point for point equal to that of the underlying stock."
   ]
  },
  {
   "cell_type": "markdown",
   "metadata": {},
   "source": [
    "If the underlying stock price declines one point, such a put will rise by approximately one point; likewise, if the underlying stock price rises one point, such a put will decline by approximately one point."
   ]
  },
  {
   "cell_type": "markdown",
   "metadata": {},
   "source": [
    "When an option is at-the-money, its value typically changes at approximately 50 percent relative to the underlying stock."
   ]
  },
  {
   "cell_type": "markdown",
   "metadata": {},
   "source": [
    "When an option is far-out-of-the-money, its value may change only a small fraction relative to a change in the underlying stock."
   ]
  },
  {
   "cell_type": "markdown",
   "metadata": {},
   "source": [
    "Also, the lower the strike price, the lower the probability that a put option will end up in-the-money at the expiration date."
   ]
  },
  {
   "cell_type": "markdown",
   "metadata": {},
   "source": [
    "Do not forget that you can close out an option position by offsetting it in the marketplace any time prior to expiration, and it can be to your advantage to learn how to trade options on multiple underlying instruments such as stocks, ETFs, indexes, and stock index futures."
   ]
  },
  {
   "cell_type": "markdown",
   "metadata": {},
   "source": [
    "A long deep-in-the-money put option typically has a strike price 10 points or more above the stock price and a delta of -0.75 to -1.0 (75 to 100 percent)."
   ]
  },
  {
   "cell_type": "markdown",
   "metadata": {},
   "source": [
    "If you believe a stock is ready to decline in value, you can buy a deep-in-the-money put option, which will enable you to pay less than the full value of the stock yet benefit almost dollar for dollar on the decline in the value of the stock."
   ]
  },
  {
   "cell_type": "markdown",
   "metadata": {},
   "source": [
    "The attraction of buying a deep-in-the-money put is that it can serve as a proxy for short stock, is straightforward, and can mimic the stock to the extent of intrinsic value."
   ]
  },
  {
   "cell_type": "markdown",
   "metadata": {},
   "source": [
    "Buying a deep-in-the-money option removes some of the uncertainty associated with time decay because there is little extrinsic value."
   ]
  },
  {
   "cell_type": "markdown",
   "metadata": {},
   "source": [
    "If you can buy a put option as a proxy for short stock and are paying a small extrinsic value, it may make sense to purchase a put option in lieu of shorting the stock."
   ]
  },
  {
   "cell_type": "markdown",
   "metadata": {},
   "source": [
    "A long slightly-in-the-money put option typically has a strike price five points above the stock price and a delta of -0.60 to -0.75 (60 to 75 percent)."
   ]
  },
  {
   "cell_type": "markdown",
   "metadata": {},
   "source": [
    "A slightly-in-the-money put option can, in some circumstances, track almost dollar for dollar a decline in a stock’s price and, at the same time, limit risk."
   ]
  },
  {
   "cell_type": "markdown",
   "metadata": {},
   "source": [
    "As time approaches the expiration date, especially during the last week of option expiration, some stocks may have little extrinsic value and can be bought relatively cheaply."
   ]
  },
  {
   "cell_type": "markdown",
   "metadata": {},
   "source": [
    "Buying such a put option near parity can be an attractive strategy, especially if volatility is expected to increase from an event such as the release of an earnings report."
   ]
  },
  {
   "cell_type": "markdown",
   "metadata": {},
   "source": [
    "A long at-the-money put option has a strike price nearest the stock price and a delta of -0.45 to -0.55 (45 to 55 percent)."
   ]
  },
  {
   "cell_type": "markdown",
   "metadata": {},
   "source": [
    "With an at-the-money put option, there is no intrinsic value, and the option consists entirely of extrinsic value."
   ]
  },
  {
   "cell_type": "markdown",
   "metadata": {},
   "source": [
    "A long slightly-out-of-the-money put option typically has a strike price five points below the stock price and a delta of -0.25 to -0.45 (25 to 45 percent)."
   ]
  },
  {
   "cell_type": "markdown",
   "metadata": {},
   "source": [
    "With a slightly-out-of-the-money put option, there is no intrinsic value, and the option consists entirely of extrinsic value."
   ]
  },
  {
   "cell_type": "markdown",
   "metadata": {},
   "source": [
    "A long far-out-of-the-money put option typically has a strike price 10 points or more below the stock price and a delta of zero to -0.25 (0 to 25 percent)."
   ]
  },
  {
   "cell_type": "markdown",
   "metadata": {},
   "source": [
    "A far-out-of-the-money put option consists entirely of extrinsic value and is the most leveraged strategy."
   ]
  },
  {
   "cell_type": "markdown",
   "metadata": {},
   "source": [
    "This can be a low-probability strategy because the further you move away from the price of the underlying stock, the lower the probability will be that the stock will end up in-the-money."
   ]
  },
  {
   "cell_type": "markdown",
   "metadata": {},
   "source": [
    "Although the strategy has a low probability of success in many cases, it can be an effective strategy for a stock making a big move to the downside"
   ]
  },
  {
   "cell_type": "markdown",
   "metadata": {},
   "source": [
    "A trader should consider rolling an in-the-money option if the value of a long put has increased dramatically."
   ]
  },
  {
   "cell_type": "markdown",
   "metadata": {},
   "source": [
    "Under this strategy, the trader should offset an existing position and reestablish it at a lower strike price, where there is lower intrinsic value and minimal extrinsic value. In this way, the trader has locked in profits for the difference between the original strike price and the newly established strike price"
   ]
  },
  {
   "cell_type": "markdown",
   "metadata": {},
   "source": [
    "An experienced option trader might exit only part of the position or roll the option position to a different strike price or expiration month as the underlying stock fluctuates, potentially locking in profits along the way."
   ]
  },
  {
   "cell_type": "markdown",
   "metadata": {},
   "source": [
    "Buying a put can be an effective strategy to protect the value of an existing stock position. A protective put provides the holder with the right to sell the underlying stock at a strike price, creating a dynamic in which your total stock/option position loss is limited at the strike price minus the premium paid."
   ]
  },
  {
   "cell_type": "markdown",
   "metadata": {},
   "source": [
    "If you own stock and you want to protect it against a decline, you can buy a put on the stock, allowing you, in effect, to lock in a selling price"
   ]
  },
  {
   "cell_type": "markdown",
   "metadata": {},
   "source": [
    "This type of put protection is similar to an insurance policy, where the cost of insurance is similar to the premium paid, the deductible is similar to the difference between the strike price and stock price, and the term of the policy is similar to the length of the put option"
   ]
  },
  {
   "cell_type": "markdown",
   "metadata": {},
   "source": [
    "An advantage of the strategy is that if the stock rises, you have unlimited potential minus the premium you paid for the options, while risks are limited."
   ]
  },
  {
   "cell_type": "markdown",
   "metadata": {},
   "source": [
    "If you own the stock and establish a long put as a protective strategy, you are entitled to the benefits of stock ownership, such as voting rights and dividend distributions, while at the same time limiting the capital that you can lose if the stock price declines."
   ]
  },
  {
   "cell_type": "markdown",
   "metadata": {},
   "source": [
    "Selecting the best strike price is somewhat of a trade-off between paying as little as possible but trying to gain as much protection as possible. You should review an option chain to see the options available."
   ]
  },
  {
   "cell_type": "markdown",
   "metadata": {},
   "source": [
    "The simultaneous purchase of stock and a protective put is called a married put. In a married put, you buy a stock and a protective put at the same time"
   ]
  },
  {
   "cell_type": "markdown",
   "metadata": {},
   "source": [
    "A married put can be an effective hedge when adding a new position to your portfolio."
   ]
  },
  {
   "cell_type": "markdown",
   "metadata": {},
   "source": [
    "The married put strategy can place you in a position to receive dividends and, at the same time, own the stock with limited downside risk (you also get voting rights, but do not get excited because your interests are probably too small to make a difference)."
   ]
  },
  {
   "cell_type": "markdown",
   "metadata": {},
   "source": [
    "This strategy can be viewed as a way to hedge your investment portfolio by entering into a transaction for the right to sell your shares at a preset exercise price and can be an alternative strategy in lieu of a stop loss on a stock."
   ]
  },
  {
   "cell_type": "markdown",
   "metadata": {},
   "source": [
    "The strategy of buying a put to offset a decline in a stock does not have to be executed at the same time as the stock is purchased. Instead, you may want to purchase a put on your existing stocks because you believe they are extended in price"
   ]
  },
  {
   "cell_type": "markdown",
   "metadata": {},
   "source": [
    "By buying a put option on stocks extended in price, you are, in effect, taking money off the table in the event that a decline occurs, while allowing yourself to fully benefit from the upside potential."
   ]
  },
  {
   "cell_type": "markdown",
   "metadata": {},
   "source": [
    "The protective (and married) put strategy has advantages over a stop loss order because it enables you to continue to hold on to your underlying stock position, even if the stock moves to what would have been your stop loss price."
   ]
  },
  {
   "cell_type": "markdown",
   "metadata": {},
   "source": [
    "In a stop loss order, you would automatically trigger a sale order if the stock trades at your stop price, but no such order is triggered if a protective put is used."
   ]
  },
  {
   "cell_type": "markdown",
   "metadata": {},
   "source": [
    "If you place a stop loss order, the stock can decline to the level of the stop loss, so you are executed on the sale, but then you may watch the stock immediately rise, so you lose on the decline but do not profit on the subsequent stock rise. The stop loss, in effect, took you out of the game."
   ]
  },
  {
   "cell_type": "markdown",
   "metadata": {},
   "source": [
    "Selling a put against a stock position, however, can provide control over the timing of a sale and, at the same time, provide a guaranteed selling price."
   ]
  },
  {
   "cell_type": "markdown",
   "metadata": {},
   "source": [
    "It can provide greater staying power than a stop loss because the stock can plunge, and as long as you continue to hold your positions, the stock can rebound, and you are in position to still make a profit."
   ]
  },
  {
   "cell_type": "markdown",
   "metadata": {},
   "source": [
    "Another strategy is to buy a put option against a broad-based index, such as the S&P 500 index, to protect your diversified holdings."
   ]
  },
  {
   "cell_type": "markdown",
   "metadata": {},
   "source": [
    "This may be an effective way to gain immediate protection, without having to buy put options for each individual stock."
   ]
  },
  {
   "cell_type": "markdown",
   "metadata": {},
   "source": [
    "A protective or married put is essentially the same position (called an equivalent position ) as a long call because the combined stock/put position has many of the risk-reward characteristics of a long call."
   ]
  },
  {
   "cell_type": "markdown",
   "metadata": {},
   "source": [
    "In a protective or married put, like a long call, you profit fully in the upside of the underlying stock minus the cost of the option, with limited risk."
   ]
  },
  {
   "cell_type": "markdown",
   "metadata": {},
   "source": [
    "If you are long a call, your loss is limited to the amount paid for the call; likewise, if you enter into an at-the-money married put, your loss is limited to the amount paid for the put"
   ]
  },
  {
   "cell_type": "markdown",
   "metadata": {},
   "source": [
    "Understanding how buying options can be profitable can help you become more effective in understanding the other side of the trade, which is selling, and vice versa."
   ]
  },
  {
   "cell_type": "markdown",
   "metadata": {},
   "source": [
    "If there is a high-probability strategy for buying an option, then it is likely that there is a low-probability strategy for selling an option; if there is a low-probability strategy for buying an option, there may be high probability in selling an option.\n"
   ]
  }
 ],
 "metadata": {
  "kernelspec": {
   "display_name": "Python 3",
   "language": "python",
   "name": "python3"
  },
  "language_info": {
   "codemirror_mode": {
    "name": "ipython",
    "version": 3
   },
   "file_extension": ".py",
   "mimetype": "text/x-python",
   "name": "python",
   "nbconvert_exporter": "python",
   "pygments_lexer": "ipython3",
   "version": "3.6.7"
  }
 },
 "nbformat": 4,
 "nbformat_minor": 2
}
