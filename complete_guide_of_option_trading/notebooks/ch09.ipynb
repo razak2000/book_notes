{
 "cells": [
  {
   "cell_type": "markdown",
   "metadata": {},
   "source": [
    "A short call involves the sale of a call option and is a bearish and neutral strategy."
   ]
  },
  {
   "cell_type": "markdown",
   "metadata": {},
   "source": [
    "A short call has limited reward potential and unlimited risk."
   ]
  },
  {
   "cell_type": "markdown",
   "metadata": {},
   "source": [
    "A short call typically increases in value from a rise in the underlying stock or volatility expansion and declines in value from a decline in the underlying stock, time decay, or volatility contraction."
   ]
  },
  {
   "cell_type": "markdown",
   "metadata": {},
   "source": [
    "summary profile of a short call.\n",
    "    Direction: Bearish/neutral.\n",
    "    Profit potential: Limited to premium collected.\n",
    "    Risk: Unlimited.\n",
    "    Time decay: Positive (theta).\n",
    "    Volatility: Increase is negative (negative theta), decrease is positive.\n",
    "    Delta: Negative.\n",
    "    Gamma: Negative.\n",
    "    Theta (time): Positive.\n",
    "    Vega (volatility): Negative.\n",
    "    Breakeven: Stock at strike price plus premium collected.\n",
    "    Margin: Generally, 20 percent standard margin, or portfolio margin for equities.\n",
    "    Exercise and assignment: Can be assigned if in-the-money.\n",
    "    How to exit: Offset in closing transaction, assignment, or let expire worthless.\n",
    "    IRA: Not permitted, unless covered.\n",
    "    Main advantages: Time decay; requires less capital in comparison to short stock.\n",
    "    Main disadvantages: Risk is uncapped; can lose more than premium collected."
   ]
  },
  {
   "cell_type": "markdown",
   "metadata": {},
   "source": [
    "An option seller profits when the value of an option that was written (sold) is later offset at a price below the level it was written or when it expires worthless."
   ]
  },
  {
   "cell_type": "markdown",
   "metadata": {},
   "source": [
    "An option seller has a loss when the value of an option that was written is later offset at a price above the level it was written."
   ]
  },
  {
   "cell_type": "markdown",
   "metadata": {},
   "source": [
    "An attraction of selling a call is that you can profit under three scenarios: the underlying stock can decline, move sideways, or rise by a relatively small amount (up to the strike price if out-of-the-money)."
   ]
  },
  {
   "cell_type": "markdown",
   "metadata": {},
   "source": [
    "An advantage of selling a naked call is that it can be structured to have a higher probability of success than trading the underlying stock or buying a call."
   ]
  },
  {
   "cell_type": "markdown",
   "metadata": {},
   "source": [
    "A disadvantage to selling any option is that you can lose more than the premium you collect."
   ]
  },
  {
   "cell_type": "markdown",
   "metadata": {},
   "source": [
    "Selling a call is typically considered a bearish strategy because you primarily profit if the underlying stock declines"
   ]
  },
  {
   "cell_type": "markdown",
   "metadata": {},
   "source": [
    "Selling an option, in effect, does not require you to be as precise in comparison to buying, in exchange for limited upside potential but unlimited risk."
   ]
  },
  {
   "cell_type": "markdown",
   "metadata": {},
   "source": [
    "The maximum gain occurs when the underlying stock is at or below the strike price at expiration."
   ]
  },
  {
   "cell_type": "markdown",
   "metadata": {},
   "source": [
    "The initial margin requirement for an uncovered equity option is commonly the premium collected plus 20 percent (or 25 percent) of the underlying stock minus the amount that the option is out-of-the-money, subject to a minimum."
   ]
  },
  {
   "cell_type": "markdown",
   "metadata": {},
   "source": [
    "Alternatively, for qualified customers, the portfolio margining method typically results in lower margin."
   ]
  },
  {
   "cell_type": "markdown",
   "metadata": {},
   "source": [
    "If implied volatility increases, assuming that all other factors remain constant, a call option will increase in value. If implied volatility declines, assuming that all other factors remain constant, a call option will decline in value"
   ]
  },
  {
   "cell_type": "markdown",
   "metadata": {},
   "source": [
    "If you are short a call and are assigned, you are forced to sell the underlying stock at the exercise price."
   ]
  },
  {
   "cell_type": "markdown",
   "metadata": {},
   "source": [
    "The fractional (percentage) movement of a short call relative to the movement in a stock price (delta) varies based on the strike price versus the stock price; for example, the deeper in-the-money an option, the more the option moves like the underlying stock, and the closer its delta is to -1.0. (A delta of -1.0 means 100 percent, so when the stock moves one point, the option moves one point.)"
   ]
  },
  {
   "cell_type": "markdown",
   "metadata": {},
   "source": [
    "In this case, when an option is deep-in-the-money, it changes at a rate almost point for point equal to that of the underlying stock. If the underlying stock price rises one point, such a call will rise by approximately one point; likewise, if the underlying stock price declines one point, such a call will decline by approximately one point."
   ]
  },
  {
   "cell_type": "markdown",
   "metadata": {},
   "source": [
    "When an option is at-the-money, its value typically changes at approximately 50 percent relative to the underlying stock"
   ]
  },
  {
   "cell_type": "markdown",
   "metadata": {},
   "source": [
    "When an option is far-out-of-the-money, its value may change only a small fraction relative to a change in the underlying stock."
   ]
  },
  {
   "cell_type": "markdown",
   "metadata": {},
   "source": [
    "Also, the higher the strike price, the lower the probability that a call option will end up in-the-money at the expiration date"
   ]
  },
  {
   "cell_type": "markdown",
   "metadata": {},
   "source": [
    "As a reminder, you can close out an option position by offsetting it in the marketplace any time prior to expiration, and the principles that are demonstrated for a stock can be applied to options on an ETF, index, and stock index futures."
   ]
  },
  {
   "cell_type": "markdown",
   "metadata": {},
   "source": [
    "you should keep in mind that the most common option-writing strategies occur with a strike price at-the-money, slightly-out-of-the-money, and far-out-of-the-money"
   ]
  },
  {
   "cell_type": "markdown",
   "metadata": {},
   "source": [
    "A short deep-in-the-money call option typically has a strike price 10 points or more below the stock price and has a delta of -0.75 to -1.0 (75 to 100 percent)."
   ]
  },
  {
   "cell_type": "markdown",
   "metadata": {},
   "source": [
    "If you believe that a stock is ready to decline in value, you can sell a deep-in-the-money call option, which will enable you to benefit almost dollar for dollar on the decline in the value of the stock"
   ]
  },
  {
   "cell_type": "markdown",
   "metadata": {},
   "source": [
    "You cannot gain more than the premium collected"
   ]
  },
  {
   "cell_type": "markdown",
   "metadata": {},
   "source": [
    "You can lose more than the premium collected because you do not have a built-in risk management feature with this strategy"
   ]
  },
  {
   "cell_type": "markdown",
   "metadata": {},
   "source": [
    "If you are selling an option as a proxy for short stock and are collecting a small extrinsic value, selling an option does not usually make a lot of sense."
   ]
  },
  {
   "cell_type": "markdown",
   "metadata": {},
   "source": [
    "A short slightly-in-the-money call option typically has a strike price five points below the stock price and has a delta of -0.60 to -0.75 (60 to 75 percent)."
   ]
  },
  {
   "cell_type": "markdown",
   "metadata": {},
   "source": [
    "A short at-the-money call option has a strike price nearest the stock price and has a delta of -0.45 to -0.55 (45 to 55 percent)."
   ]
  },
  {
   "cell_type": "markdown",
   "metadata": {},
   "source": [
    "With an at-the-money call option, there is no intrinsic value and the option consists entirely of extrinsic value."
   ]
  },
  {
   "cell_type": "markdown",
   "metadata": {},
   "source": [
    "If the option value declines, you can offset it or let it expire worthless for a profit."
   ]
  },
  {
   "cell_type": "markdown",
   "metadata": {},
   "source": [
    "If the stock surges, the value of the option will also rise and will generate a loss."
   ]
  },
  {
   "cell_type": "markdown",
   "metadata": {},
   "source": [
    "Selling an at-the-money option can enable you to take advantage of a slight statistical probability edge."
   ]
  },
  {
   "cell_type": "markdown",
   "metadata": {},
   "source": [
    "At-the-money options are, in many cases, the most liquid and the most heavily traded and seem to attract a lot of attention from option traders."
   ]
  },
  {
   "cell_type": "markdown",
   "metadata": {},
   "source": [
    "Remember that an at-the-money call option consists entirely of extrinsic value and, as a result, you are subject to benefits from time decay and volatility contraction, but you can lose more than the premium collected."
   ]
  },
  {
   "cell_type": "markdown",
   "metadata": {},
   "source": [
    "A short slightly-out-of-the-money call option typically has a strike price five points above the stock price and has a delta of -0.25 to -0.45 (25 to 45 percent)."
   ]
  },
  {
   "cell_type": "markdown",
   "metadata": {},
   "source": [
    "With a slightly-out-of-the-money call option, there is no intrinsic value, and the option consists entirely of extrinsic value."
   ]
  },
  {
   "cell_type": "markdown",
   "metadata": {},
   "source": [
    "If the option value declines, you can offset it or let it expire worthless for a profit. If the stock surges, the value of the option will also rise and will generate a loss"
   ]
  },
  {
   "cell_type": "markdown",
   "metadata": {},
   "source": [
    "Selling slightly-out-of-the-money options can provide a statistical edge. Because a slightly-out-of-the-money call option consists entirely of extrinsic value, you are subject to benefits from time decay and volatility contraction. Unfortunately, you do not have a built-in risk management feature with this strategy, and you can lose more than the premium collected."
   ]
  },
  {
   "cell_type": "markdown",
   "metadata": {},
   "source": [
    "As time approaches the expiration date, especially during the last week of option expiration, some stocks may have very little extrinsic value. Selling a call option near parity is usually not an attractive strategy, especially if volatility is expected to increase from an event such as the release of an earnings report."
   ]
  },
  {
   "cell_type": "markdown",
   "metadata": {},
   "source": [
    "In general, you should avoid selling naked options close to expiration. The rewards may look attractive because time decay may result in a quick profit, but there is no limit to the losses you could sustain"
   ]
  },
  {
   "cell_type": "markdown",
   "metadata": {},
   "source": [
    "In some cases, the move may be so swift that you will not be able to exit your position before a large loss occurs."
   ]
  },
  {
   "cell_type": "markdown",
   "metadata": {},
   "source": [
    "Selling a close-to-the-money call option with minimal extrinsic value is more like gambling and is usually not a wise choice because it is a low-probability trade with unlimited risk and limited profit potential."
   ]
  },
  {
   "cell_type": "markdown",
   "metadata": {},
   "source": [
    "A short far-out-of-the-money call option typically has a strike price 10 points or more above the stock price and has a delta of zero to -0.25 (0 to 25 percent). A far-out-of-the-money call option consists entirely of extrinsic value and is the most leveraged strategy. This can be a high-probability strategy because the further you move away from the price of the underlying stock price, the lower is the probability that the stock will end up in-the-money. It can be an effective strategy to attempt to earn consistent income"
   ]
  },
  {
   "cell_type": "markdown",
   "metadata": {},
   "source": [
    "Some traders find the risk-reward trade-off of selling far-out-of-the-money options to be worthwhile. A far-out-of-the-money call option is usually sold at a relatively low price, which is why some option sellers shy away from them initially; but, to some option sellers, they present an opportunity for consistent income."
   ]
  },
  {
   "cell_type": "markdown",
   "metadata": {},
   "source": [
    "Keep in mind that along with the potential for profit is also greater risk. Selling far-out-of-the-money options can enable a trader to take advantage of a statistical probability edge. Unfortunately, you can lose more than the premium collected."
   ]
  },
  {
   "cell_type": "markdown",
   "metadata": {},
   "source": [
    "As an alternative to offsetting a short call position at a loss, a trader can consider rolling a call option position. Under this strategy, the trader can offset the current position and reestablish it at a higher strike price;"
   ]
  },
  {
   "cell_type": "markdown",
   "metadata": {},
   "source": [
    "An experienced option trader might exit only part of the position or roll the option position to a different strike price or expiration month as the underlying stock fluctuates, potentially locking in profits along the way"
   ]
  },
  {
   "cell_type": "markdown",
   "metadata": {},
   "source": [
    "A short option position may be subject to a margin requirement. In general, when a trader enters into a short option position, he is required to post (i.e., have on deposit by the date set by the broker) initial margin."
   ]
  },
  {
   "cell_type": "markdown",
   "metadata": {},
   "source": [
    "When writing an uncovered equity option, the minimum initial margin requirement is, in general, 20 percent (or 25 percent) of the underlying stock minus the amount that the option is out-of-the-money, if any, plus the premium collected, but not less than 10 percent of the stock value"
   ]
  },
  {
   "cell_type": "markdown",
   "metadata": {},
   "source": [
    "The out-of-the-money amount is the difference between the strike price and stock price times the number of contracts times the unit of measure"
   ]
  },
  {
   "cell_type": "markdown",
   "metadata": {},
   "source": [
    "Portfolio margining is a newer method available for computing equity margin for certain qualified customers based on the risk of the position, rather than on fixed percentages, and the result is often lower margin requirements than would be calculated from the traditional method described previously."
   ]
  },
  {
   "cell_type": "markdown",
   "metadata": {},
   "source": [
    "A futures option margin is calculated differently than margin on stock options."
   ]
  },
  {
   "cell_type": "markdown",
   "metadata": {},
   "source": [
    "When selling an at-the-money or out-of-the-money call option, you can profit if the underlying stock moves lower, sideways, or even higher up to the strike price at expiration. The advantage of selling options that are slightly-in-the-money, at-the-money, or out-of-the-money is that they provide the advantage of time decay and you can stack the statistical probabilities on your side."
   ]
  },
  {
   "cell_type": "markdown",
   "metadata": {},
   "source": [
    "An option seller has time on his side and does not need to be precise in his choice of the direction, timing, and magnitude of the move. Another attractive feature of selling a call option is that it does not require a capital outlay, so you can earn interest while you trade."
   ]
  },
  {
   "cell_type": "markdown",
   "metadata": {},
   "source": []
  },
  {
   "cell_type": "markdown",
   "metadata": {},
   "source": []
  },
  {
   "cell_type": "markdown",
   "metadata": {},
   "source": []
  }
 ],
 "metadata": {
  "kernelspec": {
   "display_name": "Python 3",
   "language": "python",
   "name": "python3"
  },
  "language_info": {
   "codemirror_mode": {
    "name": "ipython",
    "version": 3
   },
   "file_extension": ".py",
   "mimetype": "text/x-python",
   "name": "python",
   "nbconvert_exporter": "python",
   "pygments_lexer": "ipython3",
   "version": "3.6.7"
  }
 },
 "nbformat": 4,
 "nbformat_minor": 2
}
