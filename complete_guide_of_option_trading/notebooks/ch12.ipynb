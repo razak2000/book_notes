{
 "cells": [
  {
   "cell_type": "markdown",
   "metadata": {},
   "source": [
    "<font color='blue'> In an iron condor, you simultaneously establish a call vertical spread and a put vertical spread."
   ]
  },
  {
   "cell_type": "markdown",
   "metadata": {},
   "source": [
    "<font color='blue'>The iron condor can be executed from the long side to profit from an increase in volatility or the short side to profit from a trading range."
   ]
  },
  {
   "cell_type": "markdown",
   "metadata": {},
   "source": [
    "<font color='blue'>If the call and put spreads are purchased, the trader is long the iron condor; if both spreads are sold, the trader is short the iron condor."
   ]
  },
  {
   "cell_type": "markdown",
   "metadata": {},
   "source": [
    " Combining call and put spreads together can create a unique risk-reward environment. <font color='blue'>The idea is to establish positions on both sides of the market from which you can take advantage of volatility expansion (long iron condor) or contraction (short iron condor)</font>; for example, if you like the theoretical edge provided by a credit spread, an iron condor can enable you to have a positive theoretical edge on both sides of the spread at the same time."
   ]
  },
  {
   "cell_type": "markdown",
   "metadata": {},
   "source": [
    " <font color='blue'>A long iron condor is a strategy in which you simultaneously buy a call debit spread and a put debit spread to profit from volatility in either direction."
   ]
  },
  {
   "cell_type": "markdown",
   "metadata": {},
   "source": [
    " Another way to view a long iron condor is the purchase of an out-of-the-money call and put and the sale of wings (outside strike prices in a spread)."
   ]
  },
  {
   "cell_type": "markdown",
   "metadata": {},
   "source": [
    "<font color='blue'>A short iron condor is a strategy in which you simultaneously sell a call credit spread and a put credit spread to profit from a trading range or volatility contraction, or to take advantage of time decay.</font> Another way to view a short iron condor is the sale of an out-of-the-money call and put and the purchase of wings."
   ]
  },
  {
   "cell_type": "markdown",
   "metadata": {},
   "source": [
    " To exit a position, you can offset it in a closing transaction, exercise the long option if it is in-the-money, wait for assignment of the short option if it is in-the-money, let both legs expire worthless (if both are out-of-the-money at expiration), or offset one leg at a time."
   ]
  },
  {
   "cell_type": "markdown",
   "metadata": {},
   "source": [
    " In an iron condor, you are long two options and short two options, and your overall position Greeks will be the net of all four."
   ]
  },
  {
   "cell_type": "markdown",
   "metadata": {},
   "source": [
    " In an iron condor, the delta (and other Greeks) of the call spread may equal or approximate the corresponding (offsetting) delta of the put spread."
   ]
  },
  {
   "cell_type": "markdown",
   "metadata": {},
   "source": [
    "<font color='blue'>In an iron condor, the strike prices do not have to be spaced equally apart because you can tailor the positions to your view of the market and risk-reward parameters."
   ]
  },
  {
   "cell_type": "markdown",
   "metadata": {},
   "source": [
    "<font color='blue'>Remember that the greater the width between exercise prices, the greater the net delta of each side of a spread."
   ]
  },
  {
   "cell_type": "markdown",
   "metadata": {},
   "source": [
    "A long iron condor consists of a call debit spread and a put debit spread."
   ]
  },
  {
   "cell_type": "markdown",
   "metadata": {},
   "source": [
    "in a call debit spread, you buy a call at one strike price and sell a call at a higher strike price with the same expiration date."
   ]
  },
  {
   "cell_type": "markdown",
   "metadata": {},
   "source": [
    "In a put debit spread, you buy a put at one strike price and sell a put at a lower strike price with the same expiration date."
   ]
  },
  {
   "cell_type": "markdown",
   "metadata": {},
   "source": [
    "<font color='blue'>The purpose of a long iron condor is to be able to profit in either direction, where you do not have to choose that direction. The only thing that matters, at expiration, is whether the stock has made a substantial move."
   ]
  },
  {
   "cell_type": "markdown",
   "metadata": {},
   "source": [
    "<font color='blue'>To execute a long iron condor, you buy out-of-the-money call and put options and sell further out-of-the-money call and put options."
   ]
  },
  {
   "cell_type": "markdown",
   "metadata": {},
   "source": [
    "<font color='blue'>This strategy can be weighted more heavily toward puts versus calls, and vice versa, depending on your market outlook and how options are priced, and the strike prices do not have to be spaced equally apart."
   ]
  },
  {
   "cell_type": "markdown",
   "metadata": {},
   "source": [
    "<font color='blue'>A long iron condor is a limited-reward and limited-risk strategy."
   ]
  },
  {
   "cell_type": "markdown",
   "metadata": {},
   "source": [
    "    The maximum gain potential is determined by the difference between the two strike prices of the calls and the two strike prices of the puts minus the premium paid."
   ]
  },
  {
   "cell_type": "markdown",
   "metadata": {},
   "source": [
    "    The maximum loss is limited to the net debit paid and occurs when the underlying stock is at or between the long option strike prices at expiration (when all options are out-of-the-money)."
   ]
  },
  {
   "cell_type": "markdown",
   "metadata": {},
   "source": [
    "For a long iron condor, you pay double (or nearly double) the amount of premium in comparison to trading one side of the market, and the risk is that the underlying stock will fluctuate back and forth in a range, forcing both the call and put debit spreads to decay in value."
   ]
  },
  {
   "cell_type": "markdown",
   "metadata": {},
   "source": [
    "<font color='blue'>In an iron condor, there are two break-even points. The break-even points are the strike price of the long call plus the debit and the strike price of the long put minus the debit."
   ]
  },
  {
   "cell_type": "markdown",
   "metadata": {},
   "source": [
    "A profit is achieved when the underlying stock advances or declines substantially, thus increasing the value of one side."
   ]
  },
  {
   "cell_type": "markdown",
   "metadata": {},
   "source": [
    "In a long iron condor, the time decay of long options typically exceeds the time decay of short options, an increase in volatility typically increases the value of long options more than short options, and a decrease in volatility typically decreases the value of long options more than short options."
   ]
  },
  {
   "cell_type": "markdown",
   "metadata": {},
   "source": [
    "A profit is made in this strategy, at expiration, as the underlying stock moves beyond one of the break-even points in either direction."
   ]
  },
  {
   "cell_type": "markdown",
   "metadata": {},
   "source": [
    " A debit is charged to your account and it must be paid in full. A long iron condor may be permitted in an IRA."
   ]
  },
  {
   "cell_type": "markdown",
   "metadata": {},
   "source": [
    "<font color='blue'>You can, for example, purchase an iron condor before earnings reports or product announcements because the actual direction the stock takes does not matter; the only thing that matters is whether the stock makes a substantial move."
   ]
  },
  {
   "cell_type": "markdown",
   "metadata": {},
   "source": [
    " To realize a profit from a long iron condor, you do not have to pinpoint where the underlying stock is going at a specific time (the expiration date)."
   ]
  },
  {
   "cell_type": "markdown",
   "metadata": {},
   "source": [
    "In a short iron condor, you simultaneously sell a call credit spread and a put credit spread.\n",
    " The purpose of such a spread is to profit from a trading range, time decay, and/or volatility contraction, with limited risk."
   ]
  },
  {
   "cell_type": "markdown",
   "metadata": {},
   "source": [
    "<font color='blue'>To execute a short iron condor, you sell out-of-the-money call and put options and buy further out-of-the-money call and put options."
   ]
  },
  {
   "cell_type": "markdown",
   "metadata": {},
   "source": [
    "This strategy does not need to be executed in a perfect delta-neutral position because it can be weighted more heavily toward puts versus calls, and vice versa, depending on your market outlook and how options are priced, and the strike prices do not have to be equally spaced apart."
   ]
  },
  {
   "cell_type": "markdown",
   "metadata": {},
   "source": [
    "<font color='blue'>A short iron condor is a limited-reward and limited-risk strategy. The maximum profit occurs when the underlying stock is at or between the short option strike prices at expiration (when all options are out-of-the-money)."
   ]
  },
  {
   "cell_type": "markdown",
   "metadata": {},
   "source": [
    "<font color='blue'>A profit is made in this strategy as the underlying stock fluctuates back and forth in a range allowing both the call and put credit spreads to decay in value over time."
   ]
  },
  {
   "cell_type": "markdown",
   "metadata": {},
   "source": [
    "This is a strategy that is used to try to double (or nearly double) the amount of premium collected in comparison to what could be obtained by only trading one side of the market."
   ]
  },
  {
   "cell_type": "markdown",
   "metadata": {},
   "source": [
    "<font color='blue'>An advantage of a short iron condor can be its relatively low volatility because of the calls offsetting the puts, and vice versa."
   ]
  },
  {
   "cell_type": "markdown",
   "metadata": {},
   "source": [
    "<font color='blue'>The maximum loss potential is determined by the difference between the two strike prices of the calls and the two strike prices of the puts, minus the premium collected."
   ]
  },
  {
   "cell_type": "markdown",
   "metadata": {},
   "source": [
    "<font color='blue'>With a short iron condor, you have risk in both directions. The risk is that the underlying stock will advance or decline dramatically, substantially increasing the value of the put or call side, which would only be partially offset by the other side of the trade."
   ]
  },
  {
   "cell_type": "markdown",
   "metadata": {},
   "source": [
    "<font color='blue'>In an iron condor, there are two break-even points. The break-even points are the strike price of the short call plus the net credit and the strike price of the short put minus the net credit."
   ]
  },
  {
   "cell_type": "markdown",
   "metadata": {},
   "source": [
    "The margin requirement is the greater of the call side margin or the put side margin, but not both."
   ]
  },
  {
   "cell_type": "markdown",
   "metadata": {},
   "source": [
    "In a short iron condor, the time decay of the short options typically exceeds the time decay of the long options, an increase in volatility typically increases the value of short options more than long options, and a decrease in volatility typically decreases the value of short options more than long options."
   ]
  },
  {
   "cell_type": "markdown",
   "metadata": {},
   "source": [
    "A short iron condor may be permitted in an IRA but requires sufficient buying power."
   ]
  },
  {
   "cell_type": "markdown",
   "metadata": {},
   "source": [
    "If the stock price closes between the strike prices of the two option positions at expiration, your short call will be in-the-money and your long call will be out-of-the-money. Because the short call is in-the-money, you may be assigned."
   ]
  },
  {
   "cell_type": "markdown",
   "metadata": {},
   "source": [
    "If the stock price closes between the strike prices of the two option positions at expiration, your short put will be in-the-money and your long put will be out-of-the-money. Because the short put is in-the-money, you may be assigned."
   ]
  },
  {
   "cell_type": "markdown",
   "metadata": {},
   "source": [
    "In a short iron condor, initial margin is the call or put side margin, whichever is greater, plus the premium from the other side. Said another way, the short iron-condor margin requirement is the greater of the call side or put side but not the total of both sides."
   ]
  },
  {
   "cell_type": "markdown",
   "metadata": {},
   "source": [
    "Margin on each vertical credit spread of the iron condor is generally calculated as the lesser of the short option margin or the difference between the strike prices minus the premium collected"
   ]
  },
  {
   "cell_type": "markdown",
   "metadata": {},
   "source": [
    "Keep in mind that, in general, margin on a vertical credit spread is generally calculated as the lesser of the short option margin or the difference between the strike prices minus the premium collected."
   ]
  },
  {
   "cell_type": "markdown",
   "metadata": {},
   "source": [
    "A long option position is not subject to a margin requirement and, instead, must be paid in full."
   ]
  },
  {
   "cell_type": "markdown",
   "metadata": {},
   "source": [
    "The long iron condor has the benefit of taking advantage of volatility, not having to choose the direction, and lowering cost by selling out-of-the-money options."
   ]
  },
  {
   "cell_type": "markdown",
   "metadata": {},
   "source": [
    "The short iron condor combines the benefits of collecting double premium, double time decay, having probabilities on your side, defined risk, and margin benefits (because margin is the greater of the call side and put side but not both)."
   ]
  },
  {
   "cell_type": "markdown",
   "metadata": {},
   "source": [
    "<font color='blue'>The iron condor can be a popular strategy for index, ETF, and stock index futures trading."
   ]
  },
  {
   "cell_type": "markdown",
   "metadata": {},
   "source": [
    "The ability to trade both sides of the option market at the same time in a limited-risk strategy may present interesting opportunities to the alert option trader."
   ]
  },
  {
   "cell_type": "markdown",
   "metadata": {},
   "source": [
    "In an iron condor, the strike prices do not have to be spaced equally apart because you can tailor the positions to your view of the market and risk-reward parameters."
   ]
  },
  {
   "cell_type": "markdown",
   "metadata": {},
   "source": [
    "\n"
   ]
  }
 ],
 "metadata": {
  "kernelspec": {
   "display_name": "Python 3",
   "language": "python",
   "name": "python3"
  },
  "language_info": {
   "codemirror_mode": {
    "name": "ipython",
    "version": 3
   },
   "file_extension": ".py",
   "mimetype": "text/x-python",
   "name": "python",
   "nbconvert_exporter": "python",
   "pygments_lexer": "ipython3",
   "version": "3.6.7"
  }
 },
 "nbformat": 4,
 "nbformat_minor": 2
}
