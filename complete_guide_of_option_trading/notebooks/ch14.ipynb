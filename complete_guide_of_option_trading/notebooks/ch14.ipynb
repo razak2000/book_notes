{
 "cells": [
  {
   "cell_type": "markdown",
   "metadata": {},
   "source": [
    "<font color='blue'>Unlike a spread strategy, which consists of all calls or all puts, a straddle or a strangle each consists of a long call and long put or a short call and a short put."
   ]
  },
  {
   "cell_type": "markdown",
   "metadata": {},
   "source": [
    " If the call and put are purchased, the trader is long the straddle or strangle; if both options are sold, the trader is short the straddle or strangle."
   ]
  },
  {
   "cell_type": "markdown",
   "metadata": {},
   "source": [
    "<font color='blue'>The idea is to establish a position on both sides of the market, where you can take advantage of volatility expansion and trading outside a range (long straddle and strangle) or volatility contraction, time decay, and trading within a range (short straddle and strangle)."
   ]
  },
  {
   "cell_type": "markdown",
   "metadata": {},
   "source": [
    "<font color='blue'>A straddle consists of a call and a put with the same terms (strike price, expiration date, and underlying stock)."
   ]
  },
  {
   "cell_type": "markdown",
   "metadata": {},
   "source": [
    "<font color='blue'>A long straddle consists of a long call and a long put with the same strike price and expiration date and is used to profit from volatility"
   ]
  },
  {
   "cell_type": "markdown",
   "metadata": {},
   "source": [
    "<font color='blue'>A short straddle consists of a short call and put with the same strike price and expiration date and is used to profit from a trading range or volatility contraction"
   ]
  },
  {
   "cell_type": "markdown",
   "metadata": {},
   "source": [
    "<font color='blue'>A strangle is similar to a straddle except that a strangle involves two different strike prices."
   ]
  },
  {
   "cell_type": "markdown",
   "metadata": {},
   "source": [
    "<font color='blue'>A long strangle consists of a long call and long put with different strike prices and the same expiration date"
   ]
  },
  {
   "cell_type": "markdown",
   "metadata": {},
   "source": [
    "<font color='blue'>A short strangle consists of a short call and put with different strike prices and the same expiration date"
   ]
  },
  {
   "cell_type": "markdown",
   "metadata": {},
   "source": [
    "To exit a position, you can offset it in a closing transaction, exercise a long option if it is in-the-money, wait for assignment of a short option if it is in-the-money, or let both legs expire worthless (if both are at or out-of-the-money at expiration)."
   ]
  },
  {
   "cell_type": "markdown",
   "metadata": {},
   "source": [
    "In a straddle or a strangle, the Greeks for one side of the trade offset, in part, the Greeks in the other side."
   ]
  },
  {
   "cell_type": "markdown",
   "metadata": {},
   "source": [
    "<font color='blue'>A straddle and a strangle are both good examples of where delta does not measure the true risk and reward of the strategy."
   ]
  },
  {
   "cell_type": "markdown",
   "metadata": {},
   "source": [
    "<font color='blue'>However, if you execute a straddle or a strangle, you are betting for or against a large move in the underlying stock and, by definition, delta will not necessarily give you the information you need."
   ]
  },
  {
   "cell_type": "markdown",
   "metadata": {},
   "source": [
    "<font color='blue'>In essence, delta is a measurement of a small move; but, with a straddle or a strangle, you need to know what happens in a big move. Instead, it is sometimes best to examine an option chain or option calculator to project values under various scenarios."
   ]
  },
  {
   "cell_type": "markdown",
   "metadata": {},
   "source": [
    "\n",
    "A long straddle consists of a long call and long put with the same strike price and expiration date."
   ]
  },
  {
   "cell_type": "markdown",
   "metadata": {},
   "source": [
    "<font color='blue'>A long straddle has unlimited profit potential in both directions, and a profit is made in this strategy as the underlying stock moves beyond a break-even point in either direction."
   ]
  },
  {
   "cell_type": "markdown",
   "metadata": {},
   "source": [
    "I<font color='blue'>t is a strategy that has unlimited profit potential on both sides of the trade and is used to take advantage of extreme volatility, without having to determine direction."
   ]
  },
  {
   "cell_type": "markdown",
   "metadata": {},
   "source": [
    "<font color='blue'>To be profitable at expiration, the call or put side must exceed the total premium collected (on both sides)."
   ]
  },
  {
   "cell_type": "markdown",
   "metadata": {},
   "source": [
    "Prior to expiration, for a long straddle to be profitable, a rise on the call side must exceed the corresponding decline on the put side, or a rise on the put side must exceed the corresponding decline on the call side."
   ]
  },
  {
   "cell_type": "markdown",
   "metadata": {},
   "source": [
    "A long straddle can be executed at any strike price but is commonly established at-the-money."
   ]
  },
  {
   "cell_type": "markdown",
   "metadata": {},
   "source": [
    "<font color='blue'>The maximum loss is limited to the debit paid and occurs when the underlying stock is at the strike price at expiration (where all options expire worthless)."
   ]
  },
  {
   "cell_type": "markdown",
   "metadata": {},
   "source": [
    "<font color='blue'>The risk is that the underlying stock will fluctuate back and forth within a range, forcing both the call and the put to decay in value over time."
   ]
  },
  {
   "cell_type": "markdown",
   "metadata": {},
   "source": [
    "<font color='blue'>In a straddle, there are two break-even points. The break-even points are the strike price plus the debit and the strike price minus the debit."
   ]
  },
  {
   "cell_type": "markdown",
   "metadata": {},
   "source": [
    "A profit is achieved when the underlying stock advances or declines dramatically, substantially increasing the value of the put or call side, which is partially offset by the other side of the trade."
   ]
  },
  {
   "cell_type": "markdown",
   "metadata": {},
   "source": [
    "A long straddle is subject to the effects of time decay. Prior to expiration, an increase in volatility typically increases a straddle value, and a decrease in volatility typically decreases a straddle value."
   ]
  },
  {
   "cell_type": "markdown",
   "metadata": {},
   "source": [
    "For a long straddle, a debit is charged to your account and must be paid in full. A long straddle may be permitted in an IRA."
   ]
  },
  {
   "cell_type": "markdown",
   "metadata": {},
   "source": [
    "<font color='blue'>In a short straddle, you simultaneously sell a call and put at the same strike price and with the same expiration date."
   ]
  },
  {
   "cell_type": "markdown",
   "metadata": {},
   "source": [
    "<font color='blue'>An advantage is that you collect double the premium and can benefit from double time decay and volatility contraction."
   ]
  },
  {
   "cell_type": "markdown",
   "metadata": {},
   "source": [
    "<font color='blue'>In a short straddle, you want the underlying stock to fluctuate back and forth within a range, forcing both the call and the put sides to decay in value over time."
   ]
  },
  {
   "cell_type": "markdown",
   "metadata": {},
   "source": [
    "<font color='blue'>Prior to expiration, a short straddle will show a loss if a rise on the call side exceeds the corresponding decline on the put side or a rise on the put side exceeds the corresponding decline on the call side."
   ]
  },
  {
   "cell_type": "markdown",
   "metadata": {},
   "source": [
    "<font color='blue'>The purpose of such a spread is to profit from time decay and/or volatility contraction, ideally on both sides."
   ]
  },
  {
   "cell_type": "markdown",
   "metadata": {},
   "source": [
    "A short straddle can be executed at any strike price but is commonly established at-the-money."
   ]
  },
  {
   "cell_type": "markdown",
   "metadata": {},
   "source": [
    "<font color='blue'>The maximum profit occurs when the underlying stock is at the strike price at expiration (when all options are worthless). A profit is made in this strategy as the underlying stock fluctuates back and forth in a range, allowing both the call and put sides to decay in value over time."
   ]
  },
  {
   "cell_type": "markdown",
   "metadata": {},
   "source": [
    "<font color='blue'>The maximum loss potential is unlimited in both directions.</font> The risk is that the underlying stock will advance or decline dramatically, substantially increasing the value of the put or call side, which would only be partially offset by the other side of the trade. <font color='blue'>The risk of writing a straddle is that the loss is theoretically unlimited; you have upside risk because of your uncovered short calls and downside risk because of your uncovered short puts."
   ]
  },
  {
   "cell_type": "markdown",
   "metadata": {},
   "source": [
    "<font color='blue'>In a straddle, there are two break-even points. The break-even points are the strike price plus the premium credit collected and the strike price minus the premium collected."
   ]
  },
  {
   "cell_type": "markdown",
   "metadata": {},
   "source": [
    "A short straddle benefits from the effects of time decay. Prior to expiration, an increase in volatility typically increases a straddle value, and a decrease in volatility typically decreases a straddle value."
   ]
  },
  {
   "cell_type": "markdown",
   "metadata": {},
   "source": [
    "For a short straddle, a credit is reflected in your account and margin is the greater of the call side margin or the put side margin, but not both. A short straddle is not permitted in an IRA because of the margin requirement."
   ]
  },
  {
   "cell_type": "markdown",
   "metadata": {},
   "source": [
    "For the short straddle, you may be assigned on your short call or put, but both options cannot be in-the-money at the same time because they share the same strike price."
   ]
  },
  {
   "cell_type": "markdown",
   "metadata": {},
   "source": [
    "<font color='blue'>Realizing the theoretical maximum profit from a short straddle requires great pinpoint precision because the underlying stock must close at a specific price, the strike price, at a specific point in time (the expiration date). However, you do not have to earn the entire premium to show a healthy profit."
   ]
  },
  {
   "cell_type": "markdown",
   "metadata": {},
   "source": [
    "<font color='blue'>A long strangle consists of a long call and long put with different strike prices but the same expiration date."
   ]
  },
  {
   "cell_type": "markdown",
   "metadata": {},
   "source": [
    "A long strangle has unlimited profit potential in both directions, and a profit is made in this strategy as the underlying stock moves beyond a break-even point in either direction."
   ]
  },
  {
   "cell_type": "markdown",
   "metadata": {},
   "source": [
    "<font color='blue'>It is a strategy that has unlimited profit potential on both sides of the trade and is used to take advantage of extreme volatility, without having to determine direction."
   ]
  },
  {
   "cell_type": "markdown",
   "metadata": {},
   "source": [
    "<font color='blue'>To be profitable at expiration, the call or put side must exceed the total premium collected (on both sides), which occurs when the underlying stock moves beyond the break-even point in either direction."
   ]
  },
  {
   "cell_type": "markdown",
   "metadata": {},
   "source": [
    "Prior to expiration, for a long strangle to be profitable, a rise on the call side must exceed the corresponding decline on the put side or a rise on the put side must exceed the corresponding decline on the call side."
   ]
  },
  {
   "cell_type": "markdown",
   "metadata": {},
   "source": [
    "A long strangle can be executed with a combination of any two strike prices but is commonly established with the midpoint of the strike prices near at-the-money."
   ]
  },
  {
   "cell_type": "markdown",
   "metadata": {},
   "source": [
    "<font color='blue'>The maximum loss is limited to the debit paid and occurs when the underlying stock is at or between the strike prices at expiration (where all options expire worthless)"
   ]
  },
  {
   "cell_type": "markdown",
   "metadata": {},
   "source": [
    "<font color='blue'>For a long strangle, you pay double (or nearly double) the amount of premium in comparison to trading one side of the market, and the risk is that the underlying stock will fluctuate back and forth within a range, forcing both the call and put sides to decay in value over time."
   ]
  },
  {
   "cell_type": "markdown",
   "metadata": {},
   "source": [
    "<font color='blue'>In a strangle, there are two break-even points. One break-even point is the call strike price plus the debit, and the other is the put strike price minus the debit."
   ]
  },
  {
   "cell_type": "markdown",
   "metadata": {},
   "source": [
    "<font color='blue'>A profit is achieved when the underlying stock advances or declines dramatically, substantially increasing the value of the put or call side, which is partially offset by the other side of the trade."
   ]
  },
  {
   "cell_type": "markdown",
   "metadata": {},
   "source": [
    "A long strangle is subject to the effects of time decay. Prior to expiration, an increase in volatility typically increases a strangle value and a decrease in volatility typically decreases a strangle value."
   ]
  },
  {
   "cell_type": "markdown",
   "metadata": {},
   "source": [
    " For a long strangle, a debit is charged to your account and must be paid in full. A long strangle may be permitted in an IRA."
   ]
  },
  {
   "cell_type": "markdown",
   "metadata": {},
   "source": [
    " <font color='blue'>In a short strangle, you simultaneously sell a call and put at different strike prices but with the same expiration date."
   ]
  },
  {
   "cell_type": "markdown",
   "metadata": {},
   "source": [
    "<font color='blue'>An advantage is that you collect double the premium and can benefit from double time decay and volatility contraction."
   ]
  },
  {
   "cell_type": "markdown",
   "metadata": {},
   "source": [
    "<font color='blue'>In a short strangle, you want the underlying stock to fluctuate back and forth within a range, forcing both the call and the put sides to decay in value over time."
   ]
  },
  {
   "cell_type": "markdown",
   "metadata": {},
   "source": [
    "Prior to expiration, a short strangle will show a loss if a rise on the call side exceeds the corresponding decline on the put side or a rise on the put side exceeds the corresponding decline on the call side."
   ]
  },
  {
   "cell_type": "markdown",
   "metadata": {},
   "source": [
    "<font color='blue'>The purpose of such a spread is to profit from time decay and/or volatility contraction, ideally on both sides."
   ]
  },
  {
   "cell_type": "markdown",
   "metadata": {},
   "source": [
    "A short strangle can be executed with a combination of any two strike prices but is commonly established with the midpoint of the strike prices near at-the-money."
   ]
  },
  {
   "cell_type": "markdown",
   "metadata": {},
   "source": [
    "<font color='blue'>The maximum profit occurs when the underlying stock is at or between the option strike prices at expiration (when all options are at-the-money or out-of-the-money)."
   ]
  },
  {
   "cell_type": "markdown",
   "metadata": {},
   "source": [
    "A profit is made in this strategy as the underlying stock fluctuates back and forth within a range (defined by the strike prices), allowing both the call and put sides to decay in value over time."
   ]
  },
  {
   "cell_type": "markdown",
   "metadata": {},
   "source": [
    "<font color='blue'>The maximum loss potential is unlimited in both directions. The risk is that the underlying stock will advance or decline dramatically, substantially increasing the value of the put or call side, which would only be partially offset by the other side of the trade."
   ]
  },
  {
   "cell_type": "markdown",
   "metadata": {},
   "source": [
    "<font color='blue'>The risk of writing a strangle is that the loss is theoretically unlimited; you have upside risk because of your uncovered short calls and downside risk because of your uncovered short puts."
   ]
  },
  {
   "cell_type": "markdown",
   "metadata": {},
   "source": [
    "<font color='blue'>In a short strangle, there are two break-even points. The break-even points are the strike price of the short call plus the premium credit collected and the strike price of the short put minus the premium collected."
   ]
  },
  {
   "cell_type": "markdown",
   "metadata": {},
   "source": [
    "<font color='blue'>A short strangle benefits from the effects of time decay."
   ]
  },
  {
   "cell_type": "markdown",
   "metadata": {},
   "source": [
    "Prior to expiration, an increase in volatility typically increases a strangle value and a decrease in volatility typically decreases a strangle value."
   ]
  },
  {
   "cell_type": "markdown",
   "metadata": {},
   "source": [
    "For a short strangle, a credit is reflected in your account and margin is the greater of the call side margin or the put side margin, but not both. A short strangle is not permitted in an IRA because of the margin requirement."
   ]
  },
  {
   "cell_type": "markdown",
   "metadata": {},
   "source": [
    "For the short strangle, you may be assigned on your short call or put, but both options cannot be in-the-money at the same time."
   ]
  },
  {
   "cell_type": "markdown",
   "metadata": {},
   "source": [
    "The initial margin for a short straddle or strangle is the greater of the call side or put side, whichever is greater, but not the total of both (ignoring the premium)."
   ]
  },
  {
   "cell_type": "markdown",
   "metadata": {},
   "source": [
    "<font color='blue'>When writing an uncovered equity option, the traditional minimum margin requirement is, in general, 20 percent of the underlying stock minus the amount the option is out-of-the-money, if any, plus the premium collected, but not less than 10 percent of the stock value."
   ]
  },
  {
   "cell_type": "markdown",
   "metadata": {},
   "source": [
    "Futures options margin is calculated differently than margin on stock options."
   ]
  },
  {
   "cell_type": "markdown",
   "metadata": {},
   "source": [
    "Full payment is required if the straddle or strangle is a long position. A long straddle or strangle must be paid in full."
   ]
  },
  {
   "cell_type": "markdown",
   "metadata": {},
   "source": [
    "<font color='blue'>A straddle is typically executed at-the-money, but it can be established at any strike price."
   ]
  },
  {
   "cell_type": "markdown",
   "metadata": {},
   "source": [
    "<font color='blue'>If you are neutral about direction, you can establish an at-the-money long straddle; if you are bullish, you can establish a long straddle with a strike price below the level of the stock price (the call delta will exceed the put delta); and if you are bearish, you can establish a long straddle with a strike price above the level of the stock price (the put delta will exceed the call delta)"
   ]
  },
  {
   "cell_type": "markdown",
   "metadata": {},
   "source": [
    "<font color='blue'>Remember that a short straddle profit is maximized if the underlying stock is at the strike price at expiration."
   ]
  },
  {
   "cell_type": "markdown",
   "metadata": {},
   "source": [
    "<font color='blue'>If you are neutral about direction, you can establish an at-the-money short straddle; if you are bullish, you can establish a short straddle with a strike price above the level of the stock price; and if you are bearish, you can establish a short straddle with a strike price below the level of the stock price"
   ]
  },
  {
   "cell_type": "markdown",
   "metadata": {},
   "source": [
    "<font color='blue'>A strangle can be executed when the call and put strike prices are equidistant from the underlying stock price, but it can be established with any two out-of-the-money strike prices."
   ]
  },
  {
   "cell_type": "markdown",
   "metadata": {},
   "source": [
    "<font color='blue'>If you are neutral on the market, you can establish a long strangle in which the strike prices are equidistant from the underlying stock price (or based on having equal deltas); if you are bullish, you can establish a long strangle with a call strike price closer to the stock price (or based on the call having a higher delta); and if you are bearish, you can establish a long strangle with a put strike price closer to the stock price (or based on the put having a higher delta)."
   ]
  },
  {
   "cell_type": "markdown",
   "metadata": {},
   "source": [
    "<font color='blue'>Likewise, if you are neutral, you can sell a strangle with strike prices equidistant from the stock price (or based on having equal deltas); if you are bullish, you can establish a short strangle with a put strike price closer to the stock price (or based on the call having a lower delta); if you are bearish, you can establish a short strangle with a call strike price closer to the stock price (or based on the put having a lower delta)."
   ]
  },
  {
   "cell_type": "markdown",
   "metadata": {},
   "source": [
    "<font color='blue'>The maximum profit from a short strangle is achieved if the underlying stock closes at or between the two strike prices so that both options expire worthless. Therefore, you can attempt to stack the odds more in your favor by selling a strangle with increased odds of success by widening the strike prices until you have the probability for which you are looking."
   ]
  },
  {
   "cell_type": "markdown",
   "metadata": {},
   "source": [
    "<font color='blue'>You can roll a straddle or strangle by offsetting your current position and reestablishing a new position."
   ]
  },
  {
   "cell_type": "markdown",
   "metadata": {},
   "source": [
    "You may offset your current position because there are only a few days left in the option expiration cycle and you are interested in reestablishing a new position in a subsequent expiration month."
   ]
  },
  {
   "cell_type": "markdown",
   "metadata": {},
   "source": [
    "In other cases, you may roll options to minimize risk, cut losses, and/or take into account your new view of the market"
   ]
  },
  {
   "cell_type": "markdown",
   "metadata": {},
   "source": [
    "When rolling, you can establish the new position with the same or a different number of options, strike prices, and expiration dates."
   ]
  },
  {
   "cell_type": "markdown",
   "metadata": {},
   "source": [
    "<font color='blue'>You are readjusting your option positions to take advantage of opportunities, play defense, or take into account new market conditions. Remember that, in addition, you can vary the number of call versus put options and select different months to expiration according to your market view."
   ]
  },
  {
   "cell_type": "markdown",
   "metadata": {},
   "source": [
    "<font color='blue'>Keep in mind that the closer an option is to expiration, all other factors being equal, the smaller the premium, and the longer to expiration, the higher the premium."
   ]
  },
  {
   "cell_type": "markdown",
   "metadata": {},
   "source": [
    "<font color='blue'>Selling a straddle or strangle involves naked options. Although the premium received by a seller is fixed, the seller may sustain a loss well in excess of that amount."
   ]
  },
  {
   "cell_type": "markdown",
   "metadata": {},
   "source": [
    "A seller of an option who is in-the-money is subject to the risk of loss for the difference between the stock price and strike price at the expiration date multiplied by $100 (if a stock) minus the premium received"
   ]
  },
  {
   "cell_type": "markdown",
   "metadata": {},
   "source": [
    "<font color='blue'>Although it may be your intention to exit an option position quickly should it reach a predetermined price, you may not be given that opportunity if the price of the underlying stock gaps."
   ]
  },
  {
   "cell_type": "markdown",
   "metadata": {},
   "source": [
    "<font color='blue'>A gap in an underlying stock is a quick jump higher or lower from one price to another, in which you may not have enough time to react."
   ]
  },
  {
   "cell_type": "markdown",
   "metadata": {},
   "source": [
    "<font color='blue'>Gaps mostly occur at the opening of a trading session but can occur throughout the trading day, including during the overnight session."
   ]
  },
  {
   "cell_type": "markdown",
   "metadata": {},
   "source": [
    "<font color='blue'>When a gap occurs at the opening, the opening price of a stock differs greatly from the close of the previous session. In such a case, you would not be able to offset your current option position until the market opens, and the prices of your options may be very unfavorable."
   ]
  },
  {
   "cell_type": "markdown",
   "metadata": {},
   "source": [
    "<font color='blue'>A risk of selling a naked call (or put) option is that the stock price could gap higher (or lower) so that the price of an option rises dramatically"
   ]
  },
  {
   "cell_type": "markdown",
   "metadata": {},
   "source": [
    "<font color='blue'>The short straddle and strangle strategies are a bet against major volatility. The biggest risk to the short straddle and strangle strategies is a major gap in the market, either up or down, accompanied by increased volatility."
   ]
  },
  {
   "cell_type": "markdown",
   "metadata": {},
   "source": [
    "The price of a call or put can inflate dramatically well before the underlying stock reaches the strike price."
   ]
  },
  {
   "cell_type": "markdown",
   "metadata": {},
   "source": [
    "It may seem at first that an option seller will have great staying power with the intention of simply waiting out the volatility as the stock moves toward the strike price; but, while he waits, the value of the trader’s option may be exploding. <font color='blue'>As a result, out-of-the-money option sellers should be concerned with major fluctuations of the underlying stock prior to it reaching the strike price."
   ]
  },
  {
   "cell_type": "markdown",
   "metadata": {},
   "source": [
    "<font color='blue'>When selling a straddle or strangle, it is important that you establish the call and put sufficiently far enough away from the underlying stock price so that the net delta remains relatively low."
   ]
  },
  {
   "cell_type": "markdown",
   "metadata": {},
   "source": [
    "<font color='blue'>My general rules of thumb are that you should not establish a short option position unless the probability of success is at least 75 percent; conversely, on the flip side, I like to have at least a 60 percent chance of success with a long option"
   ]
  },
  {
   "cell_type": "markdown",
   "metadata": {},
   "source": [
    "Under these guidelines, you would sell far-out-of-the-money options and would, in general, avoid buying far-out-of-the-money options."
   ]
  },
  {
   "cell_type": "markdown",
   "metadata": {},
   "source": [
    "<font color='blue'>One of the biggest mistakes that a trader can make, in my opinion, is selling options with strike prices too close to the underlying stock. In such a case, you do not have the probabilities on your side, and you do not need to trade so close to the underlying stock to make a reasonable profit."
   ]
  },
  {
   "cell_type": "markdown",
   "metadata": {},
   "source": [
    "Should the underlying stock move dramatically toward either strike price, you may need to take defensive action to avoid large losses. There are a number of risk management strategies that you should learn to help mitigate such losses and reposition the straddle or strangle to potentially turn it into a profit."
   ]
  },
  {
   "cell_type": "markdown",
   "metadata": {},
   "source": [
    "<font color='blue'>A strangle, like a straddle, can be executed with a one-for-one ratio (one call for each put). However, a trader may want to establish a position with some other ratio. It is not uncommon to establish an unequal number of calls versus puts because it enables you to tailor that position to your unique prediction of the market."
   ]
  },
  {
   "cell_type": "markdown",
   "metadata": {},
   "source": [
    "Simply because the numbers of calls and puts are equal does not mean that the total call and put value is equal or that the delta of the calls equals the delta of the puts."
   ]
  },
  {
   "cell_type": "markdown",
   "metadata": {},
   "source": [
    " It should be noted that the delta of calls is likely different than the delta of puts, even if the calls and puts expire in the same month and are sold for the same dollar amount."
   ]
  },
  {
   "cell_type": "markdown",
   "metadata": {},
   "source": [
    "<font color='blue'>A straddle or strangle trader may want to establish a position with one side expiring in one month and the other side expiring in a later month. It is not uncommon to establish a straddle or strangle with differing expiration months because it can enable you to tailor the position to your unique prediction of the market."
   ]
  },
  {
   "cell_type": "markdown",
   "metadata": {},
   "source": [
    "<font color='blue'>A long straddle or strangle is typically a bet on volatility expansion and a short straddle or strangle is typically a bet on volatility contraction. "
   ]
  },
  {
   "cell_type": "markdown",
   "metadata": {},
   "source": [
    "<font color='blue'>Earnings reports, product announcements, and economic reports can have a tendency to move stock prices violently either up or down."
   ]
  },
  {
   "cell_type": "markdown",
   "metadata": {},
   "source": [
    " Some traders purchase a straddle or strangle in a period of low volatility before such an announcement and then sell it immediately after the announcement."
   ]
  },
  {
   "cell_type": "markdown",
   "metadata": {},
   "source": [
    " <font color='blue'>A straddle or strangle does not need to be executed in a perfect delta-neutral position because it can be weighted more heavily toward puts or calls, depending on your market outlook and how the options are priced"
   ]
  },
  {
   "cell_type": "markdown",
   "metadata": {},
   "source": [
    "  Remember that you can execute practically any option strategy in which the number of options sold differs from the number bought and/or the sides of the spread expire at different times."
   ]
  },
  {
   "cell_type": "markdown",
   "metadata": {},
   "source": [
    "<font color='blue'>Many traders prefer a short strangle instead of a short straddle because it provides an opportunity to select strike prices within a range."
   ]
  },
  {
   "cell_type": "markdown",
   "metadata": {},
   "source": [
    "<font color='blue'>When selling naked options, you should not sell both puts and calls if your market forecast does not justify it; for instance, if you are wildly bullish, you would sell puts but no calls (or a limited number of calls). If you are bearish, you would sell calls but no puts (or a limited number of puts). I like to use technical analysis to determine areas of support and resistance."
   ]
  }
 ],
 "metadata": {
  "kernelspec": {
   "display_name": "Python 3",
   "language": "python",
   "name": "python3"
  },
  "language_info": {
   "codemirror_mode": {
    "name": "ipython",
    "version": 3
   },
   "file_extension": ".py",
   "mimetype": "text/x-python",
   "name": "python",
   "nbconvert_exporter": "python",
   "pygments_lexer": "ipython3",
   "version": "3.6.7"
  }
 },
 "nbformat": 4,
 "nbformat_minor": 2
}
