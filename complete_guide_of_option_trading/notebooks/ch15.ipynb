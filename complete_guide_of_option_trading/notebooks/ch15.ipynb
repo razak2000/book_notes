{
 "cells": [
  {
   "cell_type": "markdown",
   "metadata": {},
   "source": [
    "<font color='blue'>A long call butterfly consists of purchasing one call at a lower strike, selling two calls at a middle strike, and purchasing one call at a higher strike."
   ]
  },
  {
   "cell_type": "markdown",
   "metadata": {},
   "source": [
    "The outside strikes are referred to as the wings, whereas the two short options located at the middle strike are referred to as the body."
   ]
  },
  {
   "cell_type": "markdown",
   "metadata": {},
   "source": [
    "A butterfly is a limited-risk/limited-reward strategy with which you can take advantage of a range-bound market (long butterfly) or of an increase in volatility (short butterfly) with a relatively low margin requirement."
   ]
  },
  {
   "cell_type": "markdown",
   "metadata": {},
   "source": [
    "<font color='blue'>A long butterfly spread is a strategy designed to profit from a trading range, with limited risk."
   ]
  },
  {
   "cell_type": "markdown",
   "metadata": {},
   "source": [
    "<font color='blue'>A short butterfly spread is a strategy designed to profit from volatility, with limited risk."
   ]
  },
  {
   "cell_type": "markdown",
   "metadata": {},
   "source": [
    "You might establish a long butterfly if you believe that the stock will trade within a trading range and a short butterfly if you believe that the stock will trade outside a range."
   ]
  },
  {
   "cell_type": "markdown",
   "metadata": {},
   "source": [
    "<font color='blue'>A butterfly is executed with all calls or all puts."
   ]
  },
  {
   "cell_type": "markdown",
   "metadata": {},
   "source": [
    "<font color='blue'>A long butterfly spread consists of three equally spaced exercise prices, in which the same number of options are purchased at the outside exercise prices and twice the number of options are sold at the inside exercise price (four total contracts)"
   ]
  },
  {
   "cell_type": "markdown",
   "metadata": {},
   "source": [
    "When you buy a butterfly, you typically (but not always) pay a net debit"
   ]
  },
  {
   "cell_type": "markdown",
   "metadata": {},
   "source": [
    "<font color='blue'>A short butterfly spread consists of three equally spaced exercise prices, in which the same number of options are sold at the outside exercise prices and twice the number of options are purchased at the inside exercise price (four total contracts)."
   ]
  },
  {
   "cell_type": "markdown",
   "metadata": {},
   "source": [
    "When you sell a butterfly, you typically (but not always) collect a credit."
   ]
  },
  {
   "cell_type": "markdown",
   "metadata": {},
   "source": [
    "<font color='blue'>A long butterfly is considered a long position because the lowest strike price (assuming calls are used) is long. A short butterfly is considered a short position because the lowest strike price (assuming calls are used) is short."
   ]
  },
  {
   "cell_type": "markdown",
   "metadata": {},
   "source": [
    "<font color='blue'>The lowest and highest strike prices in a long butterfly are long legs, whereas the lowest and highest strike prices in a short butterfly are short legs."
   ]
  },
  {
   "cell_type": "markdown",
   "metadata": {},
   "source": [
    "Long butterfly: Three equally spaced exercise prices; all options expire at the same time, the same number of options at outside exercise prices are purchased, and twice the number of options at inside exercise price are sold."
   ]
  },
  {
   "cell_type": "markdown",
   "metadata": {},
   "source": [
    "Short butterfly: Three equally spaced exercise prices; all options expire at the same time, the same number of options at outside exercise prices are sold, and twice the number of options at inside exercise price are purchased."
   ]
  },
  {
   "cell_type": "markdown",
   "metadata": {},
   "source": [
    "In a short butterfly, margin is generally required for the short vertical portion of the spread."
   ]
  },
  {
   "cell_type": "markdown",
   "metadata": {},
   "source": [
    "Full payment is required if the spread is a long butterfly."
   ]
  },
  {
   "cell_type": "markdown",
   "metadata": {},
   "source": [
    "You can execute a long or short butterfly with all calls or all puts"
   ]
  },
  {
   "cell_type": "markdown",
   "metadata": {},
   "source": [
    "<font color='blue'>An advantage of a long or short butterfly is its limited risk and the low volatility of the position (because the option positions trend to offset one another)."
   ]
  },
  {
   "cell_type": "markdown",
   "metadata": {},
   "source": [
    "<font color='blue'>A butterfly (at expiration) will have a value (ignoring the premium paid or collected) somewhere between zero and the width between exercise prices"
   ]
  },
  {
   "cell_type": "markdown",
   "metadata": {},
   "source": [
    "<font color='blue'>A call butterfly, at expiration, has a value of zero when the stock is at or below the lowest strike price (95, for example), achieves its maximum value when the stock is at the middle strike price (100, for example), and declines to zero when the stock is at or above the highest strike price (105, for example)."
   ]
  },
  {
   "cell_type": "markdown",
   "metadata": {},
   "source": [
    "In a long butterfly, you typically pay a debit and profit if the underlying instrument trades within a range. <font color='blue'>This is contrary to the general rule for a vertical spread, for example, that a debit strategy typically attempts to profit as an underlying stock moves by a large amount in one direction."
   ]
  },
  {
   "cell_type": "markdown",
   "metadata": {},
   "source": [
    "Likewise, a credit in a short butterfly profits if the underlying stock trades outside a range, contrary to the general rule for a vertical spread, for example, that a credit strategy typically profits because an underlying stock trades sideways or in one direction."
   ]
  },
  {
   "cell_type": "markdown",
   "metadata": {},
   "source": [
    "<font color='blue'>Whether a butterfly is executed for a debit or a credit depends, in part, on the width of strike prices, time remaining to expiration, the relative value of the options that are bought and sold, and the bid/ask spread."
   ]
  },
  {
   "cell_type": "markdown",
   "metadata": {},
   "source": [
    "<font color='blue'>As a general rule, wider strike prices mean a larger debit (if long) or credit (if short), whereas a wider bid/ask spread increases a debit and decreases a credit."
   ]
  },
  {
   "cell_type": "markdown",
   "metadata": {},
   "source": [
    "<font color='blue'>An attraction of a butterfly is that it has low volatility because there are two long options and two short options that tend to offset one another."
   ]
  },
  {
   "cell_type": "markdown",
   "metadata": {},
   "source": [
    "In a butterfly, time decay of short options typically approximates time decay of long options, and a volatility increase or decrease affects the value of short options by approximately the same amount as long options."
   ]
  },
  {
   "cell_type": "markdown",
   "metadata": {},
   "source": [
    "<font color='blue'>Keep in mind that the value of a butterfly declines as the underlying stock moves farther away from the middle strike price."
   ]
  },
  {
   "cell_type": "markdown",
   "metadata": {},
   "source": [
    "<font color='blue'>Before establishing a long call butterfly spread, you should first determine at what price you believe the underlying stock will be trading at the expiration date. That price is the strike price for two options that you will sell for a long butterfly and is the middle strike price."
   ]
  },
  {
   "cell_type": "markdown",
   "metadata": {},
   "source": [
    "At the same time, you will buy an option with a lower strike price and buy an option with a higher strike price, where the distance between strike prices is equal."
   ]
  },
  {
   "cell_type": "markdown",
   "metadata": {},
   "source": [
    "A long butterfly is a strategy that has limited profit potential, limited risk, and is profitable if the underlying stock trades within the range of strike prices."
   ]
  },
  {
   "cell_type": "markdown",
   "metadata": {},
   "source": [
    "A long butterfly maximum profit occurs when the stock is at the middle strike price at expiration, and its maximum loss occurs (at expiration) if the stock closes at or below the lowest strike price or at or above the highest strike price. It is worth zero if the underlying stock is at or below the lowest exercise price or at or above the highest exercise price."
   ]
  },
  {
   "cell_type": "markdown",
   "metadata": {},
   "source": [
    "<font color='blue'>A long butterfly is considered a limited-reward strategy because it cannot be worth more than the difference between the strikes. A long butterfly is considered a limited-risk strategy because you cannot lose more than the debit paid."
   ]
  },
  {
   "cell_type": "markdown",
   "metadata": {},
   "source": [
    "In a butterfly, there are two break-even points. <font color='blue'>The break-even points in a long butterfly occur when the stock (at expiration) is at the lowest strike price plus the debit or at the highest strike price minus the debit."
   ]
  },
  {
   "cell_type": "markdown",
   "metadata": {},
   "source": [
    "In a long butterfly, the time decay of the short options typically approximates the time decay of the long options, and a volatility increase or decrease affects the value of short options by approximately the same amount as long options."
   ]
  },
  {
   "cell_type": "markdown",
   "metadata": {},
   "source": [
    "For a long butterfly, a debit charged to your account must be paid in full. A long butterfly may be permitted in an IRA."
   ]
  },
  {
   "cell_type": "markdown",
   "metadata": {},
   "source": [
    "<font color='blue'>A long call butterfly can be viewed as a combination of a bull call spread (the lower two strikes) and a bear call spread (the upper two strikes)"
   ]
  },
  {
   "cell_type": "markdown",
   "metadata": {},
   "source": [
    "<font color='blue'>The characteristics of a long put butterfly are the same as those of a long call butterfly. You should first determine at what price you believe the underlying stock will be trading at the expiration date. That price is the strike price for two options that you will sell and is the middle strike price.</font> At the same time, you will buy an option with a lower strike price and buy an option with a higher strike price, for which the distance between strike prices is equal."
   ]
  },
  {
   "cell_type": "markdown",
   "metadata": {},
   "source": [
    "A long butterfly is a strategy that has limited profit potential, limited risk, and is profitable if the underlying stock trades within the range of strike prices."
   ]
  },
  {
   "cell_type": "markdown",
   "metadata": {},
   "source": [
    "<font color='blue'>A long butterfly maximum profit occurs when the stock is at the middle strike price at expiration, and its maximum loss occurs (at expiration) if the stock closes at or below the lowest strike price or at or above the highest strike price."
   ]
  },
  {
   "cell_type": "markdown",
   "metadata": {},
   "source": [
    "At expiration, a long butterfly is worth its maximum if the underlying stock is at the inside exercise price and is worth zero if the underlying stock is at or below the lowest exercise price or at or above the highest exercise price."
   ]
  },
  {
   "cell_type": "markdown",
   "metadata": {},
   "source": [
    "<font color='blue'>A long put butterfly, like a long call butterfly, is considered a limited-reward strategy because it cannot be worth more than the difference between the strikes."
   ]
  },
  {
   "cell_type": "markdown",
   "metadata": {},
   "source": [
    "<font color='blue'>A long butterfly is considered a limited-risk strategy because you cannot lose more than the debit paid."
   ]
  },
  {
   "cell_type": "markdown",
   "metadata": {},
   "source": [
    "In a butterfly, there are two break-even points. The break-even points in a long butterfly occur when the stock (at expiration) is at the lowest strike price plus the debit or at the highest strike price minus the debit."
   ]
  },
  {
   "cell_type": "markdown",
   "metadata": {},
   "source": [
    "In a long butterfly, the time decay of the short options typically approximates the time decay of the long options, and a volatility increase or decrease affects the value of short options by approximately the same amount as long options."
   ]
  },
  {
   "cell_type": "markdown",
   "metadata": {},
   "source": [
    "For a long butterfly, a debit charged to your account must be paid in full. A long butterfly may be permitted in an IRA."
   ]
  },
  {
   "cell_type": "markdown",
   "metadata": {},
   "source": [
    "<font color='blue'>Before establishing a short call butterfly spread, you should first determine at what price you believe the underlying stock will most likely <font color='red'>not</font> be trading at the expiration date. That price is the strike price for two options that you will buy and is the middle strike price.</font> At the same time, you will sell an option with a lower strike price and sell an option with a higher strike price, where the distance between strike prices is equal."
   ]
  },
  {
   "cell_type": "markdown",
   "metadata": {},
   "source": [
    "<font color='blue'>A short butterfly (at expiration) will have a value somewhere between the amount between the exercise prices and zero."
   ]
  },
  {
   "cell_type": "markdown",
   "metadata": {},
   "source": [
    "<font color='blue'>A short butterfly is a strategy that has limited profit potential and limited risk, and its maximum profit is achieved if the underlying stock trades outside the range of strike prices."
   ]
  },
  {
   "cell_type": "markdown",
   "metadata": {},
   "source": [
    "<font color='blue'>A short butterfly maximum gain occurs (at expiration) if the stock closes at or below the lowest strike price or at or about the highest strike price."
   ]
  },
  {
   "cell_type": "markdown",
   "metadata": {},
   "source": [
    "The maximum gain is the credit collected (less commissions). Its maximum loss occurs when the stock is at the middle strike price at expiration."
   ]
  },
  {
   "cell_type": "markdown",
   "metadata": {},
   "source": [
    "At expiration, a butterfly is worth its maximum if the underlying stock is at the inside exercise price and is worth zero if the underlying stock is at or below the lowest exercise price or at or above the highest exercise price."
   ]
  },
  {
   "cell_type": "markdown",
   "metadata": {},
   "source": [
    "A short butterfly is considered a limited-risk strategy because it cannot be worth more than the difference between the strikes"
   ]
  },
  {
   "cell_type": "markdown",
   "metadata": {},
   "source": [
    "<font color='blue'>The break-even points in a short butterfly occur when the stock (at expiration) is at the lowest strike price plus the credit or at the highest strike price minus the credit."
   ]
  },
  {
   "cell_type": "markdown",
   "metadata": {},
   "source": [
    "In a short butterfly, the time decay of the short options typically approximates the time decay of the long options, and a volatility increase or decrease affects the value of short options by approximately the same amount as long options."
   ]
  },
  {
   "cell_type": "markdown",
   "metadata": {},
   "source": [
    "In a short butterfly, is generally required for the short vertical portion of the spread. A short butterfly may be permitted in an IRA."
   ]
  },
  {
   "cell_type": "markdown",
   "metadata": {},
   "source": [
    "<font color='blue'>Before establishing a short put butterfly spread, you should first determine at what price you believe the underlying stock will most likely <font color='red'>not</font> be trading at the expiration date. That price is the strike price for two options that you will buy and is the middle strike price.</font> At the same time, you will sell an option with a lower strike price and sell an option with a higher strike price, where the distance between strike prices is equal."
   ]
  },
  {
   "cell_type": "markdown",
   "metadata": {},
   "source": [
    "<font color='blue'>A short butterfly (at expiration) will have a value somewhere between the amount between the exercise prices and zero."
   ]
  },
  {
   "cell_type": "markdown",
   "metadata": {},
   "source": [
    "A short butterfly is a strategy that has limited profit potential and limited risk, and its maximum profit is achieved if the underlying stock trades outside the range of strike prices."
   ]
  },
  {
   "cell_type": "markdown",
   "metadata": {},
   "source": [
    "<font color='blue'>A short butterfly maximum gain occurs (at expiration) if the stock closes at or below the lowest strike price or at or about the highest strike price."
   ]
  },
  {
   "cell_type": "markdown",
   "metadata": {},
   "source": [
    "Its maximum gain is the credit collected (less commissions). Its maximum loss occurs when the stock is at the middle strike price at expiration."
   ]
  },
  {
   "cell_type": "markdown",
   "metadata": {},
   "source": [
    "<font color='blue'>At expiration, it is worth its maximum if the underlying stock is at the inside exercise price and is worth zero if the underlying stock is at or below the lowest exercise price or at or above the highest exercise price."
   ]
  },
  {
   "cell_type": "markdown",
   "metadata": {},
   "source": [
    "A short butterfly is considered a limited-risk strategy because it cannot be worth more than the difference between the strikes"
   ]
  },
  {
   "cell_type": "markdown",
   "metadata": {},
   "source": [
    "<font color='blue'>The break-even point in a short butterfly occurs when the stock (at expiration) is at the lowest strike price plus the credit or at the highest strike price minus the credit."
   ]
  },
  {
   "cell_type": "markdown",
   "metadata": {},
   "source": [
    "In a short butterfly, the time decay of the short options typically approximates the time decay of the long options, and a volatility increase or decrease affects the value of short options by approximately the same amount as long options."
   ]
  },
  {
   "cell_type": "markdown",
   "metadata": {},
   "source": [
    "In a short butterfly, margin (or buying power) is generally required for the short vertical portion of the spread. A short butterfly may be permitted in an IRA."
   ]
  },
  {
   "cell_type": "markdown",
   "metadata": {},
   "source": [
    "<font color='blue'>You may want to use a long butterfly strategy when you forecast that a particular stock will remain within a trading range (neutral) and you want low volatility in your account, limited risk, low margin, and a reasonable trade-off between risk and reward."
   ]
  },
  {
   "cell_type": "markdown",
   "metadata": {},
   "source": [
    "<font color='blue'>You may want to use a short butterfly strategy when you forecast that a particular stock will trade outside a trading range and you want low volatility, limited risk, and low margin."
   ]
  },
  {
   "cell_type": "markdown",
   "metadata": {},
   "source": [
    "<font color='blue'>The main decision you need to make is the middle strike price because that determines your maximum gain if you are long and your maximum loss if you are short."
   ]
  },
  {
   "cell_type": "markdown",
   "metadata": {},
   "source": [
    "You should keep in mind that the middle strike price does not have to be at-the-money when it is established."
   ]
  },
  {
   "cell_type": "markdown",
   "metadata": {},
   "source": [
    "Keep in mind that you can close out an option position by offsetting it in the marketplace at any time prior to expiration, and you should use your trading platform software, option calculator, and option chain to estimate option values based on your own assumptions."
   ]
  },
  {
   "cell_type": "markdown",
   "metadata": {},
   "source": [
    " If you are nearing expiration, you can offset your current position, because there are only a few days left in the option expiration cycle, and establish a similar position in a subsequent expiration month."
   ]
  },
  {
   "cell_type": "markdown",
   "metadata": {},
   "source": [
    "<font color='blue'>It may be difficult, however, to roll a butterfly because there are four contracts involved."
   ]
  },
  {
   "cell_type": "markdown",
   "metadata": {},
   "source": [
    "<font color='blue'>There is assignment risk associated with a butterfly spread. Although it is generally accepted that spread trading reduces the risk of loss, spreads are subject to early exercise or assignment, which can remove the very protection that you wanted. This can lead to margin calls and/or greater losses than anticipated."
   ]
  },
  {
   "cell_type": "markdown",
   "metadata": {},
   "source": [
    "<font color='blue'>As a general rule, it is best to avoid assignment on any leg in a butterfly, or any other short option position, for that matter."
   ]
  },
  {
   "cell_type": "markdown",
   "metadata": {},
   "source": [
    "<font color='blue'>An alternative to being assigned is to offset a short option in the marketplace."
   ]
  },
  {
   "cell_type": "markdown",
   "metadata": {},
   "source": [
    "<font color='blue'>You need to be careful not to be assigned in a butterfly spread because it can create margin problems and complexity."
   ]
  },
  {
   "cell_type": "markdown",
   "metadata": {},
   "source": [
    "<font color='blue'>Being assigned could turn a well-constructed butterfly spread into a Three Stooges trade."
   ]
  },
  {
   "cell_type": "markdown",
   "metadata": {},
   "source": [
    "In a long call butterfly, for example, its maximum loss occurs (at expiration) if the stock closes at or below the lowest strike price or at or about the highest strike price."
   ]
  },
  {
   "cell_type": "markdown",
   "metadata": {},
   "source": [
    "This may sound like equal results, but the close above the highest strike price has exercise/assignment risk."
   ]
  },
  {
   "cell_type": "markdown",
   "metadata": {},
   "source": [
    "The close below the lowest strike price simply results in all options expiring worthless."
   ]
  },
  {
   "cell_type": "markdown",
   "metadata": {},
   "source": [
    "<font color='blue'>The potentially high cost of commissions, including the bid/ask spread, should be taken into consideration before entering into a butterfly."
   ]
  },
  {
   "cell_type": "markdown",
   "metadata": {},
   "source": [
    "<font color='blue'>Commissions are incurred to establish each butterfly leg, to offset the butterfly if you choose to do so, and to execute any exercise and assignment."
   ]
  },
  {
   "cell_type": "markdown",
   "metadata": {},
   "source": [
    "As a result, commissions, including the bid/ask spread, may be incurred on the four contracts to establish the butterfly and possibly on an additional four contracts to offset those positions at a later date, for a total of eight commission transactions."
   ]
  },
  {
   "cell_type": "markdown",
   "metadata": {},
   "source": [
    "<font color='blue'>Additional commissions would be incurred on exercise or assignment."
   ]
  },
  {
   "cell_type": "markdown",
   "metadata": {},
   "source": [
    "Sometimes I believe they call it a “butterfly” because you pay so much in commissions that you will see your profits fly away."
   ]
  },
  {
   "cell_type": "markdown",
   "metadata": {},
   "source": [
    "<font color='blue'>Another butterfly strategy is called a “broken wing butterfly.” In this strategy, assuming a long call butterfly, you move the highest-strike call to a higher strike to reduce the cost of the debit or even to convert the debit to a credit or zero cost."
   ]
  },
  {
   "cell_type": "markdown",
   "metadata": {},
   "source": [
    "Excuse me, but I cannot help but notice the similarities between a butterfly spread and gambling. Maybe all trading, including option trading, in general, is like gambling in many respects, but the butterfly seems to exemplify gambling to a greater degree."
   ]
  },
  {
   "cell_type": "markdown",
   "metadata": {},
   "source": [
    "<font color='blue'>The butterfly can have a lot of merit, but it could also serve as a fallback position for the indecisive trader."
   ]
  },
  {
   "cell_type": "markdown",
   "metadata": {},
   "source": [
    "In a butterfly strategy, your losses are limited, even if the stock moves appreciably in either direction."
   ]
  },
  {
   "cell_type": "markdown",
   "metadata": {},
   "source": [
    "<font color='blue'>A trader may choose a long butterfly over a short straddle in a sideways market because of the limited risk of the butterfly."
   ]
  },
  {
   "cell_type": "markdown",
   "metadata": {},
   "source": [
    "Unlike a short straddle or short strangle, in a long butterfly strategy, if the stock moves appreciably in one direction or the other, your losses are limited."
   ]
  },
  {
   "cell_type": "markdown",
   "metadata": {},
   "source": [
    "<font color='blue'>In a long butterfly, the most you can lose is the amount paid to purchase the butterfly, but a short straddle has greater profit potential."
   ]
  },
  {
   "cell_type": "markdown",
   "metadata": {},
   "source": [
    "If you recall from Chapter 14, a straddle or a strangle can be used to profit from a trading range or to profit from trading outside a range, <font color='blue'>but the problem with a straddle or a strangle is that there can be a lot of risk."
   ]
  },
  {
   "cell_type": "markdown",
   "metadata": {},
   "source": [
    "A butterfly is designed to mitigate such risk. You can get an idea of your chances of success by examining the deltas of the various strike prices."
   ]
  },
  {
   "cell_type": "markdown",
   "metadata": {},
   "source": [
    "In general, you should use your trading platform and its simulated (paper) trading feature to enter hypothetical trades to determine the pricing of a call versus a put butterfly spread."
   ]
  },
  {
   "cell_type": "markdown",
   "metadata": {},
   "source": [
    "<font color='blue'>If you are executing a long butterfly, you want to pay as little as possible (with as much upside as possible); if you are executing a short butterfly, you want to collect as much premium as possible (with as little downside as possible)."
   ]
  },
  {
   "cell_type": "markdown",
   "metadata": {},
   "source": [
    "<font color='blue'>Whether a butterfly should be executed with calls or puts depends on the relative prices of the options."
   ]
  },
  {
   "cell_type": "markdown",
   "metadata": {},
   "source": [
    "\n"
   ]
  }
 ],
 "metadata": {
  "kernelspec": {
   "display_name": "Python 3",
   "language": "python",
   "name": "python3"
  },
  "language_info": {
   "codemirror_mode": {
    "name": "ipython",
    "version": 3
   },
   "file_extension": ".py",
   "mimetype": "text/x-python",
   "name": "python",
   "nbconvert_exporter": "python",
   "pygments_lexer": "ipython3",
   "version": "3.6.7"
  }
 },
 "nbformat": 4,
 "nbformat_minor": 2
}
