{
 "cells": [
  {
   "cell_type": "markdown",
   "metadata": {},
   "source": [
    "A diagonal spread strategy consists of options with different strike prices and expiration dates."
   ]
  },
  {
   "cell_type": "markdown",
   "metadata": {},
   "source": [
    "To illustrate basic principles, this chapter will address a diagonal spread in which one option is at-the-money and another option is out-of-the-money, where an equal number of options are bought as are sold."
   ]
  },
  {
   "cell_type": "markdown",
   "metadata": {},
   "source": [
    "A diagonal is a spread with different strike prices and different expiration dates, such as buy one XYZ February 100 call and sell one XYZ March 110 call."
   ]
  },
  {
   "cell_type": "markdown",
   "metadata": {},
   "source": [
    "A diagonal consists of either all call or all put options."
   ]
  },
  {
   "cell_type": "markdown",
   "metadata": {},
   "source": [
    "Like a calendar spread, a diagonal spread can take advantage of near-term time decay relative to longer-term time decay or longer-term time decay relative to near-term time decay."
   ]
  },
  {
   "cell_type": "markdown",
   "metadata": {},
   "source": [
    "A diagonal spread can consist of the purchase of a call (or put) option and the simultaneous sale of a call (or put) option with different strike prices and expiration dates."
   ]
  },
  {
   "cell_type": "markdown",
   "metadata": {},
   "source": [
    "Likewise, a diagonal spread can consist of the sale of a call (or put) option and the simultaneous purchase of a call (or put) option with different strike prices and expiration dates."
   ]
  },
  {
   "cell_type": "markdown",
   "metadata": {},
   "source": [
    "In general, a long diagonal call spread (diagonal call bull spread) consists of buying a lower-strike call while selling a higher-strike call, at a debit"
   ]
  },
  {
   "cell_type": "markdown",
   "metadata": {},
   "source": [
    "A long diagonal put spread (diagonal put bear spread) consists of buying a higher-strike put while selling a lower-strike put, at a debit"
   ]
  },
  {
   "cell_type": "markdown",
   "metadata": {},
   "source": [
    "A short diagonal call spread (diagonal call bear spread) consists of selling a lower-strike call while selling a higher-strike call, at a credit"
   ]
  },
  {
   "cell_type": "markdown",
   "metadata": {},
   "source": [
    "A short diagonal put spread (diagonal put bull spread) consists of selling a higher-strike put while buying a lower-strike put, at a credit"
   ]
  },
  {
   "cell_type": "markdown",
   "metadata": {},
   "source": [
    "Spreads can be broadly classified as vertical, horizontal (calendar), and diagonal"
   ]
  },
  {
   "cell_type": "markdown",
   "metadata": {},
   "source": [
    "A diagonal spread is a combination of vertical and calendar spreads, in which the trader buys and sells options with different strike prices and different expiration dates, such as buy one XYZ February 100 call and sell one XYZ March 110 call."
   ]
  },
  {
   "cell_type": "markdown",
   "metadata": {},
   "source": [
    "Like a calendar spread, you cannot precisely predict the maximum profit, maximum loss, and break-even point when you first establish a diagonal spread position because you cannot know in advance the value of the longer-term option at the time the near-term option expires."
   ]
  },
  {
   "cell_type": "markdown",
   "metadata": {},
   "source": [
    "An important factor in the value of a diagonal spread is the implied volatility of the longer-term option at the time the near-term option expires. Unfortunately, you cannot know this at the time the spread is established, and it is simply a prediction"
   ]
  },
  {
   "cell_type": "markdown",
   "metadata": {},
   "source": [
    "Practically any spread strategy can be converted (diagonalized) to a diagonal spread because a diagonal spread can be executed with many combinations of strike prices and expiration months."
   ]
  },
  {
   "cell_type": "markdown",
   "metadata": {},
   "source": [
    "Keep in mind that a diagonal spread can be unbalanced (ratioed) where there is an unequal number of long and short options."
   ]
  },
  {
   "cell_type": "markdown",
   "metadata": {},
   "source": [
    "In general, a long diagonal call spread (diagonal call bull spread) consists of buying a lower-strike call while selling a higher-strike call, at a debit. This is consistent with referring to a spread that is executed as a debit as a long position."
   ]
  },
  {
   "cell_type": "markdown",
   "metadata": {},
   "source": [
    "In a long diagonal call spread, you typically buy an at-the-money or in-the-money option and sell an out-of-the-money option"
   ]
  },
  {
   "cell_type": "markdown",
   "metadata": {},
   "source": [
    "The lower-strike call can be the near-term option or the longer-term option"
   ]
  },
  {
   "cell_type": "markdown",
   "metadata": {},
   "source": [
    "The maximum profit, maximum loss, and break-even point depend on the strike prices and expiration dates chosen"
   ]
  },
  {
   "cell_type": "markdown",
   "metadata": {},
   "source": [
    "The maximum profit cannot be determined in advance because the value of a call at a future point in time, when the near-term call expires, is not known."
   ]
  },
  {
   "cell_type": "markdown",
   "metadata": {},
   "source": [
    "A long diagonal put spread (diagonal put bear spread) consists of buying a higher-strike put while selling a lower-strike put, at a debit"
   ]
  },
  {
   "cell_type": "markdown",
   "metadata": {},
   "source": [
    "This is consistent with referring to a spread that is executed as a debit as a long position."
   ]
  },
  {
   "cell_type": "markdown",
   "metadata": {},
   "source": [
    "In a long diagonal put spread, you typically buy an at-the-money or in-the-money near-term option and sell an out-of-the-money option."
   ]
  },
  {
   "cell_type": "markdown",
   "metadata": {},
   "source": [
    "The higher-strike put can be the near-term option or the longer-term option."
   ]
  },
  {
   "cell_type": "markdown",
   "metadata": {},
   "source": [
    "The maximum profit, maximum loss, and break-even point depend on the strike prices and expiration dates chosen. The maximum profit cannot be determined in advance because the value of a put at a future point in time, when the near-term call expires, is not known."
   ]
  },
  {
   "cell_type": "markdown",
   "metadata": {},
   "source": [
    "A short diagonal call spread (diagonal call bear spread) consists of selling a lower-strike call while selling a higher-strike call, at a credit. This is consistent with referring to a spread that is executed as a credit as a short position."
   ]
  },
  {
   "cell_type": "markdown",
   "metadata": {},
   "source": [
    "In a short diagonal call spread, you typically sell an at-the-money near-term option and buy an out-of-the-money option"
   ]
  },
  {
   "cell_type": "markdown",
   "metadata": {},
   "source": [
    "The lower-strike call can be the near-term option or the longer-term option."
   ]
  },
  {
   "cell_type": "markdown",
   "metadata": {},
   "source": [
    "The maximum profit, maximum loss, and break-even point depend on the strike prices and expiration dates chosen. The maximum profit cannot be determined in advance because the value of a call at a future point in time, when the near-term call expires, is not known."
   ]
  },
  {
   "cell_type": "markdown",
   "metadata": {},
   "source": [
    "A short diagonal put spread (diagonal put bull spread) consists of selling a higher-strike put, while buying a lower-strike put, at a credit. This is consistent with referring to a spread that is executed as a credit as a short position."
   ]
  },
  {
   "cell_type": "markdown",
   "metadata": {},
   "source": [
    "In a short diagonal put spread, you typically sell an at-the-money near-term option and buy an out-of-the-money option."
   ]
  },
  {
   "cell_type": "markdown",
   "metadata": {},
   "source": [
    "The higher-strike put can be the near-term option or the longer-term option."
   ]
  },
  {
   "cell_type": "markdown",
   "metadata": {},
   "source": [
    "The maximum profit, maximum loss, and break-even point depend on the strike prices and expiration dates chosen."
   ]
  },
  {
   "cell_type": "markdown",
   "metadata": {},
   "source": [
    "The maximum profit cannot be determined in advance because the value of a call at a future point in time, when the near-term call expires, is not known."
   ]
  },
  {
   "cell_type": "markdown",
   "metadata": {},
   "source": [
    "Some option software may refer to a double diagonal spread in addition to a diagonal spread. In such a case, a double diagonal spread may consist of a diagonal spread option in which there is a difference by at least two strike prices and two expiration dates, such as buy an XYZ February 100 call and sell an XYZ July 110 call."
   ]
  },
  {
   "cell_type": "markdown",
   "metadata": {},
   "source": [
    "A double diagonal spread can offer additional unique option strategies and help create your own option strategies to match your risk profile. There are many double diagonal possibilities from which to choose to meet your risk profile and view of the market."
   ]
  },
  {
   "cell_type": "markdown",
   "metadata": {},
   "source": [
    "A double diagonal spread can be executed where there is a one-to-one ratio of options sold versus purchased, or it can be ratioed (unbalanced) so that a different number of options are bought versus sold."
   ]
  },
  {
   "cell_type": "markdown",
   "metadata": {},
   "source": [
    "Similar to a calendar spread, a potentially attractive feature of a short diagonal spread is its flexibility to continue a new diagonal spread each month."
   ]
  },
  {
   "cell_type": "markdown",
   "metadata": {},
   "source": [
    "In a perfect scenario, the near-term option expires and leaves the longer-term option with effectively a reduced cost basis"
   ]
  },
  {
   "cell_type": "markdown",
   "metadata": {},
   "source": [
    "After expiration of the near-term option, the next month option (with the same or different strike price) can be sold to establish a new diagonal spread, and so on"
   ]
  },
  {
   "cell_type": "markdown",
   "metadata": {},
   "source": [
    "When the near-month option expires, you can continue to stay long the longer-term option and sell another near-term option, and the process can be repeated."
   ]
  },
  {
   "cell_type": "markdown",
   "metadata": {},
   "source": [
    "Establishing the longer-term option at least two months after the expiration of the near-term option allows at least one new diagonal spread to be established after the first expiration date."
   ]
  },
  {
   "cell_type": "markdown",
   "metadata": {},
   "source": [
    "Learning diagonal spread strategies can enable you to fine-tune how you approach the markets to meet your risk-reward profile and forecast because each strategy can offer unique risks, rewards, margin, time frames, probabilities of success, and volatility characteristics."
   ]
  },
  {
   "cell_type": "markdown",
   "metadata": {},
   "source": [
    "Do not forget that it is important to trade options on an underlying stock that you understand."
   ]
  },
  {
   "cell_type": "markdown",
   "metadata": {},
   "source": [
    "\n",
    "If your trading platform defines an option strategy in one way, you should gain an understanding of how that trading platform intends to execute the trade."
   ]
  },
  {
   "cell_type": "markdown",
   "metadata": {},
   "source": [
    "You can modify practically any spread strategy into a diagonal-type spread; for example, you can establish a diagonal spread by executing a vertical spread but utilize different expiration months, or establish an iron condor but utilize a combination of strike prices and different expiration months."
   ]
  },
  {
   "cell_type": "markdown",
   "metadata": {},
   "source": [
    "Keep in mind that a diagonal spread can be executed where there is a one-to-one ratio of options sold versus purchased, or it can be unbalanced, so that a different number of options are bought versus sold"
   ]
  }
 ],
 "metadata": {},
 "nbformat": 4,
 "nbformat_minor": 2
}
