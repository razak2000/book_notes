{
 "cells": [
  {
   "cell_type": "markdown",
   "metadata": {},
   "source": [
    "<font color='blue'>A covered call strategy consists of owning stock and selling at-the-money or out-of-the-money calls based on the shares owned."
   ]
  },
  {
   "cell_type": "markdown",
   "metadata": {},
   "source": [
    "<font color='blue'>Selling a covered call means you can benefit from time decay and/or volatility contraction while you wait for the next move in the stock."
   ]
  },
  {
   "cell_type": "markdown",
   "metadata": {},
   "source": [
    "A covered call is a strategy in which you own stock and then sell at-the-money or out-of-the-money calls in proportion to the shares owned."
   ]
  },
  {
   "cell_type": "markdown",
   "metadata": {},
   "source": [
    "<font color='blue'>A buy-write (also called a covered call write) strategy is a version of a covered-call strategy in which the stock purchase and option sale occur as part of the same transaction."
   ]
  },
  {
   "cell_type": "markdown",
   "metadata": {},
   "source": [
    "Your trading platform may include the <font color='blue'>ability to execute a buy-right order"
   ]
  },
  {
   "cell_type": "markdown",
   "metadata": {},
   "source": [
    "When you sell a covered call, <font color='blue'>you can potentially profit from three sources:\n",
    "1. <font color='blue'>A rise in the underlying stock,\n",
    "2. <font color='blue'>Dividends on the stock,\n",
    "3. <font color='blue'>Option premium"
   ]
  },
  {
   "cell_type": "markdown",
   "metadata": {},
   "source": [
    "An option position is typically considered covered, for this purpose, if there is a fully offsetting opposite market position such as the long stock."
   ]
  },
  {
   "cell_type": "markdown",
   "metadata": {},
   "source": [
    "<font color='blue'>Keep in mind that a disadvantage of a covered call or buy-write is the inability to earn interest on the proceeds used to purchase the stock. You are, however, entitled to receive dividends if you own the stock."
   ]
  },
  {
   "cell_type": "markdown",
   "metadata": {},
   "source": [
    "<font color='blue'>A covered option has unlimited risk (although the stock cannot go below zero)"
   ]
  },
  {
   "cell_type": "markdown",
   "metadata": {},
   "source": [
    "To exit an option position, you can offset it in a closing transaction, wait for assignment (if it is in-the-money), or let it expire worthless (if it is out-of-the-money at expiration)."
   ]
  },
  {
   "cell_type": "markdown",
   "metadata": {},
   "source": [
    " Because a covered call is supported (covered) dollar for dollar by the underlying shares, many brokerage firms permit a covered call to be written in an IRA."
   ]
  },
  {
   "cell_type": "markdown",
   "metadata": {},
   "source": [
    "If you are short a call and are assigned, you are forced to sell the underlying stock at the exercise price, but you already own the shares."
   ]
  },
  {
   "cell_type": "markdown",
   "metadata": {},
   "source": [
    "<font color='blue'>A covered call can be an effective strategy to automatically sell into strength. Equity options are American-style expirations."
   ]
  },
  {
   "cell_type": "markdown",
   "metadata": {},
   "source": [
    "<font color='blue'>An attraction of the covered-call strategy is that, ideally, calls can be sold every month, every couple of months, or every quarter so that you have an opportunity to collect additional premium."
   ]
  },
  {
   "cell_type": "markdown",
   "metadata": {},
   "source": [
    "If the call option expires worthless, you may want to consider selling another call expiring in the next month or quarter to earn additional premium."
   ]
  },
  {
   "cell_type": "markdown",
   "metadata": {},
   "source": [
    "If the original call option has not yet expired, you can roll the call option by offsetting it in the marketplace and selling a call option expiring in the subsequent month."
   ]
  },
  {
   "cell_type": "markdown",
   "metadata": {},
   "source": [
    "Keep in mind that a covered call as well as most options strategies can also be executed using LEAPS."
   ]
  },
  {
   "cell_type": "markdown",
   "metadata": {},
   "source": [
    "<font color='blue'>A covered put is the mirror image of the covered call."
   ]
  },
  {
   "cell_type": "markdown",
   "metadata": {},
   "source": [
    "<font color='blue'>A covered put is a strategy in which you are short stock and then sell at-the-money or out-of-the-money puts in proportion to the shares shorted"
   ]
  },
  {
   "cell_type": "markdown",
   "metadata": {},
   "source": [
    "Remember that an option position is considered covered if there is a fully offsetting opposite market position."
   ]
  },
  {
   "cell_type": "markdown",
   "metadata": {},
   "source": [
    "<font color='blue'>Selling a covered call can enable you to profit in a sideways market, take advantage of an anticipated decline in volatility, and share in some stock appreciation."
   ]
  },
  {
   "cell_type": "markdown",
   "metadata": {},
   "source": [
    "<font color='blue'>A covered call is primarily bullish but can profit in a neutral environment."
   ]
  },
  {
   "cell_type": "markdown",
   "metadata": {},
   "source": [
    "<font color='blue'>A covered call has limited profit potential and unlimited risk."
   ]
  },
  {
   "cell_type": "markdown",
   "metadata": {},
   "source": [
    "<font color='blue'>The maximum profit of a covered call, at expiration, is equal to the out-of-the-money amount plus the premium and occurs when the underlying stock is at or above the exercise price."
   ]
  },
  {
   "cell_type": "markdown",
   "metadata": {},
   "source": [
    "In this case, you profit from the option premium plus a rise in the underlying stock up to the strike price."
   ]
  },
  {
   "cell_type": "markdown",
   "metadata": {},
   "source": [
    "<font color='blue'>The maximum loss is unlimited because of the potential decline in the stock price."
   ]
  },
  {
   "cell_type": "markdown",
   "metadata": {},
   "source": [
    "<font color='blue'>The break-even point of the call itself occurs when the stock, at expiration, is at the strike price plus the credit."
   ]
  },
  {
   "cell_type": "markdown",
   "metadata": {},
   "source": [
    "The break-even point of the combined stock and call position is where the stock, at expiration, is at the original price of the stock minus the premium credit."
   ]
  },
  {
   "cell_type": "markdown",
   "metadata": {},
   "source": [
    "<font color='blue'>Time decay reduces the call value, benefiting the seller; an increase in volatility increases the call value; and a decrease in volatility reduces the call value."
   ]
  },
  {
   "cell_type": "markdown",
   "metadata": {},
   "source": [
    "A credit is reflected in your account for the premium, but a covered call is, in total, a debit transaction because of the purchase of the stock. A covered call may be permitted in an IRA."
   ]
  },
  {
   "cell_type": "markdown",
   "metadata": {},
   "source": [
    "<font color='blue'>The triple combination of stock appreciation, dividends, and premium income can make selling covered calls attractive."
   ]
  },
  {
   "cell_type": "markdown",
   "metadata": {},
   "source": [
    "The stock dividend can be added to the premium income in calculating your potential return."
   ]
  },
  {
   "cell_type": "markdown",
   "metadata": {},
   "source": [
    "<font color='blue'>If you already own stock, and volatility in the marketplace rises dramatically, you may want to consider selling a covered call because the option premium may be attractive and you can profit from a decline in volatility (theta)."
   ]
  },
  {
   "cell_type": "markdown",
   "metadata": {},
   "source": [
    " <font color='blue'>If implied volatility declines after the call is sold, assuming that all other factors remain constant, a call option will decrease in value."
   ]
  },
  {
   "cell_type": "markdown",
   "metadata": {},
   "source": [
    "<font color='blue'>Selling a covered call can be an effective way to automatically sell into strength and trim a portfolio as stocks rise"
   ]
  },
  {
   "cell_type": "markdown",
   "metadata": {},
   "source": [
    "The covered call is often described as popular, conservative, safe, simple, and a smart way to make money. However, referring to the typical covered call in this manner unfortunately can be misleading, especially when you realize that <font color='blue'>a covered call has approximately the same amount of risk as a naked put."
   ]
  },
  {
   "cell_type": "markdown",
   "metadata": {},
   "source": [
    "<font color='blue'>Selling an at-the-money covered call, in effect, is the equivalent position of selling a naked at-the-money put."
   ]
  },
  {
   "cell_type": "markdown",
   "metadata": {},
   "source": [
    "When you sell a naked put, you benefit if the stock rises but can lose substantially if the stock declines substantially."
   ]
  },
  {
   "cell_type": "markdown",
   "metadata": {},
   "source": [
    "<font color='blue'>In reality, call prices on stocks are typically higher in comparison to put prices when the call and put are at an equal distance from the price of the underlying stock."
   ]
  },
  {
   "cell_type": "markdown",
   "metadata": {},
   "source": [
    "As a result, a covered call and an out-of-the-money naked put should produce similar results but may not be exactly the same."
   ]
  },
  {
   "cell_type": "markdown",
   "metadata": {},
   "source": [
    "The strike price you choose is an important ingredient in determining the potential risk and reward."
   ]
  },
  {
   "cell_type": "markdown",
   "metadata": {},
   "source": [
    "<font color='blue'>Selling an out-of-the-money covered call means that you can benefit from time decay."
   ]
  },
  {
   "cell_type": "markdown",
   "metadata": {},
   "source": [
    "<font color='blue'>You should use your trading platform to determine the Greeks, including the probability of being assigned on the covered call position."
   ]
  },
  {
   "cell_type": "markdown",
   "metadata": {},
   "source": [
    "<font color='blue'>The further the call is out-of-the-money, the lower the premium, the lower the delta, and the lower the probability of assignment"
   ]
  },
  {
   "cell_type": "markdown",
   "metadata": {},
   "source": [
    "If you want to retain your stock, you should select a strike price that is far-out-of-the-money. If you are comfortable selling your stock near its current value, then you should consider selling an at-the-money option. Also, you also need to decide how far out in time the option will expire"
   ]
  },
  {
   "cell_type": "markdown",
   "metadata": {},
   "source": [
    " <font color='blue'>In general, the near-term (front) month is often used to take advantage of time decay, but a longer-term option can be used."
   ]
  },
  {
   "cell_type": "markdown",
   "metadata": {},
   "source": [
    " One of the advantages of using a longer-term option is that you collect greater premium and incur lower commission charges because you adjust the position less often."
   ]
  },
  {
   "cell_type": "markdown",
   "metadata": {},
   "source": [
    "<font color='blue'>The strike price and the time frame you choose should be determined based on your projection of the movement of the stock."
   ]
  },
  {
   "cell_type": "markdown",
   "metadata": {},
   "source": [
    "There are advantages and disadvantages to selling an at-the-money versus a slightly-out-of-the-money versus a far-out-of-the-money option in a covered call strategy."
   ]
  },
  {
   "cell_type": "markdown",
   "metadata": {},
   "source": [
    "<font color='blue'>If you sell an at-the-money option, you will collect relatively more premium, but you will have a higher probability of being assigned; if you sell a slightly-out-of-the-money call option, you may collect a reasonable amount of premium, but there will still be reasonable assignment risk; and if you sell a far-out-of-the-money option, you will collect the least amount of premium, but you will have the least probability of being assigned."
   ]
  },
  {
   "cell_type": "markdown",
   "metadata": {},
   "source": [
    "A covered-call strategy can be used every month, every couple of months, or every quarter so that you have an opportunity to collect additional premium."
   ]
  },
  {
   "cell_type": "markdown",
   "metadata": {},
   "source": [
    "<font color='blue'>When transitioning from the original option to the new call option, you can wait until the initial call option expires and then sell a new call option."
   ]
  },
  {
   "cell_type": "markdown",
   "metadata": {},
   "source": [
    "Alternatively, if the original call option is valued near zero and has not yet expired, you may want to roll the position by offsetting the option in the marketplace and establishing a call option in a subsequent month."
   ]
  },
  {
   "cell_type": "markdown",
   "metadata": {},
   "source": [
    "<font color='blue'>A covered call can be viewed as a way to buy stock and to finance it, in part, by the sale of calls."
   ]
  },
  {
   "cell_type": "markdown",
   "metadata": {},
   "source": [
    "Rolling can be part of your overall strategy to earn income on a monthly or quarterly basis;"
   ]
  },
  {
   "cell_type": "markdown",
   "metadata": {},
   "source": [
    "<font color='blue'>The problem with the covered call strategy is that it assumes an oversimplification regarding how the underlying stock moves on a daily, weekly, and monthly basis. Rarely do stocks move in a predictable fashion so that we can simply collect premium every month on an option."
   ]
  },
  {
   "cell_type": "markdown",
   "metadata": {},
   "source": [
    "<font color='blue'>If the stock surges above the strike price, you should, in general, not offset the option without also selling the stock because if the stock subsequently plunges, you may have a loss on the option and on the stock."
   ]
  },
  {
   "cell_type": "markdown",
   "metadata": {},
   "source": [
    "<font color='blue'>Likewise, if the stock initially plunges, you should not sell the stock without also offsetting the option because if the stock subsequently surges, you may have a loss on the option and on the stock."
   ]
  },
  {
   "cell_type": "markdown",
   "metadata": {},
   "source": [
    "The management of covered calls (and any option position, for that matter) at times is not always easy"
   ]
  },
  {
   "cell_type": "markdown",
   "metadata": {},
   "source": [
    "Some confusion may result because some strategies are more tailored toward protecting existing portfolios, whereas other strategies are designed to profit without regard to existing holdings."
   ]
  },
  {
   "cell_type": "markdown",
   "metadata": {},
   "source": [
    "<font color='blue'>An outstanding strategy for a portfolio manager or hedge fund, such as selling a covered call, may be a risky strategy for the average investor"
   ]
  },
  {
   "cell_type": "markdown",
   "metadata": {},
   "source": [
    "The portfolio manager may not be as concerned with a market decline because he may have cash sitting on the sidelines waiting to invest, and his primary concern may be to beat various benchmarks and the performance of other managers."
   ]
  },
  {
   "cell_type": "markdown",
   "metadata": {},
   "source": [
    "<font color='blue'>As an aside, portfolio managers have a tendency to sell covered calls against their existing positions and buy protective puts, thus driving down the price of calls and inflating the value of puts on broad-based indexes"
   ]
  },
  {
   "cell_type": "markdown",
   "metadata": {},
   "source": [
    "<font color='blue'>Conversely, the average investor is not operating under similar circumstances and is unlikely to have a broad-based portfolio of long-term stocks. As a result, the average investor selling a covered call may find himself with limited upside potential and a great deal of risk to the downside."
   ]
  },
  {
   "cell_type": "markdown",
   "metadata": {},
   "source": [
    "Remember that <font color='blue'>a covered put is the mirror image of a covered call."
   ]
  },
  {
   "cell_type": "markdown",
   "metadata": {},
   "source": [
    " A covered put is a strategy in which you are short stock and then sell at-the-money or out-of-the-money puts in proportion to the shares shorted."
   ]
  },
  {
   "cell_type": "markdown",
   "metadata": {},
   "source": [
    "<font color='blue'>Selling a covered put can enable you to profit in a sideways market, take advantage of an anticipated decline in volatility, and share in some stock decline."
   ]
  },
  {
   "cell_type": "markdown",
   "metadata": {},
   "source": [
    "<font color='blue'>A covered put is primarily bearish but can profit in a neutral environment"
   ]
  },
  {
   "cell_type": "markdown",
   "metadata": {},
   "source": [
    "<font color='blue'>Like a covered call, a covered put has limited profit potential and unlimited risk."
   ]
  },
  {
   "cell_type": "markdown",
   "metadata": {},
   "source": [
    "Very few advisers recommend the selling of naked put options because it is too risky, but many advisers recommend selling covered calls as a risk-reduction strategy. <font color='blue'>A flaw in the logic regarding covered calls is that most of the attention is focused on profiting from the decay of the call option, whereas in reality, it is the stock price that has a much greater effect on your overall gain or loss position."
   ]
  },
  {
   "cell_type": "markdown",
   "metadata": {},
   "source": [
    "<font color='blue'>You should therefore set appropriate stop losses to protect your overall investment."
   ]
  },
  {
   "cell_type": "markdown",
   "metadata": {},
   "source": [
    "The covered-call strategy is a popular strategy but seems to be overrated and misunderstood because it encourages individuals to take excessive risk, using the argument that such losses, should they occur, are intellectually appealing."
   ]
  },
  {
   "cell_type": "markdown",
   "metadata": {},
   "source": [
    "<font color='blue'>However, selling a covered call can be an effective strategy if you know what you are doing."
   ]
  },
  {
   "cell_type": "markdown",
   "metadata": {},
   "source": [
    "<font color='blue'>The best candidates for covered calls are not necessarily the options with the highest implied volatility. Instead, in many cases, an underlying instrument that is more predictable may be the better choice."
   ]
  },
  {
   "cell_type": "markdown",
   "metadata": {},
   "source": [
    "<font color='blue'>The covered-call strategy tends to be more appropriate for stocks that trade in a relatively narrow range"
   ]
  },
  {
   "cell_type": "markdown",
   "metadata": {},
   "source": [
    "<font color='blue'>Selling calls on dividend-paying stocks provides an opportunity to profit from the dividend, option premium, and stock appreciation. Dividend-yielding ETFs may provide an opportunity for covered call opportunities."
   ]
  },
  {
   "cell_type": "markdown",
   "metadata": {},
   "source": [
    "<font color='blue'>If you choose an underlying instrument that pays a high dividend, such as utilities, real estate investment trusts, selected bank stocks, and ETFs (e.g., high-yielding bond funds), you may be stacking the odds of success on your side"
   ]
  },
  {
   "cell_type": "markdown",
   "metadata": {},
   "source": [
    "Remember that a covered call can be executed with many combinations of strike prices and expiration months, and it can be unbalanced with a different number of options relative to the number of shares."
   ]
  },
  {
   "cell_type": "markdown",
   "metadata": {},
   "source": [
    "<font color='blue'>As an aside, if you purchase a deep-in-the-money call and sell a far-out-of-the-money call, you have created a position similar to a covered call position."
   ]
  }
 ],
 "metadata": {
  "kernelspec": {
   "display_name": "Python 3",
   "language": "python",
   "name": "python3"
  },
  "language_info": {
   "codemirror_mode": {
    "name": "ipython",
    "version": 3
   },
   "file_extension": ".py",
   "mimetype": "text/x-python",
   "name": "python",
   "nbconvert_exporter": "python",
   "pygments_lexer": "ipython3",
   "version": "3.6.7"
  }
 },
 "nbformat": 4,
 "nbformat_minor": 2
}
