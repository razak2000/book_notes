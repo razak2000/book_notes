{
 "cells": [
  {
   "cell_type": "markdown",
   "metadata": {},
   "source": [
    "This chapter examines a combination that is established by selling a call and selling a put, in which the underlying stock is owned (covered combination )."
   ]
  },
  {
   "cell_type": "markdown",
   "metadata": {},
   "source": [
    "A covered combination is a combination in which the underlying stock is owned."
   ]
  },
  {
   "cell_type": "markdown",
   "metadata": {},
   "source": [
    "The word covered simply means that the underlying stock is owned and does not mean, for the purposes of this chapter, that all losses are offset by an opposing position."
   ]
  },
  {
   "cell_type": "markdown",
   "metadata": {},
   "source": [
    "A covered short strangle can be executed when there is a one-to-one ratio of calls written versus puts written, or it can be ratioed (unbalanced) with a different number of calls versus puts."
   ]
  },
  {
   "cell_type": "markdown",
   "metadata": {},
   "source": [
    "A covered (short) strangle consists of a long stock, a short call, and a short put"
   ]
  },
  {
   "cell_type": "markdown",
   "metadata": {},
   "source": [
    "In such a covered combination, you receive two premiums: one for the written call and one for the written put."
   ]
  },
  {
   "cell_type": "markdown",
   "metadata": {},
   "source": [
    "On the upside, this strategy performs like a covered call (ignoring the put for a moment); on the downside, it performs like an uncovered put (ignoring the stock for a moment)."
   ]
  },
  {
   "cell_type": "markdown",
   "metadata": {},
   "source": [
    "As mentioned in Chapter 20, a long stock and short call is the synthetic equivalent of a short put. As a result, overall, this position is like shorting two puts."
   ]
  },
  {
   "cell_type": "markdown",
   "metadata": {},
   "source": [
    "In a covered short strangle, you are positioned to sell your stock if you are assigned on the short call, but you will add to your stock position if assigned on the short put."
   ]
  },
  {
   "cell_type": "markdown",
   "metadata": {},
   "source": [
    "You can use this strategy if you want to sell into strength but want to purchase additional shares if the stock price declines"
   ]
  },
  {
   "cell_type": "markdown",
   "metadata": {},
   "source": [
    "A covered short strangle can be viewed as a long stock and a short strangle if different exercise prices are used and as a long stock and a short straddle if the same exercise price is used."
   ]
  },
  {
   "cell_type": "markdown",
   "metadata": {},
   "source": [
    "A covered short strangle is a type of covered combination."
   ]
  },
  {
   "cell_type": "markdown",
   "metadata": {},
   "source": [
    "When you establish a covered short strangle, you can potentially profit from a rise in the underlying stock, the credit received, and any dividend on the stock."
   ]
  },
  {
   "cell_type": "markdown",
   "metadata": {},
   "source": [
    "If the stock closes above the call strike price at expiration, you would be assigned on the call, and the long put would expire out-of-the-money."
   ]
  },
  {
   "cell_type": "markdown",
   "metadata": {},
   "source": [
    "You would be obligated to sell the 100 shares at the call strike price if assigned, but you already own the stock to cover it."
   ]
  },
  {
   "cell_type": "markdown",
   "metadata": {},
   "source": [
    "The strategy is called “covered,” but it is not covered in the conventional sense if the underlying stock declines in value."
   ]
  },
  {
   "cell_type": "markdown",
   "metadata": {},
   "source": [
    "Although the long stock protects against a loss from the short call, it does not protect against a loss from the short put and, instead, results in an additional loss if the stock price declines."
   ]
  },
  {
   "cell_type": "markdown",
   "metadata": {},
   "source": [
    "If the stock closes below the short put strike price at expiration, the put would expire in-the-money, the short call would expire out-of-the-money, and the stock would show a loss. In this case, you can expect assignment on the put and an obligation to purchase additional shares at the put strike price."
   ]
  },
  {
   "cell_type": "markdown",
   "metadata": {},
   "source": [
    "If the stock is between the strike prices of the call and put at expiration, both options expire out-of-the-money, resulting in a profit from the options to the extent of the credit."
   ]
  },
  {
   "cell_type": "markdown",
   "metadata": {},
   "source": [
    "Remember, however, that the gain or loss from the stock would also need to be taken into account"
   ]
  },
  {
   "cell_type": "markdown",
   "metadata": {},
   "source": [
    "A covered short strangle can be an effective way to automatically sell into strength and add to your position at a lower price"
   ]
  },
  {
   "cell_type": "markdown",
   "metadata": {},
   "source": [
    "Likewise, a covered short strangle can be an effective way to add automatically more shares at a lower price."
   ]
  },
  {
   "cell_type": "markdown",
   "metadata": {},
   "source": [
    "A covered short strangle is profitable if the stock rises or trades within a range and is designed to sell into strength if the stock price rises or add to the stock position if a stock decline occurs."
   ]
  },
  {
   "cell_type": "markdown",
   "metadata": {},
   "source": [
    "Establishing a covered short strangle can be structured to vary the levels of probability, depending on the strike prices selected."
   ]
  },
  {
   "cell_type": "markdown",
   "metadata": {},
   "source": [
    "A disadvantage of a covered short strangle is the inability to earn interest on the proceeds used to purchase the stock. You are, however, entitled to receive dividends on the stock."
   ]
  },
  {
   "cell_type": "markdown",
   "metadata": {},
   "source": [
    "Many trading platforms may not permit you to enter and exit a covered combination as one order and may require you to enter the orders separately."
   ]
  },
  {
   "cell_type": "markdown",
   "metadata": {},
   "source": [
    "If you cannot enter a covered strangle as one order, you may be permitted to buy the stock and enter a separate strangle (or straddle) order"
   ]
  },
  {
   "cell_type": "markdown",
   "metadata": {},
   "source": [
    "An option position is typically considered covered if there is a fully offsetting opposite market position; for example, a short call is considered covered if you are also long a call at the same or lower strike price on the same stock"
   ]
  },
  {
   "cell_type": "markdown",
   "metadata": {},
   "source": [
    "However, the word “covered” is also used to indicate whether the underlying stock is owned; for example, a short call is considered covered if you also long the stock (covered-call strategy)."
   ]
  },
  {
   "cell_type": "markdown",
   "metadata": {},
   "source": [
    "An option strategy in which stock is owned can be called “covered” and an option strategy where stock is not owned can be called “uncovered.”"
   ]
  },
  {
   "cell_type": "markdown",
   "metadata": {},
   "source": [
    "Any type of option sale can be covered (long or short stock) or uncovered (no underlying stock)"
   ]
  },
  {
   "cell_type": "markdown",
   "metadata": {},
   "source": [
    "Practically any strategy can be modified to add a long or short stock position."
   ]
  },
  {
   "cell_type": "markdown",
   "metadata": {},
   "source": [
    "A covered combination can include a covered strangle or a covered straddle."
   ]
  },
  {
   "cell_type": "markdown",
   "metadata": {},
   "source": [
    "A long strangle consists of a long call and a long put with different strike prices and the same expiration date;"
   ]
  },
  {
   "cell_type": "markdown",
   "metadata": {},
   "source": [
    "A short strangle consists of a short call and a put with different strike prices and the same expiration date"
   ]
  },
  {
   "cell_type": "markdown",
   "metadata": {},
   "source": [
    "A covered short strangle is a short strangle while the stock is owned."
   ]
  },
  {
   "cell_type": "markdown",
   "metadata": {},
   "source": [
    "A covered strangle is similar to a covered straddle, except a straddle uses the same strike price."
   ]
  },
  {
   "cell_type": "markdown",
   "metadata": {},
   "source": [
    "A long straddle consists of a long call and a long put with the same strike price and expiration date and is used to profit from volatility"
   ]
  },
  {
   "cell_type": "markdown",
   "metadata": {},
   "source": [
    "A short straddle consists of a short call and a put with the same strike price and expiration date and is used to profit from a trading range or volatility contraction"
   ]
  },
  {
   "cell_type": "markdown",
   "metadata": {},
   "source": [
    "A covered straddle is a short straddle while the stock is owned."
   ]
  },
  {
   "cell_type": "markdown",
   "metadata": {},
   "source": [
    "A covered short strangle consists of a long stock, a short call, and a short put. In such a strategy, you receive two premiums: one for the written call and one for the written put."
   ]
  },
  {
   "cell_type": "markdown",
   "metadata": {},
   "source": [
    "Overall, this position is like shorting two puts."
   ]
  },
  {
   "cell_type": "markdown",
   "metadata": {},
   "source": [
    "A covered short strangle is bullish, has limited profit potential based on the call strike price, and is worth its maximum value, at expiration, if the underlying stock is at or above the call exercise price."
   ]
  },
  {
   "cell_type": "markdown",
   "metadata": {},
   "source": [
    "A covered short strangle has unlimited risk because it consists of a long stock and a short put."
   ]
  },
  {
   "cell_type": "markdown",
   "metadata": {},
   "source": [
    "If the stock is between the strike prices of the call and put at expiration, both options expire out-of-the-money, resulting in a profit from the options to the extent of the credit."
   ]
  },
  {
   "cell_type": "markdown",
   "metadata": {},
   "source": [
    "The break-even point, at expiration, is equal to the original stock price minus the credit."
   ]
  },
  {
   "cell_type": "markdown",
   "metadata": {},
   "source": [
    "Time decay reduces call and put values. Prior to expiration, an increase in volatility increases call and put values, and a decrease in volatility reduces call and put values. A net credit is reflected in your account for the options."
   ]
  },
  {
   "cell_type": "markdown",
   "metadata": {},
   "source": [
    "There is no margin requirement for the call because it is covered by the stock, but there is a margin requirement for the short put (and stock).\n",
    "Although margin is not permitted in an IRA, some brokerage firms may allow a short put because the risk is mathematically limited to the difference between the put strike price and zero."
   ]
  },
  {
   "cell_type": "markdown",
   "metadata": {},
   "source": [
    "If the stock price is between the strike prices at expiration, you can write another covered short strangle to collect additional premium."
   ]
  },
  {
   "cell_type": "markdown",
   "metadata": {},
   "source": [
    "A covered short strangle can be unbalanced so that the number of options bought differs from the number of options sold"
   ]
  },
  {
   "cell_type": "markdown",
   "metadata": {},
   "source": [
    "Also, a covered short strangle can have different expiration dates"
   ]
  },
  {
   "cell_type": "markdown",
   "metadata": {},
   "source": [
    "When transitioning to the new covered short strangle, you can wait until the initial covered short strangle expires and then enter into the new covered short strangle"
   ]
  },
  {
   "cell_type": "markdown",
   "metadata": {},
   "source": [
    "Alternatively, if the initial covered short strangle is near zero but has not yet expired, you may want to offset the options in the marketplace and simultaneously roll to a new covered short strangle"
   ]
  },
  {
   "cell_type": "markdown",
   "metadata": {},
   "source": [
    "If you roll, you can select different strike prices, based on the current level of the stock as well as on your view of the market and prospects for the stock"
   ]
  },
  {
   "cell_type": "markdown",
   "metadata": {},
   "source": [
    "A covered combination can be executed in reverse (buy call and buy put) against a short stock position"
   ]
  },
  {
   "cell_type": "markdown",
   "metadata": {},
   "source": [
    "An attraction of the covered strangle strategy is collecting double premium."
   ]
  },
  {
   "cell_type": "markdown",
   "metadata": {},
   "source": [
    "A covered short strangle can be an effective way to automatically sell into strength and/or add to your position at a lower price."
   ]
  },
  {
   "cell_type": "markdown",
   "metadata": {},
   "source": [
    "If the stock rises, you will have a profit from the underlying shares and double premium. If the stock declines, you can purchase the shares at the put strike price and benefit from double premium."
   ]
  },
  {
   "cell_type": "markdown",
   "metadata": {},
   "source": [
    "\n"
   ]
  }
 ],
 "metadata": {},
 "nbformat": 4,
 "nbformat_minor": 2
}
