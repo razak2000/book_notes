{
 "cells": [
  {
   "cell_type": "markdown",
   "metadata": {},
   "source": [
    "# Preface"
   ]
  },
  {
   "cell_type": "markdown",
   "metadata": {},
   "source": [
    "This book is an outgrowth of diverse activities of myself and colleagues of mine in the fields of financial engineering, computational finance and Python programming at our company The Python Quants GmbH on the one hand and of teaching mathematical finance at Saarland University on the other hand."
   ]
  },
  {
   "cell_type": "markdown",
   "metadata": {},
   "source": [
    "If you are interested in getting the Python scripts and IPython Notebooks accompanying the book, you should visit http://wiley.quant-platform.com where you can register for the Quant Platform which allows browser-based, interactive and collaborative financial analytics. "
   ]
  },
  {
   "cell_type": "markdown",
   "metadata": {},
   "source": [
    "Further resources are found on the website http://derivatives-analytics-with-python.com. "
   ]
  },
  {
   "cell_type": "markdown",
   "metadata": {},
   "source": [
    "You should also check out the open source library DX Analytics under http://dx-analytics.com which implements the concepts and methods presented in the book in standardized, reusable fashion."
   ]
  },
  {
   "cell_type": "markdown",
   "metadata": {},
   "source": [
    "# Chapter 1"
   ]
  },
  {
   "cell_type": "markdown",
   "metadata": {},
   "source": [
    "This book is about the<font color = 'blue'> market-based valuation of (stock) index options. "
   ]
  },
  {
   "cell_type": "markdown",
   "metadata": {},
   "source": [
    "While theoretical valuation approaches develop a model, parametrize it and then derive values for options, the market-based approach works the other way round."
   ]
  },
  {
   "cell_type": "markdown",
   "metadata": {},
   "source": [
    "Prices from liquidly traded options are taken as given (i.e. they are inputs instead of outputs) and one tries to parametrize a market model in a way that replicates the observed option prices as well as possible. This activity is generally referred to as <font color = 'blue'>model calibration. "
   ]
  },
  {
   "cell_type": "markdown",
   "metadata": {},
   "source": [
    "Being equipped with a calibrated model, one then proceeds with the task at hand, be it valuation, trading, investing, hedging or risk management."
   ]
  },
  {
   "cell_type": "markdown",
   "metadata": {},
   "source": [
    "One of the easiest ways to get started with Python is to register on the Quant Platform which allows for browser-based, interactive and collaborative financial analytics and development (cf. http://quant-platform.com). "
   ]
  },
  {
   "cell_type": "markdown",
   "metadata": {},
   "source": [
    "This platform offers all you need to do efficient and productive financial analytics as well as financial application building with Python."
   ]
  },
  {
   "cell_type": "markdown",
   "metadata": {},
   "source": [
    "a number of good sources in book form are available which may be consulted on the different topics:\n",
    "*  Bittmann (2009) to learn about options fundamentals, the main microstructure elements of their markets and the specific lingo; \n",
    "* Gatheral (2006) is a concise reference about option and volatility modeling in practice\n",
    "* Rebonato (2004) is a book that comprehensively covers option markets, their empirical specialities and the models used in theory and practice\n",
    "\n",
    "\n",
    "* Pliska (1997) is a comprehensive source for discrete market models\n",
    "* the book by Delbaen and Schachermayer (2004) covers the general arbitrage theory in continuous time and is quite advanced\n",
    "* less advanced, but still comprehensive, treatments of arbitrage pricing are Björk (2004) for continuous processes based on Brownian motion\n",
    "* Cont and Tankov (2004a) for continuous processes with jumps\n",
    "* Wilmott et al. (1995) offers a detailed discussion of the seminal Black-Scholes-Merton model\n",
    "\n",
    "* Cherubini et al. (2009) is a book-length treatment of the Fourier-based option pricing approach\n",
    "* Glasserman (2004) is the standard textbook on Monte Carlo simulation in financial applications\n",
    "* Brandimarte (2006) covers a wide range of numerical techniques regularly applied in mathematical finance and offers implementation examples in Matlab\n",
    "\n",
    "* Python for Finance; that book covers the main tools and libraries needed for this book, like IPython, NumPy, matplotlib, PyTables and pandas, in a detailed fashion and with a wealth of concrete financial examples\n",
    "* the excellent book by McKinney (2012) about data analysis with Python should also be consulted\n",
    "* good general introductions to Python from a scientific perspective are Haenel et al. (2013) and Langtangen (2009)\n",
    "* Fletcher and Gardener (2009) provides an introduction to the language also from a financial perspective, but mainly from the angle of modeling, capturing and processing financial trades\n",
    "* London (2005) is a larger book that covers a great variety of financial models and topics and shows how to implement them in C++; in addition, there is a wealth of Python documentation available for free on the Internet.\n"
   ]
  }
 ],
 "metadata": {
  "kernelspec": {
   "display_name": "Python 3",
   "language": "python",
   "name": "python3"
  },
  "language_info": {
   "codemirror_mode": {
    "name": "ipython",
    "version": 3
   },
   "file_extension": ".py",
   "mimetype": "text/x-python",
   "name": "python",
   "nbconvert_exporter": "python",
   "pygments_lexer": "ipython3",
   "version": "3.6.7"
  }
 },
 "nbformat": 4,
 "nbformat_minor": 2
}
