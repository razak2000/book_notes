{
 "cells": [
  {
   "cell_type": "markdown",
   "metadata": {},
   "source": [
    "Some options are settled in actual stocks; most options, like those on an index, are settled in cash."
   ]
  },
  {
   "cell_type": "markdown",
   "metadata": {},
   "source": [
    "the so-called inner value (or intrinsic value or payoff)—from the holder’s viewpoint—of the option is $h_T(S,K) = \\max[S_T - K, 0]$"
   ]
  },
  {
   "cell_type": "markdown",
   "metadata": {},
   "source": [
    "in-the-money (ITM): a call (put) is in-the-money if S > K (S < K)"
   ]
  },
  {
   "cell_type": "markdown",
   "metadata": {},
   "source": [
    "at-the-money (ATM): an option, call or put, is at-the-money if S ≈ K"
   ]
  },
  {
   "cell_type": "markdown",
   "metadata": {},
   "source": [
    "out-of-the-money (OTM): a call (put) is out-of-the-money if S < K (S > K)"
   ]
  },
  {
   "cell_type": "markdown",
   "metadata": {},
   "source": [
    "volatility of the index: put simply, (annualized) volatility is a measure for the randomness of the index’s returns over a year"
   ]
  },
  {
   "cell_type": "markdown",
   "metadata": {},
   "source": [
    "The present value of the option is always above the (undiscounted) inner value. The difference between the two is generally referred to as the time value of the option."
   ]
  },
  {
   "cell_type": "markdown",
   "metadata": {},
   "source": [
    "In this sense, the option’s present value is composed of the inner value plus the time value. "
   ]
  },
  {
   "cell_type": "markdown",
   "metadata": {},
   "source": [
    "Financial markets distinguish between plain vanilla or flow equity derivatives, like European call options written on an equity index, and exotic equity derivatives, like options on an equity index with Asian features, barriers and/or American exercise."
   ]
  },
  {
   "cell_type": "markdown",
   "metadata": {},
   "source": [
    "In general, there exist liquid markets for plain vanilla products but not for exotic ones."
   ]
  },
  {
   "cell_type": "markdown",
   "metadata": {},
   "source": [
    "In contrast, exotic derivatives are often tailored by financial institutions to specific client needs and are not traded at all (or “only once” if you like)"
   ]
  },
  {
   "cell_type": "markdown",
   "metadata": {},
   "source": [
    "In relation to exotic equity derivatives, sellers and buyers must often resort to numerical methods, like Monte Carlo simulation, to come up with fair values and appropriate hedging strategies."
   ]
  },
  {
   "cell_type": "markdown",
   "metadata": {},
   "source": [
    "The market is represented by liquidly traded vanilla instruments (for example, European or American call options) on the underlying in question. "
   ]
  },
  {
   "cell_type": "markdown",
   "metadata": {},
   "source": [
    "If I want to value a non-traded equity derivative in a market-based manner then I should include in this process the information available from the relevant vanilla options market. "
   ]
  },
  {
   "cell_type": "markdown",
   "metadata": {},
   "source": [
    "More formally, whatever model I use for the valuation and hedging of exotic equity derivatives, a minimum requirement is that the model reproduce the values of liquidly traded instruments sufficiently well."
   ]
  },
  {
   "cell_type": "markdown",
   "metadata": {},
   "source": [
    "To come up with fair values for equity derivatives and sound hedging strategies, one has to consider first which market risks influence their values."
   ]
  },
  {
   "cell_type": "markdown",
   "metadata": {},
   "source": [
    "price risk: this relates to uncertain changes in the underlying’s price, like index or stock price movements"
   ]
  },
  {
   "cell_type": "markdown",
   "metadata": {},
   "source": [
    "volatility risk: volatility refers to the standard deviation of the underlying’s returns; however, volatility itself fluctuates over time, i.e. volatility is not constant but rather stochastic"
   ]
  },
  {
   "cell_type": "markdown",
   "metadata": {},
   "source": [
    "jump or crash risk: the stock market crashes of 1987, 1998, 2001 and 2008 as well as implied volatilities of stock index options (see the next chapter) indicate that there is a significantly positive probability for large market drops; such discontinuities may break down, for example, otherwise sound dynamic hedging strategies"
   ]
  },
  {
   "cell_type": "markdown",
   "metadata": {},
   "source": [
    "interest rate risk: although equity derivatives generally do not rely on interest rates or bonds directly their value is indirectly influenced by interest rates via risk-neutral discounting with the short rate"
   ]
  },
  {
   "cell_type": "markdown",
   "metadata": {},
   "source": [
    "correlation risk: simply spoken, correlation measures the co-movement of two or more assets/quantities; correlation may change over time and become close to 1, i.e. perfect, among asset classes during times of stress"
   ]
  },
  {
   "cell_type": "markdown",
   "metadata": {},
   "source": [
    "liquidity risk: dynamic and static hedging strategies depend on market liquidity; for example, if certain options are not liquidly traded a desired hedge may not be executable"
   ]
  },
  {
   "cell_type": "markdown",
   "metadata": {},
   "source": [
    "default risk: in case of the default of a company represented in the underlying assets, stocks and/or bonds of this company depreciate in value (often to zero)"
   ]
  },
  {
   "cell_type": "markdown",
   "metadata": {},
   "source": [
    "the focus of this book is mainly on stock index derivatives where liquidity risk seldom is a problem—index futures, for example, are among the most liquid instruments"
   ]
  },
  {
   "cell_type": "markdown",
   "metadata": {},
   "source": [
    "Default risk does not play a significant role since the discussion mainly focuses on benchmark indices where the possibility of default of a single company is generally negligible."
   ]
  },
  {
   "cell_type": "markdown",
   "metadata": {},
   "source": [
    "In addition to market risks, there are other sources of risk like, for instance, models and operations."
   ]
  },
  {
   "cell_type": "markdown",
   "metadata": {},
   "source": [
    "Model risk refers to the risk that valuation and risk management finally rely on the specific model used."
   ]
  },
  {
   "cell_type": "markdown",
   "metadata": {},
   "source": [
    "Operational risk refers to all aspects of implementing valuation and risk management processes as well as risks related to IT systems used."
   ]
  },
  {
   "cell_type": "markdown",
   "metadata": {},
   "source": [
    "Hedging describes the activity of minimizing or even eliminating risks resulting from option positions."
   ]
  },
  {
   "cell_type": "markdown",
   "metadata": {},
   "source": [
    "In general, option writers do exactly this since as market participants they are not speculators but rather want to earn a steady income from their activities."
   ]
  },
  {
   "cell_type": "markdown",
   "metadata": {},
   "source": [
    "A hedge program can be either dynamic or static or a combination of both."
   ]
  },
  {
   "cell_type": "markdown",
   "metadata": {},
   "source": [
    "A static hedge program—in general with positions in other options—would be set up at issuance and hold constant until maturity."
   ]
  },
  {
   "cell_type": "markdown",
   "metadata": {},
   "source": [
    "More sophisticated hedge strategies generally combine both elements."
   ]
  },
  {
   "cell_type": "markdown",
   "metadata": {},
   "source": [
    "In general, there is neither a unique objective nor a unique set of principles for setting up hedge programs"
   ]
  },
  {
   "cell_type": "markdown",
   "metadata": {},
   "source": [
    "The approach is that of arbitrage or risk-neutral pricing/hedging as comprehensively explained in Björk (2004) for models with continuous price processes and in Cont and Tankov (2004a) for models where price processes may jump."
   ]
  },
  {
   "cell_type": "markdown",
   "metadata": {},
   "source": [
    "In theory, dynamic hedging requires continuous rebalancings but practice only allows discrete rebalancings due to transaction costs and other market microstructure elements. "
   ]
  },
  {
   "cell_type": "markdown",
   "metadata": {},
   "source": [
    "This leads to a sequence of hedge errors which might add up over time or which may cancel each other out to some extent. "
   ]
  },
  {
   "cell_type": "markdown",
   "metadata": {},
   "source": [
    " If jumps of the underlying are possible, for example, markets become incomplete in the sense that risks cannot be hedged away since an infinite number of hedge instruments would be necessary to do so."
   ]
  },
  {
   "cell_type": "markdown",
   "metadata": {},
   "source": [
    "One must rather resort to a risk minimization program where an (expected) hedge error, for example, is minimized."
   ]
  },
  {
   "cell_type": "markdown",
   "metadata": {},
   "source": [
    "Another possibility would be to super-replicate the derivative—a strategy that can be rather costly.\n",
    "\n"
   ]
  },
  {
   "cell_type": "markdown",
   "metadata": {},
   "source": [
    "This book mainly takes the perspective of a corporate or financial institution investing or trading in—possibly exotic—equity derivatives."
   ]
  },
  {
   "cell_type": "markdown",
   "metadata": {},
   "source": [
    "market model: the institution should apply a theoretical market model which is capable of providing a realistic framework for valuation and hedging purposes in the specific underlying and option market"
   ]
  },
  {
   "cell_type": "markdown",
   "metadata": {},
   "source": [
    "model calibration: a minimum requirement the market model must fulfill is that it reproduce prices of actively traded vanilla instruments reasonably well; to this end, the model parameters have to be calibrated to market data"
   ]
  }
 ],
 "metadata": {
  "kernelspec": {
   "display_name": "Python 3",
   "language": "python",
   "name": "python3"
  },
  "language_info": {
   "codemirror_mode": {
    "name": "ipython",
    "version": 3
   },
   "file_extension": ".py",
   "mimetype": "text/x-python",
   "name": "python",
   "nbconvert_exporter": "python",
   "pygments_lexer": "ipython3",
   "version": "3.6.7"
  }
 },
 "nbformat": 4,
 "nbformat_minor": 2
}
