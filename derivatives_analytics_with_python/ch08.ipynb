{
 "cells": [
  {
   "cell_type": "markdown",
   "metadata": {},
   "source": [
    "We consider the jump-diffusion model $\\mathcal{M}^{M76}$ of Merton (cf. Merton (1976), M76) as already sketched out in section 6.6"
   ]
  },
  {
   "cell_type": "markdown",
   "metadata": {},
   "source": [
    "The time horizon T is fixed, $0 < T < \\infty$. "
   ]
  },
  {
   "cell_type": "markdown",
   "metadata": {},
   "source": [
    "In this continuous market model, the index level has risk-neutral dynamics of the form \n",
    "$$ dS_t = (r - r_J) S_t dt + \\sigma S_t dZ_t + J_t S_t dN_t$$\n",
    "$r_J \\equiv \\lambda.(e^{\\mu_J + \\delta^2/2 - 1})$ drift correction for jump,<br>$Z_t$ standard Brownian motion <br> $J_t$ jump at date $t$ \n",
    "<br>$N_t$ Poisson process with intensity $\\lambda$"
   ]
  },
  {
   "cell_type": "markdown",
   "metadata": {},
   "source": [
    "It suffices to understand that these dynamics model a process with “generally” continuous paths which can jump at certain unforeseeable dates"
   ]
  },
  {
   "cell_type": "markdown",
   "metadata": {},
   "source": [
    "# 8.3"
   ]
  },
  {
   "cell_type": "markdown",
   "metadata": {},
   "source": [
    "Applying Fourier techniques, one can value European call options in this model in semi-analytic form—a prerequisite for which is knowledge of the characteristic function for the stock price dynamics (8.1) in log terms. "
   ]
  },
  {
   "cell_type": "markdown",
   "metadata": {},
   "source": [
    "This is a well-known function of the form\n",
    "$$ \\varphi^{M76}_0 (u, T) = \\exp{\\left(\\left(iuw  - \\frac{u^2\\sigma^2}{2} + \\lambda(e^{iu\\mu_J - u^2\\delta^2/2}  - 1)T\\right)\\right)}$$\n",
    "where the risk-neutral drift term ω takes on the form $\\omega = r - \\frac{\\sigma^2}{2} -\\lambda(e^{\\mu_J + u^2\\delta^2/2}  - 1) $ \n",
    "<br>This function may be found, for instance, in Gatheral (2006), pp. 57–58, where one has to include the non-zero short rate."
   ]
  },
  {
   "cell_type": "markdown",
   "metadata": {},
   "source": [
    "Sub-section 8.7.1 contains a Python script implementing the following valuation formula, which is due to Lewis (cf. Lewis (2001)), for the M76 setup and evaluating it via numerical integration.\n",
    "numbered <font color='blue'>Display Equation"
   ]
  },
  {
   "cell_type": "markdown",
   "metadata": {},
   "source": [
    "The value of a European call option on the index with strike K and maturity T is according to the Fourier-based approach of Carr-Madan (cf. Carr and Madan (1999)) given by\n",
    "numbered <font color='blue'>Display Equation\n",
    "with k = log K."
   ]
  },
  {
   "cell_type": "markdown",
   "metadata": {},
   "source": [
    "This integral has a form that allows the application of FFT. Sub-section 8.7.2 provides a Python script that implements FFT for the M76 model. For both approaches refer to section 6.4 for further details and derivations."
   ]
  },
  {
   "cell_type": "markdown",
   "metadata": {},
   "source": [
    "# 8.4"
   ]
  },
  {
   "cell_type": "markdown",
   "metadata": {},
   "source": [
    "problem of calibration is to find parameters for the M76 model such that observed market quotes of liquidly traded plain vanilla options are replicated as closely as possible. "
   ]
  },
  {
   "cell_type": "markdown",
   "metadata": {},
   "source": [
    "To this end, one defines an error function that is to be minimized. Such a function could be the Root Mean Squared Error (RMSE)."
   ]
  },
  {
   "cell_type": "markdown",
   "metadata": {},
   "source": [
    "The task is then to solve the problem\n",
    "<font color='blue'>Display Equation </font>\n",
    "with the C*n being the market or input prices and the CM76n being the model or output prices for the options n = 1, …, N."
   ]
  },
  {
   "cell_type": "markdown",
   "metadata": {},
   "source": [
    "The idea is first to roughly scan the error surface and then to dig deeper locally where it seems most promising. These two steps may be necessary since it cannot be excluded that there are multiple local minima in which a local minimization algorithm could be trapped."
   ]
  },
  {
   "cell_type": "markdown",
   "metadata": {},
   "source": [
    "Figure 8.1 shows the result of a minimization run. It is obvious that the M76 model is not capable of perfectly replicating observed market quotes. The degrees of freedom are not sufficient to simultaneously accommodate both the different maturities and the different strike levels. This is a first hint at the fact that a realistic financial market model must be richer than M76"
   ]
  },
  {
   "cell_type": "markdown",
   "metadata": {},
   "source": [
    "However, inspection of Figure 8.2 reveals that calibration of M76 to a small subset of the market quotes—i.e. to the market quotes for the shortest maturity options only—yields pretty good results."
   ]
  },
  {
   "cell_type": "markdown",
   "metadata": {},
   "source": [
    "In fact, the role of the jump feature of the general market model will be to better replicate observed short-term option prices around the at-the-money strike level (while stochastic volatility is needed for longer maturities). "
   ]
  },
  {
   "cell_type": "markdown",
   "metadata": {},
   "source": [
    "To value a European call option with strike price K by MCS consider the simple discretization of the continuous time dynamics (8.1)\n",
    "numbered <font color='blue'>Display Equation (8.5)</font>\n",
    "with the znt being standard normally distributed and the yt being Poisson distributed with intensity λ."
   ]
  },
  {
   "cell_type": "markdown",
   "metadata": {},
   "source": [
    "An alternative discretization with generally better convergence properties is based on the log dynamics and takes the form\n",
    "<font color='blue'>Display Equation (8.6)</font>"
   ]
  },
  {
   "cell_type": "markdown",
   "metadata": {},
   "source": [
    "To arrive at a value estimate for a European call option use Algorithm 3."
   ]
  },
  {
   "cell_type": "markdown",
   "metadata": {},
   "source": []
  },
  {
   "cell_type": "markdown",
   "metadata": {},
   "source": []
  },
  {
   "cell_type": "markdown",
   "metadata": {},
   "source": []
  },
  {
   "cell_type": "markdown",
   "metadata": {},
   "source": []
  },
  {
   "cell_type": "markdown",
   "metadata": {},
   "source": []
  },
  {
   "cell_type": "markdown",
   "metadata": {},
   "source": []
  },
  {
   "cell_type": "markdown",
   "metadata": {},
   "source": []
  },
  {
   "cell_type": "markdown",
   "metadata": {},
   "source": []
  },
  {
   "cell_type": "markdown",
   "metadata": {},
   "source": []
  },
  {
   "cell_type": "markdown",
   "metadata": {},
   "source": []
  },
  {
   "cell_type": "markdown",
   "metadata": {},
   "source": []
  },
  {
   "cell_type": "markdown",
   "metadata": {},
   "source": []
  },
  {
   "cell_type": "markdown",
   "metadata": {},
   "source": []
  },
  {
   "cell_type": "markdown",
   "metadata": {},
   "source": []
  },
  {
   "cell_type": "markdown",
   "metadata": {},
   "source": []
  },
  {
   "cell_type": "markdown",
   "metadata": {},
   "source": []
  },
  {
   "cell_type": "markdown",
   "metadata": {},
   "source": []
  },
  {
   "cell_type": "markdown",
   "metadata": {},
   "source": []
  },
  {
   "cell_type": "markdown",
   "metadata": {},
   "source": []
  },
  {
   "cell_type": "markdown",
   "metadata": {},
   "source": []
  },
  {
   "cell_type": "markdown",
   "metadata": {},
   "source": []
  },
  {
   "cell_type": "markdown",
   "metadata": {},
   "source": []
  },
  {
   "cell_type": "markdown",
   "metadata": {},
   "source": []
  },
  {
   "cell_type": "markdown",
   "metadata": {},
   "source": []
  },
  {
   "cell_type": "markdown",
   "metadata": {},
   "source": []
  },
  {
   "cell_type": "markdown",
   "metadata": {},
   "source": []
  },
  {
   "cell_type": "markdown",
   "metadata": {},
   "source": []
  },
  {
   "cell_type": "markdown",
   "metadata": {},
   "source": []
  },
  {
   "cell_type": "markdown",
   "metadata": {},
   "source": []
  },
  {
   "cell_type": "markdown",
   "metadata": {},
   "source": []
  },
  {
   "cell_type": "markdown",
   "metadata": {},
   "source": []
  },
  {
   "cell_type": "markdown",
   "metadata": {},
   "source": []
  },
  {
   "cell_type": "markdown",
   "metadata": {},
   "source": []
  },
  {
   "cell_type": "markdown",
   "metadata": {},
   "source": []
  },
  {
   "cell_type": "markdown",
   "metadata": {},
   "source": []
  },
  {
   "cell_type": "markdown",
   "metadata": {},
   "source": []
  },
  {
   "cell_type": "markdown",
   "metadata": {},
   "source": []
  },
  {
   "cell_type": "markdown",
   "metadata": {},
   "source": []
  },
  {
   "cell_type": "markdown",
   "metadata": {},
   "source": []
  },
  {
   "cell_type": "markdown",
   "metadata": {},
   "source": []
  },
  {
   "cell_type": "markdown",
   "metadata": {},
   "source": []
  },
  {
   "cell_type": "markdown",
   "metadata": {},
   "source": []
  },
  {
   "cell_type": "markdown",
   "metadata": {},
   "source": []
  },
  {
   "cell_type": "markdown",
   "metadata": {},
   "source": []
  },
  {
   "cell_type": "markdown",
   "metadata": {},
   "source": []
  },
  {
   "cell_type": "markdown",
   "metadata": {},
   "source": []
  },
  {
   "cell_type": "markdown",
   "metadata": {},
   "source": []
  },
  {
   "cell_type": "markdown",
   "metadata": {},
   "source": []
  },
  {
   "cell_type": "markdown",
   "metadata": {},
   "source": []
  },
  {
   "cell_type": "markdown",
   "metadata": {},
   "source": []
  },
  {
   "cell_type": "markdown",
   "metadata": {},
   "source": []
  },
  {
   "cell_type": "markdown",
   "metadata": {},
   "source": []
  },
  {
   "cell_type": "markdown",
   "metadata": {},
   "source": []
  },
  {
   "cell_type": "markdown",
   "metadata": {},
   "source": []
  },
  {
   "cell_type": "markdown",
   "metadata": {},
   "source": []
  },
  {
   "cell_type": "markdown",
   "metadata": {},
   "source": []
  },
  {
   "cell_type": "markdown",
   "metadata": {},
   "source": []
  },
  {
   "cell_type": "markdown",
   "metadata": {},
   "source": []
  },
  {
   "cell_type": "markdown",
   "metadata": {},
   "source": []
  },
  {
   "cell_type": "markdown",
   "metadata": {},
   "source": []
  },
  {
   "cell_type": "markdown",
   "metadata": {},
   "source": []
  },
  {
   "cell_type": "markdown",
   "metadata": {},
   "source": []
  },
  {
   "cell_type": "markdown",
   "metadata": {},
   "source": []
  },
  {
   "cell_type": "markdown",
   "metadata": {},
   "source": []
  }
 ],
 "metadata": {
  "kernelspec": {
   "display_name": "Python 3",
   "language": "python",
   "name": "python3"
  },
  "language_info": {
   "codemirror_mode": {
    "name": "ipython",
    "version": 3
   },
   "file_extension": ".py",
   "mimetype": "text/x-python",
   "name": "python",
   "nbconvert_exporter": "python",
   "pygments_lexer": "ipython3",
   "version": "3.6.7"
  }
 },
 "nbformat": 4,
 "nbformat_minor": 2
}
