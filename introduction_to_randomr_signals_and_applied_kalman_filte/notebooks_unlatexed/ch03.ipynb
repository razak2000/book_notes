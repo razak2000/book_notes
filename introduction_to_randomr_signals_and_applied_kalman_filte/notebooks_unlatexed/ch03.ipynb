{
 "cells": [
  {
   "cell_type": "markdown",
   "metadata": {},
   "source": [
    "The central problem of linear systems analysis is: Given the input, what is the\n",
    "output?"
   ]
  },
  {
   "cell_type": "markdown",
   "metadata": {},
   "source": [
    "In the deterministic case, we usually seek an explicit expression for the\n",
    "response or output."
   ]
  },
  {
   "cell_type": "markdown",
   "metadata": {},
   "source": [
    "In the random-input problem no such explicit expression is\n",
    "possible, except for the special case where the input is a so-called deterministic\n",
    "random process (and not always in this case)."
   ]
  },
  {
   "cell_type": "markdown",
   "metadata": {},
   "source": [
    "In the case of random processes the most\n",
    "convenient descriptors to work with are autocorrelation function, power spectral\n",
    "density function, and mean-square value."
   ]
  },
  {
   "cell_type": "markdown",
   "metadata": {},
   "source": [
    "3.1\n",
    "In any system satisfying a set of linear differential equations, the solution may be\n",
    "written as a superposition of an initial-condition part and another part due to the\n",
    "driving or forcing functions."
   ]
  },
  {
   "cell_type": "markdown",
   "metadata": {},
   "source": [
    "Both the initial conditions and forcing functions may\n",
    "be random; and, if so, the resultant response is a random process"
   ]
  },
  {
   "cell_type": "markdown",
   "metadata": {},
   "source": [
    "Of course, in the stochastic problem, the input\n",
    "and output will have to be described in probabilistic terms"
   ]
  },
  {
   "cell_type": "markdown",
   "metadata": {},
   "source": [
    "Stationary (steady-state) analysis. Here the input is assumed to be time\n",
    "stationary, and the system is assumed to have fixed parameters with a stable\n",
    "transfer function\n",
    "    This leads to a stationary output, provided the input has\n",
    "been present for a long period of time relative to the system time constants."
   ]
  },
  {
   "cell_type": "markdown",
   "metadata": {},
   "source": [
    "Nonstationary (transient) analysis. Here we usually consider the driving\n",
    "function as being applied at t 1⁄4 0, and the system may be initially at rest or\n",
    "have nontrivial initial conditions.\n",
    "    The response in this case is usually\n",
    "nonstationary. We note that analysis of unstable systems falls into this\n",
    "category, because no steady-state (stationary) condition will exist"
   ]
  },
  {
   "cell_type": "markdown",
   "metadata": {},
   "source": [
    "3.2\n",
    "We assume in Fig. 3.1 that G(s) represents a stable, fixed-parameter system and that\n",
    "the input is covariance (wide-sense) stationary with a known power spectral density\n",
    "function (PSD)"
   ]
  },
  {
   "cell_type": "markdown",
   "metadata": {},
   "source": [
    "In deterministic analysis, we know that if the input is Fourier\n",
    "transformable, the input spectrum is simply modified by G( jv) in going through the\n",
    "filter."
   ]
  },
  {
   "cell_type": "markdown",
   "metadata": {},
   "source": [
    "In the random process case, one interpretation of the spectral function is that it\n",
    "is proportional to the magnitude of the square of the Fourier transform"
   ]
  },
  {
   "cell_type": "markdown",
   "metadata": {},
   "source": [
    "Thus, the\n",
    "equation relating the input and output spectral functions is ..."
   ]
  },
  {
   "cell_type": "markdown",
   "metadata": {},
   "source": [
    "Note that Eq. (3.2.1) is written in the s domain where the imaginary axis has the\n",
    "meaning of real angular frequency v."
   ]
  },
  {
   "cell_type": "markdown",
   "metadata": {},
   "source": [
    "Because of the special properties of spectral functions, both sides of Eq. (3.2.2)\n",
    "work out to be real functions of v"
   ]
  },
  {
   "cell_type": "markdown",
   "metadata": {},
   "source": [
    "Also note that the autocorrelation function of the\n",
    "output can be obtained as the inverse Fourier transform of S x ( jv)."
   ]
  },
  {
   "cell_type": "markdown",
   "metadata": {},
   "source": [
    "The first term has all its poles and zeros in the left half-plane, and the second term\n",
    "has mirror-image poles and zeros in the right half-plane. This regrouping of terms\n",
    "is known as spectral factorization and can always be done if the spectral function\n",
    "is rational in form (i.e., if it can be written as a ratio of polynomials in even powers\n",
    "of s)."
   ]
  },
  {
   "cell_type": "markdown",
   "metadata": {},
   "source": [
    "We note, however, that the concept of\n",
    "power spectral density presented in Section 2.7 is perfectly general, and its integral\n",
    "represents a mean-square value irrespective of whether or not the integral can be\n",
    "evaluated in closed form."
   ]
  },
  {
   "cell_type": "markdown",
   "metadata": {},
   "source": [
    "3.3\n",
    "In linear analysis problems, the spectral function can often be written as a ratio of\n",
    "polynomials in s 2"
   ]
  },
  {
   "cell_type": "markdown",
   "metadata": {},
   "source": [
    "If this is the case, spectral factorization can be used to write the\n",
    "function in the form ..."
   ]
  },
  {
   "cell_type": "markdown",
   "metadata": {},
   "source": [
    "    where c(s)/d(s) has all its poles and zeros in the left half-plane and c(–s)/d(–s) has\n",
    "mirror-image poles and zeros in the right half-plane"
   ]
  },
  {
   "cell_type": "markdown",
   "metadata": {},
   "source": [
    "No roots of d(s)\n",
    "are permitted on the imaginary axis."
   ]
  },
  {
   "cell_type": "markdown",
   "metadata": {},
   "source": [
    "The mean-square value of x can now be\n",
    "written as ..."
   ]
  },
  {
   "cell_type": "markdown",
   "metadata": {},
   "source": [
    "3.4\n",
    "We are now in a position to demonstrate the validity of using the pure white noise\n",
    "model in certain problems, even though white noise has infinite variance"
   ]
  },
  {
   "cell_type": "markdown",
   "metadata": {},
   "source": [
    "Consider a simple first-order low-pass filter with bandlimited white noise as\n",
    "the input"
   ]
  },
  {
   "cell_type": "markdown",
   "metadata": {},
   "source": [
    "Consider the same low-pass filter as in problem 1, but with pure white noise\n",
    "as the input:"
   ]
  },
  {
   "cell_type": "markdown",
   "metadata": {},
   "source": [
    "Certainly, problem 1 is physically plausible because bandlimited white\n",
    "noise has finite variance. Conversely, problem 2 is not because the input has\n",
    "infinite variance."
   ]
  },
  {
   "cell_type": "markdown",
   "metadata": {},
   "source": [
    "Now, we see by comparing the results given by Eqs. (3.4.6) and (3.4.8) that the\n",
    "difference is just that between tan \u00021 (v c T ) and tan \u00021 (1)"
   ]
  },
  {
   "cell_type": "markdown",
   "metadata": {},
   "source": [
    "The bandwidth of the\n",
    "input is v c and the filter bandwidth is 1/T. Thus, if their ratio is large, tan \u00021 (v c T )\n",
    "\u0006 tan \u00021 (1)"
   ]
  },
  {
   "cell_type": "markdown",
   "metadata": {},
   "source": [
    "For a ratio of 100:1, the error is less than 1 percent. Thus, if the input\n",
    "spectrum is flat considerably out beyond the point where the system response is\n",
    "decreasing at 20 db/decade (or faster), there is relatively little error introduced by\n",
    "assuming that the input is flat out to infinity"
   ]
  },
  {
   "cell_type": "markdown",
   "metadata": {},
   "source": [
    "3.5\n",
    "In filter theory, it is sometimes convenient to think of an idealized filter whose\n",
    "frequency response is unity over a prescribed bandwidth B (in hertz) and zero\n",
    "outside this band"
   ]
  },
  {
   "cell_type": "markdown",
   "metadata": {},
   "source": [
    "If this ideal filter is driven\n",
    "by white noise with amplitude A, its mean-square response is ..."
   ]
  },
  {
   "cell_type": "markdown",
   "metadata": {},
   "source": [
    "Next, consider an actual filter G(s) whose gain has been normalized to yield a\n",
    "peak response of unity"
   ]
  },
  {
   "cell_type": "markdown",
   "metadata": {},
   "source": [
    "The mean-square\n",
    "response of the actual filter to white noise of amplitude A is given by ..."
   ]
  },
  {
   "cell_type": "markdown",
   "metadata": {},
   "source": [
    "Now, if we wish to find the idealized filter that will yield this same response, we\n",
    "simply equate E(x 2 ) (ideal) and E(x 2 ) (actual) and solve for the bandwidth that gives\n",
    "equality. The resultant bandwidth B is known as the noise equivalent bandwidth"
   ]
  },
  {
   "cell_type": "markdown",
   "metadata": {},
   "source": [
    "3.6\n",
    "If G(s) is minimum phase and rational in form, * Eq. (3.6.1) immediately provides a\n",
    "factored form for S x (s) with poles and zeros automatically separated into left and\n",
    "right half-plane parts."
   ]
  },
  {
   "cell_type": "markdown",
   "metadata": {},
   "source": [
    "What\n",
    "minimum-phase transfer function will shape unity white noise into a given spectral\n",
    "function S x (s)?"
   ]
  },
  {
   "cell_type": "markdown",
   "metadata": {},
   "source": [
    "If we can use spectral factorization\n",
    "on S x (s), the part with poles and zeros in the left half-plane provides the appropriate\n",
    "shaping filter."
   ]
  },
  {
   "cell_type": "markdown",
   "metadata": {},
   "source": [
    "This is a useful concept, both as a mathematical artifice and also as a\n",
    "physical means of obtaining a noise source with desired spectral characteristics\n",
    "from a wideband source."
   ]
  },
  {
   "cell_type": "markdown",
   "metadata": {},
   "source": [
    "3.7\n",
    "The block diagram of Fig. 3.1 is repeated as Fig. 3.5 with the addition of a\n",
    "switch in the input."
   ]
  },
  {
   "cell_type": "markdown",
   "metadata": {},
   "source": [
    "Imagine the system to be initially at rest, and then close the\n",
    "switch at t 1⁄4 0. A transient response takes place in the stochastic problem just as in\n",
    "the corresponding deterministic problem."
   ]
  },
  {
   "cell_type": "markdown",
   "metadata": {},
   "source": [
    "If the input f(t) is a nondeterministic\n",
    "random process, we would expect the response also to be nondeterministic, and its\n",
    "autocorrelation function may be computed in terms of the input autocorrelation\n",
    "function."
   ]
  },
  {
   "cell_type": "markdown",
   "metadata": {},
   "source": [
    "The system response can be written as a convolution integral ..\n",
    "    where g(u) is the inverse Laplace transform of G(s) and is usually referred to as the\n",
    "system weighting function or impulsive response."
   ]
  },
  {
   "cell_type": "markdown",
   "metadata": {},
   "source": [
    "find the autocorrelation function,"
   ]
  },
  {
   "cell_type": "markdown",
   "metadata": {},
   "source": [
    "we now have an expression for the output autocorrelation function in terms of\n",
    "the input autocorrelation function and system weighting function."
   ]
  },
  {
   "cell_type": "markdown",
   "metadata": {},
   "source": [
    "Equation (3.7.3) is difficult to evaluate except for relatively simple systems.\n",
    "Thus, we are often willing to settle for less information about the response and just\n",
    "compute its mean-square value."
   ]
  },
  {
   "cell_type": "markdown",
   "metadata": {},
   "source": [
    "Note that as t ! 1, the mean-square value approaches A/2T, which is the same\n",
    "result obtained in Section 3.2 using spectral analysis methods."
   ]
  },
  {
   "cell_type": "markdown",
   "metadata": {},
   "source": [
    "Let G(s) be an integrator with zero initial conditions, and let f(t) be a Gauss–Markov\n",
    "process with variance s 2 and time constant 1/b. We desire the mean-square value of\n",
    "the output x."
   ]
  },
  {
   "cell_type": "markdown",
   "metadata": {},
   "source": [
    "The transfer function and input autocorrelation function are ..."
   ]
  },
  {
   "cell_type": "markdown",
   "metadata": {},
   "source": [
    "Some care is required in evaluating Eq. (3.7.6) because one functional expression for\n",
    "e \u0002bju\u0002yj appliesforu > y,andadifferentoneappliesforu < y."
   ]
  },
  {
   "cell_type": "markdown",
   "metadata": {},
   "source": [
    "As our final example, we find the autocorrelation function of the output of a simple\n",
    "integrator driven by unity-amplitude Gaussian white noise. The transfer function\n",
    "and input autocorrelation function are ..."
   ]
  },
  {
   "cell_type": "markdown",
   "metadata": {},
   "source": [
    "The\n",
    "argument of the Dirac delta function in Eq. (3.7.9) is zero along the dashed line in the\n",
    "figure"
   ]
  },
  {
   "cell_type": "markdown",
   "metadata": {},
   "source": [
    "In concluding this section, we might comment that if the transient response\n",
    "includes both forced and initial-condition components, the total response is just the\n",
    "superposition of the two."
   ]
  },
  {
   "cell_type": "markdown",
   "metadata": {},
   "source": [
    "The mean-square value must be evaluated with care,\n",
    "though, because the total mean-square value is the sum of the two only when the\n",
    "crosscorrelation is zero"
   ]
  },
  {
   "cell_type": "markdown",
   "metadata": {},
   "source": [
    "If the crosscorrelation between the two responses is not\n",
    "zero, it must be properly accounted for in computing the mean-square value."
   ]
  },
  {
   "cell_type": "markdown",
   "metadata": {},
   "source": [
    "3.8\n",
    "First of all, in the\n",
    "term power spectral density (PSD) we will always interpret “power” to be mean-\n",
    "square-value in squared units of the random variable under consideration."
   ]
  },
  {
   "cell_type": "markdown",
   "metadata": {},
   "source": [
    "Also, in\n",
    "our analysis thus far we have dealt with frequency in terms of v rather than f, so\n",
    "there has been a tacit assumption that the units of PSD in the denominator are\n",
    "radians per second (rad/s). This is where the “units” problem begins."
   ]
  },
  {
   "cell_type": "markdown",
   "metadata": {},
   "source": [
    "The S x ( jv) was rigorously derived as the Fourier transform of the autocorrelation\n",
    "function, and we are tempted to refer to S x ( jv) as density in units of meters 2 per rad/\n",
    "s."
   ]
  },
  {
   "cell_type": "markdown",
   "metadata": {},
   "source": [
    "But yet the direct integral of S x ( jv) over the whole v space does not yield total\n",
    "power. This is in conflict with the basic notion of the term “density”"
   ]
  },
  {
   "cell_type": "markdown",
   "metadata": {},
   "source": [
    "Now, all this being said, we can actually perform the mechanics of the summation\n",
    "with respect to v if we so choose; but, if we do so, we must be careful to put the 1/2p\n",
    "factor in front of the integral"
   ]
  },
  {
   "cell_type": "markdown",
   "metadata": {},
   "source": [
    "On the other hand, if we choose to integrate the same\n",
    "S x (jv) as before but with respect to f, we then omit the 1/2p in front of the integral."
   ]
  },
  {
   "cell_type": "markdown",
   "metadata": {},
   "source": [
    "Pure white noise is a conceptual idea. It has a spectral density that is flat out to\n",
    "infinity and its power is infinite (whatever that means)."
   ]
  },
  {
   "cell_type": "markdown",
   "metadata": {},
   "source": [
    "Yet the PSD of white noise is\n",
    "finite and has meaning, so we need to consider its units."
   ]
  },
  {
   "cell_type": "markdown",
   "metadata": {},
   "source": [
    "Eq. (3.8.2) says that the variance of the integrated white noise increases linearly\n",
    "with time, and the scale factor of the ramp is just the PSD of the input white noise in\n",
    "units (m/s) 2 /Hz"
   ]
  },
  {
   "cell_type": "markdown",
   "metadata": {},
   "source": [
    "\n",
    "Unity white noise is a special white noise whose PSD is unity. It is dimen-\n",
    "sionless in the numerator and has units of Hz in the denominator."
   ]
  },
  {
   "cell_type": "markdown",
   "metadata": {},
   "source": [
    "It is especially\n",
    "useful as the forcing function in a conceptual shaping filter as discuss in Section 3.6.\n",
    "When used in this context, the units for the output of the shaping filter are provided\n",
    "by the filter transfer function, and not by the input unity white noise."
   ]
  },
  {
   "cell_type": "markdown",
   "metadata": {},
   "source": [
    "3.9\n",
    "Even though the filter measurement stream may consist of discrete-time samples,\n",
    "some of the underlying random processes may be time-continuous (e.g., physical\n",
    "dynamics, Newton’s law, etc.). Thus, the continuous-time model is often just as\n",
    "important as the corresponding discrete-time model."
   ]
  },
  {
   "cell_type": "markdown",
   "metadata": {},
   "source": [
    "Eq. (3.9.1) is a linear differential equation, and the components of x describe the\n",
    "dynamics of the various processes under consideration."
   ]
  },
  {
   "cell_type": "markdown",
   "metadata": {},
   "source": [
    "Some of these process\n",
    "descriptions may initially be in the form of power spectral densities, so we need to\n",
    "be able to translate these PSD descriptions into differential equation form"
   ]
  },
  {
   "cell_type": "markdown",
   "metadata": {},
   "source": [
    "Suppose we start with a PSD in rational form where both the numerator and\n",
    "denominator are polynomials in v 2 (or s 2 )."
   ]
  },
  {
   "cell_type": "markdown",
   "metadata": {},
   "source": [
    "There are some restrictions on the orders\n",
    "of the polynomials. These are imposed to assure that the variances of the phase\n",
    "variables of the state vector will be finite."
   ]
  },
  {
   "cell_type": "markdown",
   "metadata": {},
   "source": [
    "The shaping filter and pole locations for this exercise are\n",
    "shown in Fig. 3.10."
   ]
  },
  {
   "cell_type": "markdown",
   "metadata": {},
   "source": [
    "The scalar differential equation relating x(t) to u(t) is now obtained directly from\n",
    "the transfer function of the shaping filter"
   ]
  },
  {
   "cell_type": "markdown",
   "metadata": {},
   "source": [
    "Discrete-time processes may arise in either of two ways. First, there may be appli-\n",
    "cations where a sequence of random events take place naturally in discrete steps, and\n",
    "there is no underlying continuous dynamics to consider"
   ]
  },
  {
   "cell_type": "markdown",
   "metadata": {},
   "source": [
    "Or, the discrete process may\n",
    "be the result of sampling a continuous-time process such has physical motion\n",
    "governed by Newton’s laws. It is such sampled processes that need further discussion\n",
    "here."
   ]
  },
  {
   "cell_type": "markdown",
   "metadata": {},
   "source": [
    "So, let us now consider a continuous-time random process of the form given by\n",
    "Eq. (3.9.1), but the accompanying measurements come to us sampled in the form ..."
   ]
  },
  {
   "cell_type": "markdown",
   "metadata": {},
   "source": [
    "We only have measurements at discrete times t k , t kþ1 , t kþ2 , . . . , so we will\n",
    "be primarily interested in the solution of the differential equation,"
   ]
  },
  {
   "cell_type": "markdown",
   "metadata": {},
   "source": [
    "In linear systems, this solution can always be written\n",
    "as the sum of an initial condition part and a driven-response part"
   ]
  },
  {
   "cell_type": "markdown",
   "metadata": {},
   "source": [
    "Clearly, f ð t kþ1 ; t k Þ is the state transition matrix, and w(t k ) is the driven response\n",
    "for the (t kþ1 , t k ) interval"
   ]
  },
  {
   "cell_type": "markdown",
   "metadata": {},
   "source": [
    "Note that the scale factor for the white noise driving\n",
    "function is accounted for in the G matrix"
   ]
  },
  {
   "cell_type": "markdown",
   "metadata": {},
   "source": [
    "Also, we are assured that the w(t k ),\n",
    "w(t kþ1 ), . . . sequence is a zero-mean white sequence, because we have assumed\n",
    "that the driving function is vector unity white noise"
   ]
  },
  {
   "cell_type": "markdown",
   "metadata": {},
   "source": [
    "The solution as given by\n",
    "Eq. (3.9.8) is quite formidable if the system is time varying in the intervals\n",
    "between samples. So, we will assume here that the Dt intervals are small, and that\n",
    "the system parameters are constant within the Dt intervals."
   ]
  },
  {
   "cell_type": "markdown",
   "metadata": {},
   "source": [
    "With the constant parameter assumption in place, the state transition matrix can\n",
    "be written out explicitly in terms of Laplace transforms ..."
   ]
  },
  {
   "cell_type": "markdown",
   "metadata": {},
   "source": [
    "It will be shown in Chapter 4 that the covariance of w(k) is one of the key\n",
    "parameters of the Kalman filter, so we need to be able to compute it as well as the\n",
    "state transition matrix."
   ]
  },
  {
   "cell_type": "markdown",
   "metadata": {},
   "source": [
    "We will call the covariance of w(k), Q(t k ) (or sometimes, just\n",
    "Q k for short), and it can be written out explicitly as ..."
   ]
  },
  {
   "cell_type": "markdown",
   "metadata": {},
   "source": [
    "The matrix E[u(j)u (h)] is a matrix of Dirac delta functions that, presumably, is\n",
    "known from the continuous model."
   ]
  },
  {
   "cell_type": "markdown",
   "metadata": {},
   "source": [
    "Thus, in principle, Q k may be evaluated from\n",
    "Eq. (3.9.10). This is not a trivial task, though, even for low-order systems."
   ]
  },
  {
   "cell_type": "markdown",
   "metadata": {},
   "source": [
    "If the\n",
    "continuous system giving rise to the discrete situation has constant parameters and if\n",
    "the various white noise inputs have zero crosscorrelation, some simplification is\n",
    "possible and the weighting function methods of Section 3.7 may be applied."
   ]
  },
  {
   "cell_type": "markdown",
   "metadata": {},
   "source": [
    "Analytical methods for finding f k and Q k work quite well for constant parameter\n",
    "systems with just a few elements in the state vector"
   ]
  },
  {
   "cell_type": "markdown",
   "metadata": {},
   "source": [
    "However, the dimensionality\n",
    "does not have to be very large before it becomes virtually impossible to work out\n",
    "explicit expressions for f k and Q"
   ]
  },
  {
   "cell_type": "markdown",
   "metadata": {},
   "source": [
    "A numerical method for determining f k and Q k\n",
    "for large scale systems has been worked out by C. F. van Loan [7], and it is\n",
    "especially convenient when using MATLAB"
   ]
  },
  {
   "cell_type": "markdown",
   "metadata": {},
   "source": [
    "3.10\n",
    "Monte Carlo simulation refers to system simulation using random sequences as\n",
    "inputs."
   ]
  },
  {
   "cell_type": "markdown",
   "metadata": {},
   "source": [
    "Such methods are often helpful in understanding the behavior of stochastic\n",
    "systems that are not amenable to analysis by usual direct mathematical me-\n",
    "thods. This is especially true of nonlinear filtering problems"
   ]
  },
  {
   "cell_type": "markdown",
   "metadata": {},
   "source": [
    "Briefly, these methods involve setting up a statistical experiment that\n",
    "matches the physical problem of interest, then repeating the experiment over and\n",
    "over with typical sequences of random numbers, and finally, analyzing the results\n",
    "of the experiment statistically"
   ]
  },
  {
   "cell_type": "markdown",
   "metadata": {},
   "source": [
    "The usual description of a stationary continuous-time random process is its power\n",
    "spectral density (PSD) function or the corresponding autocorrelation function"
   ]
  },
  {
   "cell_type": "markdown",
   "metadata": {},
   "source": [
    "It\n",
    "was mentioned in Chapter 2 that the autocorrelation function provides a complete\n",
    "statistical description of the process when it is Gaussian"
   ]
  },
  {
   "cell_type": "markdown",
   "metadata": {},
   "source": [
    "This is important in Monte\n",
    "Carlo simulation (even though somewhat restrictive), because Gaussian processes\n",
    "have a firm theoretical foundation and this adds credibility to the resulting analysis"
   ]
  },
  {
   "cell_type": "markdown",
   "metadata": {},
   "source": [
    "we will begin with a\n",
    "state model of the form given by Eq. (3.9.8) (Here we will use the more compact\n",
    "notation where the subscript k refers to the time t k .) ..."
   ]
  },
  {
   "cell_type": "markdown",
   "metadata": {},
   "source": [
    "Presumably, f k is known, and w k is a Gaussian white sequence with known\n",
    "covariance Q k"
   ]
  },
  {
   "cell_type": "markdown",
   "metadata": {},
   "source": [
    "The problem is to generate an ensemble of random trials of x k (i.e.,\n",
    "sample realizations of the process) for k 1⁄4 0, 1, 2, . . . , m."
   ]
  },
  {
   "cell_type": "markdown",
   "metadata": {},
   "source": [
    "Equation (3.10.1) is explicit. Thus, once methods are established for generating\n",
    "w k for k 1⁄4 0, 1, 2, . . . , (m – 1) and setting the initial condition for x at k 1⁄4 0, then\n",
    "programming the few lines of code needed to implement Eq. (3.10.1) is routine."
   ]
  },
  {
   "cell_type": "markdown",
   "metadata": {},
   "source": [
    "If f k is a constant, it is simply assigned a variable name and\n",
    "given a numerical value"
   ]
  },
  {
   "cell_type": "markdown",
   "metadata": {},
   "source": [
    "If f k is time-variable, it is\n",
    "relatively easy to reevaluate the parameters with each step as the simulation pro-\n",
    "ceeds in time"
   ]
  },
  {
   "cell_type": "markdown",
   "metadata": {},
   "source": [
    "Generating the w k sequence is a bit more difficult, though, because Q k\n",
    "is usually not diagonal."
   ]
  },
  {
   "cell_type": "markdown",
   "metadata": {},
   "source": [
    "The preceding 2 \t 2 example is a special case of what is known as Cholesky\n",
    "factorization, and it is easily generalized to higher-order cases"
   ]
  },
  {
   "cell_type": "markdown",
   "metadata": {},
   "source": [
    "This procedure\n",
    "factors a symmetric, positive definite matrix into upper- and lower-triangular parts,"
   ]
  },
  {
   "cell_type": "markdown",
   "metadata": {},
   "source": [
    "It should also be clear that if the transformation C takes a vector of uncorre-\n",
    "lated, unit-variance random variables into a corresponding set of correlated random\n",
    "variables, then C \u00021 will do just the opposite"
   ]
  },
  {
   "cell_type": "markdown",
   "metadata": {},
   "source": [
    "If we start with a set of random vari-\n",
    "ables with covariance Q, then C \u00021 QC \u00021T will be the covariance of the transformed\n",
    "set."
   ]
  },
  {
   "cell_type": "markdown",
   "metadata": {},
   "source": [
    "One limitation of the Cholesky factorization is that it cannot be used if the cova-\n",
    "riance matrix is singular."
   ]
  },
  {
   "cell_type": "markdown",
   "metadata": {},
   "source": [
    "We can overcome this limitation by the use of another\n",
    "factorization method called the singular value decomposition"
   ]
  },
  {
   "cell_type": "markdown",
   "metadata": {},
   "source": [
    "Specifying an appropriate initial condition on x in the simulation can also be\n",
    "troublesome, and each case has to be considered on its own merits"
   ]
  },
  {
   "cell_type": "markdown",
   "metadata": {},
   "source": [
    "If the process\n",
    "being simulated is nonstationary, there is no “typical” starting point. This will\n",
    "depend on the definition of the process."
   ]
  },
  {
   "cell_type": "markdown",
   "metadata": {},
   "source": [
    "If the process being considered is stationary, one usually wants to generate an\n",
    "ensemble of realizations that are stationary throughout the time span of the runs.\n",
    "The initial condition on x must be chosen carefully to assure this."
   ]
  },
  {
   "cell_type": "markdown",
   "metadata": {},
   "source": [
    "There is one\n",
    "special case where specification of the initial components of x is relatively easy. If\n",
    "the process is stationary and the state variables are chosen to be phase variables, it\n",
    "works out that the covariance matrix of the state variables is diagonal in the steady-\n",
    "state condition (see Problem 3.18)"
   ]
  },
  {
   "cell_type": "markdown",
   "metadata": {},
   "source": [
    "Thus, one simply chooses the components of x\n",
    "as independent samples from an N(0, 1) population appropriately scaled in accor-\n",
    "dance with the rms values of the process “position,” “velocity,” “acceleration,” and\n",
    "so forth."
   ]
  },
  {
   "cell_type": "markdown",
   "metadata": {},
   "source": [
    "If the state variables are not phase variables, however, then they will be\n",
    "correlated (in general), and this complicates matters considerably."
   ]
  },
  {
   "cell_type": "markdown",
   "metadata": {},
   "source": [
    "Sometimes, the\n",
    "most expeditious way of circumventing the problem is to start the simulation with\n",
    "zero initial conditions, then let the process run until the steady-state condition is\n",
    "reached (or nearly so), and finally use just the latter portion of the realization for\n",
    "“serious” analysis. This may not be an elegant solution to the initial-condition\n",
    "problem, but it is effective."
   ]
  },
  {
   "cell_type": "markdown",
   "metadata": {},
   "source": [
    "3.11\n",
    "In steady-state analysis the primary descriptors for the random\n",
    "processes being considered are autocorrelation function and power spectral density"
   ]
  },
  {
   "cell_type": "markdown",
   "metadata": {},
   "source": [
    "They are Fourier transform pairs, so both contain the same information about\n",
    "the process at hand"
   ]
  },
  {
   "cell_type": "markdown",
   "metadata": {},
   "source": [
    "The process magnitude description of primary interest in our analysis is mean-\n",
    "square-value, also called power."
   ]
  },
  {
   "cell_type": "markdown",
   "metadata": {},
   "source": []
  },
  {
   "cell_type": "markdown",
   "metadata": {},
   "source": []
  },
  {
   "cell_type": "markdown",
   "metadata": {},
   "source": []
  },
  {
   "cell_type": "markdown",
   "metadata": {},
   "source": []
  },
  {
   "cell_type": "markdown",
   "metadata": {},
   "source": []
  },
  {
   "cell_type": "markdown",
   "metadata": {},
   "source": []
  },
  {
   "cell_type": "markdown",
   "metadata": {},
   "source": []
  },
  {
   "cell_type": "markdown",
   "metadata": {},
   "source": []
  },
  {
   "cell_type": "markdown",
   "metadata": {},
   "source": []
  },
  {
   "cell_type": "markdown",
   "metadata": {},
   "source": []
  },
  {
   "cell_type": "markdown",
   "metadata": {},
   "source": []
  },
  {
   "cell_type": "markdown",
   "metadata": {},
   "source": []
  },
  {
   "cell_type": "markdown",
   "metadata": {},
   "source": []
  },
  {
   "cell_type": "markdown",
   "metadata": {},
   "source": []
  },
  {
   "cell_type": "markdown",
   "metadata": {},
   "source": [
    "\n"
   ]
  }
 ],
 "metadata": {
  "kernelspec": {
   "display_name": "Python 3",
   "language": "python",
   "name": "python3"
  },
  "language_info": {
   "codemirror_mode": {
    "name": "ipython",
    "version": 3
   },
   "file_extension": ".py",
   "mimetype": "text/x-python",
   "name": "python",
   "nbconvert_exporter": "python",
   "pygments_lexer": "ipython3",
   "version": "3.6.7"
  }
 },
 "nbformat": 4,
 "nbformat_minor": 2
}
