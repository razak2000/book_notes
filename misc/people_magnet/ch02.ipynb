{
 "cells": [
  {
   "cell_type": "markdown",
   "metadata": {},
   "source": [
    "From the time we are little tykes rattling the rails of our cribs to\n",
    "get attention, until the time we catch a cloud to carry us to the\n",
    "great beyond, we want people to like us."
   ]
  },
  {
   "cell_type": "markdown",
   "metadata": {},
   "source": [
    "Quite simply, it’s that quintessential\n",
    "quality that makes people like you and want to be part of your\n",
    "world today, tomorrow, or forever."
   ]
  },
  {
   "cell_type": "markdown",
   "metadata": {},
   "source": [
    "Throughout the book we work on eliminating the number one\n",
    "people repellant: Fear, Uncertainty, and Doubt—that fatal FUD\n",
    "factor."
   ]
  },
  {
   "cell_type": "markdown",
   "metadata": {},
   "source": [
    "Norman Vincent Peale spent twenty-five years trying to stamp\n",
    "out the FUD Factor. He knew the world was already too full of\n",
    "worrywarts and wet blankets who believe the only thing the world\n",
    "will ever give them on a silver platter is tarnish."
   ]
  },
  {
   "cell_type": "markdown",
   "metadata": {},
   "source": [
    "# Chapter 3"
   ]
  },
  {
   "cell_type": "markdown",
   "metadata": {},
   "source": [
    "The definition of a contract according to our dearly departed,\n",
    "but oft-quoted, Noah Webster is “a binding agreement usually\n",
    "between two or more persons or parties.” Since we all have “two\n",
    "or more persons” residing within ourselves, we’ll take liberties\n",
    "with two."
   ]
  },
  {
   "cell_type": "markdown",
   "metadata": {},
   "source": [
    "# Part 2"
   ]
  },
  {
   "cell_type": "markdown",
   "metadata": {},
   "source": [
    "# Ch 4"
   ]
  },
  {
   "cell_type": "markdown",
   "metadata": {},
   "source": [
    "Because, surprising new studies show that being liked and being popular in the sense that we knew in school is not the\n",
    "same thing. And when the chips are down, we help people we\n",
    "really like first."
   ]
  },
  {
   "cell_type": "markdown",
   "metadata": {},
   "source": [
    "To find out precisely what qualities make people like us, the Amer-\n",
    "ican Sociological Association conducted a vast study. 12 The results?\n",
    "At the top of the list was having a positive optimistic personality\n",
    "and confidence in yourself."
   ]
  },
  {
   "cell_type": "markdown",
   "metadata": {},
   "source": [
    "I’m older and wiser now, and I realize that to be successful\n",
    "you must be genuinely confident."
   ]
  },
  {
   "cell_type": "markdown",
   "metadata": {},
   "source": [
    "You can’t just put on the face of\n",
    "confidence for the competition—or for the meeting or the party\n",
    "or the date. You have to feel confidence pulsing through your\n",
    "veins."
   ]
  },
  {
   "cell_type": "markdown",
   "metadata": {},
   "source": [
    "Every word that comes out of your mouth has to\n",
    "be the lyrics of confidence."
   ]
  },
  {
   "cell_type": "markdown",
   "metadata": {},
   "source": [
    "Likewise, you must train your body to react instinctively for\n",
    "success, without thinking about it. Your game isn’t throwing a\n",
    "javelin or hurling a discus. It’s waking up each day like the little\n",
    "engine who said, “I think I can.”"
   ]
  },
  {
   "cell_type": "markdown",
   "metadata": {},
   "source": [
    "# Ch 5"
   ]
  },
  {
   "cell_type": "markdown",
   "metadata": {},
   "source": [
    "Dale carried a pocketful of sunshine with him which made peo-\n",
    "ple glow wherever he went. Not only did he always look on the\n",
    "bright side of things, he looked at everything from the other per-\n",
    "son’s perspective, thus winning their hearts."
   ]
  },
  {
   "cell_type": "markdown",
   "metadata": {},
   "source": [
    "Before People Magnets speak, they ask themselves,\n",
    "“What is my listener thinking and feeling right now?”\n",
    "Then, whenever appropriate, they speak from their\n",
    "listener’s perspective."
   ]
  },
  {
   "cell_type": "markdown",
   "metadata": {},
   "source": [
    "For People Magnets (PMs), scowls\n",
    "turn to smiles, dullness turns to delight, and no turns\n",
    "to yes!"
   ]
  },
  {
   "cell_type": "markdown",
   "metadata": {},
   "source": [
    "I’ve dubbed Dale’s knack of putting everything in his lis-\n",
    "tener’s perspective “In-Your-Shoes” communicating."
   ]
  },
  {
   "cell_type": "markdown",
   "metadata": {},
   "source": [
    "You can use it in practically all\n",
    "conversations. You’ll find it works especially well with strangers."
   ]
  },
  {
   "cell_type": "markdown",
   "metadata": {},
   "source": [
    "From now on, I will make a conscious effort to hear\n",
    "everything I say through my listener’s ears and,\n",
    "whenever appropriate, phrase it from their perspective."
   ]
  },
  {
   "cell_type": "markdown",
   "metadata": {},
   "source": [
    "# Ch 6"
   ]
  },
  {
   "cell_type": "markdown",
   "metadata": {},
   "source": []
  },
  {
   "cell_type": "markdown",
   "metadata": {},
   "source": []
  },
  {
   "cell_type": "markdown",
   "metadata": {},
   "source": []
  },
  {
   "cell_type": "markdown",
   "metadata": {},
   "source": []
  },
  {
   "cell_type": "markdown",
   "metadata": {},
   "source": []
  },
  {
   "cell_type": "markdown",
   "metadata": {},
   "source": []
  },
  {
   "cell_type": "markdown",
   "metadata": {},
   "source": []
  },
  {
   "cell_type": "markdown",
   "metadata": {},
   "source": []
  },
  {
   "cell_type": "markdown",
   "metadata": {},
   "source": []
  },
  {
   "cell_type": "markdown",
   "metadata": {},
   "source": []
  },
  {
   "cell_type": "markdown",
   "metadata": {},
   "source": []
  },
  {
   "cell_type": "markdown",
   "metadata": {},
   "source": []
  },
  {
   "cell_type": "markdown",
   "metadata": {},
   "source": []
  },
  {
   "cell_type": "markdown",
   "metadata": {},
   "source": []
  },
  {
   "cell_type": "markdown",
   "metadata": {},
   "source": []
  },
  {
   "cell_type": "markdown",
   "metadata": {},
   "source": []
  },
  {
   "cell_type": "markdown",
   "metadata": {},
   "source": []
  },
  {
   "cell_type": "markdown",
   "metadata": {},
   "source": []
  },
  {
   "cell_type": "markdown",
   "metadata": {},
   "source": []
  },
  {
   "cell_type": "markdown",
   "metadata": {},
   "source": []
  },
  {
   "cell_type": "markdown",
   "metadata": {},
   "source": []
  },
  {
   "cell_type": "markdown",
   "metadata": {},
   "source": []
  },
  {
   "cell_type": "markdown",
   "metadata": {},
   "source": []
  },
  {
   "cell_type": "markdown",
   "metadata": {},
   "source": []
  },
  {
   "cell_type": "markdown",
   "metadata": {},
   "source": []
  },
  {
   "cell_type": "markdown",
   "metadata": {},
   "source": []
  },
  {
   "cell_type": "markdown",
   "metadata": {},
   "source": []
  },
  {
   "cell_type": "markdown",
   "metadata": {},
   "source": []
  },
  {
   "cell_type": "markdown",
   "metadata": {},
   "source": []
  },
  {
   "cell_type": "markdown",
   "metadata": {},
   "source": []
  },
  {
   "cell_type": "markdown",
   "metadata": {},
   "source": []
  },
  {
   "cell_type": "markdown",
   "metadata": {},
   "source": []
  },
  {
   "cell_type": "markdown",
   "metadata": {},
   "source": []
  }
 ],
 "metadata": {
  "kernelspec": {
   "display_name": "Python 3",
   "language": "python",
   "name": "python3"
  },
  "language_info": {
   "codemirror_mode": {
    "name": "ipython",
    "version": 3
   },
   "file_extension": ".py",
   "mimetype": "text/x-python",
   "name": "python",
   "nbconvert_exporter": "python",
   "pygments_lexer": "ipython3",
   "version": "3.6.7"
  }
 },
 "nbformat": 4,
 "nbformat_minor": 2
}
