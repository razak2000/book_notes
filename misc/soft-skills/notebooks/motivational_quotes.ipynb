{
 "cells": [
  {
   "cell_type": "markdown",
   "metadata": {},
   "source": [
    "<font color='blue'>Our greatest glory is not in never falling, but in rising every time we fall. — Confucius"
   ]
  },
  {
   "cell_type": "markdown",
   "metadata": {},
   "source": [
    "<font color='blue'>All our dreams can come true, if we have the courage to pursue them. - Walt Disney"
   ]
  },
  {
   "cell_type": "markdown",
   "metadata": {},
   "source": [
    "<font color='blue'>It does not matter how slowly you go as long as you do not stop. - Confucius"
   ]
  },
  {
   "cell_type": "markdown",
   "metadata": {},
   "source": [
    "<font color='blue'>Everything you’ve ever wanted is on the other side of fear. — George Addair"
   ]
  },
  {
   "cell_type": "markdown",
   "metadata": {},
   "source": [
    "<font color='blue'>Success is not final, failure is not fatal: it is the courage to continue that counts. - Winston Churchill"
   ]
  },
  {
   "cell_type": "markdown",
   "metadata": {},
   "source": [
    "<font color='blue'>Hardships often prepare ordinary people for an extraordinary destiny. - C.S. Lewis"
   ]
  },
  {
   "cell_type": "markdown",
   "metadata": {},
   "source": [
    "Believe in yourself. You are braver than you think, more talented than you know, and capable of more than you imagine. - Roy T. Bennett"
   ]
  },
  {
   "cell_type": "markdown",
   "metadata": {},
   "source": [
    "I learned that courage was not the absence of fear, but the triumph over it. <font color='blue'>The brave man is not he who does not feel afraid, but he who conquers that fear. - Nelson Mandela"
   ]
  },
  {
   "cell_type": "markdown",
   "metadata": {},
   "source": [
    "<font color='blue'>There is only one thing that makes a dream impossible to achieve: the fear of failure. - Paulo Coelho"
   ]
  },
  {
   "cell_type": "markdown",
   "metadata": {},
   "source": [
    "<font color='blue'>It’s not whether you get knocked down. It’s whether you get up. - Vince Lombardi"
   ]
  },
  {
   "cell_type": "markdown",
   "metadata": {},
   "source": [
    "Your true success in life begins only when you make the commitment to become excellent at what you do. — Brian Tracy"
   ]
  },
  {
   "cell_type": "markdown",
   "metadata": {},
   "source": [
    "Believe in yourself, take on your challenges, dig deep within yourself to conquer fears. <font color='blue'>Never let anyone bring you down. You got to keep going. - Chantal Sutherland"
   ]
  },
  {
   "cell_type": "markdown",
   "metadata": {},
   "source": [
    "<font color='blue'>Definiteness of purpose is the starting point of all achievement. - W. Clement Stone"
   ]
  },
  {
   "cell_type": "markdown",
   "metadata": {},
   "source": [
    "<font color='blue'>Too many of us are not living our dreams because we are living our fears. - Les Brown"
   ]
  },
  {
   "cell_type": "markdown",
   "metadata": {},
   "source": [
    "<font color='blue'>If you believe it will work out, you’ll see opportunities. If you believe it won’t, you will see obstacles. - Wayne Dyer"
   ]
  },
  {
   "cell_type": "markdown",
   "metadata": {},
   "source": [
    "<font color='blue'>Permanence, perseverance and persistence in spite of all obstacles, discouragements, and impossibilities: It is this, that in all things distinguishes the strong soul from the weak. - Thomas Carlyle"
   ]
  },
  {
   "cell_type": "markdown",
   "metadata": {},
   "source": [
    "Success means doing the best we can with what we have. Success is the doing, not the getting; in the trying, not the triumph. Success is a personal standard, reaching for the highest that is in us, becoming all that we can be. - Zig Ziglar"
   ]
  },
  {
   "cell_type": "markdown",
   "metadata": {},
   "source": [
    "If you set goals and go after them with all the determination you can muster, your gifts will take you places that will amaze you. - Les Brown"
   ]
  },
  {
   "cell_type": "markdown",
   "metadata": {},
   "source": [
    "<font color='blue'>Hard times don't create heroes. It is during the hard times when the 'hero' within us is revealed. - Bob Riley"
   ]
  },
  {
   "cell_type": "markdown",
   "metadata": {},
   "source": [
    "<font color='blue'>Believe you can and you’re halfway there. — Theodore Roosevelt"
   ]
  },
  {
   "cell_type": "markdown",
   "metadata": {},
   "source": [
    "<font color='blue'>Your mind is a powerful thing. When you fill it with positive thoughts, your life will start to change. - Unknown"
   ]
  },
  {
   "cell_type": "markdown",
   "metadata": {},
   "source": [
    "<font color='blue'>Start by doing what's necessary; then do what's possible; and suddenly you are doing the impossible. - Francis of Assisi"
   ]
  },
  {
   "cell_type": "markdown",
   "metadata": {},
   "source": [
    "<font color='blue'>I attribute my success to this: I never gave or took any excuse. - Florence Nightingale"
   ]
  },
  {
   "cell_type": "markdown",
   "metadata": {},
   "source": [
    "<font color='blue'>Whatever you hold in your mind on a consistent basis is exactly what you will experience in your life. - Tony Robbins"
   ]
  },
  {
   "cell_type": "markdown",
   "metadata": {},
   "source": [
    "<font color='blue'>Most of the important things in the world have been accomplished by people who have kept on trying when there seemed to be no hope at all. — Dale Carnegie"
   ]
  },
  {
   "cell_type": "markdown",
   "metadata": {},
   "source": [
    "<font color='blue'>Strength does not come from physical capacity. It comes from an indomitable will. - Mahatma Gandhi"
   ]
  },
  {
   "cell_type": "markdown",
   "metadata": {},
   "source": [
    "<font color='blue'>Perseverance is the hard work you do after you get tired of doing the hard work you already did. - Newt Gingrich"
   ]
  },
  {
   "cell_type": "markdown",
   "metadata": {},
   "source": [
    "The future belongs to those who believe in the beauty of their dreams - Franklin D. Roosevelt"
   ]
  },
  {
   "cell_type": "markdown",
   "metadata": {},
   "source": [
    "<font color='blue'>I am not a product of my circumstances. I am a product of my decisions. — Stephen Covey"
   ]
  },
  {
   "cell_type": "markdown",
   "metadata": {},
   "source": [
    "<font color='blue'>Don’t be pushed around by the fears in your mind. Be led by the dreams in your heart. - Roy T. Bennett"
   ]
  },
  {
   "cell_type": "markdown",
   "metadata": {},
   "source": [
    "<font color='blue'>You're going to go through tough times - that's life. But I say, 'Nothing happens to you, it happens for you.' See the positive in negative events. - Joel Osteen"
   ]
  },
  {
   "cell_type": "markdown",
   "metadata": {},
   "source": [
    "Character cannot be developed in ease and quiet. Only through experience of trial and suffering can the soul be strengthened, ambition inspired, and success achieved. - Helen Keller"
   ]
  },
  {
   "cell_type": "markdown",
   "metadata": {},
   "source": [
    "If you can tune into your purpose and really align with it, setting goals so that your vision is an expression of that purpose, then life flows much more easily. - Jack Canfield"
   ]
  },
  {
   "cell_type": "markdown",
   "metadata": {},
   "source": [
    "<font color='blue'>Whatever the mind can conceive and believe, it can achieve. - Napoleon Hill"
   ]
  },
  {
   "cell_type": "markdown",
   "metadata": {},
   "source": [
    "<font color='blue'>Don’t wish it were easier. Wish you were better. - Jim Rohn"
   ]
  },
  {
   "cell_type": "markdown",
   "metadata": {},
   "source": [
    "It is during our darkest moments that we must focus to see the light. — Aristotle Onassis"
   ]
  },
  {
   "cell_type": "markdown",
   "metadata": {},
   "source": [
    "<font color='blue'>It's not about perfect. It's about effort. And when you bring that effort every single day, that's where transformation happens. That's how change occurs. - Jillian Michaels"
   ]
  },
  {
   "cell_type": "markdown",
   "metadata": {},
   "source": [
    "Success is no accident. It is hard work, perseverance, learning, studying, sacrifice and most of all, love of what you are doing or learning to do. - Pele"
   ]
  },
  {
   "cell_type": "markdown",
   "metadata": {},
   "source": [
    "<font color='blue'>Strength doesn’t come from what you can do. It comes from overcoming the things you once thought you couldn’t. - Rikki Rogers"
   ]
  },
  {
   "cell_type": "markdown",
   "metadata": {},
   "source": [
    "Learn from the past, set vivid, detailed goals for the future, and live in the only moment of time over which you have any control: now. - Denis Waitley"
   ]
  },
  {
   "cell_type": "markdown",
   "metadata": {},
   "source": [
    "<font color='blue'>We don’t develop courage by being happy every day. We develop it by surviving difficult times and challenging adversity. - Barbara De Angelis"
   ]
  },
  {
   "cell_type": "markdown",
   "metadata": {},
   "source": [
    "<font color='blue'>Fortune always favors the brave, and never helps a man who does not help himself. - P. T. Barnum"
   ]
  },
  {
   "cell_type": "markdown",
   "metadata": {},
   "source": [
    "<font color='blue'>Go confidently in the direction of your dreams. Live the life you have imagined. -Henry David Thoreau"
   ]
  },
  {
   "cell_type": "markdown",
   "metadata": {},
   "source": [
    "<font color='blue'>If you can dream it, then you can achieve it. You will get all you want in life if you help enough other people get what they want. - Zig Ziglar"
   ]
  },
  {
   "cell_type": "markdown",
   "metadata": {},
   "source": [
    "<font color='blue'>The only person you are destined to become is the person you decide to be. —Ralph Waldo Emerson"
   ]
  },
  {
   "cell_type": "markdown",
   "metadata": {},
   "source": [
    "Perfection is not attainable, but if we chase perfection we can catch excellence. — Vince Lombardi"
   ]
  },
  {
   "cell_type": "markdown",
   "metadata": {},
   "source": [
    "<font color='blue'>Life is 10% what happens to you and 90% how you react to it. - Charles R. Swindoll"
   ]
  },
  {
   "cell_type": "markdown",
   "metadata": {},
   "source": [
    "<font color='blue'>If you don’t like something, change it. If you can’t change it, change your attitude. - Maya Angelou"
   ]
  },
  {
   "cell_type": "markdown",
   "metadata": {},
   "source": [
    "You control your future, your destiny. What you think about comes about. By recording your dreams and goals on paper, you set in motion the process of becoming the person you most want to be. Put your future in good hands - your own. - Mark Victor Hansen"
   ]
  },
  {
   "cell_type": "markdown",
   "metadata": {},
   "source": [
    "<font color='blue'>Failure will never overtake me if my determination to succeed is strong enough. - Og Mandino"
   ]
  },
  {
   "cell_type": "markdown",
   "metadata": {},
   "source": [
    "<font color='blue'>Inaction breeds doubt and fear. Action breeds confidence and courage. If you want to conquer fear, do not sit home and think about it. Go out and get busy. - Dale Carnegie"
   ]
  },
  {
   "cell_type": "markdown",
   "metadata": {},
   "source": [
    "<font color='blue'>Limitations live only in our minds. But if we use our imaginations, our possibilities become limitless. —Jamie Paolinetti"
   ]
  },
  {
   "cell_type": "markdown",
   "metadata": {},
   "source": [
    "<font color='blue'>Setting goals is the first step into turning the invisible into the visible. - Tony Robbins"
   ]
  },
  {
   "cell_type": "markdown",
   "metadata": {},
   "source": [
    "Success means doing the best we can with what we have. Success is the doing, not the getting; in the trying, not the triumph. Success is a personal standard, reaching for the highest that is in us, becoming all that we can be. - Zig Ziglar"
   ]
  },
  {
   "cell_type": "markdown",
   "metadata": {},
   "source": [
    "Only those who dare to fail greatly can ever achieve greatly. - Robert F. Kennedy"
   ]
  },
  {
   "cell_type": "markdown",
   "metadata": {},
   "source": [
    "<font color='blue'>Remember that not getting what you want is sometimes a wonderful stroke of luck. —Dalai Lama"
   ]
  },
  {
   "cell_type": "markdown",
   "metadata": {},
   "source": [
    "<font color='blue'>Staying positive does not mean that things will turn out okay. Rather it is knowing that you will be okay no matter how things turn out. - Unknown"
   ]
  },
  {
   "cell_type": "markdown",
   "metadata": {},
   "source": [
    "<font color='blue'>You gain strength, courage, and confidence by every experience in which you really stop to look fear in the face. You are able to say to yourself, ‘I lived through this horror. I can take the next thing that comes along. - Eleanor Roosevelt"
   ]
  },
  {
   "cell_type": "markdown",
   "metadata": {},
   "source": [
    "No matter how hard times may get, always hold your head up and be strong; show them you’re not as weak as they think you are. - Unknown"
   ]
  },
  {
   "cell_type": "markdown",
   "metadata": {},
   "source": [
    "<font color='blue'>We may encounter many defeats but we must not be defeated. - Maya Angelou"
   ]
  },
  {
   "cell_type": "markdown",
   "metadata": {},
   "source": [
    "<font color='blue'>Twenty years from now you will be more disappointed by the things you didn’t do than by the things you did. - Mark Twain"
   ]
  },
  {
   "cell_type": "markdown",
   "metadata": {},
   "source": [
    "<font color='blue'>Believe in yourself! Have faith in your abilities! Without a humble but reasonable confidence in your own powers you cannot be successful or happy. - Norman Vincent Peale"
   ]
  },
  {
   "cell_type": "markdown",
   "metadata": {},
   "source": [
    "<font color='blue'>In order to carry a positive action we must develop here a positive vision. — Dalai Lama"
   ]
  },
  {
   "cell_type": "markdown",
   "metadata": {},
   "source": [
    "<font color='blue'>Your time is limited, so don't waste it living someone else's life. - Steve Jobs"
   ]
  },
  {
   "cell_type": "markdown",
   "metadata": {},
   "source": [
    "<font color='blue'>Be so happy that when others look at you they become happy too. - Unknown"
   ]
  },
  {
   "cell_type": "markdown",
   "metadata": {},
   "source": [
    "<font color='blue'>Challenges are what make life interesting and overcoming them is what makes life meaningful. - Joshua Marine"
   ]
  },
  {
   "cell_type": "markdown",
   "metadata": {},
   "source": [
    "I never dreamed about success. I worked for it. - Estee Lauder"
   ]
  },
  {
   "cell_type": "markdown",
   "metadata": {},
   "source": [
    "<font color='blue'>You cannot afford to live in potential for the rest of your life; at some point, you have to unleash the potential and make your move. - Eric Thomas"
   ]
  },
  {
   "cell_type": "markdown",
   "metadata": {},
   "source": [
    "<font color='blue'>It is never too late to be what you might have been. - George Eliot"
   ]
  },
  {
   "cell_type": "markdown",
   "metadata": {},
   "source": [
    "<font color='blue'>There is no greater disability in society than the inability to see a person as more. - Robert M. Hensel"
   ]
  },
  {
   "cell_type": "markdown",
   "metadata": {},
   "source": [
    "The best way to gain self-confidence is to do what you are afraid to do. - Swati Sharma"
   ]
  },
  {
   "cell_type": "markdown",
   "metadata": {},
   "source": [
    "<font color='blue'>When obstacles arise, you change your direction to reach your goal, you do not change your decision to get there. - Zig Ziglar"
   ]
  },
  {
   "cell_type": "markdown",
   "metadata": {},
   "source": [
    "The Secret of Change Is to Focus All of Your Energy, Not on Fighting the Old, But on Building the New - Socrates"
   ]
  },
  {
   "cell_type": "markdown",
   "metadata": {},
   "source": [
    "<font color='blue'>The pessimist sees difficulty in every opportunity. The optimist sees opportunity in every difficulty. - Winston Churchill"
   ]
  },
  {
   "cell_type": "markdown",
   "metadata": {},
   "source": [
    "You will never find time for anything. If you want time you must make it. - Charles Buxton"
   ]
  },
  {
   "cell_type": "markdown",
   "metadata": {},
   "source": [
    "<font color='blue'>The greatest danger for most of us is not that our aim is too high and we miss it, but that it is too low and we reach it. - Michaelangelo"
   ]
  },
  {
   "cell_type": "markdown",
   "metadata": {},
   "source": [
    "<font color='blue'>The two most important days in your life are the day you are born and the day you find out why. - Mark Twain"
   ]
  },
  {
   "cell_type": "markdown",
   "metadata": {},
   "source": [
    "<font color='blue'>Free yourself from your past mistakes, by forgiving yourself for what you have done or went through. Every day is another chance to start over. - Unknown"
   ]
  },
  {
   "cell_type": "markdown",
   "metadata": {},
   "source": [
    "<font color='blue'>It is less about becoming a better person, and more of being better, as a person. - J.R. Rim"
   ]
  },
  {
   "cell_type": "markdown",
   "metadata": {},
   "source": [
    "<font color='blue'>You can’t litter negativity everywhere and then wonder why you’ve got a trashy life. - Unknown"
   ]
  },
  {
   "cell_type": "markdown",
   "metadata": {},
   "source": [
    "Life is not about waiting for the storm to pass but learning to dance in the rain. - Vivian Greene"
   ]
  },
  {
   "cell_type": "markdown",
   "metadata": {},
   "source": [
    "When you know what you want, and want it bad enough, you’ll find a way to get it. - Jim Rohn"
   ]
  },
  {
   "cell_type": "markdown",
   "metadata": {},
   "source": [
    "<font color='blue'>If you can see yourself as an artist, and you can see that your life is your own creation, then why not create the most beautiful story for yourself? - Miguel Ruiz"
   ]
  },
  {
   "cell_type": "markdown",
   "metadata": {},
   "source": [
    "Challenges are what make life interesting and overcoming them is what makes life meaningful. - Joshua Marine"
   ]
  },
  {
   "cell_type": "markdown",
   "metadata": {},
   "source": [
    "<font color='blue'>In essence, if we want to direct our lives, we must take control of our consistent actions. It’s not what we do once in a while that shapes our lives, but what we do consistently. - Tony Robbins"
   ]
  },
  {
   "cell_type": "markdown",
   "metadata": {},
   "source": [
    "I find it sad that too many do not understand themselves, or their potential. They don’t even take the time to get to know their unconsciousness. <font color='blue'>You can truly learn so much, by simply getting to know the “you” that is behind the reality of yourself. - Lionel Suggs"
   ]
  },
  {
   "cell_type": "markdown",
   "metadata": {},
   "source": [
    "<font color='blue'>By making yourself a life-long learner you’ll keep discovering new and exciting things about yourself and others. - Rachel Robins"
   ]
  },
  {
   "cell_type": "markdown",
   "metadata": {},
   "source": [
    "<font color='blue'>Who you spend your time with will have a great impact on what kind of life you live. Spend time with the right people. - Joel Osteen"
   ]
  },
  {
   "cell_type": "markdown",
   "metadata": {},
   "source": [
    "When change happens, you have a choice for how you are going to respond. You can either lose your composure and react impetuously or use the event or situation as a <font color='blue'>learning opportunity to shift your mindset and respond appropriately. Begin to notice your responses when changes occur and do your best to choose a breakthrough over a breakdown. - Susan C. Young"
   ]
  },
  {
   "cell_type": "markdown",
   "metadata": {},
   "source": [
    "If you chase anything in life chase the things that get you excited about living. Chase the things that give you hope, happiness and a glimpse of a better life. Chase the things that make you want to be a better person. Chase the things that inspire you to think, create and live joyfully. Chase the things that reinforce in your soul that you can make a difference. Chase the things that make you want to transform your heart from selfish to selfless. When you chase that kind of storm you are chasing rainbows. - Shannon L. Alder"
   ]
  },
  {
   "cell_type": "markdown",
   "metadata": {},
   "source": [
    "<font color='blue'>Happiness is letting go of what you think your life is supposed to look like and enjoying it for everything that it is. - Mandy Hale"
   ]
  },
  {
   "cell_type": "markdown",
   "metadata": {},
   "source": [
    "<font color='blue'>Experience is the teacher of all things. - Julius Caesar"
   ]
  },
  {
   "cell_type": "markdown",
   "metadata": {},
   "source": [
    "What you want exists. Don’t settle until you get it."
   ]
  },
  {
   "cell_type": "markdown",
   "metadata": {},
   "source": [
    "<font color='blue'>Be with someone who is proud to have you."
   ]
  },
  {
   "cell_type": "markdown",
   "metadata": {},
   "source": [
    "<font color='blue'>Love is when the other persons happiness is more important than your own."
   ]
  },
  {
   "cell_type": "markdown",
   "metadata": {},
   "source": [
    "<font color='blue'>You don’t marry someone you can live with. You marry someone you can’t live without."
   ]
  },
  {
   "cell_type": "markdown",
   "metadata": {},
   "source": [
    "The best love story is when you fall in love with the most unexpected person at the most unexpected time."
   ]
  },
  {
   "cell_type": "markdown",
   "metadata": {},
   "source": [
    "Someday, someone might come into your life and love you the way you’ve always wanted."
   ]
  },
  {
   "cell_type": "markdown",
   "metadata": {},
   "source": [
    "<font color='blue'>You know you’re in love when you can’t fall asleep because reality is finally better than your dreams. - Dr Seuss"
   ]
  },
  {
   "cell_type": "markdown",
   "metadata": {},
   "source": [
    "<font color='blue'>It takes a strong heart to love, but it takes an even stronger heart to continue to love after it’s been hurt."
   ]
  },
  {
   "cell_type": "markdown",
   "metadata": {},
   "source": [
    "<font color='blue'>The couples that are meant to be are the ones who go through everything that is meant to tear them apart, and come out even stronger."
   ]
  },
  {
   "cell_type": "markdown",
   "metadata": {},
   "source": [
    "<font color='blue'>Without respect, love is lost. Without caring, love is boring. Without honesty, love is unhappy. Without trust, love is unstable."
   ]
  },
  {
   "cell_type": "markdown",
   "metadata": {},
   "source": [
    "<font color='blue'>We have to recognize that there cannot be relationships unless there is commitment, unless there is loyalty, unless there is love, patience, persistence. - Cornel West"
   ]
  },
  {
   "cell_type": "markdown",
   "metadata": {},
   "source": [
    "If you find it in your heart to care for somebody else, you will have succeeded. - Maya Angelou"
   ]
  },
  {
   "cell_type": "markdown",
   "metadata": {},
   "source": [
    "<font color='blue'>Never love anyone who treats you like you’re ordinary. - Oscar Wilde"
   ]
  },
  {
   "cell_type": "markdown",
   "metadata": {},
   "source": [
    "The best kiss is the one that has been exchanged a thousand times between the eyes before it reaches the lips. Unknown"
   ]
  },
  {
   "cell_type": "markdown",
   "metadata": {},
   "source": [
    "<font color='blue'>When you love someone, you love the person as they are, and not as you’d like them to be. Leo Tolstoy"
   ]
  },
  {
   "cell_type": "markdown",
   "metadata": {},
   "source": [
    "<font color='blue'>I’d rather hustle 24/7 than slave 9 to 5."
   ]
  },
  {
   "cell_type": "markdown",
   "metadata": {},
   "source": [
    "You never lose in business. <font color='blue'>You either win or learn."
   ]
  },
  {
   "cell_type": "markdown",
   "metadata": {},
   "source": [
    "<font color='blue'>The best way to predict the future is to create it. - Peter Drucker"
   ]
  },
  {
   "cell_type": "markdown",
   "metadata": {},
   "source": [
    "<font color='blue'>It’s not about ideas. It’s about making ideas happen.  - Scott Belsky"
   ]
  },
  {
   "cell_type": "markdown",
   "metadata": {},
   "source": [
    "As an entrepreneur, you never stop learning.  - Daymond John"
   ]
  },
  {
   "cell_type": "markdown",
   "metadata": {},
   "source": [
    "<font color='blue'>Success is what happens after you have survived your disappointments."
   ]
  },
  {
   "cell_type": "markdown",
   "metadata": {},
   "source": [
    "<font color='blue'>Chase the vision, not the money. The money will end up following you.  - Tony Hsieh"
   ]
  },
  {
   "cell_type": "markdown",
   "metadata": {},
   "source": [
    "We are never in lack of money. We lack people with dreams who can die for those dreams. - Jack Ma"
   ]
  },
  {
   "cell_type": "markdown",
   "metadata": {},
   "source": [
    "<font color='blue'>When something is important enough, you do it even if the odds are not in your favor. - Elon Musk"
   ]
  },
  {
   "cell_type": "markdown",
   "metadata": {},
   "source": [
    "All things equal, people will do business with, and refer business to, people they know trust and like. - Bob Burg"
   ]
  },
  {
   "cell_type": "markdown",
   "metadata": {},
   "source": [
    "From my very first day as an entrepreneur, I’ve felt <font color='blue'>the only mission worth pursuing in business is to make people’s lives better. - Richard Branson"
   ]
  },
  {
   "cell_type": "markdown",
   "metadata": {},
   "source": [
    "<font color='blue'>It takes twenty years to build a reputation. And five minutes to ruin it. If you think about that, you’ll do things differently. - Warren Buffet"
   ]
  },
  {
   "cell_type": "markdown",
   "metadata": {},
   "source": [
    "<font color='blue'>Success in life comes when you simply refuse to give up, with goals so strong that obstacles, failure, and loss only act as motivation. - Unknown"
   ]
  },
  {
   "cell_type": "markdown",
   "metadata": {},
   "source": [
    "Grind while they sleep. Learn while they party. Live like they dream. - Unknown"
   ]
  },
  {
   "cell_type": "markdown",
   "metadata": {},
   "source": [
    "<font color='blue'>It’s not whether you get knocked down. It’s whether you get up. - Vince Lombardi"
   ]
  },
  {
   "cell_type": "markdown",
   "metadata": {},
   "source": [
    "I’ve learned that making a `living' is not the same thing as `making a life'. - Maya Angelou"
   ]
  },
  {
   "cell_type": "markdown",
   "metadata": {},
   "source": [
    "<font color='blue'>Every job is a self portrait of a person who does it. Autograph your work with excellence. - Unknown"
   ]
  },
  {
   "cell_type": "markdown",
   "metadata": {},
   "source": [
    "<font color='blue'>Don’t be busy. Be productive. - Unknown"
   ]
  },
  {
   "cell_type": "markdown",
   "metadata": {},
   "source": [
    "<font color='blue'>If the plan doesn’t work, change the plan. But never the goal. - Unknown"
   ]
  },
  {
   "cell_type": "markdown",
   "metadata": {},
   "source": [
    "<font color='blue'>Ability: is what you are capable of doing. Motivation: determines what you do. Attitude: determines how well you do it. - Unknown"
   ]
  },
  {
   "cell_type": "markdown",
   "metadata": {},
   "source": [
    "<font color='blue'>To do great work is to love what you do. - Unknown"
   ]
  },
  {
   "cell_type": "markdown",
   "metadata": {},
   "source": [
    "<font color='blue'>Work hard in silence. Let success make the noise. - Unknown"
   ]
  },
  {
   "cell_type": "markdown",
   "metadata": {},
   "source": [
    "<font color='blue'>If you want to achieve greatness, stop asking for permission. - Unknown"
   ]
  },
  {
   "cell_type": "markdown",
   "metadata": {},
   "source": [
    "<font color='blue'>You will never always be motivated. You have to learn to be disciplined. - Unknown"
   ]
  },
  {
   "cell_type": "markdown",
   "metadata": {},
   "source": [
    "<font color='blue'>Don’t downgrade your dream just to fit your reality. Upgrade your conviction to match your destiny. - Unknown"
   ]
  },
  {
   "cell_type": "markdown",
   "metadata": {},
   "source": [
    "<font color='blue'>Working hard for something we don’t care about is called stress. Working hard for something we love is called passion. - Unknown"
   ]
  },
  {
   "cell_type": "markdown",
   "metadata": {},
   "source": [
    "Success means doing the best we can with what we have. <font color='blue'>Success is the doing, not the getting; in the trying, not the triumph.</font> Success is a personal standard, reaching for the highest that is in us, becoming all that we can be. - Zig Ziglar"
   ]
  },
  {
   "cell_type": "markdown",
   "metadata": {},
   "source": [
    "The truth is that our finest moments are most likely to occur when we are feeling deeply uncomfortable, unhappy, or unfulfilled. <font color='blue'>For it is only in such moments, propelled by our discomfort, that we are likely to step out of our ruts and start searching for different ways or truer answers. - M. Scott Peck"
   ]
  },
  {
   "cell_type": "markdown",
   "metadata": {},
   "source": [
    "<font color='blue'>Find out what you like doing best, and get someone to pay you for doing it. - Katherine Whitehorn"
   ]
  },
  {
   "cell_type": "markdown",
   "metadata": {},
   "source": [
    "<font color='blue'>Whatever you are, be a good one. - Abraham Lincoln"
   ]
  },
  {
   "cell_type": "markdown",
   "metadata": {},
   "source": [
    "<font color='blue'>It never gets easier. You just get better."
   ]
  },
  {
   "cell_type": "markdown",
   "metadata": {},
   "source": [
    "<font color='blue'>Look in the mirror. That’s your competition."
   ]
  },
  {
   "cell_type": "markdown",
   "metadata": {},
   "source": [
    "<font color='blue'>Don’t wish it were easier. Wish you were better. - Jim Rohn"
   ]
  },
  {
   "cell_type": "markdown",
   "metadata": {},
   "source": [
    "<font color='blue'>Confidence comes from discipline and training. - Robert Kiyosaki"
   ]
  },
  {
   "cell_type": "markdown",
   "metadata": {},
   "source": [
    "<font color='blue'>Success is what comes after your stop making excuses. - Luis Galarza"
   ]
  },
  {
   "cell_type": "markdown",
   "metadata": {},
   "source": [
    "<font color='blue'>Setting goals is the first step into turning the invisible into the visible. - Tony Robbins"
   ]
  },
  {
   "cell_type": "markdown",
   "metadata": {},
   "source": [
    "Results happen over time, not overnight. Work hard, stay consistent, and be patient."
   ]
  },
  {
   "cell_type": "markdown",
   "metadata": {},
   "source": [
    "<font color='blue'>There is only one thing that makes a dream impossible to achieve: the fear of failure. - Paulo Coelho"
   ]
  },
  {
   "cell_type": "markdown",
   "metadata": {},
   "source": [
    "<font color='blue'>Optimism is the faith that leads to achievement. Nothing can be done without hope and confidence. - Helen Keller"
   ]
  },
  {
   "cell_type": "markdown",
   "metadata": {},
   "source": [
    "<font color='blue'>Whenever you find yourself doubting how far you can go, just remember how far you have come. Remember everything you have faced, all the battles you have won, and all the fears you have overcome. - Unknown"
   ]
  },
  {
   "cell_type": "markdown",
   "metadata": {},
   "source": [
    "<font color='blue'>Starve your distractions. Feed your focus."
   ]
  },
  {
   "cell_type": "markdown",
   "metadata": {},
   "source": [
    "<font color='blue'>There is no elevator to success. You have to take the stairs."
   ]
  },
  {
   "cell_type": "markdown",
   "metadata": {},
   "source": [
    "<font color='blue'>Excuses will always be there for you. Opportunity won’t."
   ]
  },
  {
   "cell_type": "markdown",
   "metadata": {},
   "source": [
    "<font color='blue'>Maturity comes when you stop making excuses and start making changes."
   ]
  },
  {
   "cell_type": "markdown",
   "metadata": {},
   "source": [
    "Your life is a school. Everything that happens is teaching you something. Pay attention."
   ]
  },
  {
   "cell_type": "markdown",
   "metadata": {},
   "source": [
    "<font color='blue'>What you think of yourself is much more important than what people think of you."
   ]
  },
  {
   "cell_type": "markdown",
   "metadata": {},
   "source": [
    "The harder you work for something, the greater you’ll feel when you achieve it."
   ]
  },
  {
   "cell_type": "markdown",
   "metadata": {},
   "source": [
    "<font color='blue'>Education is the most powerful weapon which you can use to change the world. - Nelson Mandela"
   ]
  },
  {
   "cell_type": "markdown",
   "metadata": {},
   "source": [
    "<font color='blue'>Confidence comes not from always being right but from not fearing to be wrong. - Peter T. Mcintyre"
   ]
  },
  {
   "cell_type": "markdown",
   "metadata": {},
   "source": [
    "We don’t develop courage by being happy every day. We develop it by surviving difficult times and challenging adversity. - Barbara De Angelis"
   ]
  },
  {
   "cell_type": "markdown",
   "metadata": {},
   "source": [
    "<font color='blue'>Challenges and obstacles are a part of life. They make us stronger and build character. If life were easy it would be boring and you would never grow."
   ]
  },
  {
   "cell_type": "markdown",
   "metadata": {},
   "source": [
    "<font color='blue'>Your personal growth is the only thing that matters. You own and write your story; no one else does. Believe in the unique step up the mountain. - Brittany Burgunder"
   ]
  },
  {
   "cell_type": "markdown",
   "metadata": {},
   "source": [
    "<font color='blue'>Failure doesn’t mean it’s over. It means try with more experience."
   ]
  },
  {
   "cell_type": "markdown",
   "metadata": {},
   "source": [
    "Be a student as long as you still have something to learn, and this will mean all your life. - Henry L. Doherty"
   ]
  },
  {
   "cell_type": "markdown",
   "metadata": {},
   "source": [
    "<font color='blue'>The future belongs to those who believe in the beauty of their dreams - Franklin D. Roosevelt"
   ]
  },
  {
   "cell_type": "markdown",
   "metadata": {},
   "source": [
    "<font color='blue'>What consumes your mind controls your life."
   ]
  },
  {
   "cell_type": "markdown",
   "metadata": {},
   "source": [
    "<font color='blue'>What you choose to focus on expands and grows."
   ]
  },
  {
   "cell_type": "markdown",
   "metadata": {},
   "source": [
    "<font color='blue'>Confidence comes from discipline and training. - Robert Kiyosaki"
   ]
  },
  {
   "cell_type": "markdown",
   "metadata": {},
   "source": [
    "<font color='blue'>No one can make you feel inferior without your consent. - Eleanor Roosevelt"
   ]
  },
  {
   "cell_type": "markdown",
   "metadata": {},
   "source": [
    "<font color='blue'>It takes courage to grow up and become who you really are. - E.E. Cummings"
   ]
  },
  {
   "cell_type": "markdown",
   "metadata": {},
   "source": [
    "Our deepest fear is not that we are inadequate. Our deepest fear is that we are powerful beyond measure. It is our light, not our darkness, that most frightens us. We ask ourselves, `Who am I to be brilliant, gorgeous, talented, fabulous?' Actually, who are you not to be? - Marianne Williamson"
   ]
  },
  {
   "cell_type": "markdown",
   "metadata": {},
   "source": [
    "<font color='blue'>Love who you are, embrace who you are. Love yourself. When you love yourself, people can kind of pick up on that: they can see confidence, they can see self-esteem, and naturally, people gravitate towards you. - Lilly Singh"
   ]
  },
  {
   "cell_type": "markdown",
   "metadata": {},
   "source": [
    "Optimism is the faith that leads to achievement. Nothing can be done without hope and confidence. - Helen Keller"
   ]
  },
  {
   "cell_type": "markdown",
   "metadata": {},
   "source": [
    "What you think of yourself is much more important than what people think of you."
   ]
  },
  {
   "cell_type": "markdown",
   "metadata": {},
   "source": [
    "<font color='blue'>Always be yourself and have faith in yourself. Do not go out and look for a successful personality and try to duplicate it. - Bruce Lee"
   ]
  },
  {
   "cell_type": "markdown",
   "metadata": {},
   "source": [
    "<font color='blue'>The moment you doubt whether you can fly, you cease for ever to be able to do it. - J.M. Barrie"
   ]
  },
  {
   "cell_type": "markdown",
   "metadata": {},
   "source": [
    "<font color='blue'>Believe in yourself! Have faith in your abilities! Without a humble but reasonable confidence in your own powers you cannot be successful or happy. - Norman Vincent Peale"
   ]
  },
  {
   "cell_type": "markdown",
   "metadata": {},
   "source": [
    "Confidence is something you create in yourself by believing in who you are."
   ]
  },
  {
   "cell_type": "markdown",
   "metadata": {},
   "source": [
    "<font color='blue'>Confidence comes not from always being right but from not fearing to be wrong. - Peter T. Mcintyre"
   ]
  },
  {
   "cell_type": "markdown",
   "metadata": {},
   "source": [
    "<font color='blue'>Don’t be afraid of your fears. They’re not there to scare you. They’re there to let you know that something is worth it. - C. JoyBell C."
   ]
  },
  {
   "cell_type": "markdown",
   "metadata": {},
   "source": [
    "The best way to gain self-confidence is to do what you are afraid to do. - Swati Sharma"
   ]
  },
  {
   "cell_type": "markdown",
   "metadata": {},
   "source": [
    "Don’t think about what might go wrong. Think about what might go right."
   ]
  },
  {
   "cell_type": "markdown",
   "metadata": {},
   "source": [
    "<font color='blue'>You gain strength, courage, and confidence by every experience in which you really stop to look fear in the face. You are able to say to yourself, ‘I lived through this horror. I can take the next thing that comes along. Eleanor Roosevelt"
   ]
  },
  {
   "cell_type": "markdown",
   "metadata": {},
   "source": [
    "<font color='blue'>Because one believes in oneself, one doesn’t try to convince others. Because one is content with oneself, one doesn’t need others’ approval. Because one accepts oneself, the whole world accepts him or her. - Lao Tzu"
   ]
  },
  {
   "cell_type": "markdown",
   "metadata": {},
   "source": [
    "<font color='blue'>Whether you think you can or can’t, your’e right."
   ]
  },
  {
   "cell_type": "markdown",
   "metadata": {},
   "source": [
    "<font color='blue'>The worst enemy to creativity is self-doubt. - Sylvia Plath"
   ]
  },
  {
   "cell_type": "markdown",
   "metadata": {},
   "source": [
    "<font color='blue'>Confidence is not `They will like me'. `Confidence is `I’ll be fine if they don’t'"
   ]
  },
  {
   "cell_type": "markdown",
   "metadata": {},
   "source": [
    "<font color='blue'>The pain you feel today is the strength you feel tomorrow."
   ]
  },
  {
   "cell_type": "markdown",
   "metadata": {},
   "source": [
    "<font color='blue'>As long as you look for someone else to validate who you are by seeking their approval, you are setting yourself up for disaster.</font> You have to be whole and complete in yourself. No one can give you that. <font color='blue'>You have to know who you are - what others say is irrelevant. - Nic Sheff"
   ]
  },
  {
   "cell_type": "markdown",
   "metadata": {},
   "source": [
    "<font color='blue'>Be humble in your confidence yet courageous in your character. - Melanie Koulouris"
   ]
  },
  {
   "cell_type": "markdown",
   "metadata": {},
   "source": [
    "Remember…you are braver than you believe, stronger than you seem, and smarter than you think."
   ]
  },
  {
   "cell_type": "markdown",
   "metadata": {},
   "source": [
    "Don’t wait until everything is just right. It will never be perfect. There will always be challenges, obstacles and less than perfect conditions. So what. Get started now. With each step you take, you will grow stronger and stronger, more and more skilled, more and more self-confident and more and more successful. - Mark Victor Hansen"
   ]
  },
  {
   "cell_type": "markdown",
   "metadata": {},
   "source": [
    "<font color='blue'>Confidence is a habit that can be developed by acting as if you already had the confidence you desire to have. Brian Tracy"
   ]
  },
  {
   "cell_type": "markdown",
   "metadata": {},
   "source": [
    "<font color='blue'>With confidence you have won before you have started. - Marcus Garvey"
   ]
  },
  {
   "cell_type": "markdown",
   "metadata": {},
   "source": [
    "<font color='blue'>I am in charge of how I feel and today I am feeling happiness."
   ]
  },
  {
   "cell_type": "markdown",
   "metadata": {},
   "source": [
    "<font color='blue'>Even the greatest were beginners. Don’t be afraid to take that first step."
   ]
  },
  {
   "cell_type": "markdown",
   "metadata": {},
   "source": [
    "<font color='blue'>I am thankful for all of those who said no to me. It’s because of them I am doing it myself."
   ]
  },
  {
   "cell_type": "markdown",
   "metadata": {},
   "source": [
    "<font color='blue'>To have faith doesn’t mean you get any less frustrated when you don’t do your best, but you know that it’s not life and death. Take what you’re given, and when you continue to work hard, you will see results. That will give you the confidence you need to keep going. Tom Lehman"
   ]
  },
  {
   "cell_type": "markdown",
   "metadata": {},
   "source": [
    "<font color='blue'>Inaction breeds doubt and fear. Action breeds confidence and courage. If you want to conquer fear, do not sit home and think about it. Go out and get busy. Dale Carnegie"
   ]
  },
  {
   "cell_type": "markdown",
   "metadata": {},
   "source": [
    "<font color='blue'>Train your mind to see the good in any situation."
   ]
  },
  {
   "cell_type": "markdown",
   "metadata": {},
   "source": [
    "<font color='blue'>Talk to yourself in the same way you would to someone you love."
   ]
  },
  {
   "cell_type": "markdown",
   "metadata": {},
   "source": [
    "<font color='blue'>Courage is resistance to fear, mastery of fear - not absence of fear. - Mark Twain"
   ]
  },
  {
   "cell_type": "markdown",
   "metadata": {},
   "source": [
    "<font color='blue'>Self-confidence is the most attractive quality a person can have. How can anyone see how great you are if you can’t see it yourself?"
   ]
  },
  {
   "cell_type": "markdown",
   "metadata": {},
   "source": [
    "<font color='blue'>It is not the mountain we conquer, but ourselves. Sir Edmund Hillary"
   ]
  },
  {
   "cell_type": "markdown",
   "metadata": {},
   "source": [
    "<font color='blue'>Your positive action combined with positive thinking results in success."
   ]
  },
  {
   "cell_type": "markdown",
   "metadata": {},
   "source": [
    "Confront the dark parts of yourself, and work to <font color='blue'>banish them with illumination and forgiveness. Your willingness to wrestle with your demons will cause your angels to sing. - August Wilson"
   ]
  },
  {
   "cell_type": "markdown",
   "metadata": {},
   "source": [
    "With realization of one’s own potential and self-confidence in one’s ability, one can build a better world. - Dalai Lama"
   ]
  },
  {
   "cell_type": "markdown",
   "metadata": {},
   "source": [
    "<font color='blue'>Successful people have fear, successful people have doubts, and successful people have worries. They just don’t let these feelings stop them. - T. Harv Eker"
   ]
  },
  {
   "cell_type": "markdown",
   "metadata": {},
   "source": [
    "When you accomplish the impossible then you can achieve anything. - Stephen Richards"
   ]
  },
  {
   "cell_type": "markdown",
   "metadata": {},
   "source": [
    "<font color='blue'>Make the most of yourself; for that is all there is of you. - Ralph Waldo Emerson"
   ]
  },
  {
   "cell_type": "markdown",
   "metadata": {},
   "source": [
    "No matter what you’re going through, there’s a light at the end of the tunnel and it may seem hard to get to it but you can do it and just keep working towards it and you’ll find the positive side of things. - Demi Lovato"
   ]
  },
  {
   "cell_type": "markdown",
   "metadata": {},
   "source": [
    "<font color='blue'>You must do the thing you think you cannot do. - Eleanor Roosevelt"
   ]
  },
  {
   "cell_type": "markdown",
   "metadata": {},
   "source": [
    "Love: I guess It is some kind of magic, It has a power to make us better… But there is the thing magic can sometimes be an illusion and nothing else. - Rati Tsiteladze"
   ]
  },
  {
   "cell_type": "markdown",
   "metadata": {},
   "source": [
    "<font color='blue'>Too many people overvalue what they are not and undervalue what they are. - Malcolm Forbes"
   ]
  },
  {
   "cell_type": "markdown",
   "metadata": {},
   "source": [
    "Our own self-esteem is something we can actually twist in whatever way we want. - Stephen Richards"
   ]
  },
  {
   "cell_type": "markdown",
   "metadata": {},
   "source": [
    "I find hope in the darkest of days, and focus in the brightest. I do not judge the universe. - Dalai Lama"
   ]
  },
  {
   "cell_type": "markdown",
   "metadata": {},
   "source": [
    "When you get into a tight place and everything goes against you, till it seems as though you could not hang on a minute longer, never give up then, for that is just the place and time that the tide will turn. - Harriet Beecher Stowe"
   ]
  },
  {
   "cell_type": "markdown",
   "metadata": {},
   "source": [
    "<font color='blue'>Make a pact with yourself today to not be defined by your past. Sometimes the greatest thing to come out of all your hard work isn’t what you get for it, but what you become for it. Shake things up today! Be You…Be Free…Share. - Steve Maraboli"
   ]
  },
  {
   "cell_type": "markdown",
   "metadata": {},
   "source": [
    "<font color='blue'>Daily ripples of excellence -over time- become a tsunami of success - Robin S. Sharma"
   ]
  },
  {
   "cell_type": "markdown",
   "metadata": {},
   "source": [
    "<font color='blue'>It is by going down into the abyss that we recover the treasures of life. Where you stumble, there lies your treasure. - Joseph Campbell"
   ]
  },
  {
   "cell_type": "markdown",
   "metadata": {},
   "source": [
    "<font color='blue'>Today is the day to cast your worries on God and breathe in new life. Your past does not define who you are today. - Gabriella Marigold"
   ]
  },
  {
   "cell_type": "markdown",
   "metadata": {},
   "source": [
    "<font color='blue'>Are you managing your energy well and using it for things that matter? Do you stop to recharge before you push yourself to critically low levels? Unplug to recharge. - Susan C. Young"
   ]
  },
  {
   "cell_type": "markdown",
   "metadata": {},
   "source": [
    "The first place where self-esteem begins its journey is within us. - Stephen Richards"
   ]
  },
  {
   "cell_type": "markdown",
   "metadata": {},
   "source": [
    "<font color='blue'>You are never to old to set another goal or to dream a new dream. - C.S. Lewis"
   ]
  },
  {
   "cell_type": "markdown",
   "metadata": {},
   "source": [
    "<font color='blue'>The real test is not whether you avoid this failure, because you won’t. It’s whether you let it harden or shame you into inaction, or whether you learn from it; whether you choose to persevere. - Barack Obama"
   ]
  },
  {
   "cell_type": "markdown",
   "metadata": {},
   "source": [
    "Even if you fall on your face, you’re still moving forward. - Victor Kiam"
   ]
  },
  {
   "cell_type": "markdown",
   "metadata": {},
   "source": [
    "<font color='blue'>Do you want to know who you are? Don’t ask. Act! Action will delineate and define you. - Thomas Jefferson"
   ]
  },
  {
   "cell_type": "markdown",
   "metadata": {},
   "source": [
    "<font color='blue'>No matter who you are, no matter what you did, no matter where you’ve come from, you can always change, become a better version of yourself. - Madonna"
   ]
  },
  {
   "cell_type": "markdown",
   "metadata": {},
   "source": [
    "Love many things, for therein lies the true strength, and whosoever loves much performs much, and can accomplish much, and what is done in love is done well. - Vincent Van Gogh"
   ]
  },
  {
   "cell_type": "markdown",
   "metadata": {},
   "source": [
    "<font color='blue'>The key is to keep company only with people who uplift you, whose presence calls forth your best. - Epictetus"
   ]
  },
  {
   "cell_type": "markdown",
   "metadata": {},
   "source": [
    "<font color='blue'>Rise up. Start fresh. See the bright opportunity in each new day."
   ]
  },
  {
   "cell_type": "markdown",
   "metadata": {},
   "source": [
    "<font color='blue'>What would you do if you weren’t afraid?"
   ]
  },
  {
   "cell_type": "markdown",
   "metadata": {},
   "source": [
    "<font color='blue'>Start each day with a grateful heart."
   ]
  },
  {
   "cell_type": "markdown",
   "metadata": {},
   "source": [
    "<font color='blue'>Attitude is everything. New day, new strength, new thoughts."
   ]
  },
  {
   "cell_type": "markdown",
   "metadata": {},
   "source": [
    "It’s a good day to have a good day."
   ]
  },
  {
   "cell_type": "markdown",
   "metadata": {},
   "source": [
    "<font color='blue'>Set a goal that makes you want to jump out of bed in the morning."
   ]
  },
  {
   "cell_type": "markdown",
   "metadata": {},
   "source": [
    "<font color='blue'>Throw kindness around like confetti."
   ]
  },
  {
   "cell_type": "markdown",
   "metadata": {},
   "source": [
    "<font color='blue'>The best way to predict the future is to create it."
   ]
  },
  {
   "cell_type": "markdown",
   "metadata": {},
   "source": [
    "<font color='blue'>There are so many beautiful reasons to be happy."
   ]
  },
  {
   "cell_type": "markdown",
   "metadata": {},
   "source": [
    "<font color='blue'>Life works for my benefit."
   ]
  },
  {
   "cell_type": "markdown",
   "metadata": {},
   "source": [
    "<font color='blue'>Today is a beautiful day and I will attract good things into my life."
   ]
  },
  {
   "cell_type": "markdown",
   "metadata": {},
   "source": [
    "Start each day thinking about warm fuzzy kittens and cute little puppies and its impossible to have a bad day."
   ]
  },
  {
   "cell_type": "markdown",
   "metadata": {},
   "source": [
    "<font color='blue'>What do you want to create today? It’s your choice."
   ]
  },
  {
   "cell_type": "markdown",
   "metadata": {},
   "source": [
    "<font color='blue'>What you choose to focus on expands."
   ]
  },
  {
   "cell_type": "markdown",
   "metadata": {},
   "source": [
    "<font color='blue'>Today I will make progress towards my goals and keep pushing forward with all of my heart."
   ]
  },
  {
   "cell_type": "markdown",
   "metadata": {},
   "source": [
    "Follow your dreams. Follow your passions. If you make a mistake, pick yourself up and learn from them. But whatever you do…keep moving forward."
   ]
  },
  {
   "cell_type": "markdown",
   "metadata": {},
   "source": [
    "When you wake up each morning, see yourself as a new baby being born into the world with no negative past."
   ]
  },
  {
   "cell_type": "markdown",
   "metadata": {},
   "source": [
    "<font color='blue'>Be gentle with yourself, you’re doing the best you can."
   ]
  },
  {
   "cell_type": "markdown",
   "metadata": {},
   "source": [
    "<font color='blue'>No one controls how I feel about myself, but me."
   ]
  },
  {
   "cell_type": "markdown",
   "metadata": {},
   "source": [
    "You are loved. You have purpose. You are a masterpiece. You are wonderfully made. God has a great plan for you. -Germany Kent"
   ]
  },
  {
   "cell_type": "markdown",
   "metadata": {},
   "source": [
    "<font color='blue'>Write down five things you are grateful for. Then no matter what happens today, no one can take that away from you. Stay positive."
   ]
  },
  {
   "cell_type": "markdown",
   "metadata": {},
   "source": [
    "<font color='blue'>More smiling, less worrying. More compassion, less judgment. More blessed, less stressed. More love, less hate. -Roy T. Bennett"
   ]
  },
  {
   "cell_type": "markdown",
   "metadata": {},
   "source": [
    "The secret of happiness: Find something more important than you are and dedicate your life to it. -Daniel C. Dennett"
   ]
  },
  {
   "cell_type": "markdown",
   "metadata": {},
   "source": [
    "I know I have unlimited potential to create the life of my dreams."
   ]
  },
  {
   "cell_type": "markdown",
   "metadata": {},
   "source": [
    "<font color='blue'>Forgive those who try and bring you down and make you feel like they do."
   ]
  },
  {
   "cell_type": "markdown",
   "metadata": {},
   "source": [
    "<font color='blue'>Laugh. It’s free medicine you don’t need insurance for."
   ]
  },
  {
   "cell_type": "markdown",
   "metadata": {},
   "source": [
    "<font color='blue'>If you want to make your dreams come true, the first thing to do is wake up. – J.M. Power"
   ]
  },
  {
   "cell_type": "markdown",
   "metadata": {},
   "source": [
    "<font color='blue'>One small positive thought in the morning can change your whole day."
   ]
  },
  {
   "cell_type": "markdown",
   "metadata": {},
   "source": [
    "You came into the world to do something; So… do something! -Johnnie Dent Jr."
   ]
  },
  {
   "cell_type": "markdown",
   "metadata": {},
   "source": [
    "<font color='blue'>What other people think about you is none of your business."
   ]
  },
  {
   "cell_type": "markdown",
   "metadata": {},
   "source": [
    "Follow your bliss and don’t be afraid, and doors will open where you didn’t know they were going to be. – Joseph Campbell"
   ]
  },
  {
   "cell_type": "markdown",
   "metadata": {},
   "source": [
    "<font color='blue'>A beautiful day begins with a beautiful mindset. The moment you start acting like it is a blessing, it will start to feel like one. Good morning."
   ]
  },
  {
   "cell_type": "markdown",
   "metadata": {},
   "source": [
    "# CONTINUE"
   ]
  },
  {
   "cell_type": "markdown",
   "metadata": {},
   "source": [
    "On this new day, I would like to tell you, that time heals everything, that even a reason cannot, so, start your day with a smile, good morning, walk that extra mile!"
   ]
  },
  {
   "cell_type": "markdown",
   "metadata": {},
   "source": [
    "Don’t let other people effect your good day. You do you."
   ]
  },
  {
   "cell_type": "markdown",
   "metadata": {},
   "source": [
    "No one is in control of your happiness but you; therefore, you have the power to change anything about yourself or your life that you want to change. – Barbara DeAngelis"
   ]
  },
  {
   "cell_type": "markdown",
   "metadata": {},
   "source": [
    "Sometimes your joy is the source of your smile, but sometimes your smile can be the source of your joy. –Thich Nhat Hanh"
   ]
  },
  {
   "cell_type": "markdown",
   "metadata": {},
   "source": [
    "How you begin your day can make your day, or break your day. Your attitude and your actions have a strong effect on your whole day. Begin with a smile, a calmness of mind and a heart filled with gratitude. A positive mindset that it’s going to be a wonderful day."
   ]
  },
  {
   "cell_type": "markdown",
   "metadata": {},
   "source": [
    "Great things never came from comfort zones."
   ]
  },
  {
   "cell_type": "markdown",
   "metadata": {},
   "source": [
    "Choose kindness and laugh often."
   ]
  },
  {
   "cell_type": "markdown",
   "metadata": {},
   "source": [
    "Work hard and be nice to people."
   ]
  },
  {
   "cell_type": "markdown",
   "metadata": {},
   "source": [
    "Self confidence is the best outfit."
   ]
  },
  {
   "cell_type": "markdown",
   "metadata": {},
   "source": [
    "Instead of worrying about what you cannot control, shift your energy to what you can create. -Roy T. Bennett"
   ]
  },
  {
   "cell_type": "markdown",
   "metadata": {},
   "source": [
    "Your mind is a powerful thing. When you fill it with positive thoughts, your life will start to change."
   ]
  },
  {
   "cell_type": "markdown",
   "metadata": {},
   "source": [
    "When you want to succeed as bad as you want to breathe, then you’ll be successful. – Eric Thomas"
   ]
  },
  {
   "cell_type": "markdown",
   "metadata": {},
   "source": [
    "Don’t start your day with the broken pieces of yesterday. Every day is a fresh start. Every morning we wake up is the first day of the rest of our life."
   ]
  },
  {
   "cell_type": "markdown",
   "metadata": {},
   "source": [
    "Yesterday is gone, tomorrow is mystery, today is blessing."
   ]
  },
  {
   "cell_type": "markdown",
   "metadata": {},
   "source": [
    "You were put on this earth to achieve your greatest self, to live out your purpose, and to do it courageously. -Steve Maraboli,"
   ]
  },
  {
   "cell_type": "markdown",
   "metadata": {},
   "source": [
    "Never stop believing in hope because miracles happen everyday."
   ]
  },
  {
   "cell_type": "markdown",
   "metadata": {},
   "source": [
    "Don’t let the opinions of others consume you."
   ]
  },
  {
   "cell_type": "markdown",
   "metadata": {},
   "source": [
    "Whatever problems you may have right now, accept them as a challenge and say to yourself, “Bring it on. I will rise up and become stronger.”"
   ]
  },
  {
   "cell_type": "markdown",
   "metadata": {},
   "source": [
    "Let your smile change the world, but don’t let the world change your smile."
   ]
  },
  {
   "cell_type": "markdown",
   "metadata": {},
   "source": [
    "Start your day with deep breath. Inhale all the love and goodness, and exhale all the tears, fears, worries and stress, then … smile."
   ]
  },
  {
   "cell_type": "markdown",
   "metadata": {},
   "source": [
    "You are on a magical journey called “life”. It is a precious gift. You will never be this you again. Relax, have fun, and enjoy the ride!"
   ]
  },
  {
   "cell_type": "markdown",
   "metadata": {},
   "source": [
    "You are the executive director and screenwriter of your life. – Eric Thomas"
   ]
  },
  {
   "cell_type": "markdown",
   "metadata": {},
   "source": [
    "No matter what, no matter how, where or who – you can almost always turn around and get a second chance."
   ]
  },
  {
   "cell_type": "markdown",
   "metadata": {},
   "source": [
    "As you start and end your day, be thankful for every little thing in your life. You will come to realize how blessed you truly are."
   ]
  },
  {
   "cell_type": "markdown",
   "metadata": {},
   "source": [
    "Don’t be pushed around by the fears in your mind. Be led by the dreams in your heart. -Roy T. Bennett"
   ]
  },
  {
   "cell_type": "markdown",
   "metadata": {},
   "source": [
    "It is not how much we have, but how much we enjoy, that makes happiness. –Charles Spurgeon"
   ]
  },
  {
   "cell_type": "markdown",
   "metadata": {},
   "source": [
    "At some point in life you have to face your fears. – Eric Thomas"
   ]
  },
  {
   "cell_type": "markdown",
   "metadata": {},
   "source": [
    "Remember your dreams and fight for them. You must know what you want from life. There is just one thing that makes your dream become impossible: the fear of failure. – Paulo Coelho"
   ]
  },
  {
   "cell_type": "markdown",
   "metadata": {},
   "source": [
    "In the journey of life, we pass pleasures and pain. There will be sunshine and rain; there will be loss and gain. But we must learn to smile again and again."
   ]
  },
  {
   "cell_type": "markdown",
   "metadata": {},
   "source": [
    "I am in charge of how I feel and today I am choosing happiness."
   ]
  },
  {
   "cell_type": "markdown",
   "metadata": {},
   "source": [
    "You’ve never lived this day before, and you never will again. Make the most of it!"
   ]
  },
  {
   "cell_type": "markdown",
   "metadata": {},
   "source": [
    "Be helpful. When you see a person without a smile, give them yours – Zig Ziglar."
   ]
  },
  {
   "cell_type": "markdown",
   "metadata": {},
   "source": [
    "Upon waking, let your first thought be, “thank you”."
   ]
  },
  {
   "cell_type": "markdown",
   "metadata": {},
   "source": [
    "Rule your mind or it will rule you. -Buddha"
   ]
  },
  {
   "cell_type": "markdown",
   "metadata": {},
   "source": [
    "Do more of what lights you up and makes you feel alive. The world needs your spark."
   ]
  },
  {
   "cell_type": "markdown",
   "metadata": {},
   "source": [
    "Don’t wait until everything is just right. It will never be perfect. There will always be challenges, obstacles and less than perfect conditions. So what? Get started now. With each step you take, you will grow stronger and stronger, more and more skilled, more and more self-confident and more and more successful. – Mark Victor Hansen"
   ]
  },
  {
   "cell_type": "markdown",
   "metadata": {},
   "source": [
    "The happiest people in the world are those who feel absolutely terrific about themselves, and this is the natural outgrowth of accepting total responsibility for every part of their life. -Brian Tracy"
   ]
  },
  {
   "cell_type": "markdown",
   "metadata": {},
   "source": [
    "Sometimes it ain’t about being the most talented. Sometimes it ain’t about being the smartest. Sometimes it’s not even about working the hardest. Sometimes it’s about consistency! – Eric Thomas"
   ]
  },
  {
   "cell_type": "markdown",
   "metadata": {},
   "source": [
    "No matter how you feel, get up, dress up, show up and never give up."
   ]
  },
  {
   "cell_type": "markdown",
   "metadata": {},
   "source": [
    "You are amazing, unique and beautiful. There is nothing more you need to be, do or have in order to be happy. You are perfect just as you are. Yes, really. So smile, give love and enjoy every moment of this precious life."
   ]
  },
  {
   "cell_type": "markdown",
   "metadata": {},
   "source": [
    "Stay focused, go after your dreams and keep moving toward your goals. – LL Cool J"
   ]
  },
  {
   "cell_type": "markdown",
   "metadata": {},
   "source": [
    "Everyone wants to live on top of the mountain, but all the happiness and growth occurs while you’re climbing it. -Andy Rooney"
   ]
  },
  {
   "cell_type": "markdown",
   "metadata": {},
   "source": [
    "Challenges are what make life interesting and overcoming them is what makes life meaningful. – Joshua J. Marine"
   ]
  },
  {
   "cell_type": "markdown",
   "metadata": {},
   "source": [
    "When you arise in the morning, think of what a precious privilege it is to be alive – to breathe, to think, to enjoy, to love. – Marcus Aurelius"
   ]
  },
  {
   "cell_type": "markdown",
   "metadata": {},
   "source": [
    "Being happy doesn’t mean that everything is perfect. It means that you’ve decided to look beyond the imperfections."
   ]
  },
  {
   "cell_type": "markdown",
   "metadata": {},
   "source": [
    "Take it all one day at a time and enjoy the journey. – Kristi Bartlett"
   ]
  },
  {
   "cell_type": "markdown",
   "metadata": {},
   "source": [
    "When you rise in the morning, give thanks for the light, for your life, for your strength. Give thanks for your food and for the joy of living. If you see no reason to give thanks, the fault lies in yourself. – Tecumseh"
   ]
  },
  {
   "cell_type": "markdown",
   "metadata": {},
   "source": [
    "Morning signifies a new beginning. So this morning start by forgiving yourself for all the mistakes you made yesterday and look forward to the promising day that lies ahead of you. Have a good morning!"
   ]
  },
  {
   "cell_type": "markdown",
   "metadata": {},
   "source": [
    "Don’t ask what the world needs. Ask what makes you come alive and go do it. Because what the world needs is more people who have come alive – Howard Thurman."
   ]
  },
  {
   "cell_type": "markdown",
   "metadata": {},
   "source": [
    "The biggest adventure you can take is to live the life of your dreams. – Oprah Winfrey"
   ]
  },
  {
   "cell_type": "markdown",
   "metadata": {},
   "source": [
    "Go confidently in the direction of your dreams. Live the life you have imagined. – Henry David Thoreau"
   ]
  },
  {
   "cell_type": "markdown",
   "metadata": {},
   "source": [
    "As you change your point of view, your views bring about a change in you. -George Alexiou"
   ]
  },
  {
   "cell_type": "markdown",
   "metadata": {},
   "source": [
    "Today I choose life. Every morning when I wake up I can choose joy, happiness, negativity, pain… To feel the freedom that comes from being able to continue to make mistakes and choices – today I choose to feel life, not to deny my humanity but embrace it. – Kevyn Aucoin"
   ]
  },
  {
   "cell_type": "markdown",
   "metadata": {},
   "source": [
    "It is never too late to be what you might have been. – George Eliot"
   ]
  },
  {
   "cell_type": "markdown",
   "metadata": {},
   "source": [
    "The best way to make your dreams come true is to wake up. – Paul Valery"
   ]
  },
  {
   "cell_type": "markdown",
   "metadata": {},
   "source": [
    "Stay positive and happy. Work hard and don’t give up hope. Be open to criticism and keep learning. Surround yourself with happy, warm and genuine people. – Tena Desae"
   ]
  },
  {
   "cell_type": "markdown",
   "metadata": {},
   "source": [
    "Get up today and say, “This is going to be a great day. I’m excited about my future. Something good is going to happen to me.”"
   ]
  },
  {
   "cell_type": "markdown",
   "metadata": {},
   "source": [
    "The best thing you can do for yourself is to stop saying “I wish” and start saying “I will”. And then do something about it."
   ]
  },
  {
   "cell_type": "markdown",
   "metadata": {},
   "source": [
    "Though no one can go back and make a brand new start, anyone can start from now and make a brand new ending. – Carl Bard"
   ]
  },
  {
   "cell_type": "markdown",
   "metadata": {},
   "source": [
    "Don’t rely on someone else for your happiness and self-worth. Only you can be responsible for that. If you can’t love and respect yourself – no one else will be able to make that happen. Accept who you are – completely; the good and the bad – and make changes as YOU see fit – not because you think someone else wants you to be different. – Stacey Charter"
   ]
  },
  {
   "cell_type": "markdown",
   "metadata": {},
   "source": [
    "Even the smallest shift in perspective can bring about the greatest healing. -Joshua Kai"
   ]
  },
  {
   "cell_type": "markdown",
   "metadata": {},
   "source": [
    "Wake up every morning with the thought that something wonderful is about to happen…"
   ]
  },
  {
   "cell_type": "markdown",
   "metadata": {},
   "source": [
    "The best years of your life are the ones in which you decide your problems are your own. You do not blame them on your mother, the ecology, or the president. You realize that you control your own destiny. – Albert Ellis"
   ]
  },
  {
   "cell_type": "markdown",
   "metadata": {},
   "source": [
    "Believe with all of your heart that you will do what you were made to do. – Orison Swett Marden"
   ]
  },
  {
   "cell_type": "markdown",
   "metadata": {},
   "source": [
    "Life is too short to waste your time on people who don’t respect, appreciate, and value you. -Roy T. Bennett"
   ]
  },
  {
   "cell_type": "markdown",
   "metadata": {},
   "source": [
    "Life is full of beauty. Notice it. Notice the bumble bee, the small child, and the smiling faces. Smell the rain, and feel the wind. Live your life to the fullest potential, and fight for your dreams. – Ashley Smith"
   ]
  },
  {
   "cell_type": "markdown",
   "metadata": {},
   "source": [
    "I have found that if you love life, life will love you back – Arthur Rubinstein."
   ]
  },
  {
   "cell_type": "markdown",
   "metadata": {},
   "source": [
    "Some people dream of success, while other people get up every morning and make it happen. – Wayne Huizenga"
   ]
  },
  {
   "cell_type": "markdown",
   "metadata": {},
   "source": [
    "Surround yourself with people who get you."
   ]
  },
  {
   "cell_type": "markdown",
   "metadata": {},
   "source": [
    "You must expect great things of yourself before you can do them. – Michael Jordan"
   ]
  },
  {
   "cell_type": "markdown",
   "metadata": {},
   "source": [
    "Take responsibility of your own happiness, never put it in other people’s hands. -Roy T. Bennett"
   ]
  },
  {
   "cell_type": "markdown",
   "metadata": {},
   "source": [
    "Learn to enjoy every minute of your life. Be happy now. Don’t wait for something outside of yourself to make you happy in the future. Think how really precious is the time you have to spend, whether it’s at work or with your family. Every minute should be enjoyed and savored. – Earl Nightingale"
   ]
  }
 ],
 "metadata": {
  "kernelspec": {
   "display_name": "Python 3",
   "language": "python",
   "name": "python3"
  },
  "language_info": {
   "codemirror_mode": {
    "name": "ipython",
    "version": 3
   },
   "file_extension": ".py",
   "mimetype": "text/x-python",
   "name": "python",
   "nbconvert_exporter": "python",
   "pygments_lexer": "ipython3",
   "version": "3.6.7"
  }
 },
 "nbformat": 4,
 "nbformat_minor": 2
}
