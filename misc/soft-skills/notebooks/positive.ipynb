{
 "cells": [
  {
   "cell_type": "markdown",
   "metadata": {},
   "source": [
    "Staying positive does not mean that things will turn out okay. Rather it is knowing that you will be okay no matter how things turn out. - unknown"
   ]
  },
  {
   "cell_type": "markdown",
   "metadata": {},
   "source": [
    "In every day, there are 1,440 minutes. That means we have 1,440 daily opportunities to make a positive impact. Les Brown"
   ]
  },
  {
   "cell_type": "markdown",
   "metadata": {},
   "source": [
    "Once we accept our limits, we go beyond them. - Albert Einstein"
   ]
  },
  {
   "cell_type": "markdown",
   "metadata": {},
   "source": [
    "Life has many ways of testing a person’s will, either by having nothing happen at all or by having everything happen all at once. - Paulo Coelho"
   ]
  },
  {
   "cell_type": "markdown",
   "metadata": {},
   "source": [
    "You can, you should, and if you’re brave enough to start, you will. - Stephen King"
   ]
  },
  {
   "cell_type": "markdown",
   "metadata": {},
   "source": [
    "Keep your face to the sunshine and you cannot see a shadow. - Helen Keller"
   ]
  },
  {
   "cell_type": "markdown",
   "metadata": {},
   "source": [
    "You don’t manifest dreams without taking chances. - Stephen Richards"
   ]
  },
  {
   "cell_type": "markdown",
   "metadata": {},
   "source": [
    "Attitude is a choice. Happiness is a choice. Optimism is a choice. Kindness is a choice. Giving is a choice. Respect is a choice. Whatever choice you make makes you. Choose wisely. - Roy T. Bennett"
   ]
  },
  {
   "cell_type": "markdown",
   "metadata": {},
   "source": [
    "Whatever the mind can conceive and believe, it can achieve. - Napoleon Hill"
   ]
  },
  {
   "cell_type": "markdown",
   "metadata": {},
   "source": [
    "There are two ways of spreading light: to be the candle, or the mirror that reflects it. - Edith Wharton"
   ]
  },
  {
   "cell_type": "markdown",
   "metadata": {},
   "source": [
    "I don’t care if you’re black, white, straight, bisexual, gay, lesbian, short, tall, fat, skinny, rich or poor. If you’re nice to me, I’ll be nice to you. Simple as that. - Robert Michaels"
   ]
  },
  {
   "cell_type": "markdown",
   "metadata": {},
   "source": [
    "Life is too short to waste your time on people who don’t respect, appreciate, and value you. - Roy T. Bennett"
   ]
  },
  {
   "cell_type": "markdown",
   "metadata": {},
   "source": [
    "Positive anything is better than negative nothing. - Elbert Hubbard"
   ]
  },
  {
   "cell_type": "markdown",
   "metadata": {},
   "source": [
    "Optimism is a happiness magnet. If you stay positive, good things and good people will be drawn to you. - Mary Lou Retton"
   ]
  },
  {
   "cell_type": "markdown",
   "metadata": {},
   "source": [
    "Once you replace negative thoughts with positive ones, you’ll start having positive results. - Willie Nelson"
   ]
  },
  {
   "cell_type": "markdown",
   "metadata": {},
   "source": [
    "Have faith in the universe and its capability to lead you to the path of abundance. - Stephen Richards"
   ]
  },
  {
   "cell_type": "markdown",
   "metadata": {},
   "source": [
    "Love yourself first and everything else falls into line. You really have to love yourself to get anything done in this world. - Lucille Ball"
   ]
  },
  {
   "cell_type": "markdown",
   "metadata": {},
   "source": [
    "I always like to look on the optimistic side of life, but I am realistic enough to know that life is a complex matter. - Walt Disney"
   ]
  },
  {
   "cell_type": "markdown",
   "metadata": {},
   "source": [
    "Always dream and shoot higher than you know you can do. Do not bother just to be better than your contemporaries or predecessors. Try to be better than yourself. - William Faulkner"
   ]
  },
  {
   "cell_type": "markdown",
   "metadata": {},
   "source": [
    "Motivation is what gets you started. Habit is what keeps you going. - Jim Rohn"
   ]
  },
  {
   "cell_type": "markdown",
   "metadata": {},
   "source": [
    "The curious paradox is that when I accept myself just as I am, then I can change. - Carl R. Rogers"
   ]
  },
  {
   "cell_type": "markdown",
   "metadata": {},
   "source": [
    "Whatever you hold in your mind on a consistent basis is exactly what you will experience in your life. - Tony Robbins"
   ]
  },
  {
   "cell_type": "markdown",
   "metadata": {},
   "source": [
    "With everything that has happened to you, you can either feel sorry for yourself or treat what has happened as a gift. Everything is either an opportunity to grow or an obstacle to keep you from growing. You get to choose. - Dr. Wayne W Dyer"
   ]
  },
  {
   "cell_type": "markdown",
   "metadata": {},
   "source": [
    "Yesterday is not ours to recover, but tomorrow is ours to win or lose. - Lyndon B. Johnson"
   ]
  },
  {
   "cell_type": "markdown",
   "metadata": {},
   "source": [
    "You can either complain about it or grind, I choose to grind. - Kyle Vidrine"
   ]
  },
  {
   "cell_type": "markdown",
   "metadata": {},
   "source": [
    "It makes a big difference in your life when you stay positive. - Ellen DeGeneres"
   ]
  },
  {
   "cell_type": "markdown",
   "metadata": {},
   "source": [
    "We can complain because rose bushes have thorns, or rejoice because thorns have roses. - Alphonse Karr"
   ]
  },
  {
   "cell_type": "markdown",
   "metadata": {},
   "source": [
    "Stay positive, all other choices are pointless punishments to your psyche. - Joe Peterson"
   ]
  },
  {
   "cell_type": "markdown",
   "metadata": {},
   "source": [
    "It takes but one positive thought when given a chance to survive and thrive to overpower an entire army of negative thoughts. - Robert H. Schuller"
   ]
  },
  {
   "cell_type": "markdown",
   "metadata": {},
   "source": [
    "Believe in yourself! Have faith in your abilities! Without a humble but reasonable confidence in your own powers you cannot be successful or happy. - Norman Vincent Peale"
   ]
  },
  {
   "cell_type": "markdown",
   "metadata": {},
   "source": [
    "When your sense of self and happiness comes from within and isn’t a roller coaster ride dependent on others or circumstances, you approach life differently. You make better choices. You draw to you the people and situations that matter. The others, they fall away. - Kamal Ravikant"
   ]
  },
  {
   "cell_type": "markdown",
   "metadata": {},
   "source": [
    "If you believe you can change-if you make it a habit-the change becomes real. This is the real power of habit: the insight that your habits are what you choose them to be. Once that choice occurs-and becomes automatic-it’s not only real, it starts to seem inevitable. - Charles Duhigg"
   ]
  },
  {
   "cell_type": "markdown",
   "metadata": {},
   "source": [
    "You can find a better you inside of you. Why don’t you search for that? - Munia Khan"
   ]
  },
  {
   "cell_type": "markdown",
   "metadata": {},
   "source": [
    "More smiling, less worrying. More compassion, less judgment. More blessed, less stressed. More love, less hate. - Roy T. Bennett"
   ]
  },
  {
   "cell_type": "markdown",
   "metadata": {},
   "source": [
    "Your personal growth is the only thing that matters. You own and write your story; no one else does. Believe in the unique step up the mountain. - Brittany Burgunder"
   ]
  },
  {
   "cell_type": "markdown",
   "metadata": {},
   "source": [
    "In order to carry a positive action we must develop here a positive vision. - Dalai Lama"
   ]
  },
  {
   "cell_type": "markdown",
   "metadata": {},
   "source": [
    "A positive attitude causes a chain reaction of positive thoughts, events, and outcomes. It is a catalyst, and it sparks extraordinary results. Wade Boggs"
   ]
  },
  {
   "cell_type": "markdown",
   "metadata": {},
   "source": [
    "Keep your face to the sunshine and you cannot see a shadow. - Helen Keller"
   ]
  },
  {
   "cell_type": "markdown",
   "metadata": {},
   "source": [
    "A good life is doing what you love as much as you can and doing what you must as much as you should - Savania China"
   ]
  },
  {
   "cell_type": "markdown",
   "metadata": {},
   "source": [
    "Earn your confidence, nurture it, then help to build it in others. - Alex Malley"
   ]
  },
  {
   "cell_type": "markdown",
   "metadata": {},
   "source": [
    "Winners make a habit of manufacturing their own positive expectations in advance of the event. - Brian Tracy"
   ]
  },
  {
   "cell_type": "markdown",
   "metadata": {},
   "source": [
    "There’s enough of everything to go around for everybody but not without awareness and positive beliefs about abundance. - Mayra Mejia"
   ]
  },
  {
   "cell_type": "markdown",
   "metadata": {},
   "source": [
    "If you know why you are here, if you have a reason - a purpose, you know why you are born - you know why you are alive and you will feel alive. Purpose is THE MOST IMPORTANT thing in the world to have. - Jellis Vaes"
   ]
  },
  {
   "cell_type": "markdown",
   "metadata": {},
   "source": [
    "Pessimism leads to weakness, optimism to power. - William James"
   ]
  },
  {
   "cell_type": "markdown",
   "metadata": {},
   "source": [
    "When you depersonalize abrasive behavior and see it as a call for help you become a catalyst for the best kind of change. - Marilyn Suttle"
   ]
  },
  {
   "cell_type": "markdown",
   "metadata": {},
   "source": [
    "You are the sum total of everything you’ve ever seen, heard, eaten, smelled, been told, forgot-it’s all there. Everything influences each of us, and because of that I try to make sure that my experiences are positive. - Maya Angelou"
   ]
  },
  {
   "cell_type": "markdown",
   "metadata": {},
   "source": [
    "Hate. It has caused a lot of problems in this world but has not solved one yet. - Maya Angelou"
   ]
  },
  {
   "cell_type": "markdown",
   "metadata": {},
   "source": [
    "Don’t be pushed around by the fears in your mind. Be led by the dreams in your heart. - Roy T. Bennett"
   ]
  },
  {
   "cell_type": "markdown",
   "metadata": {},
   "source": [
    "Positive thinking will let you do everything better than negative thinking will. - Zig Ziglar"
   ]
  },
  {
   "cell_type": "markdown",
   "metadata": {},
   "source": [
    "If you are positive, you’ll see opportunities instead of obstacles. - Widad Akrawi"
   ]
  },
  {
   "cell_type": "markdown",
   "metadata": {},
   "source": [
    "When you are enthusiastic about what you do, you feel this positive energy. It’s very simple. - Paulo Coelho"
   ]
  },
  {
   "cell_type": "markdown",
   "metadata": {},
   "source": [
    "An attitude of positive expectation is the mark of the superior personality. - Brian Tracy"
   ]
  }
 ],
 "metadata": {
  "kernelspec": {
   "display_name": "Python 3",
   "language": "python",
   "name": "python3"
  },
  "language_info": {
   "codemirror_mode": {
    "name": "ipython",
    "version": 3
   },
   "file_extension": ".py",
   "mimetype": "text/x-python",
   "name": "python",
   "nbconvert_exporter": "python",
   "pygments_lexer": "ipython3",
   "version": "3.6.7"
  }
 },
 "nbformat": 4,
 "nbformat_minor": 2
}
