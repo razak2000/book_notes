{
 "cells": [
  {
   "cell_type": "markdown",
   "metadata": {},
   "source": [
    "A bad workman quarrels with his tools.<br>\n",
    "A bird in the hand is worth two in the bush.<br>\n",
    "A burnt child dreads the fire.<br>\n",
    "A cat in gloves catches no mice.<br>\n",
    "A clean hand wants no washing.<br>\n",
    "A danger foreseen is half avoided.<br>\n",
    "A good anvil does not fear the hammer.<br>\n",
    "A good beginning is half the battle.<br>\n",
    "A great ship asks deep waters.<br>\n",
    "A watched pot never boils.<br>\n",
    "All things are difficult before they are easy.<br>\n",
    "An hour in the morning is worth two in the evening.<br>\n",
    "An oak is not felled at one stroke.<br>\n",
    "An open door may tempt a saint.<br>\n",
    "Best defence is offence.<br>\n",
    "By doing nothing we learn to do ill.<br>"
   ]
  },
  {
   "cell_type": "code",
   "execution_count": null,
   "metadata": {},
   "outputs": [],
   "source": []
  }
 ],
 "metadata": {
  "kernelspec": {
   "display_name": "Python 3",
   "language": "python",
   "name": "python3"
  },
  "language_info": {
   "codemirror_mode": {
    "name": "ipython",
    "version": 3
   },
   "file_extension": ".py",
   "mimetype": "text/x-python",
   "name": "python",
   "nbconvert_exporter": "python",
   "pygments_lexer": "ipython3",
   "version": "3.6.7"
  }
 },
 "nbformat": 4,
 "nbformat_minor": 2
}
