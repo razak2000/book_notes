{
 "cells": [
  {
   "cell_type": "markdown",
   "metadata": {},
   "source": [
    "Priest to aethieist: You are like a man who is totally blindfolded in a dark room looking for a black cat that is not there. Aethiest replies, you are the saame, the only difference is that you found it"
   ]
  },
  {
   "cell_type": "markdown",
   "metadata": {},
   "source": [
    "It’s been said that most people die when they are 35 yet they are not buried until they are in their 70s"
   ]
  },
  {
   "cell_type": "markdown",
   "metadata": {},
   "source": [
    "(thoughts) truth and shelf-life - Some people with their truthts and words with a very low shelf-life"
   ]
  },
  {
   "cell_type": "markdown",
   "metadata": {},
   "source": [
    "Your soul is like your house, not very clean"
   ]
  },
  {
   "cell_type": "markdown",
   "metadata": {},
   "source": [
    "You can hide your face but that wont remove the tatto of 'jog' on your face"
   ]
  },
  {
   "cell_type": "markdown",
   "metadata": {},
   "source": [
    "Prayers starts with a PR"
   ]
  },
  {
   "cell_type": "markdown",
   "metadata": {},
   "source": [
    "The PR pawns"
   ]
  },
  {
   "cell_type": "markdown",
   "metadata": {},
   "source": [
    "Charity to a charlatan is like swastka to a Nazi. It serves his evil purpose"
   ]
  },
  {
   "cell_type": "markdown",
   "metadata": {},
   "source": [
    "You want to apology on your own terms"
   ]
  },
  {
   "cell_type": "markdown",
   "metadata": {},
   "source": [
    "Like a young beautiful witch who is afraid of her old wrinkled wart face reflected in the mirror"
   ]
  },
  {
   "cell_type": "markdown",
   "metadata": {},
   "source": [
    "There is a difference between following a fool and being a fool who follows. Do I follow a fool or am I just a fool who follows"
   ]
  },
  {
   "cell_type": "markdown",
   "metadata": {},
   "source": [
    "figament of imaginations"
   ]
  },
  {
   "cell_type": "markdown",
   "metadata": {},
   "source": [
    "I stink therefore I am. All my life I misread in following the philosoper who said \"I think therefore I am\"; I was instead following it as \"I stink therefore I am\""
   ]
  },
  {
   "cell_type": "markdown",
   "metadata": {},
   "source": [
    "Over my gorgeous dead body"
   ]
  },
  {
   "cell_type": "markdown",
   "metadata": {},
   "source": [
    "I heard you changed your name to Goeregous Khan."
   ]
  },
  {
   "cell_type": "markdown",
   "metadata": {},
   "source": [
    "What is the point of a fist fight with someone with uncurable leper"
   ]
  },
  {
   "cell_type": "markdown",
   "metadata": {},
   "source": []
  },
  {
   "cell_type": "markdown",
   "metadata": {},
   "source": []
  },
  {
   "cell_type": "markdown",
   "metadata": {},
   "source": []
  },
  {
   "cell_type": "markdown",
   "metadata": {},
   "source": []
  },
  {
   "cell_type": "markdown",
   "metadata": {},
   "source": []
  },
  {
   "cell_type": "markdown",
   "metadata": {},
   "source": []
  },
  {
   "cell_type": "markdown",
   "metadata": {},
   "source": []
  },
  {
   "cell_type": "markdown",
   "metadata": {},
   "source": []
  },
  {
   "cell_type": "markdown",
   "metadata": {},
   "source": []
  }
 ],
 "metadata": {
  "kernelspec": {
   "display_name": "Python 3",
   "language": "python",
   "name": "python3"
  },
  "language_info": {
   "codemirror_mode": {
    "name": "ipython",
    "version": 3
   },
   "file_extension": ".py",
   "mimetype": "text/x-python",
   "name": "python",
   "nbconvert_exporter": "python",
   "pygments_lexer": "ipython3",
   "version": "3.6.7"
  }
 },
 "nbformat": 4,
 "nbformat_minor": 2
}
