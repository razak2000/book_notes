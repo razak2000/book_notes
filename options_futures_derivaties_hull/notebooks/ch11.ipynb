{
 "cells": [
  {
   "cell_type": "markdown",
   "metadata": {},
   "source": [
    "<font color = 'blue'>There are six factors affecting the price of a stock option:\n",
    "1.  The current stock price, $S_\\theta$\n",
    "2.  The strike price, $K$\n",
    "3.  The time to expiration, $T$\n",
    "4.  The volatility of the stock price, $\\sigma$\n",
    "5.  The risk-free interest rate, $r$\n",
    "6.  The dividends that are expected to be paid.\n"
   ]
  },
  {
   "cell_type": "markdown",
   "metadata": {},
   "source": [
    "If a call option is exercised at some future time, the payoff will be the amount by which\n",
    "the stock price exceeds the strike price. \n",
    "<font color = 'blue'>Call options therefore become more valuable as\n",
    "the stock price increases and less valuable as the strike price increases."
   ]
  },
  {
   "cell_type": "markdown",
   "metadata": {},
   "source": [
    "For a put option, the payoff on exercise is the amount by which the strike price exceeds the stock price.\n",
    "<font color = 'blue'>Put options therefore behave in the opposite way from call options: they become less\n",
    "valuable as the stock price increases and more valuable as the strike price increases."
   ]
  },
  {
   "cell_type": "markdown",
   "metadata": {},
   "source": [
    "<font color = 'blue'>Both put and call American options\n",
    "become more valuable (or at least do not decrease in value) as the time to expiration\n",
    "increases."
   ]
  },
  {
   "cell_type": "markdown",
   "metadata": {},
   "source": [
    "The long-life option must therefore\n",
    "always be worth at least as much as the short-life option."
   ]
  },
  {
   "cell_type": "markdown",
   "metadata": {},
   "source": [
    "<font color = 'blue'>Although European put and call options usually become more valuable as the time\n",
    "to expiration increases (see Figure 11.1e, f), this is not always the case."
   ]
  },
  {
   "cell_type": "markdown",
   "metadata": {},
   "source": [
    "<font color = 'blue'>The dividend will cause the stock price to decline,</font> so that the short-life option\n",
    "could be worth more than the long-life option"
   ]
  },
  {
   "cell_type": "markdown",
   "metadata": {},
   "source": [
    "Roughly\n",
    "speaking, the volatility of a stock price is a measure of how uncertain we are about\n",
    "future stock price movements."
   ]
  },
  {
   "cell_type": "markdown",
   "metadata": {},
   "source": [
    "As volatility increases, the chance that the stock will do\n",
    "very well or very poorly increases. For the owner of a stock, these two outcomes tend to\n",
    "offset each other."
   ]
  },
  {
   "cell_type": "markdown",
   "metadata": {},
   "source": [
    "The owner of a\n",
    "call benefits from price increases but has limited downside risk in the event of price\n",
    "decreases because the most the owner can lose is the price of the option. Similarly, the\n",
    "owner of a put benefits from price decreases, but has limited downside risk in the event\n",
    "of price increases."
   ]
  },
  {
   "cell_type": "markdown",
   "metadata": {},
   "source": [
    "<font color = 'blue'>The values of both calls and puts therefore increase as volatility\n",
    "increases\n"
   ]
  },
  {
   "cell_type": "markdown",
   "metadata": {},
   "source": [
    "The risk-free interest rate affects the price of an option in a less clear-cut way."
   ]
  },
  {
   "cell_type": "markdown",
   "metadata": {},
   "source": [
    "<font color = 'blue'>As\n",
    "interest rates in the economy increase, the expected return required by investors from\n",
    "the stock tends to increase.\n"
   ]
  },
  {
   "cell_type": "markdown",
   "metadata": {},
   "source": [
    "<font color = 'blue'>In addition, the present value of any future cash flow\n",
    "received by the holder of the option decreases."
   ]
  },
  {
   "cell_type": "markdown",
   "metadata": {},
   "source": [
    "<font color = 'blue'>The combined impact of these two\n",
    "effects is to increase the value of call options and decrease the value of put options"
   ]
  },
  {
   "cell_type": "markdown",
   "metadata": {},
   "source": [
    "It is important to emphasize that we are assuming that interest rates change while all\n",
    "other variables stay the same.\n",
    "In practice, when interest rates rise\n",
    "(fall), stock prices tend to fall (rise)\n"
   ]
  },
  {
   "cell_type": "markdown",
   "metadata": {},
   "source": [
    "<font color = 'blue'>The combined effect of an interest rate increase and\n",
    "the accompanying stock price decrease can be to decrease the value of a call option and\n",
    "increase the value of a put option.</font> Similarly, the combined effect of an interest rate\n",
    "decrease and the accompanying stock price increase can be to increase the value of a\n",
    "call option and decrease the value of a put option."
   ]
  },
  {
   "cell_type": "markdown",
   "metadata": {},
   "source": [
    "<font color = 'blue'>Dividends have the effect of reducing the stock price on the ex-dividend date. This is\n",
    "bad news for the value of call options and good news for the value of put options."
   ]
  },
  {
   "cell_type": "markdown",
   "metadata": {},
   "source": [
    "Consider a dividend whose ex-dividend date is during the life of an option. <font color = 'blue'>The value of\n",
    "the option is negatively related to the size of the dividend if the option is a call and\n",
    "positively related to the size of the dividend if the option is a put."
   ]
  },
  {
   "cell_type": "markdown",
   "metadata": {},
   "source": [
    "# 11.2 \n",
    "\n",
    "We assume that there are some market participants, such as large investment banks, for which the following statements are true:\n",
    "\n",
    "1. There are no transaction costs.\n",
    "2. All trading profits (net of trading losses) are subject to the same tax rate.\n",
    "3. Borrowing and lending are possible at the risk-free interest rate."
   ]
  },
  {
   "cell_type": "markdown",
   "metadata": {},
   "source": [
    "\n",
    "For the purposes of our\n",
    "analysis, it is therefore reasonable to assume that there are no arbitrage opportunities."
   ]
  },
  {
   "cell_type": "markdown",
   "metadata": {},
   "source": [
    "<font color = 'magenta'>It should be noted that $r$ is the nominal risk-free rate of interest, not the real risk-free\n",
    "rate of interest.</font> <font color = 'blue'>The real rate of interest is the rate of interest earned after adjustment for the effects of inflation.</font> if the nominal rate of interest is 3% and inflation is 2%, the real rate of interest is approximately\n",
    "1%."
   ]
  },
  {
   "cell_type": "markdown",
   "metadata": {},
   "source": [
    "# 11.3\n",
    "If an option price is above the upper bound or below the lower bound,\n",
    "then there are profitable opportunities for arbitrageurs."
   ]
  },
  {
   "cell_type": "markdown",
   "metadata": {},
   "source": [
    "An American or European <font color = 'blue'>call option</font> gives the holder the right to buy one share of a\n",
    "stock for a certain price.<font color = 'blue'>No matter what happens, the option can never be worth more\n",
    "than the stock. Hence, the stock price is an upper bound to the option price:"
   ]
  },
  {
   "cell_type": "markdown",
   "metadata": {},
   "source": [
    "An American <font color = 'blue'>put option</font> gives the holder the right to sell one share of a stock for K. <font color = 'blue'>No matter how low the stock price becomes, the option can never be worth more\n",
    "than $K$."
   ]
  },
  {
   "cell_type": "markdown",
   "metadata": {},
   "source": [
    "For European options, we know that at maturity the option cannot be worth more\n",
    "than $K$. <font color = 'blue'>It follows that it cannot be worth more than the present value of $K$ today\n",
    "$$ p \\leq K\\it{e}^{-rT} $$"
   ]
  },
  {
   "cell_type": "markdown",
   "metadata": {},
   "source": [
    "<font color = 'blue'>A lower bound for the price of a European call option on a non-dividend-paying stock is\n",
    "$$S_0 - K\\it{e}^{-rT}$$"
   ]
  },
  {
   "cell_type": "markdown",
   "metadata": {},
   "source": [
    "<font color = 'blue'>For a European put option on a non-dividend-paying stock, a lower bound for the\n",
    "price is\n",
    "$$K\\it{e}^{-rT} - S_0$$"
   ]
  },
  {
   "cell_type": "markdown",
   "metadata": {},
   "source": [
    "# 11.4\n",
    "We now derive an important relationship between the prices of European put and call\n",
    "options that have the same strike price and time to maturity."
   ]
  },
  {
   "cell_type": "markdown",
   "metadata": {},
   "source": [
    "The components of portfolio A are worth $c$ and $K\\it{e}^{-rT}$ today, and the components of\n",
    "portfolio C are worth $p$ and $S_0$ today. <font color = 'blue'>Hence $$c + K\\it{e}^{-rT} = p + S_0$$. This relationship is known as put–call parity"
   ]
  },
  {
   "cell_type": "markdown",
   "metadata": {},
   "source": [
    "<font color = 'blue'>It shows that the value of a European call\n",
    "with a certain exercise price and exercise date can be deduced from the value of a\n",
    "European put with the same exercise price and exercise date, and vice versa."
   ]
  },
  {
   "cell_type": "markdown",
   "metadata": {},
   "source": [
    "Put–call parity holds only for European options. However, it is possible to derive some\n",
    "results for American option prices."
   ]
  },
  {
   "cell_type": "markdown",
   "metadata": {},
   "source": [
    "<font color = 'blue'>It can be shown (see Problem 11.18) that, when\n",
    "there are no dividends, $$S_0 - K \\leq C - P \\leq S_0 - K\\it{e}^{-rT}$$\n"
   ]
  },
  {
   "cell_type": "markdown",
   "metadata": {},
   "source": [
    "# 11.5\n",
    "In this section, we first show that it is never optimal to exercise an American call option\n",
    "on a non-dividend-paying stock before the expiration date."
   ]
  },
  {
   "cell_type": "markdown",
   "metadata": {},
   "source": [
    "Because the owner of an American call has all the exercise opportunities open to the\n",
    "owner of the corresponding European call, we must have $C \\geq c$. Hence,\n",
    "$$C \\geq S_0 - K\\it{e}^{-rT}$$"
   ]
  },
  {
   "cell_type": "markdown",
   "metadata": {},
   "source": [
    "Given $r > 0$, it follows that $C > S_0 - K$ when $T > 0$. <font color = 'blue'>This means that $C$ is always greater\n",
    "than the option’s intrinsic value prior to maturity. If it were optimal to exercise at a\n",
    "particular time prior to maturity,  $C$ would equal the option’s intrinsic value at that\n",
    "time. It follows that it can never be optimal to exercise early."
   ]
  },
  {
   "cell_type": "markdown",
   "metadata": {},
   "source": [
    "To summarize, <font color = 'blue'>there are two reasons an American call on a non-dividend-paying\n",
    "stock should not be exercised early."
   ]
  },
  {
   "cell_type": "markdown",
   "metadata": {},
   "source": [
    "<font color = 'blue'>One relates to the insurance that it provides.</font> A call\n",
    "option, when held instead of the stock itself, in effect insures the holder against the\n",
    "stock price falling below the strike price.\n",
    "Once the option has been exercised and the\n",
    "strike price has been exchanged for the stock price, this insurance vanishes.\n"
   ]
  },
  {
   "cell_type": "markdown",
   "metadata": {},
   "source": [
    "<font color = 'blue'>The other\n",
    "reason concerns the time value of money.</font> From the perspective of the option holder,\n",
    "the later the strike price is paid out the better.\n"
   ]
  },
  {
   "cell_type": "markdown",
   "metadata": {},
   "source": [
    "<font color = 'blue'>Because American call options are never exercised early when there are no dividends,\n",
    "they are equivalent to European call options, so that $C = c$"
   ]
  },
  {
   "cell_type": "markdown",
   "metadata": {},
   "source": [
    "# 11.6\n",
    "It can be optimal to exercise an American put option on a non-dividend-paying stock\n",
    "early."
   ]
  },
  {
   "cell_type": "markdown",
   "metadata": {},
   "source": [
    "<font color = 'blue'>Indeed, at any given time during its life, the put option should always be exercised\n",
    "early if it is sufficiently deep in the money."
   ]
  },
  {
   "cell_type": "markdown",
   "metadata": {},
   "source": [
    "Like a call option, a put option can be viewed as providing insurance."
   ]
  },
  {
   "cell_type": "markdown",
   "metadata": {},
   "source": [
    "<font color = 'blue'>A put option,\n",
    "when held in conjunction with the stock, insures the holder against the stock price\n",
    "falling below a certain level."
   ]
  },
  {
   "cell_type": "markdown",
   "metadata": {},
   "source": [
    "However, a put option is different from a call option in that\n",
    "it may be optimal for an investor to forgo this insurance and exercise early in order to\n",
    "realize the strike price immediately.\n"
   ]
  },
  {
   "cell_type": "markdown",
   "metadata": {},
   "source": [
    "<font color = 'blue'>In general, the early exercise of a put option\n",
    "becomes more attractive as $S_0$ decreases, as $r$ increases, and as the volatility decreases."
   ]
  },
  {
   "cell_type": "markdown",
   "metadata": {},
   "source": [
    "From equations (11.3) and (11.5), <font color = 'blue'>lower and upper bounds for a European put option\n",
    "when there are no dividends are given by\n",
    "$$\\max(K\\it{e}^{-rT} - S_0, 0) \\leq p \\leq  K\\it{e}^{-rT}$$"
   ]
  },
  {
   "cell_type": "markdown",
   "metadata": {},
   "source": [
    "For an American put option on a non-dividend-paying stock, the condition\n",
    "$$P \\geq \\max(K - S_0, 0)$$\n",
    "must apply because the option can be exercised at any time.\n"
   ]
  },
  {
   "cell_type": "markdown",
   "metadata": {},
   "source": [
    "Using the result\n",
    "in equation (11.2),<font color = 'blue'> bounds for an American put option on a non-dividend-paying\n",
    "stock are\n",
    "$$ \\max(K - S_0) \\leq P \\leq K$$"
   ]
  },
  {
   "cell_type": "markdown",
   "metadata": {},
   "source": [
    "As we argued earlier, provided that $r > 0$, it is always optimal to exercise\n",
    "an American put immediately when the stock price is sufficiently low."
   ]
  },
  {
   "cell_type": "markdown",
   "metadata": {},
   "source": [
    "When early\n",
    "exercise is optimal, the value of the option is $K - S_0$ ."
   ]
  },
  {
   "cell_type": "markdown",
   "metadata": {},
   "source": [
    "<font color = 'blue'>Because there are some circumstances when it is desirable to exercise an American\n",
    "put option early, it follows that an American put option is always worth more than the\n",
    "corresponding European put option."
   ]
  },
  {
   "cell_type": "markdown",
   "metadata": {},
   "source": [
    "Furthermore, because an American put is some-\n",
    "times worth its intrinsic value (see Figure 11.6), it follows that a European put option\n",
    "must sometimes be worth less than its intrinsic value."
   ]
  },
  {
   "cell_type": "markdown",
   "metadata": {},
   "source": [
    "This means that the curve\n",
    "representing the relationship between the put price and the stock price for a European\n",
    "option must be below the corresponding curve for an American option."
   ]
  },
  {
   "cell_type": "markdown",
   "metadata": {},
   "source": [
    "# 11.7\n",
    "<font color = 'blue'>We assume that the dividends that will be paid during the life of the option\n",
    "are known"
   ]
  },
  {
   "cell_type": "markdown",
   "metadata": {},
   "source": [
    "A similar argument to the one used to derive equation (11.4) shows that\n",
    "<font color = 'blue'>$$c \\geq \\max(S_0 - D - K\\it{e}^{-rT}, 0)$$\n"
   ]
  },
  {
   "cell_type": "markdown",
   "metadata": {},
   "source": [
    "A similar argument to the one used to derive equation (11.5) shows that\n",
    "<font color = 'blue'>$$p \\geq \\max(D + K\\it{e}^{-rT} - S_0, 0)$$\n"
   ]
  },
  {
   "cell_type": "markdown",
   "metadata": {},
   "source": [
    "<font color = 'blue'>When dividends are expected, we can no longer assert that an American call option will\n",
    "not be exercised early."
   ]
  },
  {
   "cell_type": "markdown",
   "metadata": {},
   "source": [
    "<font color = 'blue'>Sometimes it is optimal to exercise an American call immediately\n",
    "prior to an ex-dividend date. It is never optimal to exercise a call at other times.\n"
   ]
  },
  {
   "cell_type": "markdown",
   "metadata": {},
   "source": [
    "<font color = 'blue'>Comparing the value at option maturity of the redefined portfolios A and C shows that,\n",
    "with dividends, the put–call parity result in equation (11.6) becomes\n",
    "$$c + D + K\\it{e}^{-rT} = p + S_0$$"
   ]
  },
  {
   "cell_type": "markdown",
   "metadata": {},
   "source": [
    "<font color = 'blue'>Dividends cause equation (11.7) to be modified (see Problem 11.19) to\n",
    "$$S_0 - D - K \\leq C - P \\leq S_0 - K\\it{e}^{-rT}$$"
   ]
  },
  {
   "cell_type": "markdown",
   "metadata": {},
   "source": [
    "# SUMMARY\n",
    "There are six factors affecting the value of a stock option: the current stock price, the\n",
    "strike price, the time to expiration, the stock price volatility, the risk-free interest rate,\n",
    "and the dividends expected during the life of the option."
   ]
  },
  {
   "cell_type": "markdown",
   "metadata": {},
   "source": [
    "The value of a call usually\n",
    "increases as the current stock price, the time to expiration, the volatility, and the risk-\n",
    "free interest rate increase.\n"
   ]
  },
  {
   "cell_type": "markdown",
   "metadata": {},
   "source": [
    "The value of a call decreases as the strike price and expected\n",
    "dividends increase.\n"
   ]
  },
  {
   "cell_type": "markdown",
   "metadata": {},
   "source": [
    "The value of a put usually increases as the strike price, the time to\n",
    "expiration, the volatility, and the expected dividends increase.\n"
   ]
  },
  {
   "cell_type": "markdown",
   "metadata": {},
   "source": [
    "The value of a put\n",
    "decreases as the current stock price and the risk-free interest rate increase.\n"
   ]
  },
  {
   "cell_type": "markdown",
   "metadata": {},
   "source": [
    "A European call option on a non-dividend-paying stock must be worth more than\n",
    "$$\\max(S_0 - K\\it{e}^{-rT}, 0)$$"
   ]
  },
  {
   "cell_type": "markdown",
   "metadata": {},
   "source": [
    "A European put option on a non-dividend-paying stock must be worth more than\n",
    "$$max(K"
   ]
  },
  {
   "cell_type": "markdown",
   "metadata": {},
   "source": [
    "Put–call parity is a relationship between the price, $c$, of a European call option on a\n",
    "stock and the price, $p$, of a European put option on a stock.\n"
   ]
  },
  {
   "cell_type": "markdown",
   "metadata": {},
   "source": [
    "For a non-dividend-paying\n",
    "stock, it is\n",
    "$$c + K\\it{e}^{-rT} = p + S_0$$"
   ]
  },
  {
   "cell_type": "markdown",
   "metadata": {},
   "source": [
    "For a dividend-paying stock, the put–call parity relationship is\n",
    "$$c + D + K\\it{e}^{-rT} = p + S_0$$"
   ]
  },
  {
   "cell_type": "markdown",
   "metadata": {},
   "source": [
    "<font color = 'blue'>Put–call parity does not hold for American options. However, it is possible to use\n",
    "arbitrage arguments to obtain upper and lower bounds for the difference between the\n",
    "price of an American call and the price of an American put."
   ]
  }
 ],
 "metadata": {
  "kernelspec": {
   "display_name": "Python 3",
   "language": "python",
   "name": "python3"
  },
  "language_info": {
   "codemirror_mode": {
    "name": "ipython",
    "version": 3
   },
   "file_extension": ".py",
   "mimetype": "text/x-python",
   "name": "python",
   "nbconvert_exporter": "python",
   "pygments_lexer": "ipython3",
   "version": "3.6.7"
  }
 },
 "nbformat": 4,
 "nbformat_minor": 2
}
