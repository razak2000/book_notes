{
 "cells": [
  {
   "cell_type": "markdown",
   "metadata": {},
   "source": []
  },
  {
   "cell_type": "markdown",
   "metadata": {},
   "source": [
    "In\n",
    "this chapter we look at what can be achieved when an option is traded in conjunction\n",
    "with other assets. In particular, we examine the properties of portfolios consisting of\n",
    "(a) an option and a zero-coupon bond, (b) an option and the asset underlying the\n",
    "option, and (c) two or more options on the same asset."
   ]
  },
  {
   "cell_type": "markdown",
   "metadata": {},
   "source": [
    "# 12.1\n",
    "\n",
    "Options are often used to create what are termed principal-protected notes for the retail\n",
    "market. These are products that appeal to conservative investors. "
   ]
  },
  {
   "cell_type": "markdown",
   "metadata": {},
   "source": [
    "The return earned by\n",
    "the investor depends on the performance of a stock, a stock index, or other risky asset,\n",
    "but the initial principal amount invested is not at risk."
   ]
  },
  {
   "cell_type": "markdown",
   "metadata": {},
   "source": [
    "<font color='blue'>The attraction of a principal-protected note is that an investor is able to take a risky\n",
    "position without risking any principal. The worst that can happen is that the investor\n",
    "loses the chance to earn interest, or other income such as dividends, on the initial\n",
    "investment for the life of the note"
   ]
  },
  {
   "cell_type": "markdown",
   "metadata": {},
   "source": [
    "A\n",
    "bank will always build in a profit for itself when it creates a principal-protected note."
   ]
  },
  {
   "cell_type": "markdown",
   "metadata": {},
   "source": [
    "<font color='blue'>One way in which a bank can sometimes create a profitable principal-protected note\n",
    "when interest rates are low or volatilities are high is by increasing its life"
   ]
  },
  {
   "cell_type": "markdown",
   "metadata": {},
   "source": [
    "A critical variable for the bank in our example is the dividend yield. The higher it is,\n",
    "the more profitable the product is for the bank. If the dividend yield were zero, the\n",
    "principal-protected note in Example 12.1 cannot be profitable for the bank no matter\n",
    "how long it lasts."
   ]
  },
  {
   "cell_type": "markdown",
   "metadata": {},
   "source": [
    "# 12.2\n",
    "For convenience, we will assume that the asset underlying the options considered in the\n",
    "rest of the chapter is a stock. We will also follow the usual practice of calculating the profit from a\n",
    "trading strategy as the final payoff minus the initial cost without any discounting."
   ]
  },
  {
   "cell_type": "markdown",
   "metadata": {},
   "source": [
    "<font color='blue'>In Figure 12.1a, the portfolio consists of a long position in a stock plus a short\n",
    "position in a European call option. This is known as writing a $\\it\\text{covered call}$. The long\n",
    "stock position ‘‘covers’’ or protects the investor from the payoff on the short call that\n",
    "becomes necessary if there is a sharp rise in the stock price."
   ]
  },
  {
   "cell_type": "markdown",
   "metadata": {},
   "source": [
    "<font color='blue'>In Figure 12.1c, the investment strategy involves buying a\n",
    "European put option on a stock and the stock itself. This is referred to as a $\\it\\text{protective\n",
    "put}$ strategy."
   ]
  },
  {
   "cell_type": "markdown",
   "metadata": {},
   "source": [
    "The profit patterns in Figures 12.1a, b, c, and d have the same general shape as the\n",
    "profit patterns discussed in Chapter 10 for short put, long put, long call, and short call, respectively. Put–call parity provides a way of understanding why this is so. "
   ]
  },
  {
   "cell_type": "markdown",
   "metadata": {},
   "source": [
    "From\n",
    "Chapter 11, the put–call parity relationship is <font color='blue'>$$ p + S_0 = c + K\\it{e}^{-rT} + D $$"
   ]
  },
  {
   "cell_type": "markdown",
   "metadata": {},
   "source": [
    "<font color='blue'>Equation (12.1) shows that a long position in a European put combined with a long\n",
    "position in the stock is equivalent to a long European call position plus a certain\n",
    "amount ($=K\\it{e}^{-rT} + D$) of cash"
   ]
  },
  {
   "cell_type": "markdown",
   "metadata": {},
   "source": [
    "Equation (12.1) can be rearranged to become $$ S_0 - c = K\\it{e}^{-rT} + D - p$$ This shows that<font color='blue'> a long position in a stock combined with a short position in a\n",
    "European call is equivalent to a short European put position plus a certain amount\n",
    "(= $K\\it{e}^{-rT} + D$) of cash "
   ]
  },
  {
   "cell_type": "markdown",
   "metadata": {},
   "source": [
    "# 12.3\n",
    "A spread trading strategy involves taking a position in two or more options of the same\n",
    "type (i.e., two or more calls or two or more puts)."
   ]
  },
  {
   "cell_type": "markdown",
   "metadata": {},
   "source": [
    "## Bull Spreads\n",
    "<font color='blue'>One of the most popular types of spreads is a bull spread. This can be created by buying\n",
    "a European call option on a stock with a certain strike price and selling a European call\n",
    "option on the same stock with a higher strike price. Both options have the same\n",
    "expiration date"
   ]
  },
  {
   "cell_type": "markdown",
   "metadata": {},
   "source": [
    "Because a call price always decreases as the strike price increases, the value of\n",
    "the option sold is always less than the value of the option bought. A bull spread, when\n",
    "created from calls, therefore requires an initial investment"
   ]
  },
  {
   "cell_type": "markdown",
   "metadata": {},
   "source": [
    "<font color='blue'>If the stock price does well and is greater than the higher strike price, the\n",
    "payoff is the difference between the two strike prices, or $K_2 - K_1$"
   ]
  },
  {
   "cell_type": "markdown",
   "metadata": {},
   "source": [
    "<font color='blue'>If the stock price on\n",
    "the expiration date lies between the two strike prices, the payoff is $S_T - K_1$"
   ]
  },
  {
   "cell_type": "markdown",
   "metadata": {},
   "source": [
    "<font color='blue'>If the stock\n",
    "price on the expiration date is below the lower strike price, the payoff is zero."
   ]
  },
  {
   "cell_type": "markdown",
   "metadata": {},
   "source": [
    "<font color='blue'>A bull spread strategy limits the investor’s upside as well as downside risk"
   ]
  },
  {
   "cell_type": "markdown",
   "metadata": {},
   "source": [
    "The strategy\n",
    "can be described by saying that the investor has a call option with a strike price equal to\n",
    "$K_1$ and has chosen to give up some upside potential by selling a call option with strike\n",
    "price $K_2(K_2 > K_1)$. <font color='blue'>In return for giving up the upside potential, the investor gets the\n",
    "price of the option with strike price $K_2$"
   ]
  },
  {
   "cell_type": "markdown",
   "metadata": {},
   "source": [
    "<font color='blue'>Three types of bull spreads can be distinguished:\n",
    "1. Both calls are initially out of the money.\n",
    "2. One call is initially in the money; the other call is initially out of the money.\n",
    "3. Both calls are initially in the money."
   ]
  },
  {
   "cell_type": "markdown",
   "metadata": {},
   "source": [
    "<font color='blue'>The most aggressive bull spreads are those of type 1.</font> They cost very little to set up and\n",
    "have a small probability of giving a relatively high payoff (=$K_2 - K_1$). <font color='blue'>As we move\n",
    "from type 1 to type 2 and from type 2 to type 3, the spreads become more conservative."
   ]
  },
  {
   "cell_type": "markdown",
   "metadata": {},
   "source": [
    "<font color='blue'> Bull spreads can also be created by buying a European put with a low strike price and\n",
    "selling a European put with a high strike price, as illustrated in Figure 12.3."
   ]
  },
  {
   "cell_type": "markdown",
   "metadata": {},
   "source": [
    "Unlike bull\n",
    "spreads created from calls, those created from puts involve a positive up-front cash\n",
    "flow to the investor, but have margin requirements and a payoff that is either negative\n",
    "or zero."
   ]
  },
  {
   "cell_type": "markdown",
   "metadata": {},
   "source": [
    "## Bear Spreads\n",
    "An investor who enters into a bull spread is hoping that the stock price will increase. In\n",
    "contrast, <font color='blue'>an investor who enters into a bear spread is hoping that the stock price will\n",
    "decline."
   ]
  },
  {
   "cell_type": "markdown",
   "metadata": {},
   "source": [
    "<font color='blue'>Bear spreads can be created by buying a European put with one strike price and\n",
    "selling a European put with another strike price. The strike price of the option\n",
    "purchased is greater than the strike price of the option sold. (This is in contrast to a\n",
    "bull spread, where the strike price of the option purchased is always less than the strike\n",
    "price of the option sold.)"
   ]
  },
  {
   "cell_type": "markdown",
   "metadata": {},
   "source": [
    "A bear spread created from puts involves an initial cash outflow because the price\n",
    "of the put sold is less than the price of the put purchased."
   ]
  },
  {
   "cell_type": "markdown",
   "metadata": {},
   "source": [
    "In essence, <font color='blue'>the investor has\n",
    "bought a put with a certain strike price and chosen to give up some of the profit\n",
    "potential by selling a put with a lower strike price. In return for the profit given up, the\n",
    "investor gets the price of the option sold."
   ]
  },
  {
   "cell_type": "markdown",
   "metadata": {},
   "source": [
    "Assume that the strike prices are $K_1$ and $K_2$ , with $K_1 < K_2$. "
   ]
  },
  {
   "cell_type": "markdown",
   "metadata": {},
   "source": [
    "<font color='blue'>If the stock price is greater than $K_2$ , the payoff is zero. f the stock price is less than $K_1$ , the payoff is\n",
    "$K_2 - K_1$. If the stock price is between $K_1$ and $K_2$ , the payoff is $K_2 - S_T$. The profit is\n",
    "calculated by subtracting the initial cost from the payoff."
   ]
  },
  {
   "cell_type": "markdown",
   "metadata": {},
   "source": [
    "<font color='blue'>Like bull spreads, bear spreads limit both the upside profit potential and the downside\n",
    "risk."
   ]
  },
  {
   "cell_type": "markdown",
   "metadata": {},
   "source": [
    "<font color='blue'>Bear spreads can be created using calls instead of puts. The investor buys a call with\n",
    "a high strike price and sells a call with a low strike price, as illustrated in Figure 12.5."
   ]
  },
  {
   "cell_type": "markdown",
   "metadata": {},
   "source": [
    "Bear\n",
    "spreads created with calls involve an initial cash inflow, but have margin requirements\n",
    "and a payoff that is either negative or zero"
   ]
  },
  {
   "cell_type": "markdown",
   "metadata": {},
   "source": [
    "## Box Spreads\n",
    "<font color='blue'>A box spread is a combination of a bull call spread with strike prices $K_1$ and $K_2$ and a\n",
    "bear put spread with the same two strike prices."
   ]
  },
  {
   "cell_type": "markdown",
   "metadata": {},
   "source": [
    "<font color='blue'>As shown in Table 12.3, the payoff\n",
    "from a box spread is always $K_2 - K_1$."
   ]
  },
  {
   "cell_type": "markdown",
   "metadata": {},
   "source": [
    "<font color='blue'>The value of a box spread is therefore always the\n",
    "present value of this payoff or $(K_2 - K_1)\\it{e}^{-rT}$"
   ]
  },
  {
   "cell_type": "markdown",
   "metadata": {},
   "source": [
    "<font color='blue'>If the market price of the box spread is too low, it is profitable to\n",
    "buy the box. This involves buying a call with strike price $K_1$ , buying a put with strike\n",
    "price $K_2$ , selling a call with strike price $K_2$ , and selling a put with strike price $K_1$"
   ]
  },
  {
   "cell_type": "markdown",
   "metadata": {},
   "source": [
    "<font color='blue'>If the\n",
    "market price of the box spread is too high, it is profitable to sell the box. This involves\n",
    "buying a call with strike price $K_2$ , buying a put with strike price $K_1$ , selling a call with\n",
    "strike price $K_1$ , and selling a put with strike price $K_2$ ."
   ]
  },
  {
   "cell_type": "markdown",
   "metadata": {},
   "source": [
    "<font color='blue'>It is important to realize that a box-spread arbitrage only works with European\n",
    "options. Many of the options that trade on exchanges are American."
   ]
  },
  {
   "cell_type": "markdown",
   "metadata": {},
   "source": [
    "## Butterfly Spreads\n",
    "<font color='blue'>A $\\it\\text{butterfly spread}$ involves positions in options with three different strike prices."
   ]
  },
  {
   "cell_type": "markdown",
   "metadata": {},
   "source": [
    "<font color='blue'>It can\n",
    "be created by buying a European call option with a relatively low strike price $K_1$ , buying a European call option with a relatively high strike price $K_3$ , and selling two\n",
    "European call options with a strike price $K_2$ that is halfway between $K_1$ and $K_3$ . Generally, $K_2$ is close to the current stock price."
   ]
  },
  {
   "cell_type": "markdown",
   "metadata": {},
   "source": [
    "<font color='blue'>A butterfly spread leads to a profit if the stock price stays close\n",
    "to $K_2$ , but gives rise to a small loss if there is a significant stock price move in either\n",
    "direction."
   ]
  },
  {
   "cell_type": "markdown",
   "metadata": {},
   "source": [
    "<font color='blue'>It is therefore an appropriate strategy for an investor who feels that large\n",
    "stock price moves are unlikely.\n"
   ]
  },
  {
   "cell_type": "markdown",
   "metadata": {},
   "source": [
    "The strategy requires a small investment initially."
   ]
  },
  {
   "cell_type": "markdown",
   "metadata": {},
   "source": [
    "<font color='blue'>Butterfly spreads can be created using put options. The investor buys two European\n",
    "puts, one with a low strike price and one with a high strike price, and sells two\n",
    "European puts with an intermediate strike price, as illustrated in Figure 12.7."
   ]
  },
  {
   "cell_type": "markdown",
   "metadata": {},
   "source": [
    "The use of put options results in exactly the same spread as the use\n",
    "of call options. Put–call parity can be used to show that the initial investment is the\n",
    "same in both cases.\n"
   ]
  },
  {
   "cell_type": "markdown",
   "metadata": {},
   "source": [
    "A butterfly spread can be sold or shorted by following the reverse strategy. Options\n",
    "are sold with strike prices of $K_1$ and $K_3$ , and two options with the middle strike price $K_2$\n",
    "are purchased. This strategy produces a modest profit if there is a significant movement\n",
    "in the stock price."
   ]
  },
  {
   "cell_type": "markdown",
   "metadata": {},
   "source": [
    "## Calendar Spreads\n",
    "We now move on to calendar spreads in which the options have the same\n",
    "strike price and different expiration dates."
   ]
  },
  {
   "cell_type": "markdown",
   "metadata": {},
   "source": [
    "<font color='blue'>A calendar spread can be created by selling a European call option with a certain\n",
    "strike price and buying a longer-maturity European call option with the same strike\n",
    "price."
   ]
  },
  {
   "cell_type": "markdown",
   "metadata": {},
   "source": [
    "<font color='blue'>The longer the maturity of an option, the more expensive it usually is.</font> A calendar\n",
    "spread therefore usually requires an initial investment.\n"
   ]
  },
  {
   "cell_type": "markdown",
   "metadata": {},
   "source": [
    "Profit diagrams for calendar\n",
    "spreads are usually produced so that they show the profit when the short-maturity option\n",
    "expires on the assumption that the long-maturity option is closed out at that time."
   ]
  },
  {
   "cell_type": "markdown",
   "metadata": {},
   "source": [
    "<font color='blue'>The investor\n",
    "makes a profit if the stock price at the expiration of the short-maturity option is close to\n",
    "the strike price of the short-maturity option.\n"
   ]
  },
  {
   "cell_type": "markdown",
   "metadata": {},
   "source": [
    "However, <font color='blue'>a loss is incurred when the stock\n",
    "price is significantly above or significantly below this strike price."
   ]
  },
  {
   "cell_type": "markdown",
   "metadata": {},
   "source": [
    "To understand the profit pattern from a calendar spread, <font color='blue'>first consider what happens\n",
    "if the stock price is very low when the short-maturity option expires. The short-maturity\n",
    "option is worthless and the value of the long-maturity option is close to zero. The\n",
    "investor therefore incurs a loss that is close to the cost of setting up the spread initially.\n"
   ]
  },
  {
   "cell_type": "markdown",
   "metadata": {},
   "source": [
    "Consider next what happens <font color='blue'>if the stock price, $S_T$ , is very high when the short-maturity\n",
    "option expires. The short-maturity option costs the investor $S_T - K$, and the long-\n",
    "maturity option is worth close to $S_T - K$, where K is the strike price of the options."
   ]
  },
  {
   "cell_type": "markdown",
   "metadata": {},
   "source": [
    "Again, the investor makes a net loss that is close to the cost of setting up the spread initially."
   ]
  },
  {
   "cell_type": "markdown",
   "metadata": {},
   "source": [
    "If $S_T$ is close to K, the short-maturity option costs the investor either a small\n",
    "amount or nothing at all. However, the long-maturity option is still quite valuable. In\n",
    "this case a net profit is made.\n"
   ]
  },
  {
   "cell_type": "markdown",
   "metadata": {},
   "source": [
    "<font color='blue'>In a neutral calendar spread, a strike price close to the current stock price is chosen. A bullish calendar spread involves a higher strike price, whereas a bearish calendar\n",
    "spread involves a lower strike price.\n"
   ]
  },
  {
   "cell_type": "markdown",
   "metadata": {},
   "source": [
    "<font color='blue'>Calendar spreads can be created with put options as well as call options. The investor\n",
    "buys a long-maturity put option and sells a short-maturity put option."
   ]
  },
  {
   "cell_type": "markdown",
   "metadata": {},
   "source": [
    "<font color='blue'>A reverse calendar spread is the opposite to that in Figures 12.8 and 12.9. The investor\n",
    "buys a short-maturity option and sells a long-maturity option.</font> A small profit arises if\n",
    "the stock price at the expiration of the short-maturity option is well above or well below\n",
    "the strike price of the short-maturity option. However, a loss results if it is close to the\n",
    "strike price."
   ]
  },
  {
   "cell_type": "markdown",
   "metadata": {},
   "source": [
    "## Diagonal Spreads\n",
    "<font color='blue'>In a diagonal spread both the expiration date and the strike price of the calls are\n",
    "different.</font> This increases the range of profit patterns that are possible."
   ]
  },
  {
   "cell_type": "markdown",
   "metadata": {},
   "source": [
    "# 12.4\n",
    "A $\\it{combination}$ is an option trading strategy that involves taking a position in both\n",
    "calls and puts on the same stock. We will consider straddles, strips, straps, and\n",
    "strangles."
   ]
  },
  {
   "cell_type": "markdown",
   "metadata": {},
   "source": [
    "## Straddle\n",
    "<font color='blue'>One popular combination is a straddle, which involves buying a European call and put\n",
    "with the same strike price and expiration date."
   ]
  },
  {
   "cell_type": "markdown",
   "metadata": {},
   "source": [
    "The profit pattern is shown in Figure 12.10.\n",
    "The strike price is denoted by $K$. <font color='blue'>If the stock price is close to this strike price at expiration\n",
    "of the options, the straddle leads to a loss. However, if there is a sufficiently large move in\n",
    "either direction, a significant profit will result."
   ]
  },
  {
   "cell_type": "markdown",
   "metadata": {},
   "source": [
    "<font color='blue'>A straddle is appropriate when an investor is expecting a large move in a stock price\n",
    "but does not know in which direction the move will be"
   ]
  },
  {
   "cell_type": "markdown",
   "metadata": {},
   "source": [
    "<font color='blue'>The straddle in Figure 12.10 is sometimes referred to as a $\\it\\text{bottom straddle}$ or $\\it\\text{straddle\n",
    "purchase}$ . A $\\it\\text{top straddle}$ or $\\it\\text{straddle write}$ is the reverse position. It is created by selling a call and a put with the same exercise price and expiration date. It is a highly risky strategy."
   ]
  },
  {
   "cell_type": "markdown",
   "metadata": {},
   "source": [
    "If the stock price on the expiration date is close to the strike price, a profit results.\n",
    "However, the loss arising from a large move is unlimited."
   ]
  },
  {
   "cell_type": "markdown",
   "metadata": {},
   "source": [
    "## Strips and Straps\n",
    "<font color='blue'>A strip consists of a long position in one European call and two European puts with the\n",
    "same strike price and expiration date."
   ]
  },
  {
   "cell_type": "markdown",
   "metadata": {},
   "source": [
    "<font color='blue'>A strap consists of a long position in two\n",
    "European calls and one European put with the same strike price and expiration date."
   ]
  },
  {
   "cell_type": "markdown",
   "metadata": {},
   "source": [
    "<font color='blue'>In a strip the\n",
    "investor is betting that there will be a big stock price move and considers a decrease in\n",
    "the stock price to be more likely than an increase."
   ]
  },
  {
   "cell_type": "markdown",
   "metadata": {},
   "source": [
    "<font color='blue'>In a strap the investor is also betting\n",
    "that there will be a big stock price move. However, in this case, an increase in the stock\n",
    "price is considered to be more likely than a decrease."
   ]
  },
  {
   "cell_type": "markdown",
   "metadata": {},
   "source": [
    "## Strangles\n",
    "<font color='blue'>In a strangle, sometimes called a bottom vertical combination, an investor buys a\n",
    "European put and a European call with the same expiration date and different strike\n",
    "prices."
   ]
  },
  {
   "cell_type": "markdown",
   "metadata": {},
   "source": [
    "The call strike price, $K_2$ , is higher than\n",
    "the put strike price, $K_1$ .\t"
   ]
  },
  {
   "cell_type": "markdown",
   "metadata": {},
   "source": [
    "<font color='blue'>A strangle is a similar strategy to a straddle. The investor is betting that there will be a\n",
    "large price move, but is uncertain whether it will be an increase or a decrease."
   ]
  },
  {
   "cell_type": "markdown",
   "metadata": {},
   "source": [
    "Comparing Figures 12.12 and 12.10, we see that<font color='blue'> the stock price has to move farther\n",
    "in a strangle than in a straddle for the investor to make a profit. However, the downside\n",
    "risk if the stock price ends up at a central value is less with a strangle."
   ]
  },
  {
   "cell_type": "markdown",
   "metadata": {},
   "source": [
    "<font color='blue'>The profit pattern obtained with a strangle depends on how close together the strike\n",
    "prices are. The farther they are apart, the less the downside risk and the farther the\n",
    "stock price has to move for a profit to be realized."
   ]
  },
  {
   "cell_type": "markdown",
   "metadata": {},
   "source": [
    "<font color='blue'>The sale of a strangle is sometimes referred to as a top vertical combination. It can be\n",
    "appropriate for an investor who feels that large stock price moves are unlikely. However,\n",
    "as with sale of a straddle, it is a risky strategy involving unlimited potential loss to the\n",
    "investor."
   ]
  },
  {
   "cell_type": "markdown",
   "metadata": {},
   "source": [
    "# 12.5\n",
    "<font color='blue'>If European options expiring at time T were available with every single possible strike price, any payoff\n",
    "function at time T could in theory be obtained."
   ]
  },
  {
   "cell_type": "markdown",
   "metadata": {},
   "source": [
    "The easiest illustration of this involves\n",
    "butterfly spreads. Recall that a butterfly spread is created by buying options with strike\n",
    "prices $K_1$ and $K_3$ and selling two options with strike price $K_2$ , where $K_1 < K_2 < K_3$ and\n",
    "$K_3 - K_2$ = $K_2 - K_1$\n"
   ]
  },
  {
   "cell_type": "markdown",
   "metadata": {},
   "source": [
    "The pattern\n",
    "could be described as a spike. As $K_1$ and $K_3$ move closer together, the spike becomes\n",
    "smaller."
   ]
  },
  {
   "cell_type": "markdown",
   "metadata": {},
   "source": [
    "<font color='blue'>Through the judicious combination of a large number of very small spikes, any\n",
    "payoff function can in theory be approximated as accurately as desired."
   ]
  }
 ],
 "metadata": {
  "kernelspec": {
   "display_name": "Python 3",
   "language": "python",
   "name": "python3"
  },
  "language_info": {
   "codemirror_mode": {
    "name": "ipython",
    "version": 3
   },
   "file_extension": ".py",
   "mimetype": "text/x-python",
   "name": "python",
   "nbconvert_exporter": "python",
   "pygments_lexer": "ipython3",
   "version": "3.6.7"
  }
 },
 "nbformat": 4,
 "nbformat_minor": 2
}
