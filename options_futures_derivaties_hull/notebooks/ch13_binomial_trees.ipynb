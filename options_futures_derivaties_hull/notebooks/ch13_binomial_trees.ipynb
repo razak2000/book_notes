{
 "cells": [
  {
   "cell_type": "markdown",
   "metadata": {},
   "source": [
    "A useful and very popular technique for pricing an option involves constructing a\n",
    "binomial tree. This is a diagram representing different possible paths that might be\n",
    "followed by the stock price over the life of an option."
   ]
  },
  {
   "cell_type": "markdown",
   "metadata": {},
   "source": [
    "The underlying assumption is that\n",
    "the stock price follows a random walk."
   ]
  },
  {
   "cell_type": "markdown",
   "metadata": {},
   "source": [
    "In each time step, it has a certain probability of\n",
    "moving up by a certain percentage amount and a certain probability of moving down by\n",
    "a certain percentage amount."
   ]
  },
  {
   "cell_type": "markdown",
   "metadata": {},
   "source": [
    "In the limit, as the time step becomes smaller, this model\n",
    "is the same as the Black–Scholes–Merton model"
   ]
  },
  {
   "cell_type": "markdown",
   "metadata": {},
   "source": [
    "# 13.1"
   ]
  },
  {
   "cell_type": "markdown",
   "metadata": {},
   "source": [
    "The option pricing formula in equation (13.2) does not involve the probabilities of the\n",
    "stock price moving up or down."
   ]
  },
  {
   "cell_type": "markdown",
   "metadata": {},
   "source": [
    "It is natural to assume that, as the probability of an upward\n",
    "movement in the stock price increases, the value of a call option on the stock increases\n",
    "and the value of a put option on the stock decreases. This is not the case."
   ]
  },
  {
   "cell_type": "markdown",
   "metadata": {},
   "source": [
    "The key reason is that we are not valuing the option in absolute terms. We are\n",
    "calculating its value in terms of the price of the underlying stock."
   ]
  },
  {
   "cell_type": "markdown",
   "metadata": {},
   "source": [
    "The probabilities of\n",
    "future up or down movements are already incorporated into the stock price: we do not\n",
    "need to take them into account again when valuing the option in terms of the stock price."
   ]
  },
  {
   "cell_type": "markdown",
   "metadata": {},
   "source": [
    "# 13.2"
   ]
  },
  {
   "cell_type": "markdown",
   "metadata": {},
   "source": [
    "a very important principle in the pricing of\n",
    "derivatives known as risk-neutral valuation. This states that, when valuing a derivative,\n",
    "we can make the assumption that investors are risk-neutral."
   ]
  },
  {
   "cell_type": "markdown",
   "metadata": {},
   "source": [
    "This assumption means\n",
    "investors do not increase the expected return they require from an investment to\n",
    "compensate for increased risk. A world where investors are risk-neutral is referred to\n",
    "as a risk-neutral world."
   ]
  },
  {
   "cell_type": "markdown",
   "metadata": {},
   "source": [
    "The world we live in is, of course, not a risk-neutral world. The\n",
    "higher the risks investors take, the higher the expected returns they require."
   ]
  },
  {
   "cell_type": "markdown",
   "metadata": {},
   "source": [
    "when we are pricing an option in terms of the price of the\n",
    "underlying stock, risk preferences are unimportant. As investors become more risk-\n",
    "averse, stock prices decline, but the formulas relating option prices to stock prices\n",
    "remain the same."
   ]
  },
  {
   "cell_type": "markdown",
   "metadata": {},
   "source": [
    "A risk-neutral world has two features that simplify the pricing of derivatives:\n",
    "1. The expected return on a stock (or any other investment) is the risk-free rate.\n",
    "2. The discount rate used for the expected payoff on an option (or any other\n",
    "instrument) is the risk-free rate."
   ]
  },
  {
   "cell_type": "markdown",
   "metadata": {},
   "source": [
    "Risk-neutral valuation is a very important general result in the pricing of derivatives.\n",
    "It states that, when we assume the world is risk-neutral, we get the right price for a\n",
    "derivative in all worlds, not just in a risk-neutral one."
   ]
  },
  {
   "cell_type": "markdown",
   "metadata": {},
   "source": [
    "We have shown that risk-neutral\n",
    "valuation is correct when a simple binomial model is assumed for how the price of the\n",
    "the stock evolves. It can be shown that the result is true regardless of the assumptions\n",
    "we make about the evolution of the stock price."
   ]
  },
  {
   "cell_type": "markdown",
   "metadata": {},
   "source": [
    "To apply risk-neutral valuation to the pricing of a derivative, we first calculate what\n",
    "the probabilities of different outcomes would be if the world were risk-neutral. We then\n",
    "calculate the expected payoff from the derivative and discount that expected payoff at\n",
    "the risk-free rate of interest."
   ]
  },
  {
   "cell_type": "markdown",
   "metadata": {},
   "source": [
    "Unfortunately, it is not easy to know the correct discount rate to apply to the\n",
    "expected payoff in the real world."
   ]
  },
  {
   "cell_type": "markdown",
   "metadata": {},
   "source": [
    "# 13.3"
   ]
  },
  {
   "cell_type": "markdown",
   "metadata": {},
   "source": [
    "We can extend the analysis to a two-step binomial tree. The objective of the analysis is to calculate the option price at the initial node of the\n",
    "tree."
   ]
  },
  {
   "cell_type": "markdown",
   "metadata": {},
   "source": [
    "The option prices at the final nodes of the tree are easily\n",
    "calculated. They are the payoffs from the option."
   ]
  },
  {
   "cell_type": "markdown",
   "metadata": {},
   "source": [
    "We can generalize the case of two time steps by considering the situation in Figure 13.6.\n",
    "The stock price is initially S 0 . During each time step, it either moves up to u times its\n",
    "value at the beginning of the time step or moves down to d times this value."
   ]
  },
  {
   "cell_type": "markdown",
   "metadata": {},
   "source": [
    "# 13.4"
   ]
  },
  {
   "cell_type": "markdown",
   "metadata": {},
   "source": [
    "The procedures described in this chapter can be used to price puts as well as calls."
   ]
  },
  {
   "cell_type": "markdown",
   "metadata": {},
   "source": [
    "# 13.5"
   ]
  },
  {
   "cell_type": "markdown",
   "metadata": {},
   "source": [
    "We now move on to\n",
    "consider how American options can be valued using a binomial tree. "
   ]
  },
  {
   "cell_type": "markdown",
   "metadata": {},
   "source": [
    "The procedure is to work back through the tree from the end to the\n",
    "beginning, testing at each node to see whether early exercise is optimal."
   ]
  },
  {
   "cell_type": "markdown",
   "metadata": {},
   "source": [
    "The value of the\n",
    "option at the final nodes is the same as for the European option."
   ]
  },
  {
   "cell_type": "markdown",
   "metadata": {},
   "source": [
    "At earlier nodes the\n",
    "value of the option is the greater of\n",
    "1. The value given by equation (13.5)\n",
    "2. The payoff from early exercise."
   ]
  },
  {
   "cell_type": "markdown",
   "metadata": {},
   "source": [
    "# 13.6"
   ]
  },
  {
   "cell_type": "markdown",
   "metadata": {},
   "source": [
    "The delta ($\\Delta$) of a stock option is the ratio of the change in the price of the stock\n",
    "option to the change in the price of the underlying stock."
   ]
  },
  {
   "cell_type": "markdown",
   "metadata": {},
   "source": [
    "It is the number of units of the\n",
    "stock we should hold for each option shorted in order to create a riskless portfolio."
   ]
  },
  {
   "cell_type": "markdown",
   "metadata": {},
   "source": [
    "The construction of a riskless\n",
    "portfolio is sometimes referred to as delta hedging."
   ]
  },
  {
   "cell_type": "markdown",
   "metadata": {},
   "source": [
    "The delta of a call option is positive,\n",
    "whereas the delta of a put option is negative."
   ]
  },
  {
   "cell_type": "markdown",
   "metadata": {},
   "source": [
    "The two-step examples show that delta changes over time. Thus, in order to maintain a riskless hedge using an option\n",
    "and the underlying stock, we need to adjust our holdings in the stock periodically."
   ]
  },
  {
   "cell_type": "markdown",
   "metadata": {},
   "source": [
    "# 13.7"
   ]
  },
  {
   "cell_type": "markdown",
   "metadata": {},
   "source": [
    "The three parameters necessary to construct a binomial tree with time step $\\Delta t$ are u, d,\n",
    "and p. Once u and d have been specified, p must be chosen so that the expected return is\n",
    "the risk-free rate r."
   ]
  },
  {
   "cell_type": "markdown",
   "metadata": {},
   "source": [
    "We have already shown that $p = \\frac{e^{r \\Delta t} - d}{u - d}$ . The parameters u and d should be chosen to match volatility."
   ]
  },
  {
   "cell_type": "markdown",
   "metadata": {},
   "source": [
    "The volatility of a stock\n",
    "(or any other asset), $\\sigma$,\n",
    "is defined so that the standard deviation of its return in a short\n",
    "period of time $\\Delta t$ is $\\sigma \\sqrt{\\Delta t}$"
   ]
  },
  {
   "cell_type": "markdown",
   "metadata": {},
   "source": [
    "When terms in $\\Delta t^2$ and higher powers of $\\Delta t$ are ignored, a solution to equation (13.13) is $u = e^{\\sigma \\sqrt{\\Delta t}}$ and $d = e^{-\\sigma \\sqrt{\\Delta t}}$\n",
    "These are the values of u and d used by Cox, Ross, and Rubinstein (1979)."
   ]
  },
  {
   "cell_type": "markdown",
   "metadata": {},
   "source": [
    "$\\it\\text{ Girsanov's theorem}$. When we move from the risk-neutral world to the real world, the\n",
    "expected return from the stock price changes, but its volatility remains the same."
   ]
  },
  {
   "cell_type": "markdown",
   "metadata": {},
   "source": [
    "More generally, when we move from a world with one set of risk preferences to a world with\n",
    "another set of risk preferences, the expected growth rates in variables change, but their\n",
    "volatilities remain the same."
   ]
  },
  {
   "cell_type": "markdown",
   "metadata": {},
   "source": [
    "Moving from one set of risk\n",
    "preferences to another is sometimes referred to as $\\it\\text {changing the measure}$"
   ]
  },
  {
   "cell_type": "markdown",
   "metadata": {},
   "source": [
    "The real-world\n",
    "measure is sometimes referred to as the $P-measure$, while the risk-neutral world measure\n",
    "is referred to as the $Q-measure$."
   ]
  },
  {
   "cell_type": "markdown",
   "metadata": {},
   "source": [
    "# 13.8"
   ]
  },
  {
   "cell_type": "markdown",
   "metadata": {},
   "source": [
    "The analysis in the previous section shows that, when the length of the time step on a\n",
    "binomial tree is $\\Delta t$, we should match volatility by setting $u = e^{\\sigma \\sqrt{\\Delta t}}$ and $d = e^{-\\sigma \\sqrt{\\Delta t}}$. \n",
    "\n",
    "Also, from equation (13.6), $p = \\frac {a - d}{u - d}$, where $a = e^{r\\Delta t}$"
   ]
  },
  {
   "cell_type": "markdown",
   "metadata": {},
   "source": [
    "# 13.9\n",
    "---"
   ]
  },
  {
   "cell_type": "markdown",
   "metadata": {},
   "source": [
    "Clearly, an analyst can\n",
    "expect to obtain only a very rough approximation to an option price by assuming that stock price movements during the life of the option consist of one or two binomial\n",
    "steps."
   ]
  },
  {
   "cell_type": "markdown",
   "metadata": {},
   "source": [
    "When binomial trees are used in practice, the life of the option is typically divided\n",
    "into 30 or more time steps. In each time step there is a binomial stock price movement."
   ]
  },
  {
   "cell_type": "markdown",
   "metadata": {},
   "source": [
    "With 30 time steps there are 31 terminal stock prices and 2 30 , or about 1 billion, possible\n",
    "stock price paths are implicitly considered."
   ]
  },
  {
   "cell_type": "markdown",
   "metadata": {},
   "source": [
    "The equations defining the tree are equations (13.15) to (13.18), regardless of the\n",
    "number of time steps."
   ]
  },
  {
   "cell_type": "markdown",
   "metadata": {},
   "source": [
    "As the number of time steps is increased (so that \u0001t becomes smaller), the binomial\n",
    "tree model makes the same assumptions about stock price behavior as the Black–\n",
    "Scholes–Merton model"
   ]
  },
  {
   "cell_type": "markdown",
   "metadata": {},
   "source": [
    "When the binomial tree\n",
    "is used to price a European option, the price converges to the Black–Scholes–Merton\n",
    "price, as expected, as the number of time steps is increased.\n",
    "\n",
    "---"
   ]
  },
  {
   "cell_type": "markdown",
   "metadata": {},
   "source": [
    "# 13.10\n",
    "\n",
    "---\n",
    "---"
   ]
  },
  {
   "cell_type": "markdown",
   "metadata": {},
   "source": [
    "# 13.11\n",
    "---\n"
   ]
  },
  {
   "cell_type": "markdown",
   "metadata": {},
   "source": [
    "It turns out that we can construct\n",
    "and use binomial trees for these options(options on indices, currencies, and futures contracts) in exactly the same way as for options on\n",
    "stocks except that the equation for p changes."
   ]
  },
  {
   "cell_type": "markdown",
   "metadata": {},
   "source": [
    "Consider a stock paying a known dividend yield at rate q. The total return from\n",
    "dividends and capital gains in a risk-neutral world is r. The dividends provide a return\n",
    "of q. Capital gains must therefore provide a return of r - q. "
   ]
  },
  {
   "cell_type": "markdown",
   "metadata": {},
   "source": [
    "As in the case of options on non-dividend-paying stocks, we match volatility by setting\n",
    "$u = e^{\\sigma \\sqrt{\\Delta t}}$ and $d = \\frac{1}{u}$<br> This means that we can use equations (13.15) to (13.18), except\n",
    "that we set $a = e^{(r - q)\\Delta t}$  instead of $a = e^{r \\Delta t}$."
   ]
  },
  {
   "cell_type": "markdown",
   "metadata": {},
   "source": [
    "When calculating a futures price for a stock index in Chapter 5 we assumed that the\n",
    "stocks underlying the index provided a dividend yield at rate q. We make a similar\n",
    "assumption here."
   ]
  },
  {
   "cell_type": "markdown",
   "metadata": {},
   "source": [
    "The valuation of an option on a stock index is therefore very similar\n",
    "to the valuation of an option on a stock paying a known dividend yield."
   ]
  },
  {
   "cell_type": "markdown",
   "metadata": {},
   "source": [
    "As pointed out in Section 5.10, a foreign currency can be regarded as an asset providing\n",
    "a yield at the foreign risk-free rate of interest, $r_f$ . By analogy with the stock index case\n",
    "we can construct a tree for options on a currency by using equations (13.15) to (13.18)\n",
    "and setting $a = e^{(r - r_f)\\Delta t}$."
   ]
  },
  {
   "cell_type": "markdown",
   "metadata": {},
   "source": [
    "It costs nothing to take a long or a short position in a futures contract. It follows that in\n",
    "a risk-neutral world a futures price should have an expected growth rate of zero. "
   ]
  },
  {
   "cell_type": "markdown",
   "metadata": {},
   "source": [
    "If $F_0$ is the initial futures price, the expected\n",
    "futures price at the end of one time step of length $\\Delta t$ should also be $F_0$ . This means that\n",
    "$pF_0u + (1-p)F_0d =  F_0$ so that $p = \\frac{1 - d}{u - d }$\n",
    "and we can use equations (13.15) to (13.18) with a = 1."
   ]
  },
  {
   "cell_type": "markdown",
   "metadata": {},
   "source": []
  },
  {
   "cell_type": "markdown",
   "metadata": {},
   "source": []
  },
  {
   "cell_type": "markdown",
   "metadata": {},
   "source": []
  },
  {
   "cell_type": "markdown",
   "metadata": {},
   "source": []
  },
  {
   "cell_type": "markdown",
   "metadata": {},
   "source": []
  },
  {
   "cell_type": "markdown",
   "metadata": {},
   "source": []
  },
  {
   "cell_type": "markdown",
   "metadata": {},
   "source": []
  },
  {
   "cell_type": "markdown",
   "metadata": {},
   "source": []
  },
  {
   "cell_type": "markdown",
   "metadata": {},
   "source": []
  },
  {
   "cell_type": "markdown",
   "metadata": {},
   "source": []
  },
  {
   "cell_type": "markdown",
   "metadata": {},
   "source": []
  },
  {
   "cell_type": "markdown",
   "metadata": {},
   "source": []
  },
  {
   "cell_type": "markdown",
   "metadata": {},
   "source": []
  },
  {
   "cell_type": "markdown",
   "metadata": {},
   "source": []
  },
  {
   "cell_type": "markdown",
   "metadata": {},
   "source": []
  },
  {
   "cell_type": "markdown",
   "metadata": {},
   "source": []
  },
  {
   "cell_type": "markdown",
   "metadata": {},
   "source": []
  },
  {
   "cell_type": "markdown",
   "metadata": {},
   "source": []
  },
  {
   "cell_type": "markdown",
   "metadata": {},
   "source": []
  },
  {
   "cell_type": "markdown",
   "metadata": {},
   "source": []
  },
  {
   "cell_type": "markdown",
   "metadata": {},
   "source": []
  },
  {
   "cell_type": "markdown",
   "metadata": {},
   "source": []
  },
  {
   "cell_type": "markdown",
   "metadata": {},
   "source": []
  },
  {
   "cell_type": "markdown",
   "metadata": {},
   "source": []
  },
  {
   "cell_type": "markdown",
   "metadata": {},
   "source": []
  },
  {
   "cell_type": "markdown",
   "metadata": {},
   "source": []
  },
  {
   "cell_type": "markdown",
   "metadata": {},
   "source": []
  },
  {
   "cell_type": "markdown",
   "metadata": {},
   "source": []
  },
  {
   "cell_type": "markdown",
   "metadata": {},
   "source": []
  },
  {
   "cell_type": "markdown",
   "metadata": {},
   "source": []
  },
  {
   "cell_type": "markdown",
   "metadata": {},
   "source": []
  },
  {
   "cell_type": "markdown",
   "metadata": {},
   "source": []
  },
  {
   "cell_type": "markdown",
   "metadata": {},
   "source": []
  },
  {
   "cell_type": "markdown",
   "metadata": {},
   "source": []
  },
  {
   "cell_type": "markdown",
   "metadata": {},
   "source": []
  },
  {
   "cell_type": "markdown",
   "metadata": {},
   "source": []
  },
  {
   "cell_type": "markdown",
   "metadata": {},
   "source": []
  },
  {
   "cell_type": "markdown",
   "metadata": {},
   "source": []
  },
  {
   "cell_type": "markdown",
   "metadata": {},
   "source": []
  },
  {
   "cell_type": "markdown",
   "metadata": {},
   "source": []
  },
  {
   "cell_type": "markdown",
   "metadata": {},
   "source": []
  },
  {
   "cell_type": "markdown",
   "metadata": {},
   "source": []
  },
  {
   "cell_type": "markdown",
   "metadata": {},
   "source": []
  },
  {
   "cell_type": "markdown",
   "metadata": {},
   "source": []
  },
  {
   "cell_type": "markdown",
   "metadata": {},
   "source": []
  },
  {
   "cell_type": "markdown",
   "metadata": {},
   "source": []
  },
  {
   "cell_type": "markdown",
   "metadata": {},
   "source": []
  },
  {
   "cell_type": "markdown",
   "metadata": {},
   "source": []
  },
  {
   "cell_type": "markdown",
   "metadata": {},
   "source": []
  },
  {
   "cell_type": "markdown",
   "metadata": {},
   "source": []
  },
  {
   "cell_type": "markdown",
   "metadata": {},
   "source": []
  },
  {
   "cell_type": "markdown",
   "metadata": {},
   "source": []
  },
  {
   "cell_type": "markdown",
   "metadata": {},
   "source": []
  },
  {
   "cell_type": "markdown",
   "metadata": {},
   "source": []
  },
  {
   "cell_type": "markdown",
   "metadata": {},
   "source": []
  },
  {
   "cell_type": "markdown",
   "metadata": {},
   "source": []
  },
  {
   "cell_type": "markdown",
   "metadata": {},
   "source": []
  },
  {
   "cell_type": "markdown",
   "metadata": {},
   "source": []
  },
  {
   "cell_type": "markdown",
   "metadata": {},
   "source": []
  },
  {
   "cell_type": "markdown",
   "metadata": {},
   "source": []
  },
  {
   "cell_type": "markdown",
   "metadata": {},
   "source": []
  },
  {
   "cell_type": "markdown",
   "metadata": {},
   "source": []
  },
  {
   "cell_type": "markdown",
   "metadata": {},
   "source": []
  },
  {
   "cell_type": "markdown",
   "metadata": {},
   "source": []
  },
  {
   "cell_type": "markdown",
   "metadata": {},
   "source": []
  },
  {
   "cell_type": "markdown",
   "metadata": {},
   "source": []
  },
  {
   "cell_type": "markdown",
   "metadata": {},
   "source": []
  },
  {
   "cell_type": "markdown",
   "metadata": {},
   "source": []
  },
  {
   "cell_type": "markdown",
   "metadata": {},
   "source": []
  },
  {
   "cell_type": "markdown",
   "metadata": {},
   "source": []
  },
  {
   "cell_type": "markdown",
   "metadata": {},
   "source": []
  },
  {
   "cell_type": "markdown",
   "metadata": {},
   "source": []
  },
  {
   "cell_type": "markdown",
   "metadata": {},
   "source": []
  },
  {
   "cell_type": "markdown",
   "metadata": {},
   "source": []
  },
  {
   "cell_type": "markdown",
   "metadata": {},
   "source": []
  },
  {
   "cell_type": "markdown",
   "metadata": {},
   "source": []
  },
  {
   "cell_type": "markdown",
   "metadata": {},
   "source": []
  },
  {
   "cell_type": "markdown",
   "metadata": {},
   "source": []
  },
  {
   "cell_type": "markdown",
   "metadata": {},
   "source": []
  },
  {
   "cell_type": "markdown",
   "metadata": {},
   "source": []
  },
  {
   "cell_type": "markdown",
   "metadata": {},
   "source": []
  },
  {
   "cell_type": "markdown",
   "metadata": {},
   "source": []
  },
  {
   "cell_type": "markdown",
   "metadata": {},
   "source": []
  },
  {
   "cell_type": "markdown",
   "metadata": {},
   "source": []
  },
  {
   "cell_type": "markdown",
   "metadata": {},
   "source": []
  },
  {
   "cell_type": "markdown",
   "metadata": {},
   "source": []
  },
  {
   "cell_type": "markdown",
   "metadata": {},
   "source": []
  },
  {
   "cell_type": "markdown",
   "metadata": {},
   "source": []
  },
  {
   "cell_type": "markdown",
   "metadata": {},
   "source": []
  },
  {
   "cell_type": "markdown",
   "metadata": {},
   "source": []
  },
  {
   "cell_type": "markdown",
   "metadata": {},
   "source": []
  },
  {
   "cell_type": "markdown",
   "metadata": {},
   "source": []
  },
  {
   "cell_type": "markdown",
   "metadata": {},
   "source": []
  },
  {
   "cell_type": "markdown",
   "metadata": {},
   "source": []
  },
  {
   "cell_type": "markdown",
   "metadata": {},
   "source": []
  },
  {
   "cell_type": "markdown",
   "metadata": {},
   "source": []
  },
  {
   "cell_type": "markdown",
   "metadata": {},
   "source": []
  },
  {
   "cell_type": "markdown",
   "metadata": {},
   "source": []
  },
  {
   "cell_type": "markdown",
   "metadata": {},
   "source": []
  },
  {
   "cell_type": "markdown",
   "metadata": {},
   "source": []
  },
  {
   "cell_type": "markdown",
   "metadata": {},
   "source": []
  },
  {
   "cell_type": "markdown",
   "metadata": {},
   "source": []
  },
  {
   "cell_type": "markdown",
   "metadata": {},
   "source": []
  },
  {
   "cell_type": "markdown",
   "metadata": {},
   "source": []
  },
  {
   "cell_type": "markdown",
   "metadata": {},
   "source": []
  },
  {
   "cell_type": "markdown",
   "metadata": {},
   "source": []
  },
  {
   "cell_type": "markdown",
   "metadata": {},
   "source": []
  },
  {
   "cell_type": "markdown",
   "metadata": {},
   "source": []
  },
  {
   "cell_type": "markdown",
   "metadata": {},
   "source": []
  },
  {
   "cell_type": "markdown",
   "metadata": {},
   "source": []
  },
  {
   "cell_type": "markdown",
   "metadata": {},
   "source": []
  },
  {
   "cell_type": "markdown",
   "metadata": {},
   "source": []
  },
  {
   "cell_type": "markdown",
   "metadata": {},
   "source": []
  },
  {
   "cell_type": "markdown",
   "metadata": {},
   "source": []
  },
  {
   "cell_type": "markdown",
   "metadata": {},
   "source": []
  },
  {
   "cell_type": "markdown",
   "metadata": {},
   "source": []
  },
  {
   "cell_type": "markdown",
   "metadata": {},
   "source": []
  },
  {
   "cell_type": "markdown",
   "metadata": {},
   "source": []
  },
  {
   "cell_type": "markdown",
   "metadata": {},
   "source": []
  },
  {
   "cell_type": "markdown",
   "metadata": {},
   "source": []
  },
  {
   "cell_type": "markdown",
   "metadata": {},
   "source": []
  },
  {
   "cell_type": "markdown",
   "metadata": {},
   "source": []
  }
 ],
 "metadata": {
  "kernelspec": {
   "display_name": "Python 3",
   "language": "python",
   "name": "python3"
  },
  "language_info": {
   "codemirror_mode": {
    "name": "ipython",
    "version": 3
   },
   "file_extension": ".py",
   "mimetype": "text/x-python",
   "name": "python",
   "nbconvert_exporter": "python",
   "pygments_lexer": "ipython3",
   "version": "3.6.7"
  }
 },
 "nbformat": 4,
 "nbformat_minor": 2
}
