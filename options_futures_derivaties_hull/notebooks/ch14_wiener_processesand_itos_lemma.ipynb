{
 "cells": [
  {
   "cell_type": "markdown",
   "metadata": {},
   "source": [
    "Any variable whose value changes over time in an uncertain way is said to follow a\n",
    "stochastic process."
   ]
  },
  {
   "cell_type": "markdown",
   "metadata": {},
   "source": [
    "Stochastic processes can be classified as discrete time or continuous\n",
    "time."
   ]
  },
  {
   "cell_type": "markdown",
   "metadata": {},
   "source": [
    "A discrete-time stochastic process is one where the value of the variable can\n",
    "change only at certain fixed points in time, whereas a continuous-time stochastic\n",
    "process is one where changes can take place at any time."
   ]
  },
  {
   "cell_type": "markdown",
   "metadata": {},
   "source": [
    "Stochastic processes can also\n",
    "be classified as continuous variable or discrete variable."
   ]
  },
  {
   "cell_type": "markdown",
   "metadata": {},
   "source": [
    "In a continuous-variable process,\n",
    "the underlying variable can take any value within a certain range, whereas in a discrete-\n",
    "variable process, only certain discrete values are possible."
   ]
  },
  {
   "cell_type": "markdown",
   "metadata": {},
   "source": [
    "This chapter develops a continuous-variable, continuous-time stochastic process for\n",
    "stock prices. \n",
    "\n",
    "It should be noted that, in practice, we do not observe stock prices\n",
    "following continuous-variable, continuous-time processes. Stock prices are restricted to\n",
    "discrete values (e.g., multiples of a cent) and changes can be observed only when the\n",
    "exchange is open for trading. \n",
    "\n",
    "Nevertheless, the continuous-variable, continuous-time\n",
    "process proves to be a useful model for many purposes."
   ]
  },
  {
   "cell_type": "markdown",
   "metadata": {},
   "source": [
    "# 14.1\n",
    "---"
   ]
  },
  {
   "cell_type": "markdown",
   "metadata": {},
   "source": [
    "A Markov process is a particular type of stochastic process where only the current value\n",
    "of a variable is relevant for predicting the future. The past history of the variable and\n",
    "the way that the present has emerged from the past are irrelevant."
   ]
  },
  {
   "cell_type": "markdown",
   "metadata": {},
   "source": [
    "Stock prices are usually assumed to follow a Markov process."
   ]
  },
  {
   "cell_type": "markdown",
   "metadata": {},
   "source": [
    "If the stock price follows a Markov process, our\n",
    "predictions for the future should be unaffected by the price one week ago, one month ago, or one year ago. The only relevant piece of information is that the price is now"
   ]
  },
  {
   "cell_type": "markdown",
   "metadata": {},
   "source": [
    "Predictions for the future are uncertain and must be expressed in terms of\n",
    "probability distributions."
   ]
  },
  {
   "cell_type": "markdown",
   "metadata": {},
   "source": [
    "The Markov property implies that the probability distribu-\n",
    "tion of the price at any particular future time is not dependent on the particular path\n",
    "followed by the price in the past."
   ]
  },
  {
   "cell_type": "markdown",
   "metadata": {},
   "source": [
    "The Markov property of stock prices is consistent with the weak form of market\n",
    "efficiency. This states that the present price of a stock impounds all the information\n",
    "contained in a record of past prices.\n",
    "\n",
    "---"
   ]
  },
  {
   "cell_type": "markdown",
   "metadata": {},
   "source": [
    "# 14.2\n",
    "---"
   ]
  },
  {
   "cell_type": "markdown",
   "metadata": {},
   "source": [
    "Consider a variable that follows a Markov stochastic process. Suppose that its current\n",
    "value is 10 and that the change in its value during a year is $\\phi(0, 1)$, where $\\phi(m, v)$\n",
    "denotes a probability distribution that is normally distributed with mean m and\n",
    "variance v.  What is the probability distribution of the change in the value of the\n",
    "variable during 2 years?"
   ]
  },
  {
   "cell_type": "markdown",
   "metadata": {},
   "source": [
    "Because the variable is Markov, the two probability\n",
    "distributions are independent.\n",
    "\n",
    "When we add two independent normal distributions, the\n",
    "result is a normal distribution where the mean is the sum of the means and the variance\n",
    "is the sum of the variances."
   ]
  },
  {
   "cell_type": "markdown",
   "metadata": {},
   "source": [
    "More generally, the change during\n",
    "any time period of length T is $\\phi(0, T)$,; T Þ. In particular, the change during a very short time\n",
    "period of length $\\Delta t$ is $\\phi(0, \\Delta t)$,"
   ]
  },
  {
   "cell_type": "markdown",
   "metadata": {},
   "source": [
    "Note that, when Markov processes are considered, the variances of the changes in\n",
    "successive time periods are additive. The standard deviations of the changes in\n",
    "successive time periods are not additive."
   ]
  },
  {
   "cell_type": "markdown",
   "metadata": {},
   "source": [
    "Uncertainty is often measured by standard\n",
    "deviation. These results therefore explain why uncertainty is sometimes referred to as\n",
    "being proportional to the square root of time.\n"
   ]
  },
  {
   "cell_type": "markdown",
   "metadata": {},
   "source": [
    "Wiener process. It is a particular type of Markov stochastic process with a mean change of zero\n",
    "and a variance rate of 1.0. It has been used in physics to describe the motion of\n",
    "a particle that is subject to a large number of small molecular shocks and is sometimes\n",
    "referred to as Brownian motion."
   ]
  },
  {
   "cell_type": "markdown",
   "metadata": {},
   "source": [
    "Expressed formally, a variable z follows a Wiener process if it has the following two\n",
    "properties:\n",
    "1. The change $z$ during a small period of time $\\Delta t$ is $\\Delta z = \\epsilon\\Delta t$\n",
    "where $\\epsilon$ has a standard normal distribution $\\phi(0, 1$\n",
    "2. The values of $\\Delta z$ for any two different short intervals of time, $\\Delta t$, are\n",
    "independent."
   ]
  },
  {
   "cell_type": "markdown",
   "metadata": {},
   "source": [
    "It follows from the first property that $\\Delta z$ itself has a normal distribution with\n",
    "- mean of $\\Delta z = 0$\n",
    "- standard deviation of $\\Delta z = \\sqrt{\\Delta t}$\n",
    "- variance of $\\Delta z = \\Delta t$\n",
    "\n",
    "The second property implies that $z$ follows a Markov process."
   ]
  },
  {
   "cell_type": "markdown",
   "metadata": {},
   "source": [
    "Two intriguing properties of Wiener processes, related to this\n",
    "$\\Delta t$ property, are as follows:\n",
    "1. The expected length of the path followed by $z$ in any time interval is infinite.\n",
    "2. The expected number of times $z$ equals any particular value in any time interval is\n",
    "infinite."
   ]
  },
  {
   "cell_type": "markdown",
   "metadata": {},
   "source": [
    "The mean change per unit time for a stochastic process is known as the drift rate and\n",
    "the variance per unit time is known as the variance rate."
   ]
  },
  {
   "cell_type": "markdown",
   "metadata": {},
   "source": [
    "The basic Wiener process, $dz$,\n",
    "that has been developed so far has a drift rate of zero and a variance rate of 1.0."
   ]
  },
  {
   "cell_type": "markdown",
   "metadata": {},
   "source": [
    "The\n",
    "drift rate of zero means that the expected value of $z$ at any future time is equal to its\n",
    "current value."
   ]
  },
  {
   "cell_type": "markdown",
   "metadata": {},
   "source": [
    "A generalized Wiener process for a variable $x$ can be\n",
    "defined in terms of $dz$ as\n",
    "$$dx = a\\ dt + b\\ dz$$\n",
    "where $a$ and $b$ are constants."
   ]
  },
  {
   "cell_type": "markdown",
   "metadata": {},
   "source": [
    "The $a\\ dt$ term implies that x has an expected drift rate of\n",
    "$a$ per unit of time."
   ]
  },
  {
   "cell_type": "markdown",
   "metadata": {},
   "source": [
    "The $b\\ dz$ term on the right-hand side of equation (14.3) can\n",
    "be regarded as adding noise or variability to the path followed by $x$."
   ]
  },
  {
   "cell_type": "markdown",
   "metadata": {},
   "source": [
    "The amount of this\n",
    "noise or variability is $b$ times a Wiener process. A Wiener process has a variance rate per\n",
    "unit time of 1.0. It follows that $b$ times a Wiener process has a variance rate per unit\n",
    "time of $b$"
   ]
  },
  {
   "cell_type": "markdown",
   "metadata": {},
   "source": [
    "To summarize, the generalized Wiener process given in equation (14.3) has an expected\n",
    "drift rate (i.e., average drift per unit of time) of $a$ and a variance rate (i.e., variance per\n",
    "unit of time) of $b^2$"
   ]
  },
  {
   "cell_type": "markdown",
   "metadata": {},
   "source": [
    "Itô process. This is a\n",
    "generalized Wiener process in which the parameters $a$ and $b$ are functions of the value of\n",
    "the underlying variable $x$ and time $t$."
   ]
  },
  {
   "cell_type": "markdown",
   "metadata": {},
   "source": [
    "An Itô process can therefore be written as\n",
    "$dx = a(x,t)\\ dt + b(x, t)\\ dz$"
   ]
  },
  {
   "cell_type": "markdown",
   "metadata": {},
   "source": [
    "Both the expected drift rate and variance rate of an Itô process are liable to change over\n",
    "time. They are functions of the current value of $x$ and the current time, $t$."
   ]
  },
  {
   "cell_type": "markdown",
   "metadata": {},
   "source": [
    "In a small\n",
    "time interval between $t$ and $t + \\Delta t$, the variable changes from $x$ to $x + \\Delta x$, where\n",
    "$\\Delta x = a(x, t)\\Delta t + b(x,t)\\epsilon\\sqrt{\\Delta t}$ <br>\n",
    "It assumes that the drift and variance rate of\n",
    "$x$ remain constant, equal to their values at time $t$, in the time interval between $t$ and $t + \\Delta t$."
   ]
  },
  {
   "cell_type": "markdown",
   "metadata": {},
   "source": [
    "Note that the process in equation (14.4) is Markov because the change in $x$ at time $t$\n",
    "depends only on the value of $x$ at time $t$, not on its history.<br> A non-Markov process could\n",
    "be defined by letting a and b in equation (14.4) depend on values of $x$ prior to time $t$."
   ]
  },
  {
   "cell_type": "markdown",
   "metadata": {},
   "source": [
    "# 14.3"
   ]
  },
  {
   "cell_type": "markdown",
   "metadata": {},
   "source": [
    "It is tempting to suggest that a stock price follows a generalized Wiener process; that is,\n",
    "that it has a constant expected drift rate and a constant variance rate.\n",
    "\n",
    "However, this\n",
    "model fails to capture a key aspect of stock prices. This is that the expected percentage\n",
    "return required by investors from a stock is independent of the stock’s price."
   ]
  },
  {
   "cell_type": "markdown",
   "metadata": {},
   "source": [
    "Clearly, the assumption of constant expected drift rate is inappropriate and needs to\n",
    "be replaced by the assumption that the expected return (i.e., expected drift divided by\n",
    "the stock price) is constant."
   ]
  },
  {
   "cell_type": "markdown",
   "metadata": {},
   "source": [
    "Equation (14.5) shows that,\n",
    "when there is no uncertainty, the stock price grows at a continuously compounded rate\n",
    "of $\\mu$ per unit of time."
   ]
  },
  {
   "cell_type": "markdown",
   "metadata": {},
   "source": [
    "In practice, of course, there is uncertainty. A reasonable assumption is that the\n",
    "variability of the return in a short period of time, $\\Delta t$, is the same regardless of the\n",
    "stock price."
   ]
  },
  {
   "cell_type": "markdown",
   "metadata": {},
   "source": [
    "This suggests that the standard deviation of the\n",
    "change in a short period of time $\\Delta t$ should be proportional to the stock price and leads\n",
    "to the model \n",
    "$$ \\frac{dS}{S} = \\mu\\ dt + \\sigma\\ dz $$"
   ]
  },
  {
   "cell_type": "markdown",
   "metadata": {},
   "source": [
    "The variable $\\mu$ is\n",
    "the stock’s expected rate of return. The variable $\\sigma$ is the volatility of the stock price. The\n",
    "variable $\\sigma^2$ is referred to as its variance rate."
   ]
  },
  {
   "cell_type": "markdown",
   "metadata": {},
   "source": [
    "The model in equation (14.6) represents\n",
    "the stock price process in the real world. In a risk-neutral world, $\\mu$ equals the risk-free\n",
    "rate $r$."
   ]
  },
  {
   "cell_type": "markdown",
   "metadata": {},
   "source": [
    "The model of stock price behavior we have developed is known as geometric Brownian\n",
    "motion."
   ]
  },
  {
   "cell_type": "markdown",
   "metadata": {},
   "source": [
    "The discrete-time version of the model is $$\\frac{\\Delta S}{S} = \\mu\\ \\Delta t + \\sigma\\ \\epsilon \\sqrt{\\Delta t}$$ "
   ]
  },
  {
   "cell_type": "markdown",
   "metadata": {},
   "source": [
    "Equation (14.7) shows that $\\Delta S/S$ is approximately normally distributed with mean\n",
    "$\\mu \\Delta t$ and standard deviation $\\sigma \\sqrt{\\Delta t}$. In other words, \n",
    "$$\\frac{\\Delta S}{S} \\sim \\phi(\\mu \\Delta t,\\ \\sigma^2 \\Delta t)$$"
   ]
  },
  {
   "cell_type": "markdown",
   "metadata": {},
   "source": [
    "A Monte Carlo simulation of a stochastic process is a procedure for sampling random\n",
    "outcomes for the process."
   ]
  },
  {
   "cell_type": "markdown",
   "metadata": {},
   "source": [
    "Note\n",
    "that, because the process we are simulating is Markov, the samples for $\\epsilon$ should be\n",
    "independent of each other."
   ]
  },
  {
   "cell_type": "markdown",
   "metadata": {},
   "source": [
    "Different random samples would lead to different price movements.\n",
    "\n",
    "Any small time\n",
    "interval $\\Delta t$ can be used in the simulation. In the limit as $\\Delta t \\rightarrow 0$, a perfect description\n",
    "of the stochastic process is obtained."
   ]
  },
  {
   "cell_type": "markdown",
   "metadata": {},
   "source": [
    "By repeatedly simulating movements in the stock price, a complete prob-\n",
    "ability distribution of the stock price at the end of this time is obtained."
   ]
  },
  {
   "cell_type": "markdown",
   "metadata": {},
   "source": [
    "# 14.4"
   ]
  },
  {
   "cell_type": "markdown",
   "metadata": {},
   "source": [
    "The parameter $\\mu$ is the expected return (annualized) earned by an investor in a short\n",
    "period of time. \n",
    "\n",
    "Most investors require higher expected returns to induce them to take\n",
    "higher risks. \n",
    "\n",
    "It follows that the value of $\\mu$ should depend on the risk of the return from\n",
    "the stock."
   ]
  },
  {
   "cell_type": "markdown",
   "metadata": {},
   "source": [
    "It should also depend on the level of interest rates in the economy. The higher\n",
    "the level of interest rates, the higher the expected return required on any given stock."
   ]
  },
  {
   "cell_type": "markdown",
   "metadata": {},
   "source": [
    "Fortunately, we do not have to concern ourselves with the determinants of $\\mu$ in any\n",
    "detail because the value of a derivative dependent on a stock is, in general, independent\n",
    "of $\\mu$. \n",
    "\n",
    "The parameter $\\sigma$, the stock price volatility, is, by contrast, critically important to\n",
    "the determination of the value of many derivatives."
   ]
  },
  {
   "cell_type": "markdown",
   "metadata": {},
   "source": [
    "Typical values of $\\sigma$ for a stock are in the range 0.15 to 0.60\n",
    "(i.e., 15% to 60%)."
   ]
  },
  {
   "cell_type": "markdown",
   "metadata": {},
   "source": [
    "The standard deviation of the proportional change in the stock price in a small\n",
    "interval of time $\\Delta t$ is $\\sigma \\sqrt{\\Delta t}$ . As a rough approximation, the standard deviation of the\n",
    "proportional change in the stock price over a relatively long period of time T is $\\sigma \\sqrt{T}$.\n",
    "This means that, as an approximation, volatility can be interpreted as the standard\n",
    "deviation of the change in the stock price in 1 year."
   ]
  },
  {
   "cell_type": "markdown",
   "metadata": {},
   "source": [
    "In Chapter 15, we will show that the\n",
    "volatility of a stock price is exactly equal to the standard deviation of the continuously\n",
    "compounded return provided by the stock in 1 year."
   ]
  },
  {
   "cell_type": "markdown",
   "metadata": {},
   "source": [
    "# 14.5"
   ]
  },
  {
   "cell_type": "markdown",
   "metadata": {},
   "source": []
  },
  {
   "cell_type": "markdown",
   "metadata": {},
   "source": []
  },
  {
   "cell_type": "markdown",
   "metadata": {},
   "source": []
  },
  {
   "cell_type": "markdown",
   "metadata": {},
   "source": []
  },
  {
   "cell_type": "markdown",
   "metadata": {},
   "source": []
  },
  {
   "cell_type": "markdown",
   "metadata": {},
   "source": []
  },
  {
   "cell_type": "markdown",
   "metadata": {},
   "source": []
  },
  {
   "cell_type": "markdown",
   "metadata": {},
   "source": []
  },
  {
   "cell_type": "markdown",
   "metadata": {},
   "source": []
  },
  {
   "cell_type": "markdown",
   "metadata": {},
   "source": []
  },
  {
   "cell_type": "markdown",
   "metadata": {},
   "source": []
  },
  {
   "cell_type": "markdown",
   "metadata": {},
   "source": []
  },
  {
   "cell_type": "markdown",
   "metadata": {},
   "source": []
  },
  {
   "cell_type": "markdown",
   "metadata": {},
   "source": []
  },
  {
   "cell_type": "markdown",
   "metadata": {},
   "source": []
  },
  {
   "cell_type": "markdown",
   "metadata": {},
   "source": []
  },
  {
   "cell_type": "markdown",
   "metadata": {},
   "source": []
  },
  {
   "cell_type": "markdown",
   "metadata": {},
   "source": []
  },
  {
   "cell_type": "markdown",
   "metadata": {},
   "source": []
  },
  {
   "cell_type": "markdown",
   "metadata": {},
   "source": []
  }
 ],
 "metadata": {
  "kernelspec": {
   "display_name": "Python 3",
   "language": "python",
   "name": "python3"
  },
  "language_info": {
   "codemirror_mode": {
    "name": "ipython",
    "version": 3
   },
   "file_extension": ".py",
   "mimetype": "text/x-python",
   "name": "python",
   "nbconvert_exporter": "python",
   "pygments_lexer": "ipython3",
   "version": "3.6.7"
  }
 },
 "nbformat": 4,
 "nbformat_minor": 2
}
