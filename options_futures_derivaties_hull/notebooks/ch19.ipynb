{
 "cells": [
  {
   "cell_type": "markdown",
   "metadata": {},
   "source": [
    "Creating an option\n",
    "position synthetically is essentially the same task as hedging the opposite option\n",
    "position."
   ]
  },
  {
   "cell_type": "markdown",
   "metadata": {},
   "source": [
    "# 19.2"
   ]
  },
  {
   "cell_type": "markdown",
   "metadata": {},
   "source": [
    "As an alternative to a naked position, the financial institution can adopt a covered\n",
    "position. This involves buying 100,000 shares as soon as the option has been sold. If the\n",
    "option is exercised, this strategy works well, but in other circumstances it could lead to a\n",
    "significant loss."
   ]
  },
  {
   "cell_type": "markdown",
   "metadata": {},
   "source": [
    "One interesting hedging procedure that is sometimes proposed involves a stop-loss\n",
    "strategy."
   ]
  },
  {
   "cell_type": "markdown",
   "metadata": {},
   "source": [
    "The hedging procedure involves buying one\n",
    "unit of the stock as soon as its price rises above K and selling it as soon as its price falls\n",
    "below K. The objective is to hold a naked position whenever the stock price is less than K\n",
    "and a covered position whenever the stock price is greater than K."
   ]
  },
  {
   "cell_type": "markdown",
   "metadata": {},
   "source": [
    "As a practical matter, purchases must be made at a price $K + \\epsilon$ and sales must be\n",
    "made at a price $K - \\epsilon$, for some small positive number $\\epsilon$"
   ]
  },
  {
   "cell_type": "markdown",
   "metadata": {},
   "source": [
    "A stop-loss strategy, although superficially attractive, does not work particularly well\n",
    "as a hedging procedure."
   ]
  },
  {
   "cell_type": "markdown",
   "metadata": {},
   "source": [
    "Monte Carlo simulation can be used to assess the overall performance of stop-loss\n",
    "hedging. This involves randomly sampling paths for the stock price and observing the\n",
    "results of using the procedure."
   ]
  },
  {
   "cell_type": "markdown",
   "metadata": {},
   "source": [
    "The hedge performance measure in Table 19.1 is the ratio of the standard\n",
    "deviation of the cost of hedging the option to the Black–Scholes–Merton price. (The\n",
    "cost of hedging was calculated as the cumulative cost excluding the impact of interest\n",
    "payments and discounting.)"
   ]
  },
  {
   "cell_type": "markdown",
   "metadata": {},
   "source": [
    "# 19.3"
   ]
  },
  {
   "cell_type": "markdown",
   "metadata": {},
   "source": [
    "Most traders use more sophisticated hedging procedures than those mentioned so far.\n",
    "These hedging procedures involve calculating measures such as delta, gamma, and vega.\n",
    "The measures are collectively referred to as Greek letters."
   ]
  },
  {
   "cell_type": "markdown",
   "metadata": {},
   "source": [
    "They quantify different\n",
    "aspects of the risk in an option position."
   ]
  },
  {
   "cell_type": "markdown",
   "metadata": {},
   "source": [
    "In order to calculate a Greek letter, it is necessary to assume an option pricing\n",
    "model. Traders usually assume the Black–Scholes–Merton model (or its extensions in\n",
    "Chapters 17 and 18) for European options and the binomial tree model (introduced in\n",
    "Chapter 13) for American options."
   ]
  },
  {
   "cell_type": "markdown",
   "metadata": {},
   "source": [
    "When calculating Greek letters, traders\n",
    "normally set the volatility equal to the current implied volatility."
   ]
  },
  {
   "cell_type": "markdown",
   "metadata": {},
   "source": [
    "When volatility is set equal to the implied volatility, the model gives the option price at\n",
    "a particular time as an exact function of the price of the underlying asset, the implied\n",
    "volatility, interest rates, and (possibly) dividends."
   ]
  },
  {
   "cell_type": "markdown",
   "metadata": {},
   "source": [
    "The only way the option price can\n",
    "change in a short time period is if one of these variables changes. A trader naturally\n",
    "feels confident if the risks of changes in all these variables have been adequately hedged."
   ]
  },
  {
   "cell_type": "markdown",
   "metadata": {},
   "source": [
    "The delta ($\\Delta$) of an option was introduced in Chapter 13. It is defined as the rate of\n",
    "change of the option price with respect to the price of the underlying asset. It is the\n",
    "slope of the curve that relates the option price to the underlying asset price."
   ]
  },
  {
   "cell_type": "markdown",
   "metadata": {},
   "source": [
    "A position with a delta of zero is referred to as delta neutral."
   ]
  },
  {
   "cell_type": "markdown",
   "metadata": {},
   "source": [
    "It is important to realize that, since the delta of an option does not remain constant,\n",
    "the trader’s position remains delta hedged (or delta neutral) for only a relatively short\n",
    "period of time. The hedge has to be adjusted periodically. This is known as rebalancing."
   ]
  },
  {
   "cell_type": "markdown",
   "metadata": {},
   "source": [
    "A procedure such as this, where the\n",
    "hedge is adjusted on a regular basis, is referred to as dynamic hedging. It can be\n",
    "contrasted with static hedging, where a hedge is set up initially and never adjusted."
   ]
  },
  {
   "cell_type": "markdown",
   "metadata": {},
   "source": [
    "For a European call option on a non-dividend-paying stock, it can be shown (see\n",
    "Problem 15.17) that the Black–Scholes–Merton model gives $\\Delta(call) = N(d_1)$"
   ]
  },
  {
   "cell_type": "markdown",
   "metadata": {},
   "source": [
    "The delta of a short position in one call option is $- N(d_1)$"
   ]
  },
  {
   "cell_type": "markdown",
   "metadata": {},
   "source": [
    "Using delta hedging for a short position in a European call option involves maintaining\n",
    "a long position of $ N(d_1)$ for each option sold. Similarly, using delta hedging for a long\n",
    "position in a European call option involves maintaining a short position of $ N(d_1)$ shares\n",
    "for each option purchased."
   ]
  },
  {
   "cell_type": "markdown",
   "metadata": {},
   "source": [
    "For a European put option on a non-dividend-paying stock, delta is given by $\\Delta(put) = N(d_1) - 1$"
   ]
  },
  {
   "cell_type": "markdown",
   "metadata": {},
   "source": [
    "Delta is negative, which means that a long position in a put option should be hedged\n",
    "with a long position in the underlying stock, and a short position in a put option\n",
    "should be hedged with a short position in the underlying stock."
   ]
  },
  {
   "cell_type": "markdown",
   "metadata": {},
   "source": [
    "Unlike a stop-loss strategy, the performance\n",
    "of delta-hedging gets steadily better as the hedge is monitored more frequently."
   ]
  },
  {
   "cell_type": "markdown",
   "metadata": {},
   "source": [
    "Delta hedging aims to keep the value of the financial institution’s position as close to\n",
    "unchanged as possible."
   ]
  },
  {
   "cell_type": "markdown",
   "metadata": {},
   "source": [
    "As the tables illustrate, delta hedging a short position\n",
    "generally involves selling stock just after the price has gone down and buying stock just\n",
    "after the price has gone up. It might be termed a buy-high, sell-low trading strategy!"
   ]
  },
  {
   "cell_type": "markdown",
   "metadata": {},
   "source": [
    "The delta of a portfolio of options or other derivatives dependent on a single asset\n",
    "whose price is S is $\\frac{\\partial \\Pi}{\\partial S}$, where $\\Pi$ is the value of the portfolio."
   ]
  },
  {
   "cell_type": "markdown",
   "metadata": {},
   "source": [
    "The delta of the portfolio can be calculated from the deltas of the individual options\n",
    "in the portfolio.\n"
   ]
  },
  {
   "cell_type": "markdown",
   "metadata": {},
   "source": [
    "If a portfolio consists of a quantity $w_i$ of option $i(1 \\leq i \\leq n)$, the delta\n",
    "of the portfolio is given by $\\Delta = \\sum\\limits_{i=1}^n w_i \\Delta_i$, where $\\Delta_i$ \n",
    "is the delta of the $i$th option."
   ]
  },
  {
   "cell_type": "markdown",
   "metadata": {},
   "source": [
    "Derivatives dealers usually rebalance their positions once a day to maintain delta\n",
    "neutrality."
   ]
  },
  {
   "cell_type": "markdown",
   "metadata": {},
   "source": [
    "When the dealer has a small number of options on a particular asset, this is\n",
    "liable to be prohibitively expensive because of the bid–offer spreads the dealer is subject\n",
    "to on trades. For a large portfolio of options, it is more feasible."
   ]
  },
  {
   "cell_type": "markdown",
   "metadata": {},
   "source": [
    "Only one trade in the\n",
    "underlying asset is necessary to zero out delta for the whole portfolio. The bid–offer\n",
    "spread transaction costs are absorbed by the profits on many different trades."
   ]
  },
  {
   "cell_type": "markdown",
   "metadata": {},
   "source": [
    "# 19.5"
   ]
  },
  {
   "cell_type": "markdown",
   "metadata": {},
   "source": [
    "The theta ($\\Theta$) of a portfolio of options is the rate of change of the value of the portfolio\n",
    "with respect to the passage of time with all else remaining the same. \n",
    "\n",
    "Theta is sometimes\n",
    "referred to as the time decay of the portfolio."
   ]
  },
  {
   "cell_type": "markdown",
   "metadata": {},
   "source": [
    "For a European call option on a non-\n",
    "dividend-paying stock, $\\Theta(call) = -\\frac{S_0 N'(d_1)\\sigma}{2 \\sqrt{T}} - r K e^{-r T} N(d_2)$"
   ]
  },
  {
   "cell_type": "markdown",
   "metadata": {},
   "source": [
    "For a European put option on the stock, $\\Theta(put) = -\\frac{S_0 N'(d_1)\\sigma}{2 \\sqrt{T}} + r K e^{-r T} N(-d_2)$"
   ]
  },
  {
   "cell_type": "markdown",
   "metadata": {},
   "source": [
    "Because $N(-d_2) = 1 - N(d_2)$, the theta of a put exceeds the theta of the corresponding\n",
    "call by $r K e^{-rT}$\n"
   ]
  },
  {
   "cell_type": "markdown",
   "metadata": {},
   "source": [
    "In these formulas, time is measured in years. Usually, when theta is quoted, time is\n",
    "measured in days, so that theta is the change in the portfolio value when 1 day passes with all else remaining the same."
   ]
  },
  {
   "cell_type": "markdown",
   "metadata": {},
   "source": [
    "We can measure theta either ‘‘per calendar day’’ or\n",
    "‘‘per trading day.’’ To obtain the theta per calendar day, the formula for theta must be\n",
    "divided by 365; to obtain theta per trading day, it must be divided by 252"
   ]
  },
  {
   "cell_type": "markdown",
   "metadata": {},
   "source": [
    "Theta is usually negative for an option. This is because, as time passes with all else\n",
    "remaining the same, the option tends to become less valuable."
   ]
  },
  {
   "cell_type": "markdown",
   "metadata": {},
   "source": [
    "The variation of $\\Theta$ with\n",
    "stock price for a call option on a stock is shown in Figure 19.5. When the stock price is\n",
    "very low, theta is close to zero. For an at-the-money call option, theta is large and\n",
    "negative. As the stock price becomes larger, theta tends to $-r K e^{-rT}$."
   ]
  },
  {
   "cell_type": "markdown",
   "metadata": {},
   "source": [
    "Theta is not the same type of hedge parameter as delta. There is uncertainty about\n",
    "the future stock price, but there is no uncertainty about the passage of time."
   ]
  },
  {
   "cell_type": "markdown",
   "metadata": {},
   "source": [
    "It makes\n",
    "sense to hedge against changes in the price of the underlying asset, but it does not make\n",
    "any sense to hedge against the passage of time."
   ]
  },
  {
   "cell_type": "markdown",
   "metadata": {},
   "source": [
    "In spite of this, many traders regard\n",
    "theta as a useful descriptive statistic for a portfolio. This is because, as we shall see later,\n",
    "in a delta-neutral portfolio theta is a proxy for gamma."
   ]
  },
  {
   "cell_type": "markdown",
   "metadata": {},
   "source": [
    "# 19.6"
   ]
  },
  {
   "cell_type": "markdown",
   "metadata": {},
   "source": [
    "The gamma ($\\Gamma$) of a portfolio of options on an underlying asset is the rate of change of\n",
    "the portfolio’s delta with respect to the price of the underlying asset."
   ]
  },
  {
   "cell_type": "markdown",
   "metadata": {},
   "source": [
    "It is the second\n",
    "partial derivative of the portfolio with respect to asset price:\n",
    "$\\Gamma = \\frac{\\partial^2 \\Pi}{\\partial S^2}$"
   ]
  },
  {
   "cell_type": "markdown",
   "metadata": {},
   "source": [
    "If gamma is small, delta changes slowly, and adjustments to keep a portfolio delta\n",
    "neutral need to be made only relatively infrequently."
   ]
  },
  {
   "cell_type": "markdown",
   "metadata": {},
   "source": [
    "However, if gamma is highly\n",
    "negative or highly positive, delta is very sensitive to the price of the underlying asset. It\n",
    "is then quite risky to leave a delta-neutral portfolio unchanged for any length of time."
   ]
  },
  {
   "cell_type": "markdown",
   "metadata": {},
   "source": [
    "The appendix at\n",
    "the end of this chapter shows that, if terms of order higher than $\\Delta t$ are ignored,\n",
    "$\\Delta \\Pi = \\Theta \\Delta t + \\frac{1}{2} \\Gamma \\Delta S^2$\n",
    "for a delta-neutral portfolio,"
   ]
  },
  {
   "cell_type": "markdown",
   "metadata": {},
   "source": [
    "Figure 19.8 shows the\n",
    "nature of the relationship between $\\Delta \\Pi$ and $\\Delta S $. When gamma is positive, theta tends to\n",
    "be negative. The portfolio declines in value if there is no change in S, but increases in\n",
    "value if there is a large positive or negative change in S."
   ]
  },
  {
   "cell_type": "markdown",
   "metadata": {},
   "source": [
    "When gamma is negative, theta\n",
    "tends to be positive and the reverse is true: the portfolio increases in value if there is no\n",
    "change in S but decreases in value if there is a large positive or negative change in S."
   ]
  },
  {
   "cell_type": "markdown",
   "metadata": {},
   "source": [
    "As\n",
    "the absolute value of gamma increases, the sensitivity of the value of the portfolio to S\n",
    "increases."
   ]
  },
  {
   "cell_type": "markdown",
   "metadata": {},
   "source": [
    "A position in the underlying asset has zero gamma and cannot be used to change the\n",
    "gamma of a portfolio. What is required is a position in an instrument such as an option\n",
    "that is not linearly dependent on the underlying asset."
   ]
  },
  {
   "cell_type": "markdown",
   "metadata": {},
   "source": [
    "Suppose that a delta-neutral portfolio has a gamma equal to $\\Gamma$, and a traded option\n",
    "has a gamma equal to $\\Gamma_T$  . If the number of traded options added to the portfolio is $w_T$ ,\n",
    "the gamma of the portfolio is\n",
    "$w_T \\Gamma_T + \\Gamma $"
   ]
  },
  {
   "cell_type": "markdown",
   "metadata": {},
   "source": [
    "Hence, the position in the traded option necessary to make the portfolio gamma neutral\n",
    "is $-\\Gamma / \\Gamma_T $"
   ]
  },
  {
   "cell_type": "markdown",
   "metadata": {},
   "source": [
    "Including the traded option is likely to change the delta of the portfolio, so the position in the underlying asset then has to be changed to maintain delta neutrality"
   ]
  },
  {
   "cell_type": "markdown",
   "metadata": {},
   "source": [
    "Note that the portfolio is gamma neutral only for a short period of time. As time\n",
    "passes, gamma neutrality can be maintained only if the position in the traded option is\n",
    "adjusted so that it is always equal to $-\\Gamma / \\Gamma_T $"
   ]
  },
  {
   "cell_type": "markdown",
   "metadata": {},
   "source": [
    "Making a portfolio gamma neutral as well as delta-neutral can be regarded as a\n",
    "correction for the hedging error illustrated in Figure 19.7. Delta neutrality provides\n",
    "protection against relatively small stock price moves between rebalancing. Gamma\n",
    "neutrality provides protection against larger movements in this stock price between\n",
    "hedge rebalancing."
   ]
  },
  {
   "cell_type": "markdown",
   "metadata": {},
   "source": [
    "For a European call or put option on a non-dividend-paying stock, the gamma given\n",
    "by the Black–Scholes–Merton model is $\\Gamma = \\frac{N'(d_1)}{S_0 \\sigma \\sqrt{T}}$"
   ]
  },
  {
   "cell_type": "markdown",
   "metadata": {},
   "source": [
    "The\n",
    "gamma of a long position is always positive and varies with S 0 in the way indicated in\n",
    "Figure 19.9."
   ]
  },
  {
   "cell_type": "markdown",
   "metadata": {},
   "source": [
    "For an at-the-money\n",
    "option, gamma increases as the time to maturity decreases."
   ]
  },
  {
   "cell_type": "markdown",
   "metadata": {},
   "source": [
    "Short-life at-the-money\n",
    "options have very high gammas, which means that the value of the option holder’s\n",
    "position is highly sensitive to jumps in the stock price."
   ]
  },
  {
   "cell_type": "markdown",
   "metadata": {},
   "source": [
    "# 19.7"
   ]
  },
  {
   "cell_type": "markdown",
   "metadata": {},
   "source": [
    "it follows that $\\Theta + r S \\Delta + \\frac{1}{2} \\sigma^2 S^2 \\Gamma = r \\Pi$"
   ]
  },
  {
   "cell_type": "markdown",
   "metadata": {},
   "source": [
    "For a delta-neutral portfolio, $ \\Delta = 0$ and\n",
    "$\\Theta + \\frac{1}{2} \\sigma^2 S^2 \\Gamma = r \\Pi$"
   ]
  },
  {
   "cell_type": "markdown",
   "metadata": {},
   "source": [
    "This shows that, when $\\Theta$ is large and positive, gamma of a portfolio tends to be large\n",
    "and negative, and vice versa."
   ]
  },
  {
   "cell_type": "markdown",
   "metadata": {},
   "source": [
    "explains why theta can to some extent be regarded as a proxy for\n",
    "gamma in a delta-neutral portfolio."
   ]
  },
  {
   "cell_type": "markdown",
   "metadata": {},
   "source": [
    "# 19.8"
   ]
  },
  {
   "cell_type": "markdown",
   "metadata": {},
   "source": [
    "The Black–Scholes–Merton\n",
    "model assumes that the volatility of the asset underlying an option is constant."
   ]
  },
  {
   "cell_type": "markdown",
   "metadata": {},
   "source": [
    "This\n",
    "means that the implied volatilities of all options on the asset are constant and equal to\n",
    "this assumed volatility."
   ]
  },
  {
   "cell_type": "markdown",
   "metadata": {},
   "source": [
    "But in practice the volatility of an asset changes over time. As a result, the value of an\n",
    "option is liable to change because of movements in volatility as well as because of\n",
    "changes in the asset price and the passage of time."
   ]
  },
  {
   "cell_type": "markdown",
   "metadata": {},
   "source": [
    "The vega of an option, $\\mathcal{V}$, is the rate\n",
    "of change in its value with respect to the volatility of the underlying asset $\\mathcal{V} = \\frac{\\partial f}{\\partial \\sigma}$ where $f$ the option price and the volatility measure, $\\sigma$ is usually the option’s implied\n",
    "volatility."
   ]
  },
  {
   "cell_type": "markdown",
   "metadata": {},
   "source": [
    "When vega is highly positive or highly negative, there is a high sensitivity to\n",
    "changes in volatility."
   ]
  },
  {
   "cell_type": "markdown",
   "metadata": {},
   "source": [
    "If the vega of an option position is close to zero, volatility changes\n",
    "have very little effect on the value of the position."
   ]
  },
  {
   "cell_type": "markdown",
   "metadata": {},
   "source": [
    "A position in the underlying asset has zero vega. Vega cannot therefore be changed\n",
    "by taking a position in the underlying asset. In this respect, vega is like gamma."
   ]
  },
  {
   "cell_type": "markdown",
   "metadata": {},
   "source": [
    "A complication is that different options in a portfolio are liable to have different\n",
    "implied volatilities."
   ]
  },
  {
   "cell_type": "markdown",
   "metadata": {},
   "source": [
    "If all implied volatilities are assumed to change by the same amount\n",
    "during any short period of time, vega can be treated like gamma and the vega risk in a\n",
    "portfolio of options can be hedged by taking a position in a single option."
   ]
  },
  {
   "cell_type": "markdown",
   "metadata": {},
   "source": [
    "If $\\mathcal{V}$ is the\n",
    "vega of a portfolio and $\\mathcal{V}_T$ is the vega of a traded option, a position of $-\\mathcal{V}/\\mathcal{V}_T$ in the\n",
    "traded option makes the portfolio instantaneously vega neutral."
   ]
  },
  {
   "cell_type": "markdown",
   "metadata": {},
   "source": [
    "Unfortunately, a\n",
    "portfolio that is gamma neutral will not in general be vega neutral, and vice versa."
   ]
  },
  {
   "cell_type": "markdown",
   "metadata": {},
   "source": [
    "If\n",
    "a hedger requires a portfolio to be both gamma and vega neutral, at least two traded\n",
    "options dependent on the underlying asset must be used"
   ]
  },
  {
   "cell_type": "markdown",
   "metadata": {},
   "source": [
    "Hedging in the way indicated in Example 19.5 assumes that the implied volatilities of all\n",
    "options in a portfolio will change by the same amount during a short period of time. In\n",
    "practice, this is not necessarily true and a trader’s hedging problem is more complex."
   ]
  },
  {
   "cell_type": "markdown",
   "metadata": {},
   "source": [
    "As\n",
    "we will see in the next chapter, for any given underlying asset a trader monitors a\n",
    "‘‘volatility surface’’ that describes the implied volatilities of options with different strike\n",
    "prices and times to maturity."
   ]
  },
  {
   "cell_type": "markdown",
   "metadata": {},
   "source": [
    "The trader’s total vega risk for a portfolio is related to the\n",
    "different ways in which the volatility surface can change."
   ]
  },
  {
   "cell_type": "markdown",
   "metadata": {},
   "source": [
    "For a European call or put option on a non-dividend-paying stock, vega given by the\n",
    "Black–Scholes–Merton model is $\\mathcal{V} = S_0 \\sqrt{T} N'(d_1)$"
   ]
  },
  {
   "cell_type": "markdown",
   "metadata": {},
   "source": [
    "The vega of a long position in a European or American option is always\n",
    "positive."
   ]
  },
  {
   "cell_type": "markdown",
   "metadata": {},
   "source": [
    "Calculating vega from the Black–Scholes–Merton model and its extensions may seem\n",
    "strange because one of the assumptions underlying the model is that volatility is\n",
    "constant. It would be theoretically more correct to calculate vega from a model in which\n",
    "volatility is assumed to be stochastic"
   ]
  },
  {
   "cell_type": "markdown",
   "metadata": {},
   "source": [
    "Gamma neutrality protects against large changes in the price of the underlying asset\n",
    "between hedge rebalancing."
   ]
  },
  {
   "cell_type": "markdown",
   "metadata": {},
   "source": [
    "Vega neutrality protects against changes in volatility."
   ]
  },
  {
   "cell_type": "markdown",
   "metadata": {},
   "source": [
    "As\n",
    "might be expected, whether it is best to use an available traded option for vega or\n",
    "gamma hedging depends on the time between hedge rebalancing and the volatility of\n",
    "the volatility"
   ]
  },
  {
   "cell_type": "markdown",
   "metadata": {},
   "source": [
    "When volatilities change, the implied volatilities of short-dated options tend to change\n",
    "by more than the implied volatilities of long-dated options."
   ]
  },
  {
   "cell_type": "markdown",
   "metadata": {},
   "source": [
    "The vega of a portfolio is\n",
    "therefore often calculated by changing the volatilities of long-dated options by less than\n",
    "that of short-dated options."
   ]
  },
  {
   "cell_type": "markdown",
   "metadata": {},
   "source": [
    "# 19.9"
   ]
  },
  {
   "cell_type": "markdown",
   "metadata": {},
   "source": [
    "The rho of an option is the rate of change of its price f with respect to the interest\n",
    "rate r, $\\rho = \\frac{\\partial f}{\\partial r}$"
   ]
  },
  {
   "cell_type": "markdown",
   "metadata": {},
   "source": [
    "In practice (at least for European options) r is usually set equal\n",
    "to the risk-free rate for a maturity equal to the option’s maturity"
   ]
  },
  {
   "cell_type": "markdown",
   "metadata": {},
   "source": [
    "This\n",
    "means that a trader has exposure to movements in the whole term structure when the\n",
    "options in the trader’s portfolio have different maturities."
   ]
  },
  {
   "cell_type": "markdown",
   "metadata": {},
   "source": [
    "For a European call option on\n",
    "a non-dividend-paying stock $\\rho{call} = K T e^{-rT} N(d_2)$"
   ]
  },
  {
   "cell_type": "markdown",
   "metadata": {},
   "source": [
    "For a European put option, $\\rho{put} = -K T e^{-rT} N(-d_2)$"
   ]
  },
  {
   "cell_type": "markdown",
   "metadata": {},
   "source": [
    "# 19.10"
   ]
  },
  {
   "cell_type": "markdown",
   "metadata": {},
   "source": [
    "In an ideal world, traders working for financial institutions would be able to rebalance\n",
    "their portfolios very frequently in order to maintain all Greeks equal to zero. In\n",
    "practice, this is not possible."
   ]
  },
  {
   "cell_type": "markdown",
   "metadata": {},
   "source": [
    "When managing a large portfolio dependent on a single\n",
    "underlying asset, traders usually make delta zero, or close to zero, at least once a day by\n",
    "trading the underlying asset."
   ]
  },
  {
   "cell_type": "markdown",
   "metadata": {},
   "source": [
    "Unfortunately, a zero gamma and a zero vega are less easy\n",
    "to achieve because it is difficult to find options or other nonlinear derivatives that can be\n",
    "traded in the volume required at competitive prices."
   ]
  },
  {
   "cell_type": "markdown",
   "metadata": {},
   "source": [
    "Maintaining delta neutrality for a small number of options on an asset by trading\n",
    "daily is usually not economically feasible because the trading costs per option hedged\n",
    "are high"
   ]
  },
  {
   "cell_type": "markdown",
   "metadata": {},
   "source": [
    "But when a derivatives dealer maintains delta neutrality for a large portfolio\n",
    "of options on an asset, the trading costs per option hedged are more reasonable."
   ]
  },
  {
   "cell_type": "markdown",
   "metadata": {},
   "source": [
    "# 19.11"
   ]
  },
  {
   "cell_type": "markdown",
   "metadata": {},
   "source": [
    "The analysis involves calculating the gain or loss on\n",
    "their portfolio over a specified period under a variety of different scenarios."
   ]
  },
  {
   "cell_type": "markdown",
   "metadata": {},
   "source": [
    "The time\n",
    "period chosen is likely to depend on the liquidity of the instruments."
   ]
  },
  {
   "cell_type": "markdown",
   "metadata": {},
   "source": [
    "The scenarios can\n",
    "be either chosen by management or generated by a model."
   ]
  },
  {
   "cell_type": "markdown",
   "metadata": {},
   "source": [
    "# 19.12"
   ]
  },
  {
   "cell_type": "markdown",
   "metadata": {},
   "source": [
    "The formulas produced so far for delta, theta, gamma, vega, and rho have been for a\n",
    "European option on a non-dividend-paying stock. Table 19.6 shows how they change\n",
    "when the stock pays a continuous dividend yield at rate q."
   ]
  },
  {
   "cell_type": "markdown",
   "metadata": {},
   "source": [
    "By setting q equal to the dividend yield on an index,\n",
    "we obtain the Greek letters for European options on indices. \n",
    "\n",
    "By setting q equal to the\n",
    "foreign risk-free rate, we obtain the Greek letters for European options on a currency. \n",
    "\n",
    "By\n",
    "setting $q = r$, we obtain delta, gamma, theta, and vega for European options on a futures\n",
    "contract."
   ]
  },
  {
   "cell_type": "markdown",
   "metadata": {},
   "source": [
    "The rho for a call futures option is $-cT$ and the rho for a European put futures\n",
    "option is $-pT$  ."
   ]
  },
  {
   "cell_type": "markdown",
   "metadata": {},
   "source": [
    "In the case of currency options, there are two rhos corresponding to the two interest\n",
    "rates."
   ]
  },
  {
   "cell_type": "markdown",
   "metadata": {},
   "source": [
    "The rho corresponding to the domestic interest rate is given by the formula in\n",
    "Table 19.6. The rho corresponding to the foreign\n",
    "interest rate for a European call on a currency is $\\rho(call, foreign rate) = -T e^{-r_f T} S_0 N(d_1)$"
   ]
  },
  {
   "cell_type": "markdown",
   "metadata": {},
   "source": [
    "For a European put, it is $\\rho(put, foreign rate) = T e^{-r_f T} S_0 N(-d_1)$\n"
   ]
  },
  {
   "cell_type": "markdown",
   "metadata": {},
   "source": [
    "The concept of delta can be applied to financial instruments other than options."
   ]
  },
  {
   "cell_type": "markdown",
   "metadata": {},
   "source": [
    "The delta of a long forward contract on one share of the stock is therefore always 1.0. This\n",
    "means that a long forward contract on one share can be hedged by shorting one share; a\n",
    "short forward contract on one share can be hedged by purchasing one share"
   ]
  },
  {
   "cell_type": "markdown",
   "metadata": {},
   "source": [
    "For an asset providing a dividend yield at rate q, equation (5.7) shows that the\n",
    "forward contract’s delta is $e^{-qT}$"
   ]
  },
  {
   "cell_type": "markdown",
   "metadata": {},
   "source": [
    "For the delta of a forward contract on a stock index, q\n",
    "is set equal to the dividend yield on the index in this expression."
   ]
  },
  {
   "cell_type": "markdown",
   "metadata": {},
   "source": [
    "For the delta of a\n",
    "forward foreign exchange contract, it is set equal to the foreign risk-free rate, $r_f$"
   ]
  },
  {
   "cell_type": "markdown",
   "metadata": {},
   "source": [
    "From equation (5.1), the futures price for a contract on a non-dividend-paying stock is\n",
    "$S_0 e^{r T}$. Since futures contracts are settled daily, the holder of a long futures\n",
    "position makes an almost immediate gain of this amount. The delta of a futures\n",
    "contract is therefore $e^{r T}$"
   ]
  },
  {
   "cell_type": "markdown",
   "metadata": {},
   "source": [
    "For a futures position on an asset providing a dividend yield\n",
    "at rate q, equation (5.3) shows similarly that delta is $e^{(r - q) T}$"
   ]
  },
  {
   "cell_type": "markdown",
   "metadata": {},
   "source": [
    "It is interesting that daily settlement makes the deltas of futures and forward contracts\n",
    "slightly different. This is true even when interest rates are constant and the forward price\n",
    "equals the futures price."
   ]
  },
  {
   "cell_type": "markdown",
   "metadata": {},
   "source": [
    "Sometimes a futures contract is used to achieve a delta-neutral position.\n",
    "\n",
    "$H_A$ : Required position in asset for delta hedging, <br>$H_F$ : Alternative required position in futures contracts for delta hedging."
   ]
  },
  {
   "cell_type": "markdown",
   "metadata": {},
   "source": [
    "If the underlying asset is a non-dividend-paying stock, the analysis we have just given\n",
    "shows that $H_F = e^{-rT}H_A$"
   ]
  },
  {
   "cell_type": "markdown",
   "metadata": {},
   "source": [
    "When the underlying asset pays a dividend yield q, $H_F = e^{-(r - q)T}H_A$"
   ]
  },
  {
   "cell_type": "markdown",
   "metadata": {},
   "source": [
    "For a stock index, we set q equal to the dividend yield on the index; for a currency, we\n",
    "set it equal to the foreign risk-free rate, $r_f$ , so that $H_F = e^{-(r - r_f)T}H_A$"
   ]
  },
  {
   "cell_type": "markdown",
   "metadata": {},
   "source": [
    "# 19.13"
   ]
  },
  {
   "cell_type": "markdown",
   "metadata": {},
   "source": [
    "A portfolio manager is often interested in acquiring a put option on his or her portfolio.\n",
    "This provides protection against market declines while preserving the potential for a\n",
    "gain if the market does well."
   ]
  },
  {
   "cell_type": "markdown",
   "metadata": {},
   "source": [
    "One approach (discussed in Section 17.1) is to buy put\n",
    "options on a market index such as the S&P 500. An alternative is to create the options\n",
    "synthetically."
   ]
  },
  {
   "cell_type": "markdown",
   "metadata": {},
   "source": [
    "Creating an option synthetically involves maintaining a position in the underlying\n",
    "asset (or futures on the underlying asset) so that the delta of the position is equal to the\n",
    "delta of the required option."
   ]
  },
  {
   "cell_type": "markdown",
   "metadata": {},
   "source": [
    "The position necessary to create an option synthetically is\n",
    "the reverse of that necessary to hedge it. This is because the procedure for hedging an\n",
    "option involves the creation of an equal and opposite option synthetically."
   ]
  },
  {
   "cell_type": "markdown",
   "metadata": {},
   "source": [
    "option\n",
    "markets do not always have the liquidity to absorb the trades required by managers of\n",
    "large funds."
   ]
  },
  {
   "cell_type": "markdown",
   "metadata": {},
   "source": [
    "fund managers often require strike prices and exercise dates that are\n",
    "different from those available in exchange-traded options markets."
   ]
  },
  {
   "cell_type": "markdown",
   "metadata": {},
   "source": [
    "The synthetic option can be created from trading the portfolio or from trading in\n",
    "index futures contracts."
   ]
  },
  {
   "cell_type": "markdown",
   "metadata": {},
   "source": [
    "The volatility of the portfolio can usually\n",
    "be assumed to be its beta times the volatility of a well-diversified market index."
   ]
  },
  {
   "cell_type": "markdown",
   "metadata": {},
   "source": [
    "To create the put option synthetically, the fund manager should ensure that at any\n",
    "given time a proportion $e^{-qT}[1 - N(d_1)]$ of the stocks in the original portfolio has been sold and the proceeds invested in riskless\n",
    "assets."
   ]
  },
  {
   "cell_type": "markdown",
   "metadata": {},
   "source": [
    "As the value of the original portfolio declines, the delta of the put given by\n",
    "equation (19.8) becomes more negative and the proportion of the original portfolio sold\n",
    "must be increased."
   ]
  },
  {
   "cell_type": "markdown",
   "metadata": {},
   "source": [
    "As the value of the original portfolio increases, the delta of the put\n",
    "becomes less negative and the proportion of the original portfolio sold must be\n",
    "decreased (i.e., some of the original portfolio must be repurchased)."
   ]
  },
  {
   "cell_type": "markdown",
   "metadata": {},
   "source": [
    "Using index futures to create options synthetically can be preferable to using the\n",
    "underlying stocks because the transaction costs associated with trades in index futures\n",
    "are generally lower than those associated with the corresponding trades in the under-\n",
    "lying stocks."
   ]
  },
  {
   "cell_type": "markdown",
   "metadata": {},
   "source": [
    "If the portfolio is worth A 1 times the\n",
    "index and each index futures contract is on A 2 times the index, the number of futures\n",
    "contracts shorted at any given time should be $e^{q(T^* - T)} e^{-r T^*} [1 - N(d_1)] A_1/A_2$"
   ]
  },
  {
   "cell_type": "markdown",
   "metadata": {},
   "source": [
    "This analysis assumes that the portfolio mirrors the index. When this is not the case, it\n",
    "is necessary to (a) calculate the portfolio’s beta, (b) find the position in options on the\n",
    "index that gives the required protection, and (c) choose a position in index futures to\n",
    "create the options synthetically."
   ]
  },
  {
   "cell_type": "markdown",
   "metadata": {},
   "source": [
    "As discussed in Section 17.1, the strike price for the\n",
    "options should be the expected level of the market index when the portfolio reaches its\n",
    "insured value. \n",
    "\n",
    "The number of options required is beta times the number that would be\n",
    "required if the portfolio had a beta of 1.0."
   ]
  },
  {
   "cell_type": "markdown",
   "metadata": {},
   "source": [
    "# 19.4"
   ]
  },
  {
   "cell_type": "markdown",
   "metadata": {},
   "source": [
    "Portfolio insurance\n",
    "strategies such as those just described have the potential to increase volatility."
   ]
  },
  {
   "cell_type": "markdown",
   "metadata": {},
   "source": [
    "When the\n",
    "market declines, they cause portfolio managers either to sell stock or to sell index\n",
    "futures contracts. Either action may accentuate the decline"
   ]
  },
  {
   "cell_type": "markdown",
   "metadata": {},
   "source": [
    "The sale of stock is liable to drive down the market index further in a direct way. The\n",
    "sale of index futures contracts is liable to drive down futures prices."
   ]
  },
  {
   "cell_type": "markdown",
   "metadata": {},
   "source": [
    "This creates selling\n",
    "pressure on stocks via the mechanism of index arbitrage (see Chapter 5), so that the\n",
    "market index is liable to be driven down in this case as well."
   ]
  },
  {
   "cell_type": "markdown",
   "metadata": {},
   "source": [
    "Similarly, when the market\n",
    "rises, the portfolio insurance strategies cause portfolio managers either to buy stock or\n",
    "to buy futures contracts. This may accentuate the rise."
   ]
  },
  {
   "cell_type": "markdown",
   "metadata": {},
   "source": [
    "In addition to formal portfolio trading strategies, we can speculate that many investors\n",
    "consciously or subconsciously follow portfolio insurance rules of their own."
   ]
  },
  {
   "cell_type": "markdown",
   "metadata": {},
   "source": [
    "Whether portfolio insurance trading strategies (formal or informal) affect volatility\n",
    "depends on how easily the market can absorb the trades that are generated by portfolio\n",
    "insurance."
   ]
  },
  {
   "cell_type": "markdown",
   "metadata": {},
   "source": [
    "If portfolio insurance trades are a very small fraction of all trades, there is\n",
    "likely to be no effect. But if portfolio insurance becomes very popular, it is liable to\n",
    "have a destabilizing effect on the market, as it did in 1987."
   ]
  }
 ],
 "metadata": {
  "kernelspec": {
   "display_name": "Python 3",
   "language": "python",
   "name": "python3"
  },
  "language_info": {
   "codemirror_mode": {
    "name": "ipython",
    "version": 3
   },
   "file_extension": ".py",
   "mimetype": "text/x-python",
   "name": "python",
   "nbconvert_exporter": "python",
   "pygments_lexer": "ipython3",
   "version": "3.6.7"
  }
 },
 "nbformat": 4,
 "nbformat_minor": 2
}
