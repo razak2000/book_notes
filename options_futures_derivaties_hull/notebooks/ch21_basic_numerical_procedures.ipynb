{
 "cells": [
  {
   "cell_type": "markdown",
   "metadata": {},
   "source": [
    "Monte Carlo simulation is usually used for derivatives where the payoff is dependent\n",
    "on the history of the underlying variable or where there are several underlying variables."
   ]
  },
  {
   "cell_type": "markdown",
   "metadata": {},
   "source": [
    "Trees and finite difference methods are usually used for American options and other\n",
    "derivatives where the holder has decisions to make prior to maturity."
   ]
  },
  {
   "cell_type": "markdown",
   "metadata": {},
   "source": [
    "# 21.1"
   ]
  },
  {
   "cell_type": "markdown",
   "metadata": {},
   "source": [
    "There are no analytic valuations for American options. Binomial\n",
    "trees are therefore most useful for valuing these types of options."
   ]
  },
  {
   "cell_type": "markdown",
   "metadata": {},
   "source": [
    "The risk-neutral valuation principle, explained in Chapters 13 and 15, states that an\n",
    "option (or other derivative) can be valued on the assumption that the world is risk\n",
    "neutral."
   ]
  },
  {
   "cell_type": "markdown",
   "metadata": {},
   "source": [
    "This means that for valuation purposes we can use the following procedure:\n",
    "1. Assume that the expected return from all traded assets is the risk-free interest rate.\n",
    "2. Value payoffs from the derivative by calculating their expected values and\n",
    "discounting at the risk-free interest rate."
   ]
  },
  {
   "cell_type": "markdown",
   "metadata": {},
   "source": [
    "A solution to equations (21.1) to (21.3), when terms of higher order than $\\Delta t$ are\n",
    "ignored, is \n",
    "$$\n",
    "\\begin{equation}\n",
    "p = \\frac{a - d}{u - d} \\\\\n",
    "u = e^{\\sigma \\sqrt{\\Delta t}} \\\\\n",
    "d = e^{-\\sigma \\sqrt{\\Delta t}} \\\\\n",
    "a = e^{(r - q)\\Delta t}\n",
    "\\end{equation}\n",
    "$$\n",
    "The variable a is sometimes referred to as the growth factor."
   ]
  },
  {
   "cell_type": "markdown",
   "metadata": {},
   "source": [
    "Note that the relationship $u=1/d$ is used in computing the asset price at each node of\n",
    "the tree in Figure 21.2. Note also that the tree recombines in the sense that an up movement\n",
    "followed by a down movement leads to the same asset price as a down movement\n",
    "followed by an up movement.\n"
   ]
  },
  {
   "cell_type": "markdown",
   "metadata": {},
   "source": [
    "Options are evaluated by starting at the end of the tree (time T ) and working backward.\n",
    "This is known as backward induction."
   ]
  },
  {
   "cell_type": "markdown",
   "metadata": {},
   "source": [
    "Suppose that the life of an American option is divided into $N$ subintervals of length $\\Delta t$. <br>\n",
    "In the limit as  $\\Delta t$ tends to zero, an exact value for the American put is obtained. In\n",
    "practice, $N = 30$ usually gives reasonable results."
   ]
  },
  {
   "cell_type": "markdown",
   "metadata": {},
   "source": [
    "Therefore an estimate of\n",
    "delta at time $\\Delta t$ is $\\Delta  = \\frac{f_{1,1} - f_{1,0}}{S_0 u - S_0 d}$"
   ]
  },
  {
   "cell_type": "markdown",
   "metadata": {},
   "source": [
    "To determine gamma $\\Gamma$, note that we have two estimates of $\\Delta t$ at time $2 \\Delta t$\n"
   ]
  },
  {
   "cell_type": "markdown",
   "metadata": {},
   "source": [
    "Gamma is the change in delta divided by h:\n",
    "$$\n",
    "\\Gamma = \\frac{[(f_{2,2} - f_{2,1})/(S_0u^2 - S_0)] - [(f_{2,1} - f_{2,0})/(S_0 - S_0d^2)]}{h}\n",
    "$$"
   ]
  },
  {
   "cell_type": "markdown",
   "metadata": {},
   "source": [
    "The value of the option at time zero is $f_{0,0}$ and at time $2\\Delta t$ it is $f_{2,2}$ . An estimate of\n",
    "theta is therefore \n",
    "$$ \\Theta = \\frac{f_{2,1} - f_{0,0}}{2 \\Delta t} $$"
   ]
  },
  {
   "cell_type": "markdown",
   "metadata": {},
   "source": [
    "The estimate of vega is $$ \\nu = \\frac{f_* - f}{\\Delta \\sigma} $$ where $f$ and $f_*$ are the estimates of the option price from the original and the new tree,\n",
    "respectively"
   ]
  },
  {
   "cell_type": "markdown",
   "metadata": {},
   "source": [
    "Rho can be calculated similarly."
   ]
  },
  {
   "cell_type": "markdown",
   "metadata": {},
   "source": [
    "# 21.2"
   ]
  },
  {
   "cell_type": "markdown",
   "metadata": {},
   "source": [
    "As explained in Chapters 13, 17 and 18, stock indices, currencies, and futures contracts\n",
    "can, for the purposes of option valuation, be considered as assets providing known\n",
    "yields."
   ]
  },
  {
   "cell_type": "markdown",
   "metadata": {},
   "source": [
    "For a stock index, the relevant yield is the dividend yield on the stock portfolio\n",
    "underlying the index; in the case of a currency, it is the foreign risk-free interest rate; in the\n",
    "case of a futures contract, it is the domestic risk-free interest rate."
   ]
  },
  {
   "cell_type": "markdown",
   "metadata": {},
   "source": [
    "The binomial tree\n",
    "approach can therefore be used to value options on stock indices, currencies, and futures\n",
    "contracts provided that $q$ in equation (21.7) is interpreted appropriately."
   ]
  },
  {
   "cell_type": "markdown",
   "metadata": {},
   "source": [
    "# 21.3"
   ]
  },
  {
   "cell_type": "markdown",
   "metadata": {},
   "source": [
    "As in Chapter 15, the word ‘‘dividend’’ will, for the purposes of\n",
    "our discussion, be used to refer to the reduction in the stock price on the ex-dividend\n",
    "date as a result of the dividend."
   ]
  },
  {
   "cell_type": "markdown",
   "metadata": {},
   "source": [
    "For long-life stock options, it is sometimes assumed for convenience that there is a\n",
    "known continuous dividend yield of q on the stock.\n",
    "\n",
    "The options can then be valued in\n",
    "the same way as options on a stock index."
   ]
  },
  {
   "cell_type": "markdown",
   "metadata": {},
   "source": [
    "For more accuracy, known dividend yields can be assumed to be paid discretely."
   ]
  },
  {
   "cell_type": "markdown",
   "metadata": {},
   "source": [
    "In some situations, particularly when the life of the option is short, the most realistic\n",
    "assumption is that the dollar amount of the dividend rather than the dividend yield is\n",
    "known in advance."
   ]
  },
  {
   "cell_type": "markdown",
   "metadata": {},
   "source": [
    "Section 15.12 explained that European options on dividend-paying stocks are valued\n",
    "by assuming that the stock price has two components: a part that is uncertain and a part\n",
    "that is the present value of dividends paid during the life of the option."
   ]
  },
  {
   "cell_type": "markdown",
   "metadata": {},
   "source": [
    "American options on stocks paying known dividends\n",
    "are therefore in practice valued using the approach in Section 15.12"
   ]
  },
  {
   "cell_type": "markdown",
   "metadata": {},
   "source": [
    "A technique known as the control variate technique can improve the accuracy of the\n",
    "pricing of an American option. This involves using the same tree to calculate the value\n",
    "of both the American option, $f_A$ , and the corresponding European option, $f_E$"
   ]
  },
  {
   "cell_type": "markdown",
   "metadata": {},
   "source": [
    "The control variate technique in effect involves using the tree to calculate the\n",
    "difference between the European and the American price rather than the American\n",
    "price itself."
   ]
  },
  {
   "cell_type": "markdown",
   "metadata": {},
   "source": [
    "# 12.4"
   ]
  },
  {
   "cell_type": "markdown",
   "metadata": {},
   "source": [
    "The Cox, Ross, and Rubinstein approach described so far is not the only way of\n",
    "building a binomial tree."
   ]
  },
  {
   "cell_type": "markdown",
   "metadata": {},
   "source": [
    "The change in $\\ln S$ in time $\\Delta t$ in a risk-neutral world has mean\n",
    "$(r - q - \\sigma^2/2)\\Delta t$ and standard deviation $\\sigma \\sqrt{\\Delta t}$."
   ]
  },
  {
   "cell_type": "markdown",
   "metadata": {},
   "source": [
    "These can be matched by setting $p = 0.5$ and\n",
    "$$ u = e^{(r - q - \\sigma^2/2)\\Delta t + \\sigma \\sqrt{\\Delta t}},\\; d = e^{(r - q - \\sigma^2/2)\\Delta t - \\sigma \\sqrt{\\Delta t}} $$"
   ]
  },
  {
   "cell_type": "markdown",
   "metadata": {},
   "source": [
    "This alternative tree-building procedure has the advantage over the Cox, Ross, and Rubinstein approach that the probabilities are always 0.5 regardless of the value of $\\sigma$ or\n",
    "the number of time steps"
   ]
  },
  {
   "cell_type": "markdown",
   "metadata": {},
   "source": [
    "Its disadvantage is that it is not quite as straightforward to\n",
    "calculate delta, gamma, and theta from the tree because the tree is no longer centered at\n",
    "the initial stock price"
   ]
  },
  {
   "cell_type": "markdown",
   "metadata": {},
   "source": [
    "Trinomial trees can be used as an alternative to binomial trees."
   ]
  },
  {
   "cell_type": "markdown",
   "metadata": {},
   "source": [
    "Calculations for a trinomial tree are analogous to those for a binomial tree. We work\n",
    "from the end of the tree to the beginning."
   ]
  },
  {
   "cell_type": "markdown",
   "metadata": {},
   "source": [
    "At each node we calculate the value of exercising and the value of continuing."
   ]
  },
  {
   "cell_type": "markdown",
   "metadata": {},
   "source": [
    "The value of continuing is $$ e^{-r \\Delta t}(p_u f_u + p_m f_m + p_d f_d) $$ where $f_u , f_m$ , and $f_d$ are the values of the option at the subsequent up, middle, and\n",
    "down nodes, respectively."
   ]
  },
  {
   "cell_type": "markdown",
   "metadata": {},
   "source": [
    "Figlewski and Gao have proposed an enhancement of the trinomial tree method,\n",
    "which they call the adaptive mesh model. In this, a high-resolution (small-$\\Delta t$) tree is\n",
    "grafted onto a low-resolution (large-$\\Delta t$) tree. "
   ]
  },
  {
   "cell_type": "markdown",
   "metadata": {},
   "source": [
    "When valuing a regular American\n",
    "option, high resolution is most useful for the parts of the tree close to the strike price\n",
    "at the end of the life of the option."
   ]
  },
  {
   "cell_type": "markdown",
   "metadata": {},
   "source": [
    "# 21.5"
   ]
  },
  {
   "cell_type": "markdown",
   "metadata": {},
   "source": [
    "Up to now we have assumed that $r, q, r_f$, and $\\sigma$ are constants. In practice, they are\n",
    "usually assumed to be time dependent."
   ]
  },
  {
   "cell_type": "markdown",
   "metadata": {},
   "source": [
    "The values of these variables between times $t$\n",
    "and $t + \\Delta t$ are assumed to be equal to their forward values"
   ]
  },
  {
   "cell_type": "markdown",
   "metadata": {},
   "source": [
    "To make $r$ and $q$ (or $r_f$ ) a function of time in a Cox–Ross–Rubinstein binomial tree,\n",
    "we set $ a = e^{[f(t) - g(t)]\\Delta t} $ for nodes at time $t$, where $f(t)$ is the forward interest rate between times $t$ and $t + \\Delta t$ and $g(t)$ is the forward value of $q$ (or $r_f$ ) between these times"
   ]
  },
  {
   "cell_type": "markdown",
   "metadata": {},
   "source": [
    "Making the volatility, $\\sigma$, a function of time in a binomial tree is more difficult."
   ]
  },
  {
   "cell_type": "markdown",
   "metadata": {},
   "source": [
    "One approach is to make the\n",
    "length of each time step inversely proportional to the average variance rate during the\n",
    "time step. The values of $u$ and $d$ are then the same everywhere and the tree recombines."
   ]
  },
  {
   "cell_type": "markdown",
   "metadata": {},
   "source": [
    "# 21.6"
   ]
  },
  {
   "cell_type": "markdown",
   "metadata": {},
   "source": [
    "When used to value an option, Monte Carlo simulation uses the risk-neutral\n",
    "valuation result."
   ]
  },
  {
   "cell_type": "markdown",
   "metadata": {},
   "source": [
    "We sample paths to obtain the expected payoff in a risk-neutral world and then discount this payoff at the risk-free rate."
   ]
  },
  {
   "cell_type": "markdown",
   "metadata": {},
   "source": [
    "In practice, it is usually more accurate to simulate $\\ln S$ rather than $S$."
   ]
  },
  {
   "cell_type": "markdown",
   "metadata": {},
   "source": [
    "The key advantage of Monte Carlo simulation is that it can be used when the\n",
    "payoff depends on the path followed by the underlying variable S as well as when it\n",
    "depends only on the final value of $S$"
   ]
  },
  {
   "cell_type": "markdown",
   "metadata": {},
   "source": [
    "Payoffs can occur at\n",
    "several times during the life of the derivative rather than all at the end. Any stochastic\n",
    "process for $S$ can be accommodated."
   ]
  },
  {
   "cell_type": "markdown",
   "metadata": {},
   "source": [
    "As will be shown shortly, the procedure can also\n",
    "be extended to accommodate situations where the payoff from the derivative depends\n",
    "on several underlying market variables."
   ]
  },
  {
   "cell_type": "markdown",
   "metadata": {},
   "source": [
    "The drawbacks of Monte Carlo simulation are\n",
    "that it is computationally very time consuming and cannot easily handle situations\n",
    "where there are early exercise opportunities"
   ]
  },
  {
   "cell_type": "markdown",
   "metadata": {},
   "source": [
    "Consider the situation\n",
    "where the payoff from a derivative depends on $n$ variables $\\theta_i (1 \\leq i \\leq n)$"
   ]
  },
  {
   "cell_type": "markdown",
   "metadata": {},
   "source": [
    "One simulation trial involves obtain-\n",
    "ing $N$ samples of the $\\epsilon_i (1 \\leq i \\leq n)$ from a multivariate standardized normal distribution."
   ]
  },
  {
   "cell_type": "markdown",
   "metadata": {},
   "source": [
    "When two\n",
    "correlated samples $\\epsilon_1$ and $\\epsilon_2$ from standard normal distributions are required, an\n",
    "appropriate procedure is as follows."
   ]
  },
  {
   "cell_type": "markdown",
   "metadata": {},
   "source": [
    "Independent samples $x_1$ and $x_2$ from a univariate\n",
    "standardized normal distribution are obtained as just described. The required samples\n",
    "$\\epsilon_1$ and $\\epsilon_2$ are then calculated as follows: $$ \\epsilon_1 = x_1 \\\\ \\epsilon_2 = \\rho x_1 + x_2 \\sqrt{1 - \\rho^2} $$ where $\\rho$ is the coefficient of correlation."
   ]
  },
  {
   "cell_type": "markdown",
   "metadata": {},
   "source": [
    "More generally, consider the situation where we require $n$ correlated samples from\n",
    "normal distributions with the correlation between sample $i$ and sample $j$ being $\\rho_{ij}$. procedure is known as the $\\it\\text{Cholesky decomposition}$"
   ]
  },
  {
   "cell_type": "markdown",
   "metadata": {},
   "source": [
    "The accuracy of the result given by Monte Carlo simulation depends on the number of\n",
    "trials."
   ]
  },
  {
   "cell_type": "markdown",
   "metadata": {},
   "source": [
    "It is usual to calculate the standard deviation as well as the mean of the\n",
    "discounted payoffs given by the simulation trials."
   ]
  },
  {
   "cell_type": "markdown",
   "metadata": {},
   "source": [
    "This shows that uncertainty about the value of the derivative is inversely proportional\n",
    "to the square root of the number of trials."
   ]
  },
  {
   "cell_type": "markdown",
   "metadata": {},
   "source": [
    "Instead of implementing Monte Carlo simulation by randomly sampling from the\n",
    "stochastic process for an underlying variable, we can use an N-step binomial tree and\n",
    "sample from the $2^N$ paths that are possible."
   ]
  },
  {
   "cell_type": "markdown",
   "metadata": {},
   "source": [
    "Once we have a complete path from the initial node to the end of\n",
    "the tree, we can calculate a payoff. This completes the first trial."
   ]
  },
  {
   "cell_type": "markdown",
   "metadata": {},
   "source": [
    "The Greek letters discussed in Chapter 19 can be calculated using Monte Carlo\n",
    "simulation."
   ]
  },
  {
   "cell_type": "markdown",
   "metadata": {},
   "source": [
    "Monte Carlo simulation tends to be numerically more efficient than other procedures\n",
    "when there are three or more stochastic variables."
   ]
  },
  {
   "cell_type": "markdown",
   "metadata": {},
   "source": [
    "This is because the time taken to\n",
    "carry out a Monte Carlo simulation increases approximately linearly with the number\n",
    "of variables, whereas the time taken for most other procedures increases exponentially\n",
    "with the number of variables."
   ]
  },
  {
   "cell_type": "markdown",
   "metadata": {},
   "source": [
    "One advantage of Monte Carlo simulation is that it can\n",
    "provide a standard error for the estimates that it makes. \n",
    "\n",
    "Another is that it is an\n",
    "approach that can accommodate complex payoffs and complex stochastic processes."
   ]
  },
  {
   "cell_type": "markdown",
   "metadata": {},
   "source": [
    "# 21.7"
   ]
  },
  {
   "cell_type": "markdown",
   "metadata": {},
   "source": [
    "In the antithetic variable technique, a simulation trial involves calculating two values of\n",
    "the derivative. The first value $f_1$ is calculated in the usual way; the second value $f_2$ is\n",
    "calculated by changing the sign of all the random samples from standard normal\n",
    "distributions."
   ]
  },
  {
   "cell_type": "markdown",
   "metadata": {},
   "source": [
    "The sample value of the derivative calculated from a simulation\n",
    "trial is the average of $f_1$  and $f 2$ "
   ]
  },
  {
   "cell_type": "markdown",
   "metadata": {},
   "source": [
    "The final estimate of the value of the derivative is the average of the $\\bar f$'s"
   ]
  },
  {
   "cell_type": "markdown",
   "metadata": {},
   "source": [
    "If $\\bar \\omega$ is the\n",
    "standard deviation of the $\\bar f$'s, and M is the number of simulation trials (i.e., the number\n",
    "of pairs of values calculated), then the standard error of the estimate is $\\bar \\omega/\\sqrt{M}$"
   ]
  },
  {
   "cell_type": "markdown",
   "metadata": {},
   "source": [
    "The control variate\n",
    "technique is applicable when there are two similar derivatives, A and B. Derivative A is\n",
    "the one being valued; derivative B is similar to derivative A and has an analytic solution\n",
    "available."
   ]
  },
  {
   "cell_type": "markdown",
   "metadata": {},
   "source": [
    "Two simulations using the same random number streams and the same $\\Delta t$ are\n",
    "carried out in parallel."
   ]
  },
  {
   "cell_type": "markdown",
   "metadata": {},
   "source": [
    "The first is used to obtain an estimate $f^*_A$ of the value of A; the\n",
    "second is used to obtain an estimate $f^*_B$ , of the value of B."
   ]
  },
  {
   "cell_type": "markdown",
   "metadata": {},
   "source": [
    "A better estimate $f_A$ of the\n",
    "value of A is then obtained using the formula $ f_A = f^*_A - f^*_B + f_B$, where \n",
    "$f_B$ is the known true value of B calculated analytically."
   ]
  },
  {
   "cell_type": "markdown",
   "metadata": {},
   "source": [
    "the zero-payoff paths contribute very little to the determination of the value of\n",
    "the option. We therefore try to choose only important paths, that is, paths where the\n",
    "stock price is above K at maturity."
   ]
  },
  {
   "cell_type": "markdown",
   "metadata": {},
   "source": [
    "Suppose F is the unconditional probability distribution function for the stock price\n",
    "at time T and q, the probability of the stock price being greater than K at maturity, is\n",
    "known analytically. Then $G = F/q$ is the probability distribution of the stock price\n",
    "conditional on the stock price being greater than K."
   ]
  },
  {
   "cell_type": "markdown",
   "metadata": {},
   "source": [
    "To implement importance\n",
    "sampling, we sample from G rather than F. The estimate of the value of the option\n",
    "is the average discounted payoff multiplied by q."
   ]
  },
  {
   "cell_type": "markdown",
   "metadata": {},
   "source": [
    "Sampling representative values rather than random values from a probability distribu-\n",
    "tion usually gives more accuracy. Stratified sampling is a way of doing this."
   ]
  },
  {
   "cell_type": "markdown",
   "metadata": {},
   "source": [
    "Suppose we\n",
    "wish to take 1000 samples from a probability distribution. We would divide the\n",
    "distribution into 1000 equally likely intervals and choose a representative value\n",
    "(typically the mean or median) for each interval."
   ]
  },
  {
   "cell_type": "markdown",
   "metadata": {},
   "source": [
    "In the case of a standard normal distribution when there are n intervals, we can\n",
    "calculate the representative value for the ith interval as $N^{-1}(\\frac{i - 0.5}{n})$,  where $N^{-1}$ is the inverse cumulative normal distribution."
   ]
  },
  {
   "cell_type": "markdown",
   "metadata": {},
   "source": [
    "Moment matching involves adjusting the samples taken from a standardized normal\n",
    "distribution so that the first, second, and possibly higher moments are matched."
   ]
  },
  {
   "cell_type": "markdown",
   "metadata": {},
   "source": [
    "Moment matching saves computation time, but can lead to memory problems\n",
    "because every number sampled must be stored until the end of the simulation."
   ]
  },
  {
   "cell_type": "markdown",
   "metadata": {},
   "source": [
    "Moment\n",
    "matching is sometimes termed quadratic resampling. It is often used in conjunction with\n",
    "the antithetic variable technique."
   ]
  },
  {
   "cell_type": "markdown",
   "metadata": {},
   "source": [
    "Because the latter automatically matches all odd moments, the goal of moment matching then becomes that of matching the second\n",
    "moment and, possibly, the fourth moment."
   ]
  },
  {
   "cell_type": "markdown",
   "metadata": {},
   "source": [
    "A quasi-random sequence (also called a low-discrepancy sequence) is a sequence of\n",
    "representative samples from a probability distribution. Descriptions of the use of\n",
    "quasi-random sequences appear in Brotherton-Ratcliffe, and Press et al. "
   ]
  },
  {
   "cell_type": "markdown",
   "metadata": {},
   "source": [
    "Quasi-random\n",
    "sequences can have the desirable property that they\n",
    "p ffiffiffiffiffi lead to the standard error of an\n",
    "estimate being proportional to $1/M$ rather than $1/\\sqrt{M}$, where M is the sample size."
   ]
  },
  {
   "cell_type": "markdown",
   "metadata": {},
   "source": [
    "In stratified sampling, it is assumed\n",
    "that we know in advance how many samples will be taken. A quasi-random sampling\n",
    "procedure is more flexible."
   ]
  },
  {
   "cell_type": "markdown",
   "metadata": {},
   "source": [
    "The samples are taken in such a way that we are always\n",
    "‘‘filling in’’ gaps between existing samples. At each stage of the simulation, the sampled\n",
    "points are roughly evenly spaced throughout the probability space."
   ]
  },
  {
   "cell_type": "markdown",
   "metadata": {},
   "source": [
    "# 21.8"
   ]
  },
  {
   "cell_type": "markdown",
   "metadata": {},
   "source": [
    "Finite difference methods value a derivative by solving the differential equation that the\n",
    "derivative satisfies. The differential equation is converted into a set of difference\n",
    "equations, and the difference equations are solved iteratively."
   ]
  },
  {
   "cell_type": "markdown",
   "metadata": {},
   "source": [
    "Equation (21.22) is known as the forward difference approximation; equation (21.23)\n",
    "is known as the backward difference approximation. a more symmetrical approximation by averaging the two"
   ]
  },
  {
   "cell_type": "markdown",
   "metadata": {},
   "source": [
    "The control variate technique can be used in conjunction with finite difference\n",
    "methods. The same grid is used to value an option similar to the one under\n",
    "consideration but for which an analytic valuation is available."
   ]
  },
  {
   "cell_type": "markdown",
   "metadata": {},
   "source": [
    "The implicit finite difference method has the advantage of being very robust. It always\n",
    "converges to the solution of the differential equation as $\\Delta S$ and $\\Delta t$ approach zero"
   ]
  },
  {
   "cell_type": "markdown",
   "metadata": {},
   "source": [
    "One\n",
    "of the disadvantages of the implicit finite difference method is that $M - 1$ simultaneous\n",
    "equations have to be solved in order to calculate the $f_{i, j}$ from the $f_{i+1, j}$."
   ]
  },
  {
   "cell_type": "markdown",
   "metadata": {},
   "source": [
    "This creates what is known as the explicit finite difference method. "
   ]
  },
  {
   "cell_type": "markdown",
   "metadata": {},
   "source": [
    "The implicit method leads to\n",
    "equation (21.27), which gives a relationship between three different values of the option\n",
    "at time i $\\Delta t$ (i.e., $f_{i, j - 1} , f_{i, j} $, and $f_{i, j+1}$ and one value of the option at time $(i + 1) \\Delta t$\n",
    "(i.e., $f_{i+1, j}$)."
   ]
  },
  {
   "cell_type": "markdown",
   "metadata": {},
   "source": [
    "The explicit method leads to equation (21.34), which gives a relationship between one value of the option at time $i \\Delta t$ (i.e., f i;j ) and three different values of the\n",
    "option at time $(i + 1) \\Delta t$    (i.e., $f_{i+1, j - 1} , f_{i+1, j}, f_{i+1, j + 1} $)"
   ]
  },
  {
   "cell_type": "markdown",
   "metadata": {},
   "source": [
    "When geometric Brownian motion is used for the underlying asset price, it is compu-\n",
    "tationally more efficient to use finite difference methods with $\\ln S$ rather than S as the\n",
    "underlying variable."
   ]
  },
  {
   "cell_type": "markdown",
   "metadata": {},
   "source": [
    "The change of variable approach has the property that $\\alpha_j, \\beta_j$ and $\\gamma_j$ as well as $\\alpha^*_j, \\beta^*_j$ and $\\gamma^*_j$ are independent of j. In most cases, a good choice for $\\Delta Z$ is $\\sigma \\sqrt{3 \\Delta t}$ "
   ]
  },
  {
   "cell_type": "markdown",
   "metadata": {},
   "source": [
    "The explicit finite difference method is equivalent to the trinomial tree approach"
   ]
  },
  {
   "cell_type": "markdown",
   "metadata": {},
   "source": [
    "For the explicit version of the finite difference method to work well, the three\n",
    "‘‘probabilities’’ should all be positive."
   ]
  },
  {
   "cell_type": "markdown",
   "metadata": {},
   "source": [
    "This example illustrates the main problem associated with\n",
    "the explicit finite difference method. Because the probabilities in the associated tree may\n",
    "be negative, it does not necessarily produce results that converge to the solution of the\n",
    "differential equation."
   ]
  },
  {
   "cell_type": "markdown",
   "metadata": {},
   "source": [
    "Researchers have proposed other finite difference methods which are in many circum-\n",
    "stances more computationally efficient than either the pure explicit or pure implicit\n",
    "method."
   ]
  },
  {
   "cell_type": "markdown",
   "metadata": {},
   "source": [
    "In what is known as the hopscotch method, we alternate between the explicit and\n",
    "implicit calculations as we move from node to node."
   ]
  },
  {
   "cell_type": "markdown",
   "metadata": {},
   "source": [
    "At each time, we first do all the calculations at the ‘‘explicit nodes’’ (E) in the usual way.\n",
    "The ‘‘implicit nodes’’ (I) can then be handled without solving a set of simultaneous\n",
    "equations because the values at the adjacent nodes have already been calculated."
   ]
  },
  {
   "cell_type": "markdown",
   "metadata": {},
   "source": [
    "In the Crank–Nicolson method, the estimate of $\\frac {f_{i + 1, j} - f_{i , j}} {\\Delta t}$ is set equal to an average of that given by the implicit and the explicit methods."
   ]
  },
  {
   "cell_type": "markdown",
   "metadata": {},
   "source": [
    "Finite difference methods can be used for the same types of derivative pricing problems\n",
    "as tree approaches. \n",
    "\n",
    "They can handle American-style as well as European-style deriva-\n",
    "tives but cannot easily be used in situations where the payoff from a derivative depends\n",
    "on the past history of the underlying variable."
   ]
  },
  {
   "cell_type": "markdown",
   "metadata": {},
   "source": [
    "Finite difference methods can, at the\n",
    "expense of a considerable increase in computer time, be used when there are several\n",
    "state variables."
   ]
  },
  {
   "cell_type": "markdown",
   "metadata": {},
   "source": [
    "The method for calculating Greek letters is similar to that used for trees.\n"
   ]
  },
  {
   "cell_type": "markdown",
   "metadata": {},
   "source": [
    "Delta,\n",
    "gamma, and theta can be calculated directly from the $f_{i, j}$ values on the grid."
   ]
  },
  {
   "cell_type": "markdown",
   "metadata": {},
   "source": [
    "For vega,\n",
    "it is necessary to make a small change to volatility and recalculate the value of the\n",
    "derivative using the same grid."
   ]
  }
 ],
 "metadata": {
  "kernelspec": {
   "display_name": "Python 3",
   "language": "python",
   "name": "python3"
  },
  "language_info": {
   "codemirror_mode": {
    "name": "ipython",
    "version": 3
   },
   "file_extension": ".py",
   "mimetype": "text/x-python",
   "name": "python",
   "nbconvert_exporter": "python",
   "pygments_lexer": "ipython3",
   "version": "3.6.7"
  }
 },
 "nbformat": 4,
 "nbformat_minor": 2
}
