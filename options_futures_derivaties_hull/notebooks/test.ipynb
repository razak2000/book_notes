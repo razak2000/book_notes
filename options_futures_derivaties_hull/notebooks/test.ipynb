{
 "cells": [
  {
   "cell_type": "markdown",
   "metadata": {},
   "source": [
    "There are six factors affecting the price of a stock option:\n",
    "    1. The current stock price, S 0\n",
    "    2. The strike price, K\n",
    "    3. The time to expiration, T\n",
    "    4. The volatility of the stock price, \u0001\n",
    "    5. The risk-free interest rate, r\n",
    "    6. The dividends that are expected to be paid."
   ]
  },
  {
   "cell_type": "markdown",
   "metadata": {},
   "source": [
    "If a call option is exercised at some future time, the payoff will be the amount by which\n",
    "the stock price exceeds the strike price. Call options therefore become more valuable as\n",
    "the stock price increases and less valuable as the strike price increases."
   ]
  },
  {
   "cell_type": "markdown",
   "metadata": {},
   "source": [
    "For a put option,\n",
    "the payoff on exercise is the amount by which the strike price exceeds the stock price.\n",
    "Put options therefore behave in the opposite way from call options: they become less\n",
    "valuable as the stock price increases and more valuable as the strike price increases."
   ]
  },
  {
   "cell_type": "code",
   "execution_count": null,
   "metadata": {},
   "outputs": [],
   "source": []
  }
 ],
 "metadata": {
  "kernelspec": {
   "display_name": "Python 3",
   "language": "python",
   "name": "python3"
  },
  "language_info": {
   "codemirror_mode": {
    "name": "ipython",
    "version": 3
   },
   "file_extension": ".py",
   "mimetype": "text/x-python",
   "name": "python",
   "nbconvert_exporter": "python",
   "pygments_lexer": "ipython3",
   "version": "3.6.7"
  }
 },
 "nbformat": 4,
 "nbformat_minor": 2
}
