{
 "cells": [
  {
   "cell_type": "markdown",
   "metadata": {},
   "source": [
    "When calculating value at risk, we are most interested in the current\n",
    "levels of volatilities and correlations because we are assessing possible changes in the\n",
    "value of a portfolio over a very short period of time."
   ]
  },
  {
   "cell_type": "markdown",
   "metadata": {},
   "source": [
    "When valuing derivatives, forecasts\n",
    "of volatilities and correlations over the whole life of the derivative are usually required."
   ]
  },
  {
   "cell_type": "markdown",
   "metadata": {},
   "source": [
    "Define $\\sigma_n$ as the volatility of a market variable on day n, as estimated at the end of\n",
    "day n - 1. The square of the volatility, $\\sigma^2_n$ , on day n is the variance rate."
   ]
  },
  {
   "cell_type": "markdown",
   "metadata": {},
   "source": [
    "The variable $u_i$ is defined\n",
    "as the continuously compounded return during day i (between the end of day i - 1 and\n",
    "the end of day i)"
   ]
  },
  {
   "cell_type": "markdown",
   "metadata": {},
   "source": [
    "An unbiased estimate of the variance rate per day, $\\sigma^2_n$ , using the most recent m\n",
    "observations on the $u_i$ "
   ]
  },
  {
   "cell_type": "markdown",
   "metadata": {},
   "source": [
    "An unbiased estimate of the variance rate per day, $\\sigma^2_n$ , using the most recent m\n",
    "observat ions on the $u_i$"
   ]
  },
  {
   "cell_type": "markdown",
   "metadata": {},
   "source": [
    "For the purposes of monitoring daily volatility, the formula in equation (23.1) is\n",
    "usually changed in a number of ways:"
   ]
  },
  {
   "cell_type": "markdown",
   "metadata": {},
   "source": [
    "they allow us to simplify the formula for the variance rate to equation (23.3)"
   ]
  },
  {
   "cell_type": "markdown",
   "metadata": {},
   "source": [
    "to give more weight to recent\n",
    "data."
   ]
  },
  {
   "cell_type": "markdown",
   "metadata": {},
   "source": [
    "The variable \u0003 i is the amount of weight given to the observation i days ago."
   ]
  },
  {
   "cell_type": "markdown",
   "metadata": {},
   "source": [
    "The \u0003’s are\n",
    "positive. If we choose them so that \u0003 i < \u0003 j when i > j, less weight is given to older\n",
    "observations."
   ]
  },
  {
   "cell_type": "markdown",
   "metadata": {},
   "source": [
    "The weights must sum to unity,"
   ]
  },
  {
   "cell_type": "markdown",
   "metadata": {},
   "source": [
    "An extension of the idea in equation (23.4) is to assume that there is a long-run average\n",
    "variance rate and that this should be given some weight."
   ]
  },
  {
   "cell_type": "markdown",
   "metadata": {},
   "source": [
    "where V L is the long-run variance rate and \u0004 is the weight assigned to V L"
   ]
  },
  {
   "cell_type": "markdown",
   "metadata": {},
   "source": [
    "the\n",
    "weights must sum to unity"
   ]
  },
  {
   "cell_type": "markdown",
   "metadata": {},
   "source": [
    "This is known as an ARCH(m) model. The estimate of\n",
    "the variance is based on a long-run average variance and m observations. The older an\n",
    "observation, the less weight it is given."
   ]
  },
  {
   "cell_type": "markdown",
   "metadata": {},
   "source": [
    "23.2\n",
    "The exponentially weighted moving average (EWMA) model is a particular case of the\n",
    "model in equation (23.4) where the weights \u0003 i decrease exponentially as we move back\n",
    "through time."
   ]
  },
  {
   "cell_type": "markdown",
   "metadata": {},
   "source": [
    "Specifically, \u0003 iþ1 1⁄4 \u0005\u0003 i , where \u0005 is a constant between 0 and 1."
   ]
  },
  {
   "cell_type": "markdown",
   "metadata": {},
   "source": [
    "It turns out that this weighting scheme leads to a particularly simple formula for\n",
    "updating volatility estimates"
   ]
  },
  {
   "cell_type": "markdown",
   "metadata": {},
   "source": [
    "The estimate, \u0001 n , of the volatility of a variable for day n (made at the end of day n \u0001 1) is\n",
    "calculated from \u0001 n\u00011 (the estimate that was made at the end of day n \u0001 2 of the volatility\n",
    "for day n \u0001 1) and u n\u00011 (the most recent daily percentage change in the variable)."
   ]
  },
  {
   "cell_type": "markdown",
   "metadata": {},
   "source": [
    "For large m, the term \u0005 m \u0001 n\u0001m\n",
    "is sufficiently small to be ignored, so that equation (23.7)\n",
    "is the same as equation (23.4) with \u0003 i 1⁄4 ð1 \u0001 \u0005Þ\u0005 i\u00011"
   ]
  },
  {
   "cell_type": "markdown",
   "metadata": {},
   "source": [
    "The weights for the u i decline at\n",
    "rate \u0005 as we move back through time."
   ]
  },
  {
   "cell_type": "markdown",
   "metadata": {},
   "source": [
    "Each weight is \u0005 times the previous weight."
   ]
  },
  {
   "cell_type": "markdown",
   "metadata": {},
   "source": [
    "The EWMA approach has the attractive feature that relatively little data need be\n",
    "stored."
   ]
  },
  {
   "cell_type": "markdown",
   "metadata": {},
   "source": [
    "At any given time, only the current estimate of the variance rate and the most\n",
    "recent observation on the value of the market variable need be remembered."
   ]
  },
  {
   "cell_type": "markdown",
   "metadata": {},
   "source": [
    "When a\n",
    "new observation on the market variable is obtained, a new daily percentage change is\n",
    "calculated and equation (23.7) is used to update the estimate of the variance rate."
   ]
  },
  {
   "cell_type": "markdown",
   "metadata": {},
   "source": [
    "The\n",
    "old estimate of the variance rate and the old value of the market variable can then be\n",
    "discarded."
   ]
  },
  {
   "cell_type": "markdown",
   "metadata": {},
   "source": [
    "The EWMA approach is designed to track changes in the volatility."
   ]
  },
  {
   "cell_type": "markdown",
   "metadata": {},
   "source": [
    "The value of \u0005 governs how responsive the estimate of the daily volatility is to the\n",
    "most recent daily percentage change."
   ]
  },
  {
   "cell_type": "markdown",
   "metadata": {},
   "source": [
    "A low value of \u0005 leads to a great deal of weight\n",
    "being given to the u 2 n\u00011 when \u0001 n is calculated."
   ]
  },
  {
   "cell_type": "markdown",
   "metadata": {},
   "source": [
    "In this case, the estimates produced for\n",
    "the volatility on successive days are themselves highly volatile."
   ]
  },
  {
   "cell_type": "markdown",
   "metadata": {},
   "source": [
    "A high value of \u0005 (i.e.,\n",
    "a value close to 1.0) produces estimates of the daily volatility that respond relatively\n",
    "slowly to new information provided by the daily percentage change."
   ]
  },
  {
   "cell_type": "markdown",
   "metadata": {},
   "source": [
    "The RiskMetrics database, which was originally created by JP Morgan and made\n",
    "publicly available in 1994, used the EWMA model with \u0005 1⁄4 0:94 for updating daily\n",
    "volatility estimates."
   ]
  },
  {
   "cell_type": "markdown",
   "metadata": {},
   "source": [
    "This is because the company found that, across a range of different\n",
    "market variables, this value of \u0005 gives forecasts of the variance rate that come closest\n",
    "to the realized variance rate. 6 The realized variance rate on a particular day was\n",
    "calculated as an equally weighted average of the u 2 i on the subsequent 25 days"
   ]
  },
  {
   "cell_type": "markdown",
   "metadata": {},
   "source": [
    "23.3\n",
    "In\n",
    "GARCH(1,1), \u0001 n 2 is calculated from a long-run average variance rate, V L , as well as\n",
    "from \u0001 n\u00011 and u n\u00011"
   ]
  },
  {
   "cell_type": "markdown",
   "metadata": {},
   "source": [
    "\u0004 is the weight assigned to V L , \u0003 is the weight assigned to u 2 n\u00011 , and \u0006 is the weight\n",
    "2\n",
    "assigned to \u0001 n\u00011"
   ]
  },
  {
   "cell_type": "markdown",
   "metadata": {},
   "source": [
    "the weights must sum to unity"
   ]
  },
  {
   "cell_type": "markdown",
   "metadata": {},
   "source": [
    "The EWMA model is a particular case of GARCH(1,1)"
   ]
  },
  {
   "cell_type": "markdown",
   "metadata": {},
   "source": [
    "The ‘‘(1,1)’’ in GARCH(1,1) indicates that \u0001 n 2 is based on the most recent observa-\n",
    "tion of u 2 and the most recent estimate of the variance rate."
   ]
  },
  {
   "cell_type": "markdown",
   "metadata": {},
   "source": [
    "The more general\n",
    "GARCH(p, q) model calculates \u0001 n 2 from the most recent p observations on u 2 and\n",
    "the most recent q estimates of the variance rate."
   ]
  },
  {
   "cell_type": "markdown",
   "metadata": {},
   "source": [
    "For a stable GARCH(1,1) process\n",
    "we require \u0003 þ \u0006 < 1. Otherwise the weight applied to the long-term variance is\n",
    "negative."
   ]
  },
  {
   "cell_type": "markdown",
   "metadata": {},
   "source": [
    "The weights\n",
    "decline exponentially at rate \u0006."
   ]
  },
  {
   "cell_type": "markdown",
   "metadata": {},
   "source": [
    "The parameter \u0006 can be interpreted as a ‘‘decay rate’’."
   ]
  },
  {
   "cell_type": "markdown",
   "metadata": {},
   "source": [
    "It is similar to \u0005 in the EWMA model. It defines the relative importance of the observa-\n",
    "tions on the u’s in determining the current variance rate."
   ]
  },
  {
   "cell_type": "markdown",
   "metadata": {},
   "source": [
    "The GARCH(1,1) model is similar to the EWMA model except that, in addition to\n",
    "assigning weights that decline exponentially to past u 2 , it also assigns some weight to\n",
    "the long-run average volatility."
   ]
  },
  {
   "cell_type": "markdown",
   "metadata": {},
   "source": [
    "The GARCH (1,1) model recognizes that over time the variance tends to get pulled\n",
    "back to a long-run average level of V L"
   ]
  },
  {
   "cell_type": "markdown",
   "metadata": {},
   "source": [
    "The GARCH(1,1) is equivalent to a model where the variance V follows the\n",
    "stochastic process"
   ]
  },
  {
   "cell_type": "markdown",
   "metadata": {},
   "source": [
    "This\n",
    "is a mean-reverting model."
   ]
  },
  {
   "cell_type": "markdown",
   "metadata": {},
   "source": [
    "The variance has a drift that pulls it back to V L at rate a.\n",
    "When V > V L , the variance has a negative drift; when V < V L , it has a positive drift."
   ]
  },
  {
   "cell_type": "markdown",
   "metadata": {},
   "source": [
    "Superimposed on the drift is a volatility \u0007"
   ]
  },
  {
   "cell_type": "markdown",
   "metadata": {},
   "source": [
    "23.4\n",
    "In practice, variance rates do tend to be mean reverting."
   ]
  },
  {
   "cell_type": "markdown",
   "metadata": {},
   "source": [
    "The GARCH(1,1) model\n",
    "incorporates mean reversion, whereas the EWMA model does not"
   ]
  },
  {
   "cell_type": "markdown",
   "metadata": {},
   "source": [
    "GARCH (1,1) is\n",
    "therefore theoretically more appealing than the EWMA model."
   ]
  },
  {
   "cell_type": "markdown",
   "metadata": {},
   "source": [
    "In\n",
    "circumstances where the best-fit value of ! turns out to be negative, the GARCH(1,1)\n",
    "model is not stable and it makes sense to switch to the EWMA model."
   ]
  },
  {
   "cell_type": "markdown",
   "metadata": {},
   "source": [
    "23.5\n",
    "Our next example of maximum likelihood methods considers the problem of estimating\n",
    "the variance of a variable X from m observations on X when the underlying distribution\n",
    "is normal with zero mean"
   ]
  },
  {
   "cell_type": "markdown",
   "metadata": {},
   "source": [
    "The likelihood of u i being observed is defined as the probability density\n",
    "function for X when X 1⁄4 u i"
   ]
  },
  {
   "cell_type": "markdown",
   "metadata": {},
   "source": [
    "The likelihood of m observations occurring in the order in which they are observed"
   ]
  },
  {
   "cell_type": "markdown",
   "metadata": {},
   "source": [
    "Maximizing an expression is equivalent to maximizing the logarithm of the expres-\n",
    "sion."
   ]
  },
  {
   "cell_type": "markdown",
   "metadata": {},
   "source": [
    "Define v i 1⁄4 \u0001 i 2 as the variance estimated for day i. Assume that the probability\n",
    "distribution of u i conditional on the variance is normal."
   ]
  },
  {
   "cell_type": "markdown",
   "metadata": {},
   "source": [
    "It is\n",
    "necessary to search iteratively to find the parameters in the model that maximize the\n",
    "expression in equation (23.12)."
   ]
  },
  {
   "cell_type": "markdown",
   "metadata": {},
   "source": [
    "\n",
    "An alternative approach to estimating parameters in GARCH(1,1), which is some-\n",
    "times more robust, is known as variance targeting. 1"
   ]
  },
  {
   "cell_type": "markdown",
   "metadata": {},
   "source": [
    "This involves setting the long-run\n",
    "average variance rate, V L , equal to the sample variance calculated from the data (or to\n",
    "some other value that is believed to be reasonable)"
   ]
  },
  {
   "cell_type": "markdown",
   "metadata": {},
   "source": [
    "The value of ! then equals\n",
    "V L ð1 \u0001 \u0003 \u0001 \u0006Þ and only two parameters (\u0003 and \u0006) have to be estimated"
   ]
  },
  {
   "cell_type": "markdown",
   "metadata": {},
   "source": [
    "The assumption underlying a GARCH model is that volatility changes with the passage\n",
    "of time."
   ]
  },
  {
   "cell_type": "markdown",
   "metadata": {},
   "source": [
    "During some periods volatility is relatively high; during other periods it is\n",
    "relatively low. To put this another way, when u 2 i is high, there is a tendency for u 2 iþ1 ,\n",
    "u 2 iþ2 , . . . to be high; when u 2 i is low, there is a tendency for u 2 iþ1 , u 2 iþ2 , . . . to be low."
   ]
  },
  {
   "cell_type": "markdown",
   "metadata": {},
   "source": [
    "We\n",
    "can test how true this is by examining the autocorrelation structure of the u 2 i ."
   ]
  },
  {
   "cell_type": "markdown",
   "metadata": {},
   "source": [
    "Let us assume the u 2 i do exhibit autocorrelation. If a GARCH model is working well, it\n",
    "should remove the autocorrelation."
   ]
  },
  {
   "cell_type": "markdown",
   "metadata": {},
   "source": [
    "We can test whether it has done so by considering the\n",
    "autocorrelation structure for the variables u 2 i =\u0001 i 2"
   ]
  },
  {
   "cell_type": "markdown",
   "metadata": {},
   "source": [
    "If these show very little autocorrelation,\n",
    "our model for \u0001 i has succeeded in explaining autocorrelations in the u 2 i"
   ]
  },
  {
   "cell_type": "markdown",
   "metadata": {},
   "source": [
    "For a\n",
    "more scientific test, we can use what is known as the Ljung–Box statistic"
   ]
  },
  {
   "cell_type": "markdown",
   "metadata": {},
   "source": [
    "For K 1⁄4 15, zero autocorrelation can be rejected with 95% confidence when the Ljung–\n",
    "Box statistic is greater than 25"
   ]
  },
  {
   "cell_type": "markdown",
   "metadata": {},
   "source": [
    "23.6\n",
    "This equation forecasts the volatility on day n þ t using the information available at the\n",
    "end of day n \u0001 1."
   ]
  },
  {
   "cell_type": "markdown",
   "metadata": {},
   "source": [
    "In the EWMA model, \u0003 þ \u0006 1⁄4 1 and equation (23.13) shows that the\n",
    "expected future variance rate equals the current variance rate."
   ]
  },
  {
   "cell_type": "markdown",
   "metadata": {},
   "source": [
    "When \u0003 þ \u0006 < 1, the final\n",
    "term in the equation becomes progressively smaller as t increases"
   ]
  },
  {
   "cell_type": "markdown",
   "metadata": {},
   "source": [
    "As mentioned earlier, the variance rate exhibits mean reversion\n",
    "with a reversion level of V L and a reversion rate of 1 \u0001 \u0003 \u0001 \u0006"
   ]
  },
  {
   "cell_type": "markdown",
   "metadata": {},
   "source": [
    "Our forecast of the future\n",
    "variance rate tends towards V L as we look further and further ahead"
   ]
  },
  {
   "cell_type": "markdown",
   "metadata": {},
   "source": [
    "This analysis\n",
    "emphasizes the point that we must have \u0003 þ \u0006 < 1 for a stable GARCH(1,1) process."
   ]
  },
  {
   "cell_type": "markdown",
   "metadata": {},
   "source": [
    "When \u0003 þ \u0006 > 1, the weight given to the long-term average variance is negative and the\n",
    "process is ‘‘mean fleeing’’ rather than ‘‘mean reverting’’"
   ]
  },
  {
   "cell_type": "markdown",
   "metadata": {},
   "source": [
    "V ðtÞ is an estimate of the instantaneous variance rate in t days"
   ]
  },
  {
   "cell_type": "markdown",
   "metadata": {},
   "source": [
    "The average\n",
    "variance rate per day between today and time T is given by"
   ]
  },
  {
   "cell_type": "markdown",
   "metadata": {},
   "source": [
    "The larger T is, the closer this is to V L"
   ]
  },
  {
   "cell_type": "markdown",
   "metadata": {},
   "source": [
    "As discussed in Chapter 20, the market prices of different options on the same asset are\n",
    "often used to calculate a volatility term structure."
   ]
  },
  {
   "cell_type": "markdown",
   "metadata": {},
   "source": [
    "This is the relationship between the\n",
    "implied volatilities of the options and their maturities"
   ]
  },
  {
   "cell_type": "markdown",
   "metadata": {},
   "source": [
    "Equation (23.14) can be used to\n",
    "estimate a volatility term structure based on the GARCH(1,1) model"
   ]
  },
  {
   "cell_type": "markdown",
   "metadata": {},
   "source": [
    "The estimated\n",
    "volatility term structure is not usually the same as the implied volatility term structure."
   ]
  },
  {
   "cell_type": "markdown",
   "metadata": {},
   "source": [
    "However, as we will show, it is often used to predict the way that the implied volatility\n",
    "term structure will respond to volatility changes."
   ]
  },
  {
   "cell_type": "markdown",
   "metadata": {},
   "source": [
    "When the current volatility is above the long-term volatility, the GARCH(1,1)\n",
    "model estimates a downward-sloping volatility term structure."
   ]
  },
  {
   "cell_type": "markdown",
   "metadata": {},
   "source": [
    "When the current\n",
    "volatility is below the long-term volatility, it estimates an upward-sloping volatility\n",
    "term structure."
   ]
  },
  {
   "cell_type": "markdown",
   "metadata": {},
   "source": [
    "Many financial institutions use analyses such as this when determining the exposure\n",
    "of their books to volatility changes. Rather than consider an across-the-board increase\n",
    "of 1% in implied volatilities when calculating vega, they relate the size of the volatility\n",
    "increase that is considered to the maturity of the option"
   ]
  },
  {
   "cell_type": "markdown",
   "metadata": {},
   "source": [
    "23.7\n",
    "As\n",
    "explained in Chapter 22, correlations also play a key role in the calculation of VaR"
   ]
  },
  {
   "cell_type": "markdown",
   "metadata": {},
   "source": [
    "The correlation between two variables X and Y can be defined as"
   ]
  },
  {
   "cell_type": "markdown",
   "metadata": {},
   "source": [
    "where \u0001 X and \u0001 Y are the standard deviations of X and Y and covðX; YÞ is the covariance\n",
    "between X and Y"
   ]
  },
  {
   "cell_type": "markdown",
   "metadata": {},
   "source": [
    "The covariance between X and Y is defined as"
   ]
  },
  {
   "cell_type": "markdown",
   "metadata": {},
   "source": [
    "where\n",
    " X and\n",
    " Y are the means of X and Y"
   ]
  },
  {
   "cell_type": "markdown",
   "metadata": {},
   "source": [
    "Define x i and y i as the percentage changes in X and Y between the end of day i \u0001 1\n",
    "and the end of day i"
   ]
  },
  {
   "cell_type": "markdown",
   "metadata": {},
   "source": [
    "We also define the\n",
    "following:\n",
    "\u0001 x;n : Daily volatility of variable X, estimated for day n\n",
    "\u0001 y;n : Daily volatility of variable Y, estimated for day n\n",
    "cov n : Estimate of covariance between daily changes in X and Y, calculated on day n."
   ]
  },
  {
   "cell_type": "markdown",
   "metadata": {},
   "source": [
    "Using equal weighting and assuming that the means of x i and y i are zero, equation (23.3)\n",
    "shows that the variance rates of X and Y can be estimated from the most recent m\n",
    "observations as"
   ]
  },
  {
   "cell_type": "markdown",
   "metadata": {},
   "source": [
    "A similar estimate for the covariance between X and Y"
   ]
  },
  {
   "cell_type": "markdown",
   "metadata": {},
   "source": [
    "One alternative for updating covariances is an EWMA model similar to equation (23.7)."
   ]
  },
  {
   "cell_type": "markdown",
   "metadata": {},
   "source": [
    "A similar analysis to that presented for the EWMA volatility model shows that the\n",
    "weights given to observations on the x i y i decline as we move back through time. The\n",
    "lower the value of \u0005, the greater the weight that is given to recent observations"
   ]
  },
  {
   "cell_type": "markdown",
   "metadata": {},
   "source": [
    "GARCH models can also be used for updating covariance estimates and forecasting the\n",
    "future level of covariances."
   ]
  },
  {
   "cell_type": "markdown",
   "metadata": {},
   "source": [
    "Formulas similar to those in\n",
    "equations (23.13) and (23.14) can be developed for forecasting future covariances and\n",
    "calculating the average covariance during the life of an option"
   ]
  },
  {
   "cell_type": "markdown",
   "metadata": {},
   "source": [
    "Once all the variances and covariances have been calculated, a variance–covariance\n",
    "matrix can be constructed."
   ]
  },
  {
   "cell_type": "markdown",
   "metadata": {},
   "source": [
    "Not all symmetric variance–covariance matrices are internally consistent"
   ]
  },
  {
   "cell_type": "markdown",
   "metadata": {},
   "source": [
    "The con-\n",
    "dition for an N \u0004 N variance–covariance matrix \u0004 to be internally consistent is"
   ]
  },
  {
   "cell_type": "markdown",
   "metadata": {},
   "source": [
    "for all N \u0004 1 vectors w, where w T is the transpose of w"
   ]
  },
  {
   "cell_type": "markdown",
   "metadata": {},
   "source": [
    "A matrix that satisfies this\n",
    "property is known as positive-semidefinite."
   ]
  },
  {
   "cell_type": "markdown",
   "metadata": {},
   "source": [
    "To ensure that a positive-semidefinite matrix is produced, variances and covariances\n",
    "should be calculated consistently"
   ]
  },
  {
   "cell_type": "markdown",
   "metadata": {},
   "source": [
    "For example, if variances are calculated by giving equal\n",
    "weight to the last m data items, the same should be done for covariances. If variances are\n",
    "updated using an EWMA model with \u0005 1⁄4 0:94, the same should be done for covariances."
   ]
  },
  {
   "cell_type": "markdown",
   "metadata": {},
   "source": [
    "23.8\n",
    "We now return to the example considered in Section 22.2. This involved a portfolio on\n",
    "September 25, 2008, consisting of a $4 million investment in the Dow Jones Industrial\n",
    "Average, a $3 million investment in the FTSE 100, a $1 million investment in the\n",
    "CAC 40, and a $2 million investment in the Nikkei 225"
   ]
  },
  {
   "cell_type": "markdown",
   "metadata": {},
   "source": [
    "Daily returns were collected\n",
    "over 500 days ending on September 25, 2008. Data and all calculations presented here\n",
    "can be found at: www-2.rotman.utoronto.ca/\u0005hull/OFOD/VaRExample."
   ]
  },
  {
   "cell_type": "markdown",
   "metadata": {},
   "source": [
    "The correlation matrix that would be calculated on September 25, 2008, by giving\n",
    "equal weight to the last 500 returns is shown in Table 23.5"
   ]
  },
  {
   "cell_type": "markdown",
   "metadata": {},
   "source": [
    "The covariance matrix for the equal-weight case is shown in Table 23.6"
   ]
  },
  {
   "cell_type": "markdown",
   "metadata": {},
   "source": [
    "Instead of calculating variances and covariances by giving equal weight to all observed\n",
    "returns, we now use the exponentially weighted moving average method with \u0005 1⁄4 0:94"
   ]
  },
  {
   "cell_type": "markdown",
   "metadata": {},
   "source": [
    "This gives the variance–covariance matrix in Table 23.7"
   ]
  },
  {
   "cell_type": "markdown",
   "metadata": {},
   "source": [
    "The standard deviation of a portfolio consisting of long\n",
    "positions in securities increases with the standard deviations of security returns and also\n",
    "with the correlations between security returns"
   ]
  },
  {
   "cell_type": "markdown",
   "metadata": {},
   "source": [
    ". Table 23.8 shows that the estimated daily\n",
    "standard deviations are much higher when EWMA is used than when data are equally\n",
    "weighted"
   ]
  },
  {
   "cell_type": "markdown",
   "metadata": {},
   "source": [
    "This is because volatilities were much higher during the period immediately\n",
    "preceding September 25, 2008, than during the rest of the 500 days covered by the data"
   ]
  },
  {
   "cell_type": "markdown",
   "metadata": {},
   "source": [
    "Most popular option pricing models, such as Black–Scholes–Merton, assume that the\n",
    "volatility of the underlying asset is constant. This assumption is far from perfect"
   ]
  },
  {
   "cell_type": "markdown",
   "metadata": {},
   "source": [
    "In\n",
    "practice, the volatility of an asset, like the asset’s price, is a stochastic variable"
   ]
  },
  {
   "cell_type": "markdown",
   "metadata": {},
   "source": [
    "Unlike\n",
    "the asset price, it is not directly observable"
   ]
  },
  {
   "cell_type": "markdown",
   "metadata": {},
   "source": [
    "Maximum likelihood methods are usually used to estimate parameters from historical\n",
    "data in the EWMA, GARCH(1,1), and similar models"
   ]
  },
  {
   "cell_type": "markdown",
   "metadata": {},
   "source": [
    "These methods involve using an\n",
    "iterative procedure to determine the parameter values that maximize the chance or\n",
    "likelihood that the historical data will occur"
   ]
  },
  {
   "cell_type": "markdown",
   "metadata": {},
   "source": [
    "For every model that is developed to track variances, there is a corresponding model\n",
    "that can be developed to track covariances"
   ]
  },
  {
   "cell_type": "markdown",
   "metadata": {},
   "source": []
  },
  {
   "cell_type": "markdown",
   "metadata": {},
   "source": []
  },
  {
   "cell_type": "markdown",
   "metadata": {},
   "source": []
  },
  {
   "cell_type": "markdown",
   "metadata": {},
   "source": []
  },
  {
   "cell_type": "markdown",
   "metadata": {},
   "source": [
    "\n"
   ]
  }
 ],
 "metadata": {
  "kernelspec": {
   "display_name": "Python 3",
   "language": "python",
   "name": "python3"
  },
  "language_info": {
   "codemirror_mode": {
    "name": "ipython",
    "version": 3
   },
   "file_extension": ".py",
   "mimetype": "text/x-python",
   "name": "python",
   "nbconvert_exporter": "python",
   "pygments_lexer": "ipython3",
   "version": "3.6.7"
  }
 },
 "nbformat": 4,
 "nbformat_minor": 2
}
