{
 "cells": [
  {
   "cell_type": "markdown",
   "metadata": {},
   "source": [
    "The\n",
    "answer is that the choices a trader makes depend on the trader’s judgment about how\n",
    "prices will move and the trader’s willingness to take risks."
   ]
  },
  {
   "cell_type": "markdown",
   "metadata": {},
   "source": [
    "12.1\n",
    "The\n",
    "answer is that the choices a trader makes depend on the trader’s judgment about how\n",
    "prices will move and the trader’s willingness to take risks."
   ]
  },
  {
   "cell_type": "markdown",
   "metadata": {},
   "source": [
    "The return earned by\n",
    "the investor depends on the performance of a stock, a stock index, or other risky asset,\n",
    "but the initial principal amount invested is not at risk."
   ]
  },
  {
   "cell_type": "markdown",
   "metadata": {},
   "source": [
    "The attraction of a principal-protected note is that an investor is able to take a risky\n",
    "position without risking any principal. The worst that can happen is that the investor\n",
    "loses the chance to earn interest, or other income such as dividends, on the initial\n",
    "investment for the life of the note."
   ]
  },
  {
   "cell_type": "markdown",
   "metadata": {},
   "source": []
  }
 ],
 "metadata": {},
 "nbformat": 4,
 "nbformat_minor": 2
}
