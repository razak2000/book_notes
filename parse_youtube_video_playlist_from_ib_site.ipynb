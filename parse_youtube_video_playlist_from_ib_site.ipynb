{
 "cells": [
  {
   "cell_type": "code",
   "execution_count": 8,
   "metadata": {
    "collapsed": true
   },
   "outputs": [],
   "source": [
    "import os\n"
   ]
  },
  {
   "cell_type": "code",
   "execution_count": 7,
   "metadata": {
    "collapsed": true
   },
   "outputs": [],
   "source": [
    "#course1\n",
    "course1 = \"tws_for_beginners\"\n",
    "lessons1 = '''Lesson 1 - Getting Started,Lesson 2 - Introduction to IB Products,Lesson 3 – Monitor Panel,Lesson 4 – \n",
    "Trading in Mosaic,TWS for Beginners- Lesson 5 – News and Research in Mosaic,TWS for Beginners- Lesson 6 – Intro to Order Types,TWS for Beginners- Lesson 7 – Introduction to Charts,TWS for Beginners- Lesson 8 – Configuration'''\n",
    "urls1 = '''https://www.youtube.com/embed/cZQYg6ToxtU,https://www.youtube.com/embed/l6Awt_69tPo,\n",
    "https://www.youtube.com/embed/U8xnbPCDYMY,https://www.youtube.com/embed/Vnt4geiKSFg,https://www.youtube.com/embed/Qs001E_uyeA,https://www.youtube.com/embed/wHLejo4oXwE,https://www.youtube.com/embed/RA8InMOV3oM,https://www.youtube.com/embed/B7RAOgcta_A'''"
   ]
  },
  {
   "cell_type": "code",
   "execution_count": 9,
   "metadata": {},
   "outputs": [],
   "source": [
    "#course 2\n",
    "course12 = \"order_types\"\n",
    "lessons2 = '''Market Order Type Using TWS Mosaic,Mosaic Limit Order Type,Mosaic Good-till-Cancelled (GTC) Order Type,Stop and Stop Limit Orders for Mosaic,Bracket Orders for TWS Mosaic,Mosaic Trailing Stop Orders,Mosaic One-Cancels-All (OCA) Order Type,Relative or Pegged-to-Primary Order Type'''\n",
    "urls2 = '''https://www.youtube.com/embed/-tCiHSbVs7g,https://www.youtube.com/embed/y7_O1ejUI0M,\n",
    "https://www.youtube.com/embed/WCyjAkTaOWk,https://www.youtube.com/embed/fQEATKu_GI4,https://www.youtube.com/embed/u_VpiESVb6g,https://www.youtube.com/embed/ERe3oyvEbG8,https://www.youtube.com/embed/bBu__jCVaDc'''\n"
   ]
  },
  {
   "cell_type": "code",
   "execution_count": 10,
   "metadata": {},
   "outputs": [],
   "source": [
    "course3 = \"Introduction to Options\"\n",
    "urls3 = '''https://www.youtube.com/embed/x2miIWBF7Fc,https://www.youtube.com/embed/HVCDOBo4ENo,https://www.youtube.com/embed/lWoM_04SEaU,https://www.youtube.com/embed/mJUT_VVnFf0,https://www.youtube.com/embed/cC97CU7SHTA'''\n",
    "lessons3 = '''Introduction to Options - Pricing,Introduction to Options - The Greeks,Introduction to Options Using TWS Mosaic - Calls and Puts,Introduction to Options Using TWS Mosaic - Basic Combinations,Covered Calls and Buy Writes in IBKR’s Trader Workstation'''"
   ]
  },
  {
   "cell_type": "code",
   "execution_count": null,
   "metadata": {},
   "outputs": [],
   "source": [
    "https://www.youtube.com/embed/"
   ]
  }
 ],
 "metadata": {
  "kernelspec": {
   "display_name": "Python 2",
   "language": "python",
   "name": "python2"
  },
  "language_info": {
   "codemirror_mode": {
    "name": "ipython",
    "version": 2
   },
   "file_extension": ".py",
   "mimetype": "text/x-python",
   "name": "python",
   "nbconvert_exporter": "python",
   "pygments_lexer": "ipython2",
   "version": "2.7.6"
  }
 },
 "nbformat": 4,
 "nbformat_minor": 0
}
