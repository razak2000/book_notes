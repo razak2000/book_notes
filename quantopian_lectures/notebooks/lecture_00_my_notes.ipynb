{
 "cells": [
  {
   "cell_type": "markdown",
   "metadata": {},
   "source": [
    "# Lecture 06\n",
    "np.mean(x1)<br>\n",
    "np.median(x1)<br>\n",
    "stats.mode(x1)[0][0]<br>\n",
    "\n",
    "**algo_code**<br>\n",
    "get SPY price<br>\n",
    "find returns: pricing.pct_change()<br>\n",
    "find mode:  mode(returns)<br>\n",
    "break data up into 20 bins: np.histogram(returns, 20)<br>\n",
    "\n",
    "stats.gmean(x1)<br>\n",
    "stats.hmean(x1)<br>\n"
   ]
  },
  {
   "cell_type": "markdown",
   "metadata": {},
   "source": [
    "# Lecture 07\n",
    "\n",
    "np.var(X)<br>\n",
    "np.std(X)<br>\n",
    "\n",
    "Chebyshev's inequality<br>\n",
    "semivariance<br>\n",
    "semideviation<br>\n",
    "target semivariance<br>\n",
    "target semideviation<br>\n",
    "\n"
   ]
  },
  {
   "cell_type": "markdown",
   "metadata": {},
   "source": [
    "# Lecture 08\n",
    "\n",
    "np.linspace(-6,6, 300)<br>\n",
    "stats.norm.pdf(xs)<br>\n",
    "\n",
    "**algo_code**<br>\n",
    "get SPY pricing<br>\n",
    "find returns: pricing.pct_change()[1:]<br>\n",
    "find skew: stats.skew(returns)<br>\n",
    "plot histogram: plt.hist(returns, 30)<br>\n",
    "\n",
    "**code**<br>\n",
    "plot leptokurtic distribution: plt.plot(xs,stats.laplace.pdf(xs), <br>\n",
    "print stats: stats.laplace.stats(moments='k')<br>\n",
    "plot mesokurtic distribution: plt.plot(xs, normal,<br>\n",
    "print stats: stats.norm.stats(moments='k')<br>\n",
    "plot platykurtic distribution: plt.plot(xs,stats.cosine.pdf(xs),<br>\n",
    "print stats: stats.cosine.stats(moments='k')<br>\n",
    "\n",
    "stats.kurtosis(returns)<br>\n",
    "\n",
    "**code**<br>\n",
    "from statsmodels.stats.stattools import jarque_bera<br>\n",
    "Draw M samples from a normal distribution: np.random.normal(0, 1, M)<br>\n",
    "_, pvalue, _, _ = jarque_bera(X)<br>\n",
    "\n",
    "**algo_code**<br>\n",
    "_, pvalue, _, _ = jarque_bera(returns)<br>\n",
    "normal returns: if pvalue > 0.05<br>\n"
   ]
  },
  {
   "cell_type": "markdown",
   "metadata": {},
   "source": [
    "# Lecture 09\n",
    "\n",
    "np.cov(X, Y)<br>\n",
    "np.corrcoef(X, Y)<br>\n",
    "X.var(ddof=1)<br>\n",
    "\n",
    "**algo_code**<br>\n",
    "get bench price: get_pricing('SPY'<br>\n",
    "get a1 price: get_pricing('LRCX',<br>\n",
    "get a2 price:  get_pricing('AAPL',<br>\n",
    "scatter plot a1 and a2: plt.scatter(a1,a2)<br>\n",
    "np.corrcoef(a1,a2)[0,1]<br>\n",
    "np.corrcoef(a1,bench)[0,1]<br>\n",
    "np.corrcoef(bench,a2)[0,1]<br>\n",
    "\n",
    "**algo_code**<br>\n",
    "rolling correlation: pd.rolling_corr(a1, a2, 60)<br>\n",
    "\n",
    "**code**<br>\n",
    "np.random.rand(100)<br>\n",
    "X + np.random.poisson(size=100)<br>\n",
    "np.corrcoef(X, Y)[0, 1]<br>"
   ]
  },
  {
   "cell_type": "markdown",
   "metadata": {},
   "source": [
    "# Lecture 10\n",
    "\n",
    "**algo_code**<br>\n",
    "get treasury return:  get_pricing('BIL'<br>\n",
    "get amazon pricing: get_pricing('AMZN',<br>\n",
    "returns: pricing.pct_change()[1:]<br>\n",
    "compute the running Sharpe ratio: np.mean(asset - riskfree)/np.std(asset - riskfree)<br>\n",
    "ticks: ax1.get_xticks()<br>\n",
    "set ticks: ax1.set_xticklabels(<br>\n",
    "\n",
    "**algo_code**<br>\n",
    "plot lines: ax2.axhline(<br>\n",
    "rolling mean: pd.rolling_mean(pricing, window=90)<br>\n",
    "rolling std: pd.rolling_std(pricing, window=90)<br>"
   ]
  },
  {
   "cell_type": "markdown",
   "metadata": {},
   "source": [
    "# Lecture 11\n",
    "\n",
    "**code**<br>\n",
    "from statsmodels.stats import stattools<br>\n",
    "binomial samples: np.random.binomial(<br>\n",
    "uniform samples: np.random.uniform(<br>\n",
    "x = np.linspace(a, b, 100)<br>\n",
    "normal samples: samples = np.random.normal(<br>\n",
    "pd.Series(np.cumsum(Y_returns), name = 'Y') + Y_initial<br>\n",
    "\n",
    "**alog_code**<br>\n",
    "get prices: get_pricing('TSLA'<br>\n",
    "get returns: prices.pct_change()[1:]<br>\n",
    "set cutoff<br>\n",
    "get pval of JB test: _, p_value, skewness, kurtosis = stattools.jarque_bera(returns)<br>\n",
    "plot histogram: plt.hist(returns.price, bins = 20)<br>\n",
    "get sample mean <br>\n",
    "get sample std<br>\n",
    "plot theoretical normal against actual values<br>\n"
   ]
  },
  {
   "cell_type": "markdown",
   "metadata": {},
   "source": [
    "# Lecture 12\n",
    "\n",
    "**code**<br>\n",
    "import statsmodels.api as sm<br>\n",
    "def linreg<br>\n",
    "sm.add_constant(X)<br>\n",
    "regression.linear_model.OLS(Y, X).fit()<br>\n",
    "\n",
    "**algo_code**<br>\n",
    "get asset price: get_pricing('TSLA',<br>\n",
    "get bench price: get_pricing('SPY'<br>\n",
    "asset.pct_change()[1:]<br>\n",
    "benchmark.pct_change()[1:]<br>\n",
    "linreg(r_b.values, r_a.values)<br>\n",
    "\n",
    "**algo_code**<br>\n",
    "seaborn.regplot(r_b.values, r_a.values)<br>"
   ]
  },
  {
   "cell_type": "markdown",
   "metadata": {},
   "source": [
    "# Lecture 13\n",
    "\n",
    "**code**<br>\n",
    "scipy.stats.norm.fit(X)<br>\n",
    "scipy.stats.norm.pdf<br>\n",
    "np.random.exponential(TRUE_LAMBDA, 1000)<br>\n",
    "scipy.stats.expon.fit(X, floc=0)<br>\n",
    "scipy.stats.expon.pdf<br>\n",
    "\n",
    "**algo_code**<br>\n",
    "prices: get_pricing('TSLA',<br>\n",
    "absolute returns: np.diff(prices)<br>\n",
    "scipy.stats.norm.fit(returns)<br>\n",
    "plt.hist(returns, bins=x, normed='true')<br>\n",
    "plt.plot(x, pdf(x, loc=mu, scale=std))<br>\n",
    "jarque_bera(returns)<br>\n",
    "\n",
    "**code**<br>\n",
    "jarque_bera(np.random.normal(0, 1, 100))<br>"
   ]
  },
  {
   "cell_type": "markdown",
   "metadata": {},
   "source": []
  },
  {
   "cell_type": "markdown",
   "metadata": {},
   "source": []
  },
  {
   "cell_type": "markdown",
   "metadata": {},
   "source": []
  },
  {
   "cell_type": "markdown",
   "metadata": {},
   "source": []
  },
  {
   "cell_type": "markdown",
   "metadata": {},
   "source": []
  }
 ],
 "metadata": {
  "kernelspec": {
   "display_name": "Python 3",
   "language": "python",
   "name": "python3"
  },
  "language_info": {
   "codemirror_mode": {
    "name": "ipython",
    "version": 3
   },
   "file_extension": ".py",
   "mimetype": "text/x-python",
   "name": "python",
   "nbconvert_exporter": "python",
   "pygments_lexer": "ipython3",
   "version": "3.6.7"
  }
 },
 "nbformat": 4,
 "nbformat_minor": 2
}
