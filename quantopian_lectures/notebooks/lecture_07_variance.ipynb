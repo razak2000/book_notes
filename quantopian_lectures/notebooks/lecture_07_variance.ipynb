{
 "cells": [
  {
   "cell_type": "markdown",
   "metadata": {},
   "source": [
    "Dispersion measures how spread out a set of data is."
   ]
  },
  {
   "cell_type": "markdown",
   "metadata": {},
   "source": [
    "<font color='blue'>Data with low dispersion is heavily clustered around the mean, while data with high dispersion indicates many very large and very small values."
   ]
  },
  {
   "cell_type": "markdown",
   "metadata": {},
   "source": [
    "<font color='blue'>Range</font> is simply the difference between the maximum and minimum values in a dataset. Not surprisingly, <font color='blue'>it is very sensitive to outliers.\n",
    "\n",
    " We'll use <font color='blue'>`numpy`'s peak to peak (ptp) function for this."
   ]
  },
  {
   "cell_type": "markdown",
   "metadata": {},
   "source": [
    "The <font color='blue'>mean absolute deviation</font> is the average of the distances of observations from the arithmetic mean."
   ]
  },
  {
   "cell_type": "markdown",
   "metadata": {},
   "source": [
    "<font color='blue'>$$ MAD = \\frac{\\sum_{i=1}^n |X_i - \\mu|}{n} $$\n",
    "\n",
    "where $n$ is the number of observations and $\\mu$ is their mean."
   ]
  },
  {
   "cell_type": "code",
   "execution_count": null,
   "metadata": {},
   "outputs": [],
   "source": [
    "abs_dispersion = [np.abs(mu - x) for x in X]\n",
    "MAD = np.sum(abs_dispersion)/len(abs_dispersion)\n",
    "print 'Mean absolute deviation of X:', MAD"
   ]
  },
  {
   "cell_type": "markdown",
   "metadata": {},
   "source": [
    "The <font color='blue'>variance $\\sigma^2$</font> is defined as the average of the squared deviations around the mean:\n",
    "<font color='blue'>$$ \\sigma^2 = \\frac{\\sum_{i=1}^n (X_i - \\mu)^2}{n} $$"
   ]
  },
  {
   "cell_type": "markdown",
   "metadata": {},
   "source": [
    "<font color='blue'>This is sometimes more convenient than the mean absolute deviation because absolute value is not differentiable, while squaring is smooth, and some optimization algorithms rely on differentiability."
   ]
  },
  {
   "cell_type": "markdown",
   "metadata": {},
   "source": [
    "<font color='blue'>Standard deviation</font> is defined as the square root of the variance, $\\sigma$, and it is the easier of the two to interpret because <font color='blue'>it is in the same units as the observations."
   ]
  },
  {
   "cell_type": "code",
   "execution_count": null,
   "metadata": {},
   "outputs": [],
   "source": [
    "print 'Variance of X:', np.var(X)\n",
    "print 'Standard deviation of X:', np.std(X)"
   ]
  },
  {
   "cell_type": "markdown",
   "metadata": {},
   "source": [
    "<font color='blue'>One way to interpret standard deviation is by referring to Chebyshev's inequality.\n",
    "\n",
    "This tells us that <font color='magenta'>the proportion of samples within $k$ standard deviations (that is, within a distance of $k \\cdot$ standard deviation) of the mean is at least $1 - 1/k^2$ for all $k>1$."
   ]
  },
  {
   "cell_type": "code",
   "execution_count": null,
   "metadata": {},
   "outputs": [],
   "source": [
    "k = 1.25\n",
    "dist = k*np.std(X)\n",
    "l = [x for x in X if abs(x - mu) <= dist]\n",
    "print 'Observations within', k, 'stds of mean:', l\n",
    "print 'Confirming that', float(len(l))/len(X), '>', 1 - 1/k**2"
   ]
  },
  {
   "cell_type": "markdown",
   "metadata": {},
   "source": [
    "The bound given by Chebyshev's inequality seems fairly loose in this case. <font color='blue'>This bound is rarely strict, but it is useful because it holds for all data sets and distributions."
   ]
  },
  {
   "cell_type": "markdown",
   "metadata": {},
   "source": [
    "Although variance and standard deviation tell us how volatile a quantity is, they do not differentiate between <font color='blue'>deviations upward and deviations downward</font>. Often, such as in the case of returns on an asset, we are more worried about deviations downward. <font color='blue'>This is addressed by semivariance and semideviation, which only count the observations that fall below the mean.\n",
    "\n",
    "Semivariance is defined as>\n",
    "    <font color='blue'>$ \\frac{\\sum_{X_i < \\mu} (X_i - \\mu)^2}{n_<} $</font>\n",
    "where $n_<$ is the number of observations which are smaller than the mean. \n",
    "    \n",
    "<font color='blue'>Semideviation is the square root of the semivariance."
   ]
  },
  {
   "cell_type": "code",
   "execution_count": null,
   "metadata": {},
   "outputs": [],
   "source": [
    "# Because there is no built-in semideviation, we'll compute it ourselves\n",
    "lows = [e for e in X if e <= mu]\n",
    "\n",
    "semivar = np.sum( (lows - mu) ** 2 ) / len(lows)\n",
    "\n",
    "print 'Semivariance of X:', semivar\n",
    "print 'Semideviation of X:', np.sqrt(semivar)"
   ]
  },
  {
   "cell_type": "markdown",
   "metadata": {},
   "source": [
    "<font color='blue'>A related notion is target semivariance (and target semideviation), where we average the distance from a target of values which fall below that target:\n",
    "$$ \\frac{\\sum_{X_i < B} (X_i - B)^2}{n_{<B}} $$"
   ]
  },
  {
   "cell_type": "code",
   "execution_count": null,
   "metadata": {},
   "outputs": [],
   "source": [
    "B = 19\n",
    "lows_B = [e for e in X if e <= B]\n",
    "semivar_B = sum(map(lambda x: (x - B)**2,lows_B))/len(lows_B)\n",
    "\n",
    "print 'Target semivariance of X:', semivar_B\n",
    "print 'Target semideviation of X:', np.sqrt(semivar_B)"
   ]
  },
  {
   "cell_type": "markdown",
   "metadata": {},
   "source": [
    "All of these computations will give you sample statistics, that is standard deviation of a sample of data. Whether or not this reflects the current true population standard deviation is not always obvious, and more effort has to be put into determining that."
   ]
  },
  {
   "cell_type": "markdown",
   "metadata": {},
   "source": [
    "<font color='blue'>In general do not assume that because something is true of your sample, it will remain true going forward."
   ]
  }
 ],
 "metadata": {
  "kernelspec": {
   "display_name": "Python 3",
   "language": "python",
   "name": "python3"
  },
  "language_info": {
   "codemirror_mode": {
    "name": "ipython",
    "version": 3
   },
   "file_extension": ".py",
   "mimetype": "text/x-python",
   "name": "python",
   "nbconvert_exporter": "python",
   "pygments_lexer": "ipython3",
   "version": "3.6.7"
  }
 },
 "nbformat": 4,
 "nbformat_minor": 2
}
