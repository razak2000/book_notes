{
 "cells": [
  {
   "cell_type": "markdown",
   "metadata": {},
   "source": [
    "<font color='blue'>The correlation coefficient measures the extent to which the relationship between two variables is linear.\n",
    "\n",
    "<font color='blue'>Its value is always between -1 and 1."
   ]
  },
  {
   "cell_type": "markdown",
   "metadata": {},
   "source": [
    "<font color='blue'>A positive coefficient indicates that the variables are directly related, i.e. when one increases the other one also increases. A negative coefficient indicates that the variables are inversely related, so that when one increases the other decreases."
   ]
  },
  {
   "cell_type": "markdown",
   "metadata": {},
   "source": [
    "<font color='blue'>The closer to 0 the correlation coefficient is, the weaker the relationship between the variables."
   ]
  },
  {
   "cell_type": "markdown",
   "metadata": {},
   "source": [
    "<font color='blue'>Two random sets of data will have a correlation coefficient close to 0:"
   ]
  },
  {
   "cell_type": "markdown",
   "metadata": {},
   "source": [
    "<font color='blue'>The correlation coefficient of two series $X$ and $Y$ is defined as\n",
    "$r = \\frac{Cov(X,Y)}{std(X)std(Y)}$\n",
    "    \n",
    "where $Cov$ is the covariance and $std$ is the standard deviation."
   ]
  },
  {
   "cell_type": "markdown",
   "metadata": {},
   "source": [
    "<font color='blue'>Correlation is simply a normalized form of covariance. "
   ]
  },
  {
   "cell_type": "code",
   "execution_count": null,
   "metadata": {},
   "outputs": [],
   "source": [
    "X = np.random.rand(50)\n",
    "Y = 2 * X + 4\n",
    "print 'Covariance of X and Y: \\n' + str(np.cov(X, Y))\n",
    "print 'Correlation of X and Y: \\n' + str(np.corrcoef(X, Y))"
   ]
  },
  {
   "cell_type": "markdown",
   "metadata": {},
   "source": [
    "The <font color='blue'>covariance matrix</font> is an important concept in statistics. Often people will refer to the covariance of two variables $X$ and $Y$, but in reality that is just one entry in the covariance matrix of $X$ and $Y$. For each input variable we have one row and one column. The diagonal is just the variance of that variable, or $Cov(X, X)$, entries off the diagonal are covariances between different variables. The matrix is symmetric across the diagonal."
   ]
  },
  {
   "cell_type": "code",
   "execution_count": null,
   "metadata": {},
   "outputs": [],
   "source": [
    "cov_matrix = np.cov(X, Y)\n",
    "#We need to manually set the degrees of freedom on X to 1, as numpy defaults to 0 for variance\n",
    "#This is usually fine, but will result in a slight mismatch as np.cov defaults to 1\n",
    "error = cov_matrix[0, 0] - X.var(ddof=1)\n",
    "print 'error: ' + str(error)"
   ]
  },
  {
   "cell_type": "markdown",
   "metadata": {},
   "source": [
    "### Determining related assets\n",
    "<font color='blue'>Once we've established that two series are probably related, we can use that in an effort to predict future values of the series. "
   ]
  },
  {
   "cell_type": "code",
   "execution_count": null,
   "metadata": {},
   "outputs": [],
   "source": [
    "#Pull the pricing data for our two stocks and S&P 500\n",
    "start = '2013-01-01'\n",
    "end = '2015-01-01'\n",
    "bench = get_pricing('SPY', fields='price', start_date=start, end_date=end)\n",
    "a1 = get_pricing('LRCX', fields='price', start_date=start, end_date=end)\n",
    "a2 = get_pricing('AAPL', fields='price', start_date=start, end_date=end)\n",
    "plt.scatter(a1,a2)\n",
    "plt.xlabel('LRCX')\n",
    "plt.ylabel('AAPL')\n",
    "plt.title('Stock prices from ' + start + ' to ' + end)\n",
    "print \"Correlation coefficients\"\n",
    "print \"LRCX and AAPL: \", np.corrcoef(a1,a2)[0,1]\n",
    "print \"LRCX and SPY: \", np.corrcoef(a1,bench)[0,1]\n",
    "print \"AAPL and SPY: \", np.corrcoef(bench,a2)[0,1]"
   ]
  },
  {
   "cell_type": "markdown",
   "metadata": {},
   "source": [
    "Another reason that correlation is useful in finance is that <font color='blue'>uncorrelated assets produce the best portfolios</font>. The intuition for this is that if the assets are uncorrelated, a drawdown in one will not correspond with a drawdown in another. This leads to a very stable return stream when many uncorrelated assets are combined."
   ]
  },
  {
   "cell_type": "markdown",
   "metadata": {},
   "source": [
    "<font color='blue'>It's hard to rigorously determine whether or not a correlation is significant, especially when, as here, the variables are not normally distributed."
   ]
  },
  {
   "cell_type": "markdown",
   "metadata": {},
   "source": [
    "Their correlation coefficient is close to 1, so it's pretty safe to say that the two stock prices are correlated over the time period we use, but is this indicative of future correlation?"
   ]
  },
  {
   "cell_type": "markdown",
   "metadata": {},
   "source": [
    "<font color='blue'>One fundamental problem is that it is easy to datamine correlations by picking the right time period. To avoid this, one should compute the correlation of two quantities over many historical time periods and examine the distibution of the correlation coefficient."
   ]
  },
  {
   "cell_type": "code",
   "execution_count": null,
   "metadata": {},
   "outputs": [],
   "source": [
    "rolling_correlation = pd.rolling_corr(a1, a2, 60)\n",
    "plt.plot(rolling_correlation)\n",
    "plt.xlabel('Day')\n",
    "plt.ylabel('60-day Rolling Correlation')"
   ]
  },
  {
   "cell_type": "markdown",
   "metadata": {},
   "source": [
    "<font color='blue'>The correlation coefficient can be useful for examining the strength of the relationship between two variables. "
   ]
  },
  {
   "cell_type": "markdown",
   "metadata": {},
   "source": [
    "However, <font color='blue'>it's important to remember that two variables may be associated in different, predictable ways which this analysis would not pick up</font>. For instance, <font color='blue'>one variable might precisely follow the behavior of a second, but with a delay</font>.  \n",
    "\n",
    "There are techniques for dealing with this<font color='blue'> lagged correlation. Alternatively, a variable may be related to the rate of change of another. Neither of these relationships are linear, but can be very useful if detected."
   ]
  },
  {
   "cell_type": "markdown",
   "metadata": {},
   "source": [
    "<font color='blue'>Additionally, the correlation coefficient can be very sensitive to outliers. This means that including or excluding even a couple of data points can alter your result, and it is not always clear whether these points contain information or are simply noise."
   ]
  },
  {
   "cell_type": "code",
   "execution_count": null,
   "metadata": {},
   "outputs": [],
   "source": [
    "X = np.random.rand(100)\n",
    "Y = X + np.random.poisson(size=100)\n",
    "plt.scatter(X, Y)\n",
    "np.corrcoef(X, Y)[0, 1]"
   ]
  },
  {
   "cell_type": "markdown",
   "metadata": {},
   "source": [
    "In conclusion, correlation is a powerful technique, but as always in statistics, one should be careful not to interpret results where there are none."
   ]
  }
 ],
 "metadata": {
  "kernelspec": {
   "display_name": "Python 3",
   "language": "python",
   "name": "python3"
  },
  "language_info": {
   "codemirror_mode": {
    "name": "ipython",
    "version": 3
   },
   "file_extension": ".py",
   "mimetype": "text/x-python",
   "name": "python",
   "nbconvert_exporter": "python",
   "pygments_lexer": "ipython3",
   "version": "3.6.7"
  }
 },
 "nbformat": 4,
 "nbformat_minor": 2
}
