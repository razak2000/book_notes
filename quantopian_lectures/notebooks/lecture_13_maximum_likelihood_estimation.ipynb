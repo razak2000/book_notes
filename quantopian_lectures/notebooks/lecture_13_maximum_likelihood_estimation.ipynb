{
 "cells": [
  {
   "cell_type": "markdown",
   "metadata": {},
   "source": [
    "Now let's try our functions out on our sample data and see how they compare to the built-in np.mean and np.std"
   ]
  },
  {
   "cell_type": "markdown",
   "metadata": {},
   "source": [
    "Now let's estimate both parameters at once with <font color='blue'>scipy's built in `fit()` function."
   ]
  },
  {
   "cell_type": "code",
   "execution_count": null,
   "metadata": {},
   "outputs": [],
   "source": [
    "mu, std = scipy.stats.norm.fit(X)\n",
    "print \"mu estimate: \" + str(mu)\n",
    "print \"std estimate: \" + str(std)"
   ]
  },
  {
   "cell_type": "markdown",
   "metadata": {},
   "source": [
    "Now let's plot the distribution PDF along with the data to see how well it fits. <br><font color='blue'>We can do that by accessing the pdf provided in `scipy.stats.norm.pdf`."
   ]
  },
  {
   "cell_type": "code",
   "execution_count": null,
   "metadata": {},
   "outputs": [],
   "source": [
    "pdf = scipy.stats.norm.pdf\n",
    "# We would like to plot our data along an x-axis ranging from 0-80 with 80 intervals\n",
    "# (increments of 1)\n",
    "x = np.linspace(0, 80, 80)\n",
    "plt.hist(X, bins=x, normed='true')\n",
    "plt.plot(pdf(x, loc=mu, scale=std))\n",
    "plt.xlabel('Value')\n",
    "plt.ylabel('Observed Frequency')\n",
    "plt.legend(['Fitted Distribution PDF', 'Observed Data', ]);"
   ]
  },
  {
   "cell_type": "code",
   "execution_count": null,
   "metadata": {},
   "outputs": [],
   "source": [
    "TRUE_LAMBDA = 5\n",
    "X = np.random.exponential(TRUE_LAMBDA, 1000)"
   ]
  },
  {
   "cell_type": "markdown",
   "metadata": {},
   "source": [
    "<font color='blue'>`numpy` defines the exponential distribution as\n",
    "$$\\frac{1}{\\lambda}e^{-\\frac{x}{\\lambda}}$$\n",
    "    \n",
    "<font color='blue'>So we need to invert the MLE from the lecture notes</font>. There it is\n",
    "$\\hat\\lambda = \\frac{T}{\\sum_{t=1}^{T} x_t}$\n",
    "    \n",
    "<font color='blue'>Here it's just the reciprocal, so\n",
    "$\\hat\\lambda = \\frac{\\sum_{t=1}^{T} x_t}{T}$"
   ]
  },
  {
   "cell_type": "code",
   "execution_count": null,
   "metadata": {},
   "outputs": [],
   "source": [
    "# The scipy version of the exponential distribution has a location parameter\n",
    "# that can skew the distribution. We ignore this by fixing the location\n",
    "# parameter to 0 with floc=0\n",
    "_, l = scipy.stats.expon.fit(X, floc=0)"
   ]
  },
  {
   "cell_type": "code",
   "execution_count": null,
   "metadata": {},
   "outputs": [],
   "source": [
    "pdf = scipy.stats.expon.pdf\n",
    "x = range(0, 80)\n",
    "plt.hist(X, bins=x, normed='true')\n",
    "plt.plot(pdf(x, scale=l))\n",
    "plt.xlabel('Value')\n",
    "plt.ylabel('Observed Frequency')\n",
    "plt.legend(['Fitted Distribution PDF', 'Observed Data', ]);"
   ]
  },
  {
   "cell_type": "code",
   "execution_count": null,
   "metadata": {},
   "outputs": [],
   "source": [
    "prices = get_pricing('TSLA', fields='price', start_date='2014-01-01', end_date='2015-01-01')\n",
    "# This will give us the number of dollars returned each day\n",
    "absolute_returns = np.diff(prices)\n",
    "# This will give us the percentage return over the last day's value\n",
    "# the [:-1] notation gives us all but the last item in the array\n",
    "# We do this because there are no returns on the final price in the array.\n",
    "returns = absolute_returns/prices[:-1]"
   ]
  },
  {
   "cell_type": "code",
   "execution_count": null,
   "metadata": {},
   "outputs": [],
   "source": [
    "mu, std = scipy.stats.norm.fit(returns)\n",
    "pdf = scipy.stats.norm.pdf\n",
    "x = np.linspace(-1,1, num=100)\n",
    "h = plt.hist(returns, bins=x, normed='true')\n",
    "l = plt.plot(x, pdf(x, loc=mu, scale=std))"
   ]
  },
  {
   "cell_type": "markdown",
   "metadata": {},
   "source": [
    "<font color='blue'>Of course, this fit is meaningless unless we've tested that they obey a normal distribution first. We can test this using the Jarque-Bera normality test. \n",
    "    \n",
    "<font color='blue'>The Jarque-Bera test will reject the hypothesis of a normal distribution if the p-value is under a c."
   ]
  },
  {
   "cell_type": "code",
   "execution_count": null,
   "metadata": {},
   "outputs": [],
   "source": [
    "from statsmodels.stats.stattools import jarque_bera\n",
    "jarque_bera(returns)"
   ]
  },
  {
   "cell_type": "code",
   "execution_count": null,
   "metadata": {},
   "outputs": [],
   "source": [
    "jarque_bera(np.random.normal(0, 1, 100))"
   ]
  }
 ],
 "metadata": {
  "kernelspec": {
   "display_name": "Python 3",
   "language": "python",
   "name": "python3"
  },
  "language_info": {
   "codemirror_mode": {
    "name": "ipython",
    "version": 3
   },
   "file_extension": ".py",
   "mimetype": "text/x-python",
   "name": "python",
   "nbconvert_exporter": "python",
   "pygments_lexer": "ipython3",
   "version": "3.6.7"
  }
 },
 "nbformat": 4,
 "nbformat_minor": 2
}
