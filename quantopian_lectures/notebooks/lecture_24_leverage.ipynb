{
 "cells": [
  {
   "cell_type": "markdown",
   "metadata": {},
   "source": [
    "<font color='blue'>Leverage is borrowing money, then investing that money into some trading strategy so as to effectively multiply your initial capital base by some amount."
   ]
  },
  {
   "cell_type": "markdown",
   "metadata": {},
   "source": [
    "Leverage is reinvesting debt to gain a greater return on an investment. <font color='blue'>We include debt in our asset portfolio as a financial instrument that pays one large cash flow upfront (the loan) and gradually pays negative cash flows out over time. The size of these negative cash flows is determined by the interest rate on our debt. The large upfront cashflow allows us to supplement our capital base."
   ]
  },
  {
   "cell_type": "markdown",
   "metadata": {},
   "source": [
    "If you are confident in a strategy and believe it to be low risk, you can put more money than you currently have into that strategy in an effort to multiply your returns. <font color='blue'>You of course have to have confidence that the returns on your strategy will exceed the interest rate on your debt."
   ]
  },
  {
   "cell_type": "markdown",
   "metadata": {},
   "source": [
    " <font color='blue'>risk adjusted return is expressed in the Sharpe Ratio (excess returns/risk)."
   ]
  },
  {
   "cell_type": "markdown",
   "metadata": {},
   "source": [
    "<font color='blue'>A strategy with a high Sharpe Ratio may not have good absolute returns, say  2%  annually, but if the Sharpe Ratio is high the risk will also be correspondingly low."
   ]
  },
  {
   "cell_type": "markdown",
   "metadata": {},
   "source": [
    "<font color='blue'>Multiplying the capital base multiplies both the risk and returns of the strategy, keeping the Sharpe Ratio the same. "
   ]
  },
  {
   "cell_type": "markdown",
   "metadata": {},
   "source": [
    "<font color='blue'>Trading on margin is a type of leverage </font> as it involves taking out a loan from your broker and adding it to your capital base in order to increase the returns of your trading strategy. "
   ]
  },
  {
   "cell_type": "markdown",
   "metadata": {},
   "source": [
    " Since you are borrowing money to invest, you ideally only trade on margin when the returns of your strategy are greater than the interest that you pay on that debt."
   ]
  },
  {
   "cell_type": "markdown",
   "metadata": {},
   "source": [
    "<font color='blue'>At many points in the execution of a trading strategy, you may attempt to make trades that would exceed your current capital. At this point, the broker checks if you are authorized to trade on margin (borrow money) and, if so, lends you the money necessary to execute the trade."
   ]
  },
  {
   "cell_type": "markdown",
   "metadata": {},
   "source": [
    "Each person’s <font color='blue'>margin account </font>will have different terms depending on their broker, size of account, risk of strategies, and other factors."
   ]
  },
  {
   "cell_type": "markdown",
   "metadata": {},
   "source": [
    "You may want to limit how much leverage your strategy can take on so that you are not borrowing more than you are comfortable with."
   ]
  },
  {
   "cell_type": "markdown",
   "metadata": {},
   "source": [
    "<font color='blue'>We measure the current leverage of a portfolio by examining the leverage ratio. The leverage ratio of an algorithm is calculated as the sum of your debt and your capital base divided by your capital base."
   ]
  },
  {
   "cell_type": "markdown",
   "metadata": {},
   "source": [
    "We limit the amount of leverage that our strategy uses by limiting the leverage ratio.\n",
    "<font color='blue'>$ \\text{Leverage Ratio} = \\frac{\\text{Debt} + \\text{Capital Base}}{\\text{Capital Base}}$"
   ]
  },
  {
   "cell_type": "code",
   "execution_count": null,
   "metadata": {},
   "outputs": [],
   "source": [
    "import numpy as np\n",
    "import pandas as pd\n",
    "import matplotlib.pyplot as plt\n",
    "\n",
    "from __future__ import division"
   ]
  },
  {
   "cell_type": "code",
   "execution_count": null,
   "metadata": {},
   "outputs": [],
   "source": [
    "capital_base = 100000\n",
    "r_p = 0.05 # Aggregate performance of assets in the portfolio\n",
    "r_no_lvg = capital_base * r_p\n",
    "print 'Portfolio returns without leverage: {0}'.format(r_no_lvg)"
   ]
  },
  {
   "cell_type": "code",
   "execution_count": null,
   "metadata": {},
   "outputs": [],
   "source": [
    "debt = 100000\n",
    "\n",
    "r_lvg = (capital_base + debt) * r_p\n",
    "r_lvg_pct = r_lvg / capital_base\n",
    "# Returns are calculated over the initial capital base\n",
    "# Think of the debt as an asset purchased and added to the portfolio\n",
    "lvg_ratio = (debt + capital_base) / capital_base\n",
    "print 'Portfolio returns with leverage: {0}'.format(r_lvg)\n",
    "print 'Percentage returns with {1}x leverage: {0}'.format(r_lvg_pct, lvg_ratio)"
   ]
  },
  {
   "cell_type": "code",
   "execution_count": null,
   "metadata": {},
   "outputs": [],
   "source": [
    "capital_base = 100000\n",
    "debt = 50000\n",
    "i = 0.02\n",
    "r_p = 0.05\n",
    "\n",
    "int_pmt = i * debt\n",
    "r_lvg = (capital_base + debt) * r_p\n",
    "r_total = r_lvg - int_pmt\n",
    "r_pct_lvg = r_total / capital_base\n",
    "lvg_ratio = (capital_base + debt) / capital_base\n",
    "print 'Portfolio returns with leverage and interest: {0}'.format(r_total)\n",
    "print 'Percentage returns with {1}x leverage and {2}% interest: {0}'.format(r_pct_lvg, lvg_ratio, i * 100)"
   ]
  },
  {
   "cell_type": "markdown",
   "metadata": {},
   "source": [
    "As long as we have a reliable strategy that can make sufficient returns to offset the cost of debt we will be able to benefit from levering a portfolio."
   ]
  },
  {
   "cell_type": "markdown",
   "metadata": {},
   "source": [
    "When trading with leverage, or on margin, these loans will come from your broker."
   ]
  },
  {
   "cell_type": "markdown",
   "metadata": {},
   "source": [
    "<font color='blue'>Using leverage with high volatility strategies can be dangerous unless you have a high tolerance for risk. Even if you lose money, you still have to pay the broker!"
   ]
  },
  {
   "cell_type": "markdown",
   "metadata": {},
   "source": [
    "<font color='blue'>Handling leverage gets significantly more complicated when we are dealing with an algorithm. Every time an algorithm rebalances its portfolio or makes a trade, there is a possibility of affecting the leverage ratio."
   ]
  },
  {
   "cell_type": "markdown",
   "metadata": {},
   "source": [
    "If there isn't enough cash on hand to cover its positions it will need to borrow more. In the same vein, it may be utilizing overall less cash for the next set of trades, decreasing the leverage ratio."
   ]
  },
  {
   "cell_type": "code",
   "execution_count": null,
   "metadata": {},
   "outputs": [],
   "source": [
    "bt = get_backtest('57e297562a42c9103c11a920')"
   ]
  },
  {
   "cell_type": "code",
   "execution_count": null,
   "metadata": {},
   "outputs": [],
   "source": [
    "recorded_vars = bt.recorded_vars\n",
    "leverage = recorded_vars['leverage']\n",
    "daily_performance = bt.daily_performance\n",
    "daily_returns = daily_performance['returns']"
   ]
  },
  {
   "cell_type": "code",
   "execution_count": null,
   "metadata": {},
   "outputs": [],
   "source": [
    "plt.plot(leverage);\n",
    "plt.title(\"Leverage Ratio of a Trading Algorithm Over Time\")\n",
    "plt.xlabel('Date');\n",
    "plt.ylabel('Leverage Ratio');\n",
    "plt.legend();"
   ]
  },
  {
   "cell_type": "markdown",
   "metadata": {},
   "source": [
    "The algorithm associated with this leverage ratio is a <font color='blue'>long-short equity algorithm based on a combination of fundamental factors. "
   ]
  },
  {
   "cell_type": "markdown",
   "metadata": {},
   "source": [
    "<font color='blue'>A key feature of this sort of strategy is that it can trade hundreds, sometimes even thousands of equities at once. As such, we run the risk of incurring some fairly large rebalancing costs, depending on how frequently we rebalance.</font> This algorithm specifically rebalances on a monthly basis."
   ]
  },
  {
   "cell_type": "code",
   "execution_count": null,
   "metadata": {},
   "outputs": [],
   "source": [
    "plt.plot(daily_returns);\n",
    "plt.xlabel('Date');\n",
    "plt.ylabel('Daily Returns');\n",
    "plt.legend();"
   ]
  },
  {
   "cell_type": "code",
   "execution_count": null,
   "metadata": {},
   "outputs": [],
   "source": [
    "print \"Mean return: \", daily_returns.mean()\n",
    "print \"Volatility: \", daily_returns.std()"
   ]
  },
  {
   "cell_type": "markdown",
   "metadata": {},
   "source": [
    "<font color='blue'>Monitoring your strategy's volatility and ensuring you are only taking on palatable amounts of debt are key aspects of determining the quality of your trading strategy."
   ]
  },
  {
   "cell_type": "markdown",
   "metadata": {},
   "source": [
    "Comparing returns of different investment opportunities without taking risk into account is meaningless"
   ]
  },
  {
   "cell_type": "markdown",
   "metadata": {},
   "source": [
    "One of the most prominent risk-adjusted measures is the Sharpe Ratio, defined as follows.\n",
    "<font color='blue'>$ \\text{Sharpe Ratio} = \\frac{r_p - r_f}{\\sigma_p} $"
   ]
  },
  {
   "cell_type": "markdown",
   "metadata": {},
   "source": [
    "<font color='blue'>The Sharpe Ratio essentially normalizes the returns of a portfolio, giving us a metric that we can use as a measure of quality relative to other revenue streams."
   ]
  },
  {
   "cell_type": "markdown",
   "metadata": {},
   "source": [
    " <font color='blue'>A higher Sharpe Ratio indicates that you are getting more return relative to the risk that your strategy is taking on."
   ]
  },
  {
   "cell_type": "markdown",
   "metadata": {},
   "source": [
    "In general you want to compare the Sharpe Ratio of two strategies you may be interested in. Pick the strategy with the better Sharpe Ratio and then use leverage to multiply the returns up to where you want them."
   ]
  },
  {
   "cell_type": "code",
   "execution_count": null,
   "metadata": {},
   "outputs": [],
   "source": [
    "# Note these are all expected returns. You need to validate that\n",
    "# your strategy will continue to produce these returns and volatility using other methods.\n",
    "# Just measuring historically is a very poor predictor of future performance.\n",
    "# We'll for now assume you've already validated that you can expect to keep seeing numbers similar to these.\n",
    "\n",
    "strat_A_ann_return = 0.22\n",
    "strat_A_ann_vol = 0.15\n",
    "\n",
    "strat_B_ann_return = 0.05\n",
    "strat_B_ann_vol = 0.02\n",
    "\n",
    "# We'll assume a risk free rate of 0.02\n",
    "risk_free_rate = 0.02\n",
    "\n",
    "print 'Strategy A Sharpe: %s' % ((strat_A_ann_return - risk_free_rate) / strat_A_ann_vol)\n",
    "print 'Strategy B Sharpe: %s' % ((strat_B_ann_return - risk_free_rate) / strat_B_ann_vol)\n",
    "\n",
    "# Add in leverage to B\n",
    "\n",
    "leverage = 3\n",
    "# Expressed in returns\n",
    "\n",
    "print 'Strategy B Sharpe: %s' % (\n",
    "    (strat_B_ann_return * leverage - risk_free_rate * leverage) / (strat_B_ann_vol * leverage)\n",
    ")\n",
    "print 'Strategy B Levered Annual Returns: %s' % (\n",
    "    (strat_B_ann_return * leverage - risk_free_rate * leverage)\n",
    ")"
   ]
  },
  {
   "cell_type": "markdown",
   "metadata": {},
   "source": [
    "Portfolio weighting can be considered an example of applying leverage to a strategy. If you assign more of your portfolio weight to a strategy, you have upped the capital amount and multiplied both the returns and volatility. Likewise, if you have a strategy that has high returns but high volatility, you can provide it less weight so that you divide the volatility."
   ]
  }
 ],
 "metadata": {
  "kernelspec": {
   "display_name": "Python 3",
   "language": "python",
   "name": "python3"
  },
  "language_info": {
   "codemirror_mode": {
    "name": "ipython",
    "version": 3
   },
   "file_extension": ".py",
   "mimetype": "text/x-python",
   "name": "python",
   "nbconvert_exporter": "python",
   "pygments_lexer": "ipython3",
   "version": "3.6.7"
  }
 },
 "nbformat": 4,
 "nbformat_minor": 2
}
