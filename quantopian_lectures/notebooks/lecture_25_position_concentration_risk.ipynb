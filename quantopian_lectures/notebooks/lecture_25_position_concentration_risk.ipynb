{
 "cells": [
  {
   "cell_type": "markdown",
   "metadata": {},
   "source": [
    "When trading, it is important to diversify your risks. By concentrating your positions in only a few assets, you can negatively be impacted by their risks"
   ]
  },
  {
   "cell_type": "code",
   "execution_count": null,
   "metadata": {},
   "outputs": [],
   "source": [
    "universes = 1000\n",
    "\n",
    "results = np.zeros((universes, 1))\n",
    "for i in range(universes):\n",
    "    results[i] = np.random.binomial(n = 1, p=0.51)"
   ]
  },
  {
   "cell_type": "code",
   "execution_count": null,
   "metadata": {},
   "outputs": [],
   "source": [
    "np.mean(results), np.std(results)"
   ]
  },
  {
   "cell_type": "code",
   "execution_count": null,
   "metadata": {},
   "outputs": [],
   "source": [
    "universes = 1000\n",
    "\n",
    "results = np.zeros((universes, 1))\n",
    "for i in range(universes):\n",
    "    results[i] = np.random.binomial(n = 100, p=0.51)\n",
    "\n",
    "np.mean(results), np.std(results)"
   ]
  },
  {
   "cell_type": "code",
   "execution_count": null,
   "metadata": {},
   "outputs": [],
   "source": [
    "universes = 1000\n",
    "\n",
    "results = np.zeros((universes, 1))\n",
    "for i in range(universes):\n",
    "    results[i] = np.random.binomial(n = 10000, p=0.51)\n",
    "\n",
    "np.mean(results), np.std(results)"
   ]
  },
  {
   "cell_type": "markdown",
   "metadata": {},
   "source": [
    "There is a subtlety that it's not always valid to use a standard deviation, as the underlying distribution of data in this case is not normal. We use it here because standard deviation is the metric of volatility used in finance, and it still reflects how much 'spread' exists in the data. <font color='blue'>Be careful not to abuse standard deviation in practice by assuming the underlying data is normal."
   ]
  },
  {
   "cell_type": "markdown",
   "metadata": {},
   "source": [
    "The same exact principle exists in portfolio theory. <font color='blue'>If you think you have an edge over the market in picking stocks that will go up or down, you should try to make as many independent bets as possible. This can be accomplished by investing in as many uncorrelated assets as possible"
   ]
  },
  {
   "cell_type": "markdown",
   "metadata": {},
   "source": [
    "Remember that in finance, volatility is measured by the standard deviation of a time series, and the amount of future risk of a portfolio is estimated by past portfolio volatility"
   ]
  },
  {
   "cell_type": "markdown",
   "metadata": {},
   "source": [
    "NOTE: <font color='blue'>In practice real financial asset returns rarely are normally distributed, so this is not a great assumption. </font>However it's okay here to get our point across because we are just concerned with correlation and level of volaility."
   ]
  },
  {
   "cell_type": "code",
   "execution_count": null,
   "metadata": {},
   "outputs": [],
   "source": [
    "R_1 = np.random.normal(1.01, 0.03, 100)\n",
    "A_1 = np.cumprod(R_1)\n",
    "P = A_1\n",
    "plt.plot(P)\n",
    "plt.xlabel('Time')\n",
    "plt.ylabel('Price');"
   ]
  },
  {
   "cell_type": "code",
   "execution_count": null,
   "metadata": {},
   "outputs": [],
   "source": [
    "N = 10\n",
    "\n",
    "returns = np.zeros((N, 100))\n",
    "assets = np.zeros((N, 100))\n",
    "\n",
    "R_1 = np.random.normal(1.01, 0.03, 100)\n",
    "returns[0] = R_1\n",
    "assets[0] = np.cumprod(R_1)\n",
    "plt.plot(assets[0], alpha=0.1)\n",
    "\n",
    "for i in range(1, N):\n",
    "    R_i = R_1 + np.random.normal(0.001, 0.01, 100)\n",
    "    returns[i] = R_i\n",
    "    assets[i] = np.cumprod(R_i)\n",
    "    \n",
    "    plt.plot(assets[i], alpha=0.1)\n",
    "\n",
    "R_P = np.mean(returns, axis=0)\n",
    "P = np.mean(assets, axis=0)\n",
    "plt.plot(P)\n",
    "plt.xlabel('Time')\n",
    "plt.ylabel('Price');\n",
    "\n",
    "print 'Asset Volatilities'\n",
    "print [np.std(R) for R in returns]\n",
    "print 'Mean Asset Volatility'\n",
    "print np.mean([np.std(R) for R in returns])\n",
    "print 'Portfolio Volatility'\n",
    "print np.std(R_P)"
   ]
  },
  {
   "cell_type": "markdown",
   "metadata": {},
   "source": [
    "<font color='blue'>The mean volatility of our assets is the same as the portfolio volatility. "
   ]
  },
  {
   "cell_type": "markdown",
   "metadata": {},
   "source": [
    "You can think of correlated bets as identical to the original bet. <font color='blue'>If the outcome of the second bet is correlated with the first, then really you've just made the same bet twice and you haven't reduced your volatility."
   ]
  },
  {
   "cell_type": "code",
   "execution_count": null,
   "metadata": {},
   "outputs": [],
   "source": [
    "N = 10\n",
    "\n",
    "assets = np.zeros((N, 100))\n",
    "returns = np.zeros((N, 100))\n",
    "\n",
    "for i in range(N):\n",
    "    R_i = np.random.normal(1.01, 0.03, 100)\n",
    "    returns[i] = R_i\n",
    "    assets[i] = np.cumprod(R_i)\n",
    "    \n",
    "    plt.plot(assets[i], alpha=0.1)\n",
    "\n",
    "R_P = np.mean(returns, axis=0)\n",
    "P = np.mean(assets, axis=0)\n",
    "plt.plot(P)\n",
    "plt.xlabel('Time')\n",
    "plt.ylabel('Price');\n",
    "\n",
    "print 'Asset Volatilities'\n",
    "print [np.std(R) for R in returns]\n",
    "print 'Mean Asset Volatility'\n",
    "print np.mean([np.std(R) for R in returns])\n",
    "print 'Portfolio Volatility'\n",
    "print np.std(R_P)"
   ]
  },
  {
   "cell_type": "markdown",
   "metadata": {},
   "source": [
    "<font color='blue'>Holding more uncorrelated assets smooths out our portfolio. When one is down, the others are no more likely to be down, so the bumps both upwards and downwards are often much smaller. The more assets we hold, the more we'll reduce our volatility as well. "
   ]
  },
  {
   "cell_type": "code",
   "execution_count": null,
   "metadata": {},
   "outputs": [],
   "source": [
    "portfolio_volatilities_by_size = np.zeros((100,1))\n",
    "\n",
    "for N in range(1,100):\n",
    "\n",
    "    assets = np.zeros((N, 100))\n",
    "    returns = np.zeros((N, 100))\n",
    "\n",
    "    for i in range(N):\n",
    "        R_i = np.random.normal(1.01, 0.03, 100)\n",
    "        returns[i] = R_i\n",
    "\n",
    "    R_P = np.mean(returns, axis=0)\n",
    "\n",
    "    portfolio_volatilities_by_size[N] = np.std(R_P)\n",
    "    \n",
    "plt.plot(portfolio_volatilities_by_size)\n",
    "plt.xlabel('Uncorrelated Portfolio Size')\n",
    "plt.ylabel('Uncorrelated Portfolio Volatility');"
   ]
  },
  {
   "cell_type": "markdown",
   "metadata": {},
   "source": [
    "<font color='blue'>Be invested in as many uncorrelated assets as possible. In finance this is known as diversification. </font>If you have a pricing model, price everything and invest accordingly"
   ]
  },
  {
   "cell_type": "markdown",
   "metadata": {},
   "source": [
    "Because of transaction costs, you need to have certain minimum amounts of capital to invest in large numbers of assets. Therefore sometimes you are unable to invest in hundreds or thousands. \n",
    "\n",
    "In this case you should still try to maximize your portfolio size, keeping in mind that if you have a portfolio of size 20, you can still find 20 relatively uncorrelated assets and that's better than nothing."
   ]
  },
  {
   "cell_type": "markdown",
   "metadata": {},
   "source": [
    "Say that we have two assets in a portfolio, $S_1$ and $S_2$, with weights $\\omega_1$ and $\\omega_2$ such that $\\omega_1 + \\omega_2 = 1$. Call the portfolio $P$ and say that $S_1$ and $S_2$ have mean and standard deviation $\\mu_1, \\sigma_1$ and $\\mu_2, \\sigma_2$ respectively. We can calculate the value of $P$ easily.\n",
    "<font color='blue'>$ P = \\omega_1 S_1 + \\omega_2 S_2 $"
   ]
  },
  {
   "cell_type": "markdown",
   "metadata": {},
   "source": [
    "Now we set $\\mu_P$ as the return of the portfolio $P$. It is simple to calculate the expected return of this portfolio:\n",
    "<font color='blue'>$ E[\\mu_P] = E[\\omega_1 \\mu_1 + \\omega_2 \\mu_2] = \\omega_1 E[\\mu_1] + \\omega_2 E[\\mu_2] $"
   ]
  },
  {
   "cell_type": "markdown",
   "metadata": {},
   "source": [
    "Similarly, we can use these same characteristics to determine the overall risk of the portfolio, $\\sigma_p$.\n",
    "\n",
    "<font color='blue'>$$\\sigma_p^2 = \\omega_1^2 \\sigma_1^2 + \\omega_2^2 \\sigma_2^2 + 2\\rho_{12}\\omega_1\\omega_2\\sigma_1\\sigma_2 $$"
   ]
  },
  {
   "cell_type": "code",
   "execution_count": null,
   "metadata": {},
   "outputs": [],
   "source": [
    "stocks = np.array([100, 75])\n",
    "mean_returns = np.array([4, 6])\n",
    "\n",
    "r_12 = 0.20\n",
    "cov_12 = r_12 * 0.05 * 0.08\n",
    "covariance_matrix = np.array([[0.05**2,cov_12],[cov_12,0.08**2]])\n",
    "\n",
    "weights = np.array([0.7, 0.3])\n",
    "\n",
    "P = np.dot(weights, stocks.T)"
   ]
  },
  {
   "cell_type": "code",
   "execution_count": null,
   "metadata": {},
   "outputs": [],
   "source": [
    "var_p = np.dot(np.dot(weights, covariance_matrix), weights.T)\n",
    "sigma_p = np.sqrt(var_p)\n",
    "print \"The overall risk of the portfolio is: \", sigma_p"
   ]
  },
  {
   "cell_type": "markdown",
   "metadata": {},
   "source": [
    "<font color='blue'>We can extend this idea to a portfolio made of of $n$ securities fairly easily.</font> The more assets you include in your portfolio, the lower your overall risk will be. Here is the general form for the variance of your portfolio in the case where you have $n$ assets:\n",
    "\n",
    "<font color='blue'>$$ \\sigma_p^2 = \\sum_i \\omega_i^2 \\sigma_i^2 + \\sum_i\\sum_{j\\neq i} \\omega_i\\omega_j\\sigma_i\\sigma_j\\rho_{ij}, \\ i, j \\in \\lbrace 1,\\ldots, n\\rbrace $$"
   ]
  },
  {
   "cell_type": "markdown",
   "metadata": {},
   "source": [
    "These benefits can be increased by ensuring that your assets are independent from each other. <font color='blue'>When two assets are independent, they are uncorrelated, i.e. $\\rho_{ij}=0$."
   ]
  },
  {
   "cell_type": "markdown",
   "metadata": {},
   "source": [
    "The correlation between each pairwise set of assets plays a very important part in our calcuations for determining the variance of a portfolio. <font color='blue'>The higher the correlations between assets, the more assets we need to include to reduce our risk by a comparable amount."
   ]
  },
  {
   "cell_type": "code",
   "execution_count": null,
   "metadata": {},
   "outputs": [],
   "source": [
    "stocks = np.array([230, 176, 192, 105])\n",
    "mean_returns = np.array([2.0, 3.5, 7.5, 5.0])\n",
    "std_dev = np.array([0.05, 0.07, 0.11, 0.09])\n",
    "weights = np.array([0.35, 0.30, 0.15, 0.20])\n",
    "\n",
    "\n",
    "r_12 = 0.2\n",
    "r_13 = 0.08\n",
    "r_14 = 0.1\n",
    "r_23 = 0.6\n",
    "r_24 = 0.4\n",
    "r_34 = 0.8\n",
    "covariance_matrix = np.array([[0.05**2, r_12 * 0.05 * 0.07, r_13 * 0.05 * 0.11, r_14 * 0.05 * 0.09],\n",
    "                             [r_12 * 0.05 * 0.07, 0.07**2, r_23 * 0.07 * 0.11, r_24 * 0.07 * 0.09],\n",
    "                             [r_13 * 0.05 * 0.11, r_23 * 0.07 * 0.11, 0.11**2, r_34 * 0.11 * 0.09],\n",
    "                             [r_14 * 0.05 * 0.09, r_24 * 0.07 * 0.09, r_34 * 0.11 * 0.09, 0.09**2]])\n"
   ]
  },
  {
   "cell_type": "code",
   "execution_count": null,
   "metadata": {},
   "outputs": [],
   "source": [
    "var_p = np.dot(np.dot(weights, covariance_matrix), weights.T)\n",
    "sigma_p = np.sqrt(var_p)\n",
    "print \"The overall risk of the portfolio is: \", sigma_p"
   ]
  },
  {
   "cell_type": "code",
   "execution_count": null,
   "metadata": {},
   "outputs": [],
   "source": [
    "covariance_matrix = np.array([[0.05**2, 0, 0, 0],\n",
    "                             [0, 0.07**2, 0, 0],\n",
    "                             [0, 0, 0.11**2, 0],\n",
    "                             [0, 0, 0, 0.09**2]])\n",
    "var_p = np.dot(np.dot(weights, covariance_matrix), weights.T).flatten()\n",
    "sigma_p = np.sqrt(var_p)\n",
    "print \"The overall risk of the portfolio is: \", sigma_p"
   ]
  },
  {
   "cell_type": "code",
   "execution_count": null,
   "metadata": {},
   "outputs": [],
   "source": [
    "# Generate an almost entirely random portfolio\n",
    "# Only constraint is that an asset's variance\n",
    "def generate_portfolio(n = 5):\n",
    "    assets = np.random.normal(100, 20, n)\n",
    "    weights = np.random.uniform(0, 1, n)\n",
    "    weights = weights/sum(weights)\n",
    "    returns = np.random.normal(5, 2, n) # Say that 5 is the average return for our assets\n",
    "    # Generate covariance matrix for assets\n",
    "    cov_matrix = np.ndarray(shape = (n, n))\n",
    "    std_dev = np.zeros(n)\n",
    "    for i in range(n):\n",
    "        for j in range(i + 1):\n",
    "            if j == i:\n",
    "                std_dev[i] = returns[i]/100\n",
    "                cov_matrix[i][j] = std_dev[i]**2\n",
    "            else:\n",
    "                cov_matrix[i][j] = np.random.uniform(-1, 1)\n",
    "                cov_matrix[j][i] = cov_matrix[i][j]\n",
    "    # Ensures that the covariance matrix is symmetric\n",
    "    # Serves the double purpose of squaring the volatility (already present in the matrix) so we get variance\n",
    "    return weights, assets, returns, std_dev, cov_matrix"
   ]
  },
  {
   "cell_type": "code",
   "execution_count": null,
   "metadata": {},
   "outputs": [],
   "source": [
    "w, S, mu, sigma, cov = generate_portfolio(6)\n",
    "print \"Weights:\\n\", w\n",
    "print \"Assets:\\n\", S\n",
    "print \"Returns:\\n\", mu\n",
    "print \"Volatilities:\\n\", sigma\n",
    "print \"\\nCovariance Matrix:\\n\", cov"
   ]
  },
  {
   "cell_type": "code",
   "execution_count": null,
   "metadata": {},
   "outputs": [],
   "source": [
    "P = np.dot(w, S)\n",
    "var_p = np.dot(np.dot(w, cov), w.T)\n",
    "sigma_p = np.sqrt(var_p)\n",
    "print \"Portfolio Value: \", P\n",
    "print \"Portfolio Volatility: \", sigma_p"
   ]
  },
  {
   "cell_type": "markdown",
   "metadata": {},
   "source": [
    "Keep in mind that if you choose to change this function at all, you must include some failsafe so that higher returns always correspond to higher volatilites. This is one of the core assumptions of portfolio theory and, while not pertinent here due to our arbitrary weight values, it is essential to calculating the weights of an optimal portfolio."
   ]
  }
 ],
 "metadata": {
  "kernelspec": {
   "display_name": "Python 3",
   "language": "python",
   "name": "python3"
  },
  "language_info": {
   "codemirror_mode": {
    "name": "ipython",
    "version": 3
   },
   "file_extension": ".py",
   "mimetype": "text/x-python",
   "name": "python",
   "nbconvert_exporter": "python",
   "pygments_lexer": "ipython3",
   "version": "3.6.7"
  }
 },
 "nbformat": 4,
 "nbformat_minor": 2
}
