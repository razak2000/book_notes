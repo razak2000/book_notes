{
 "cells": [
  {
   "cell_type": "code",
   "execution_count": null,
   "metadata": {},
   "outputs": [],
   "source": [
    "import statsmodels\n",
    "import statsmodels.api as sm\n",
    "from statsmodels.tsa.stattools import coint, adfuller"
   ]
  },
  {
   "cell_type": "markdown",
   "metadata": {},
   "source": [
    "<font color='blue'>A commonly untested assumption in time series analysis is the stationarity of the data. "
   ]
  },
  {
   "cell_type": "markdown",
   "metadata": {},
   "source": [
    "<font color='blue'>Data are stationary when the parameters of the data generating process do not change over time. "
   ]
  },
  {
   "cell_type": "code",
   "execution_count": null,
   "metadata": {},
   "outputs": [],
   "source": [
    "def generate_datapoint(params):\n",
    "    mu = params[0]\n",
    "    sigma = params[1]\n",
    "    return np.random.normal(mu, sigma)"
   ]
  },
  {
   "cell_type": "code",
   "execution_count": null,
   "metadata": {},
   "outputs": [],
   "source": [
    "# Set the parameters and the number of datapoints\n",
    "params = (0, 1)\n",
    "T = 100\n",
    "\n",
    "A = pd.Series(index=range(T))\n",
    "A.name = 'A'\n",
    "\n",
    "for t in range(T):\n",
    "    A[t] = generate_datapoint(params)\n",
    "\n",
    "plt.plot(A)\n",
    "plt.xlabel('Time')\n",
    "plt.ylabel('Value')\n",
    "plt.legend(['Series A']);"
   ]
  },
  {
   "cell_type": "code",
   "execution_count": null,
   "metadata": {},
   "outputs": [],
   "source": [
    "# Set the number of datapoints\n",
    "T = 100\n",
    "\n",
    "B = pd.Series(index=range(T))\n",
    "B.name = 'B'\n",
    "\n",
    "for t in range(T):\n",
    "    # Now the parameters are dependent on time\n",
    "    # Specifically, the mean of the series changes over time\n",
    "    params = (t * 0.1, 1)\n",
    "    B[t] = generate_datapoint(params)\n",
    "\n",
    "plt.plot(B)\n",
    "plt.xlabel('Time')\n",
    "plt.ylabel('Value')\n",
    "plt.legend(['Series B']);"
   ]
  },
  {
   "cell_type": "markdown",
   "metadata": {},
   "source": [
    "<font color='blue'>Many statistical tests, deep down in the fine print of their assumptions, require that the data being tested are stationary. "
   ]
  },
  {
   "cell_type": "markdown",
   "metadata": {},
   "source": [
    "Also, <font color='blue'>if you naively use certain statistics on a non-stationary data set, you will get garbage results."
   ]
  },
  {
   "cell_type": "code",
   "execution_count": null,
   "metadata": {},
   "outputs": [],
   "source": [
    "m = np.mean(B)\n",
    "\n",
    "plt.plot(B)\n",
    "plt.hlines(m, 0, len(B), linestyles='dashed', colors='r')\n",
    "plt.xlabel('Time')\n",
    "plt.ylabel('Value')\n",
    "plt.legend(['Series B', 'Mean']);"
   ]
  },
  {
   "cell_type": "code",
   "execution_count": null,
   "metadata": {},
   "outputs": [],
   "source": [
    "def check_for_stationarity(X, cutoff=0.01):\n",
    "    # H_0 in adfuller is unit root exists (non-stationary)\n",
    "    # We must observe significant p-value to convince ourselves that the series is stationary\n",
    "    pvalue = adfuller(X)[1]\n",
    "    if pvalue < cutoff:\n",
    "        print 'p-value = ' + str(pvalue) + ' The series ' + X.name +' is likely stationary.'\n",
    "        return True\n",
    "    else:\n",
    "        print 'p-value = ' + str(pvalue) + ' The series ' + X.name +' is likely non-stationary.'\n",
    "        return False"
   ]
  },
  {
   "cell_type": "code",
   "execution_count": null,
   "metadata": {},
   "outputs": [],
   "source": [
    "# Set the number of datapoints\n",
    "T = 100\n",
    "\n",
    "C = pd.Series(index=range(T))\n",
    "C.name = 'C'\n",
    "\n",
    "for t in range(T):\n",
    "    # Now the parameters are dependent on time\n",
    "    # Specifically, the mean of the series changes over time\n",
    "    params = (np.sin(t), 1)\n",
    "    C[t] = generate_datapoint(params)\n",
    "\n",
    "plt.plot(C)\n",
    "plt.xlabel('Time')\n",
    "plt.ylabel('Value')\n",
    "plt.legend(['Series C']);An important concept in time series analysis is moving average representation."
   ]
  },
  {
   "cell_type": "markdown",
   "metadata": {},
   "source": [
    "<font color='blue'>A cyclic movement of the mean will be very difficult to tell apart from random noise. "
   ]
  },
  {
   "cell_type": "markdown",
   "metadata": {},
   "source": [
    "<font color='blue'>In practice on noisy data and limited sample size it can be hard to determine if a series is stationary and whether any drift is random noise or part of a trend."
   ]
  },
  {
   "cell_type": "markdown",
   "metadata": {},
   "source": [
    "In each individual case the test may or may not pick up subtle effects like this."
   ]
  },
  {
   "cell_type": "code",
   "execution_count": null,
   "metadata": {},
   "outputs": [],
   "source": [
    "check_for_stationarity(C);"
   ]
  },
  {
   "cell_type": "markdown",
   "metadata": {},
   "source": [
    "An important concept in time series analysis is <font color='blue'>moving average representation."
   ]
  },
  {
   "cell_type": "markdown",
   "metadata": {},
   "source": [
    "<font color='blue'>This representation expresses any time series $Y_t$ as \n",
    "$Y_t = \\sum_{j=0}^\\infty b_j \\epsilon_{t-j} + \\eta_t$\n",
    "* $\\epsilon$ is <font color='blue'>the 'innovation' series\n",
    "* $b_j$ are the <font color='blue'>moving average weights of the innovation series\n",
    "* $\\eta$ is <font color='blue'>a deterministic series"
   ]
  },
  {
   "cell_type": "markdown",
   "metadata": {},
   "source": [
    " $\\eta$ is deterministic, such as a sine wave. Therefore we could perfectly model it."
   ]
  },
  {
   "cell_type": "markdown",
   "metadata": {},
   "source": [
    "<font color='blue'>The innovation process is stochastic and there to simulate new information occuring over time. </font><br> Specifically, $\\epsilon_t = \\hat Y_t - Y_t$ where $\\hat Y_t$ is the in the optimal forecast of $Y_t$ using only information from time before $t$."
   ]
  },
  {
   "cell_type": "markdown",
   "metadata": {},
   "source": [
    " In other words, <font color='blue'>the best prediction you can make at time $t-1$ cannot account for the randomness in $\\epsilon$."
   ]
  },
  {
   "cell_type": "markdown",
   "metadata": {},
   "source": [
    "Each $b_j$ just says how much previous values of $\\epsilon$ influence $Y_t$."
   ]
  },
  {
   "cell_type": "markdown",
   "metadata": {},
   "source": [
    "<font color='blue'>A time series is said to be $I(0)$ if the following condition holds in a moving average representation. \n",
    "$\\sum_{k=0}^\\infty |b_k|^2 < \\infty$"
   ]
  },
  {
   "cell_type": "markdown",
   "metadata": {},
   "source": [
    "This property turns out to be true of all stationary series, but by itself is not enough for stationarity to hold. <font color='blue'>This means that stationarity implies $I(0)$, but $I(0)$ does not imply stationarity. "
   ]
  },
  {
   "cell_type": "markdown",
   "metadata": {},
   "source": [
    "For more on orders of integration, please see the following links.\n",
    "- https://en.wikipedia.org/wiki/Order_of_integration\n",
    "- https://en.wikipedia.org/wiki/Wold%27s_theorem"
   ]
  },
  {
   "cell_type": "markdown",
   "metadata": {},
   "source": [
    "<font color='blue'>In practice testing whether the sum of the autocorrelations is finite may not be possible. \n",
    "\n",
    "It is possible in a mathematical derivation, but <font color='blue'>when we have a finite set of data and a finite number of estimated autocorrelations, the sum will always be finite. "
   ]
  },
  {
   "cell_type": "markdown",
   "metadata": {},
   "source": [
    "Given this difficulty, tests for $I(0)$ rely on stationarity implying the property.<font color='blue'> If we find that a series is stationary, then it must also be $I(0)$."
   ]
  },
  {
   "cell_type": "code",
   "execution_count": null,
   "metadata": {},
   "outputs": [],
   "source": [
    "plt.plot(A)\n",
    "plt.xlabel('Time')\n",
    "plt.ylabel('Value')\n",
    "plt.legend(['Series A']);"
   ]
  },
  {
   "cell_type": "markdown",
   "metadata": {},
   "source": [
    "<font color='blue'>If one takes an $I(0)$ series and cumulatively sums it (discrete integration), the new series will be $I(1)$. \n",
    "\n",
    "<font color='blue'>The same relation applies in general, to get $I(n)$ take an $I(0)$ series and iteratively take the cumulative sum $n$ times."
   ]
  },
  {
   "cell_type": "code",
   "execution_count": null,
   "metadata": {},
   "outputs": [],
   "source": [
    "A1 = np.cumsum(A)\n",
    "\n",
    "plt.plot(A1)\n",
    "plt.xlabel('Time')\n",
    "plt.ylabel('Value')\n",
    "plt.legend(['Series A1']);"
   ]
  },
  {
   "cell_type": "code",
   "execution_count": null,
   "metadata": {},
   "outputs": [],
   "source": [
    "A2 = np.cumsum(A1)\n",
    "\n",
    "plt.plot(A2)\n",
    "plt.xlabel('Time')\n",
    "plt.ylabel('Value')\n",
    "plt.legend(['Series A2']);"
   ]
  },
  {
   "cell_type": "markdown",
   "metadata": {},
   "source": [
    "Conversely, <font color='blue'>to find the order of integration of a given series, we perform the inverse of a cumulative sum, which is the $\\Delta$ or itemwise difference function."
   ]
  },
  {
   "cell_type": "markdown",
   "metadata": {},
   "source": [
    "Specifically $(1-L) X_t = X_t - X_{t-1} = \\Delta X$ <br> $(1-L)^d X_t$ <br> In this case <font color='blue'>$L$ is the lag operator.\n"
   ]
  },
  {
   "cell_type": "markdown",
   "metadata": {},
   "source": [
    "Sometimes also written as $B$ for 'backshift'. $L$ fetches the second to last elements in a time series, and $L^k$ fetches the k-th to last elements. <br>\n",
    "So $L X_t = X_{t-1}$ and $(1-L) X_t = X_t - X_{t-1}$"
   ]
  },
  {
   "cell_type": "markdown",
   "metadata": {},
   "source": [
    "<font color='blue'>A series $Y_t$ is $I(1)$ if the $Y_t - Y_t-1$ is $I(0)$. In other words, if you take an $I(0)$ series and cumulatively sum it, you should get an $I(1)$ series."
   ]
  },
  {
   "cell_type": "markdown",
   "metadata": {},
   "source": [
    "Once all the math has settled, remember that <font color='blue'>any stationary series is $I(0)$"
   ]
  },
  {
   "cell_type": "code",
   "execution_count": null,
   "metadata": {},
   "outputs": [],
   "source": [
    "symbol_list = ['MSFT']\n",
    "prices = get_pricing(symbol_list, fields=['price']\n",
    "                               , start_date='2014-01-01', end_date='2015-01-01')['price']\n",
    "prices.columns = map(lambda x: x.symbol, prices.columns)\n",
    "X = prices['MSFT']"
   ]
  },
  {
   "cell_type": "code",
   "execution_count": null,
   "metadata": {},
   "outputs": [],
   "source": [
    "check_for_stationarity(X);"
   ]
  },
  {
   "cell_type": "code",
   "execution_count": null,
   "metadata": {},
   "outputs": [],
   "source": [
    "plt.plot(X.index, X.values)\n",
    "plt.ylabel('Price')\n",
    "plt.legend([X.name]);"
   ]
  },
  {
   "cell_type": "code",
   "execution_count": null,
   "metadata": {},
   "outputs": [],
   "source": [
    "X1 = X.diff()[1:]\n",
    "X1.name = X.name + ' Additive Returns'\n",
    "check_for_stationarity(X1)\n",
    "plt.plot(X1.index, X1.values)\n",
    "plt.ylabel('Additive Returns')\n",
    "plt.legend([X1.name]);"
   ]
  },
  {
   "cell_type": "code",
   "execution_count": null,
   "metadata": {},
   "outputs": [],
   "source": [
    "X1 = X.pct_change()[1:]\n",
    "X1.name = X.name + ' Multiplicative Returns'\n",
    "check_for_stationarity(X1)\n",
    "plt.plot(X1.index, X1.values)\n",
    "plt.ylabel('Multiplicative Returns')\n",
    "plt.legend([X1.name]);"
   ]
  },
  {
   "cell_type": "markdown",
   "metadata": {},
   "source": [
    "As always, <font color='blue'>you should not naively assume that because a time series is stationary in the past it will continue to be stationary in the future. "
   ]
  },
  {
   "cell_type": "markdown",
   "metadata": {},
   "source": [
    "<font color='blue'>Tests for consistency of stationarity such as cross validation and out of sample testing are necessary. "
   ]
  },
  {
   "cell_type": "markdown",
   "metadata": {},
   "source": [
    " Returns may also go in and out of stationarity, and may be stationary or non-stationary depending on the timeframe and sampling frequency."
   ]
  },
  {
   "cell_type": "markdown",
   "metadata": {},
   "source": [
    "<font color='blue'>The reason returns are usually used for modeling in quantitive finance is that they are far more stationary than prices. This makes them easier to model and returns forecasting more feasible."
   ]
  },
  {
   "cell_type": "markdown",
   "metadata": {},
   "source": [
    "<font color='blue'>Forecasting prices is more difficult, as there are many trends induced by their $I(1)$ integration. "
   ]
  },
  {
   "cell_type": "markdown",
   "metadata": {},
   "source": [
    "Even using a returns forecasting model to forecast price can be tricky, <font color='blue'>as any error in the returns forecast will be magnified over time."
   ]
  },
  {
   "cell_type": "markdown",
   "metadata": {},
   "source": [
    "<font color='blue'>A linear combination of the time series ($X_1$, $X_2$, $\\dots$, $X_k$) is a new time series $Y$ constructed as follows for any set of real numbers $b_1 \\dots b_k$\n",
    "$$Y = b_1X_1 + b_2X_2 + \\dots + b_kX_k$$"
   ]
  },
  {
   "cell_type": "markdown",
   "metadata": {},
   "source": [
    "\n",
    "<font color='blue'>For some set of time series ($X_1$, $X_2$, $\\dots$, $X_k$), if all series are $I(1)$, and some linear combination of them is $I(0)$, we say the set of time series is cointegrated."
   ]
  },
  {
   "cell_type": "markdown",
   "metadata": {},
   "source": [
    "<font color='blue'>The intuition here is that for some linear combination of the series, the result lacks much auto-covariance and is mostly noise.<br>This is useful for cases such as pairs trading, in which we find two assets whose prices are cointegrated.</font> Since the linear combination of their prices $b_1A_1 + b_2A_2$ is noise, we can bet on the relationship $b_1A_1 + b_2A_2$ mean reverting and place trades accordingly. "
   ]
  },
  {
   "cell_type": "code",
   "execution_count": null,
   "metadata": {},
   "outputs": [],
   "source": [
    "# Length of series\n",
    "N = 100\n",
    "\n",
    "# Generate a stationary random X1\n",
    "X1 = np.random.normal(0, 1, N)\n",
    "# Integrate it to make it I(1)\n",
    "X1 = np.cumsum(X1)\n",
    "X1 = pd.Series(X1)\n",
    "X1.name = 'X1'\n",
    "\n",
    "# Make an X2 that is X1 plus some noise\n",
    "X2 = X1 + np.random.normal(0, 1, N)\n",
    "X2.name = 'X2'"
   ]
  },
  {
   "cell_type": "code",
   "execution_count": null,
   "metadata": {},
   "outputs": [],
   "source": [
    "plt.plot(X1)\n",
    "plt.plot(X2)\n",
    "plt.xlabel('Time')\n",
    "plt.ylabel('Series Value')\n",
    "plt.legend([X1.name, X2.name]);"
   ]
  },
  {
   "cell_type": "code",
   "execution_count": null,
   "metadata": {},
   "outputs": [],
   "source": [
    "Z = X2.diff()[1:]\n",
    "Z.name = 'Z'\n",
    "\n",
    "check_for_stationarity(Z);"
   ]
  },
  {
   "cell_type": "code",
   "execution_count": null,
   "metadata": {},
   "outputs": [],
   "source": [
    "Z = X2 - X1\n",
    "Z.name = 'Z'\n",
    "\n",
    "plt.plot(Z)\n",
    "plt.xlabel('Time')\n",
    "plt.ylabel('Series Value')\n",
    "plt.legend(['Z']);\n",
    "\n",
    "check_for_stationarity(Z);"
   ]
  },
  {
   "cell_type": "markdown",
   "metadata": {},
   "source": [
    "<font color='blue'>There are a bunch of ways to test for cointegration. This [wikipedia article](https://en.wikipedia.org/wiki/Cointegration) describes some. \n",
    "\n",
    "In general we're just trying to <font color='blue'>solve for the coefficients $b_1, \\dots b_k$ that will produce an $I(0)$ linear combination. If our best guess for these coefficients does not pass a stationarity check, then we reject the hypothesis that the set is cointegrated. \n",
    "\n",
    "This will lead to <font color='blue'>risk of Type II errors (false negatives), as we will not exhaustively test for stationarity on all coefficent combinations. However Type II errors are generally okay here,</font> as they are safe and do not lead to us making any wrong forecasts."
   ]
  },
  {
   "cell_type": "markdown",
   "metadata": {},
   "source": [
    "<font color='blue'>In practice a common way to do this for pairs of time series is to use linear regression to estimate $\\beta$ in the following model.\n",
    "$X_2 = \\alpha + \\beta X_1 + \\epsilon$\n",
    "\n",
    "<font color='blue'>The idea is that if the two are cointegrated we can remove $X_2$'s depedency on $X_1$, leaving behind stationary noise. <br>The combination $X_2 - \\beta X_1 = \\alpha + \\epsilon$ should be stationary."
   ]
  },
  {
   "cell_type": "code",
   "execution_count": null,
   "metadata": {},
   "outputs": [],
   "source": [
    "symbol_list = ['ABGB', 'FSLR']\n",
    "prices = get_pricing(symbol_list, fields=['price']\n",
    "                               , start_date='2014-01-01', end_date='2015-01-01')['price']\n",
    "prices.columns = map(lambda x: x.symbol, prices.columns)\n",
    "X1 = prices[symbol_list[0]]\n",
    "X2 = prices[symbol_list[1]]"
   ]
  },
  {
   "cell_type": "code",
   "execution_count": null,
   "metadata": {},
   "outputs": [],
   "source": [
    "plt.plot(X1.index, X1.values)\n",
    "plt.plot(X1.index, X2.values)\n",
    "plt.xlabel('Time')\n",
    "plt.ylabel('Series Value')\n",
    "plt.legend([X1.name, X2.name]);"
   ]
  },
  {
   "cell_type": "code",
   "execution_count": null,
   "metadata": {},
   "outputs": [],
   "source": [
    "X1 = sm.add_constant(X1)\n",
    "results = sm.OLS(X2, X1).fit()\n",
    "\n",
    "# Get rid of the constant column\n",
    "X1 = X1[symbol_list[0]]\n",
    "\n",
    "results.params"
   ]
  },
  {
   "cell_type": "code",
   "execution_count": null,
   "metadata": {},
   "outputs": [],
   "source": [
    "b = results.params[symbol_list[0]]\n",
    "Z = X2 - b * X1\n",
    "Z.name = 'Z'\n",
    "\n",
    "plt.plot(Z.index, Z.values)\n",
    "plt.xlabel('Time')\n",
    "plt.ylabel('Series Value')\n",
    "plt.legend([Z.name]);\n",
    "\n",
    "check_for_stationarity(Z);"
   ]
  },
  {
   "cell_type": "markdown",
   "metadata": {},
   "source": [
    "Remember as with anything else, you should not assume that because some set of assets have passed a cointegration test historically, they will continue to remain cointegrated. <font color='blue'>You need to verify that consistent behavior occurs, and use various model validation techniques as you would with any model."
   ]
  },
  {
   "cell_type": "markdown",
   "metadata": {},
   "source": [
    "One of the most important things done in finance is to make many independent bets. Here a quant would find many pairs of assets they hypothesize are cointegrated, and evenly distribute their dollars between them in bets. This only requires more than half of the asset pairs to remain cointegrated for the strategy to work. "
   ]
  },
  {
   "cell_type": "markdown",
   "metadata": {},
   "source": [
    "Luckily there are some pre-built tests for cointegration. Here's one. Read up on the [documentation](http://statsmodels.sourceforge.net/devel/_modules/statsmodels/tsa/stattools.html) on your own time."
   ]
  },
  {
   "cell_type": "code",
   "execution_count": null,
   "metadata": {},
   "outputs": [],
   "source": [
    "from statsmodels.tsa.stattools import coint\n",
    "\n",
    "coint(X1, X2)"
   ]
  }
 ],
 "metadata": {
  "kernelspec": {
   "display_name": "Python 3",
   "language": "python",
   "name": "python3"
  },
  "language_info": {
   "codemirror_mode": {
    "name": "ipython",
    "version": 3
   },
   "file_extension": ".py",
   "mimetype": "text/x-python",
   "name": "python",
   "nbconvert_exporter": "python",
   "pygments_lexer": "ipython3",
   "version": "3.6.7"
  }
 },
 "nbformat": 4,
 "nbformat_minor": 2
}
