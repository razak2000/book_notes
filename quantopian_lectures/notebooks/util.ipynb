{
 "cells": [
  {
   "cell_type": "code",
   "execution_count": null,
   "metadata": {},
   "outputs": [],
   "source": [
    "import os"
   ]
  },
  {
   "cell_type": "code",
   "execution_count": null,
   "metadata": {},
   "outputs": [],
   "source": [
    "lectures_str = '''lecture_01_introduction_to_research,lecture_02_introduction_to_python,lecture_03_introduction_to_numpy,lecture_04_introduction_to_pandas,lecture_05_plotting_data,lecture_06_means,lecture_07_variance,lecture_08_statistical_moments,lecture_09_linear_correlation_analysis,lecture_10_instability_of_estimates,lecture_11_random_variables,lecture_12_linear_regression,lecture_13_maximum_likelihood_estimation,lecture_14_regression_model_instability,lecture_15_multiple_linear_regression,lecture_16_violations_of_regression_models,lecture_17_model_misspecification,lecture_18_residual_analysis,lecture_19_the_dangers_of_overfitting,lecture_20_hypothesis_testing,lecture_21_confidence_intervals,lecture_22_p-hacking_and_multiple_comparisons_bias,lecture_23_spearman_rank_correlation,lecture_24_leverage,lecture_25_position_concentration_risk,lecture_26_estimating_covariance_matrices,lecture_27_introduction_to_volume__slippage__and_liquidity,lecture_28_market_impact_models,lecture_29_universe_selection,lecture_30_the_capital_asset_pricing_model_and_arbitrage_pricing_theory,lecture_31_beta_hedging,lecture_32_fundamental_factor_models,lecture_33_portfolio_analysis,lecture_34_factor_risk_exposure,lecture_35_risk-constrained_portfolio_optimization,lecture_36_principal_component_analysis,lecture_37_long-short_equity,lecture_38_example_long-short_equity_algorithm,lecture_39_factor_analysis_with_alphalens,lecture_40_hedge_beta_and_sector_exposures_part_i,lecture_41_hedge_beta_and_sector_exposures_part_ii,lecture_42_var_and_cvar,lecture_43_integration__cointegration__and_stationarity,lecture_44_introduction_to_pairs_trading,lecture_45_example_basic_pairs_trading_algorithm,lecture_46_example_pairs_trading_algorithm,lecture_47_autocorrelation_and_ar_models,lecture_48_arch__garch__and_gmm,lecture_49_kalman_filters,lecture_50_example_kalman_filter_pairs_trade,lecture_51_introduction_to_futures,lecture_52_futures_trading_considerations,lecture_53_mean_reversion_on_futures,lecture_54_example_pairs_trading_on_futures,lecture_55_case_study_traditional_value_factor,lecture_56_case_study_comparing_etfs'''"
   ]
  },
  {
   "cell_type": "code",
   "execution_count": null,
   "metadata": {},
   "outputs": [],
   "source": [
    "lectures_list = lectures_str.split(',')"
   ]
  },
  {
   "cell_type": "code",
   "execution_count": null,
   "metadata": {},
   "outputs": [],
   "source": [
    "print(lectures_list)"
   ]
  },
  {
   "cell_type": "code",
   "execution_count": null,
   "metadata": {},
   "outputs": [],
   "source": []
  }
 ],
 "metadata": {
  "kernelspec": {
   "display_name": "Python 3",
   "language": "python",
   "name": "python3"
  },
  "language_info": {
   "codemirror_mode": {
    "name": "ipython",
    "version": 3
   },
   "file_extension": ".py",
   "mimetype": "text/x-python",
   "name": "python",
   "nbconvert_exporter": "python",
   "pygments_lexer": "ipython3",
   "version": "3.6.7"
  }
 },
 "nbformat": 4,
 "nbformat_minor": 2
}
