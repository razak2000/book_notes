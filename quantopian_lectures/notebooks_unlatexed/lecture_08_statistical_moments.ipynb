{
 "cells": [
  {
   "cell_type": "markdown",
   "metadata": {},
   "source": [
    "A distribution is symmetric if the parts on either side of the mean are mirror images of each other. For example, the normal distribution is symmetric."
   ]
  },
  {
   "cell_type": "markdown",
   "metadata": {},
   "source": [
    "# Plot a normal distribution with mean = 0 and standard deviation = 2\n",
    "xs = np.linspace(-6,6, 300)\n",
    "normal = stats.norm.pdf(xs)\n",
    "plt.plot(xs, normal);"
   ]
  },
  {
   "cell_type": "markdown",
   "metadata": {},
   "source": [
    "A distribution which is not symmetric is called skewed. For instance, a distribution can have many small positive and a few large negative values (negatively skewed) or vice versa (positively skewed), and still have a mean of 0"
   ]
  },
  {
   "cell_type": "markdown",
   "metadata": {},
   "source": [
    "A symmetric distribution has skewness 0."
   ]
  },
  {
   "cell_type": "markdown",
   "metadata": {},
   "source": [
    "Positively skewed unimodal (one mode) distributions have the property that mean > median > mode."
   ]
  },
  {
   "cell_type": "markdown",
   "metadata": {},
   "source": [
    "Negatively skewed unimodal distributions are the reverse, with mean < median < mode."
   ]
  },
  {
   "cell_type": "markdown",
   "metadata": {},
   "source": [
    "All three are equal for a symmetric unimodal distribution."
   ]
  },
  {
   "cell_type": "markdown",
   "metadata": {},
   "source": [
    "The explicit formula for skewness is:\n",
    "$$ S_K = \\frac{n}{(n-1)(n-2)} \\frac{\\sum_{i=1}^n (X_i - \\mu)^3}{\\sigma^3} $$. The sign of this quantity describes the direction of the skew as described above. "
   ]
  },
  {
   "cell_type": "markdown",
   "metadata": {},
   "source": [
    "a negative skew typically indicates that the tail is fatter on the left, while a positive skew indicates that the tail is fatter on the right."
   ]
  },
  {
   "cell_type": "markdown",
   "metadata": {},
   "source": [
    "Although skew is less obvious when graphing discrete data sets, we can still compute it. "
   ]
  },
  {
   "cell_type": "markdown",
   "metadata": {},
   "source": [
    "start = '2012-01-01'\n",
    "end = '2015-01-01'\n",
    "pricing = get_pricing('SPY', fields='price', start_date=start, end_date=end)\n",
    "returns = pricing.pct_change()[1:]\n",
    "print 'Skew:', stats.skew(returns)\n",
    "print 'Mean:', np.mean(returns)\n",
    "print 'Median:', np.median(returns)\n",
    "plt.hist(returns, 30);"
   ]
  },
  {
   "cell_type": "markdown",
   "metadata": {},
   "source": [
    "Note that the skew is negative, and so the mean is less than the median."
   ]
  },
  {
   "cell_type": "markdown",
   "metadata": {},
   "source": [
    "Kurtosis attempts to measure the shape of the deviation from the mean. Generally, it describes how peaked a distribution is compared the the normal distribution, called mesokurtic. "
   ]
  },
  {
   "cell_type": "markdown",
   "metadata": {},
   "source": [
    " All normal distributions, regardless of mean and variance, have a kurtosis of 3."
   ]
  },
  {
   "cell_type": "markdown",
   "metadata": {},
   "source": [
    " A leptokurtic distribution (kurtosis > 3) is highly peaked and has fat tails, while a platykurtic distribution (kurtosis < 3) is broad."
   ]
  },
  {
   "cell_type": "markdown",
   "metadata": {},
   "source": [
    " Sometimes, however, kurtosis in excess of the normal distribution (kurtosis - 3) is used, and this is the default in scipy"
   ]
  },
  {
   "cell_type": "markdown",
   "metadata": {},
   "source": [
    " A leptokurtic distribution has more frequent large jumps away from the mean than a normal distribution does while a platykurtic distribution has fewer."
   ]
  },
  {
   "cell_type": "markdown",
   "metadata": {},
   "source": [
    " # Plot some example distributions\n",
    "plt.plot(xs,stats.laplace.pdf(xs), label='Leptokurtic')\n",
    "print 'Excess kurtosis of leptokurtic distribution:', (stats.laplace.stats(moments='k'))\n",
    "plt.plot(xs, normal, label='Mesokurtic (normal)')\n",
    "print 'Excess kurtosis of mesokurtic distribution:', (stats.norm.stats(moments='k'))\n",
    "plt.plot(xs,stats.cosine.pdf(xs), label='Platykurtic')\n",
    "print 'Excess kurtosis of platykurtic distribution:', (stats.cosine.stats(moments='k'))\n",
    "plt.legend();"
   ]
  },
  {
   "cell_type": "markdown",
   "metadata": {},
   "source": [
    "The formula for kurtosis is\n",
    "$$ K = \\left ( \\frac{n(n+1)}{(n-1)(n-2)(n-3)} \\frac{\\sum_{i=1}^n (X_i - \\mu)^4}{\\sigma^4} \\right ) $$"
   ]
  },
  {
   "cell_type": "markdown",
   "metadata": {},
   "source": [
    "while excess kurtosis is given by\n",
    "$$ K_E = \\left ( \\frac{n(n+1)}{(n-1)(n-2)(n-3)} \\frac{\\sum_{i=1}^n (X_i - \\mu)^4}{\\sigma^4} \\right ) - \\frac{3(n-1)^2}{(n-2)(n-3)} $$"
   ]
  },
  {
   "cell_type": "markdown",
   "metadata": {},
   "source": [
    "For a large number of samples, the excess kurtosis becomes approximately"
   ]
  },
  {
   "cell_type": "markdown",
   "metadata": {},
   "source": [
    "$$ K_E \\approx \\frac{1}{n} \\frac{\\sum_{i=1}^n (X_i - \\mu)^4}{\\sigma^4} - 3 $$"
   ]
  },
  {
   "cell_type": "markdown",
   "metadata": {},
   "source": [
    "We can use scipy to find the excess kurtosis of the S&P 500 returns from before."
   ]
  },
  {
   "cell_type": "markdown",
   "metadata": {},
   "source": [
    "print \"Excess kurtosis of returns: \", stats.kurtosis(returns)"
   ]
  },
  {
   "cell_type": "markdown",
   "metadata": {},
   "source": [
    "It's no coincidence that the variance, skewness, and kurtosis take similar forms. They are the first and most important standardized moments, of which the $k$th has the form\n",
    "$$ \\frac{E[(X - E[X])^k]}{\\sigma^k} $$"
   ]
  },
  {
   "cell_type": "markdown",
   "metadata": {},
   "source": [
    "The first standardized moment is always 0 $(E[X - E[X]] = E[X] - E[E[X]] = 0)$, so we only care about the second through fourth. All of the standardized moments are dimensionless numbers which describe the distribution, and in particular can be used to quantify how close to normal (having standardized moments $0, \\sigma, 0, \\sigma^2$) a distribution is."
   ]
  },
  {
   "cell_type": "markdown",
   "metadata": {},
   "source": [
    "The Jarque-Bera test is a common statistical test that compares whether sample data has skewness and kurtosis similar to a normal distribution."
   ]
  },
  {
   "cell_type": "markdown",
   "metadata": {},
   "source": [
    "We can run it here on the S&P 500 returns to find the p-value for them coming from a normal distribution."
   ]
  },
  {
   "cell_type": "markdown",
   "metadata": {},
   "source": [
    "The Jarque Bera test's null hypothesis is that the data came from a normal distribution. Because of this it can err on the side of not catching a non-normal process if you have a low p-value. To be safe it can be good to increase your cutoff when using the test."
   ]
  },
  {
   "cell_type": "markdown",
   "metadata": {},
   "source": [
    "Remember to treat p-values as binary and not try to read into them or compare them. We'll use a cutoff of 0.05 for our p-value."
   ]
  },
  {
   "cell_type": "markdown",
   "metadata": {},
   "source": [
    "Remember that each test is written a little differently across different programming languages. You might not know whether it's the null or alternative hypothesis that the tested data comes from a normal distribution."
   ]
  },
  {
   "cell_type": "markdown",
   "metadata": {},
   "source": [
    "It is recommended that you use the ? notation plus online searching to find documentation on the test; plus it is often a good idea to calibrate a test by checking it on simulated data and making sure it gives the right answer."
   ]
  },
  {
   "cell_type": "markdown",
   "metadata": {},
   "source": [
    "from statsmodels.stats.stattools import jarque_bera\n",
    "N = 1000\n",
    "M = 1000\n",
    "pvalues = np.ndarray((N))\n",
    "for i in range(N):\n",
    "    # Draw M samples from a normal distribution \n",
    "    X = np.random.normal(0, 1, M);\n",
    "    _, pvalue, _, _ = jarque_bera(X)\n",
    "    pvalues[i] = pvalue  \n",
    "# count number of pvalues below our default 0.05 cutoff\n",
    "num_significant = len(pvalues[pvalues < 0.05])\n",
    "print float(num_significant) / N"
   ]
  },
  {
   "cell_type": "markdown",
   "metadata": {},
   "source": [
    "_, pvalue, _, _ = jarque_bera(returns)\n",
    "if pvalue > 0.05:\n",
    "    print 'The returns are likely normal.'\n",
    "else:\n",
    "    print 'The returns are likely not normal.'\n",
    "    \n",
    "This tells us that the S&P 500 returns likely do not follow a normal distribution."
   ]
  }
 ],
 "metadata": {
  "kernelspec": {
   "display_name": "Python 3",
   "language": "python",
   "name": "python3"
  },
  "language_info": {
   "codemirror_mode": {
    "name": "ipython",
    "version": 3
   },
   "file_extension": ".py",
   "mimetype": "text/x-python",
   "name": "python",
   "nbconvert_exporter": "python",
   "pygments_lexer": "ipython3",
   "version": "3.6.7"
  }
 },
 "nbformat": 4,
 "nbformat_minor": 2
}
