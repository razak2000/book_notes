{
 "cells": [
  {
   "cell_type": "markdown",
   "metadata": {},
   "source": [
    "As CRO it is your job to consider how the new venture fits into the company’s\n",
    "portfolio. What is the correlation of the performance of the new venture with the rest\n",
    "of the company’s business? When the rest of the business is experiencing difficulties,\n",
    "will the new venture also provide poor returns, or will it have the effect of dampening\n",
    "the ups and downs in the rest of the business?"
   ]
  },
  {
   "cell_type": "markdown",
   "metadata": {},
   "source": [
    "The risk manage-\n",
    "ment function’s primary responsibility is to understand the portfolio of risks that the\n",
    "company is currently taking and the risks it plans to take in the future."
   ]
  },
  {
   "cell_type": "markdown",
   "metadata": {},
   "source": [
    "It must decide\n",
    "whether the risks are acceptable and, if they are not acceptable, what action should\n",
    "be taken."
   ]
  },
  {
   "cell_type": "markdown",
   "metadata": {},
   "source": [
    "The greater the risks taken, the higher the return that can be realized.\n",
    "The trade-off is actually between risk and expected return, not between risk and\n",
    "actual return."
   ]
  },
  {
   "cell_type": "markdown",
   "metadata": {},
   "source": [
    "However,\n",
    "statisticians define the expected value of a variable as its average (or mean) value."
   ]
  },
  {
   "cell_type": "markdown",
   "metadata": {},
   "source": [
    "Expected return is therefore a weighted average of the possible returns, where the\n",
    "weight applied to a particular return equals the probability of that return occurring."
   ]
  },
  {
   "cell_type": "markdown",
   "metadata": {},
   "source": [
    "The possible returns and their probabilities can be either estimated from historical\n",
    "data or assessed subjectively."
   ]
  },
  {
   "cell_type": "markdown",
   "metadata": {},
   "source": [
    "One of the first attempts to understand the trade-off between risk and ex-\n",
    "pected return was by Markowitz (1952). Later, Sharpe (1964) and others carried the\n",
    "Markowitz analysis a stage further by developing what is known as the capital asset\n",
    "pricing model. This is a relationship between expected return and what is termed\n",
    "“systematic risk.”"
   ]
  },
  {
   "cell_type": "markdown",
   "metadata": {},
   "source": [
    "In 1976, Ross developed the arbitrage pricing theory which can\n",
    "be viewed as an extension of the capital asset pricing model to the situation where there are several sources of systematic risk."
   ]
  },
  {
   "cell_type": "markdown",
   "metadata": {},
   "source": [
    "<font color='cyan'>How do you quantify the risk you are taking when you choose an investment? A\n",
    "convenient measure that is often used is the standard deviation of the return over\n",
    "one year. This is\n",
    "√\n",
    "E(R 2 ) − [E(R)] 2\n",
    "where R is the return per annum."
   ]
  },
  {
   "cell_type": "markdown",
   "metadata": {},
   "source": [
    "Once we have identified the expected return and the standard deviation of the\n",
    "return for individual investments, it is natural to think about what happens when we\n",
    "combine investments to form a portfolio."
   ]
  },
  {
   "cell_type": "markdown",
   "metadata": {},
   "source": [
    "<font color='cyan'>The portfolio expected return is\n",
    "μ P = w 1 μ 1 + w 2 μ 2\n",
    "(1.1)\n",
    "where μ 1 is the expected return from the first investment and μ 2 is the expected\n",
    "return from the second investment."
   ]
  },
  {
   "cell_type": "markdown",
   "metadata": {},
   "source": [
    "<font color='cyan'>The standard deviation of the portfolio return is\n",
    "given by\n",
    "σ P =\n",
    "√\n",
    "w 21 σ 21 + w 22 σ 22 + 2ρw 1 w 2 σ 1 σ 2"
   ]
  },
  {
   "cell_type": "markdown",
   "metadata": {},
   "source": [
    "Most investors are risk-averse. They want to increase expected return while re-\n",
    "ducing the standard deviation of return."
   ]
  },
  {
   "cell_type": "markdown",
   "metadata": {},
   "source": [
    "As we continue\n",
    "this process, considering every possible portfolio of the available risky investments,\n",
    "we obtain what is known as an efficient frontier."
   ]
  },
  {
   "cell_type": "markdown",
   "metadata": {},
   "source": [
    "To ensure a balance between the supply\n",
    "and demand for each investment, the price of each risky investment must adjust so\n",
    "that the amount of that investment in portfolio M is proportional to the amount of\n",
    "that investment available in the economy. The investment represented by point M is\n",
    "therefore usually referred to as the market portfolio."
   ]
  },
  {
   "cell_type": "markdown",
   "metadata": {},
   "source": [
    "How do investors decide on the expected returns they require for individual invest-\n",
    "ments? A common procedure is to use historical data and regression analysis to deter-\n",
    "mine a best-fit linear relationship between returns from an investment and returns\n",
    "from the market portfolio."
   ]
  },
  {
   "cell_type": "markdown",
   "metadata": {},
   "source": [
    "<font color='cyan'>This relationship has the form:\n",
    "R = a + βR M + ε\n",
    "(1.3)\n",
    "where R is the return from the investment, R M is the return from the market portfolio,\n",
    "a and β are constants, and ε is a random variable equal to the regression error"
   ]
  },
  {
   "cell_type": "markdown",
   "metadata": {},
   "source": [
    "<font color='cyan'>Equation (1.3) shows that there are two uncertain components to the risk in the\n",
    "investment’s return:\n",
    "1. A component βR M , which is a multiple of the return from the market portfolio.\n",
    "2. A component ε, which is unrelated to the return from the market portfolio.\n"
   ]
  },
  {
   "cell_type": "markdown",
   "metadata": {},
   "source": [
    "The first component is referred to as systematic risk. The second component is re-\n",
    "ferred to as nonsystematic risk"
   ]
  },
  {
   "cell_type": "markdown",
   "metadata": {},
   "source": [
    "If wemmassume that the ε variables for dif-\n",
    "ferent investments are independent of each other, the nonsystematic risk is almost\n",
    "completely diversified away in a large portfolio. An investor should not therefore be\n",
    "concerned about nonsystematic risk and should not require an extra return above\n",
    "the risk-free rate for bearing nonsystematic risk."
   ]
  },
  {
   "cell_type": "markdown",
   "metadata": {},
   "source": [
    "The systematic risk component is what should matter to an investor. When a\n",
    "large well-diversified portfolio is held, the systematic risk represented by βR M does\n",
    "not disappear. An investor should require an expected return to compensate for this\n",
    "systematic risk."
   ]
  },
  {
   "cell_type": "markdown",
   "metadata": {},
   "source": [
    "<font color='cyan'>In general\n",
    "E(R) = R F + β[E(R M ) − R F ].  This is the capital asset pricing model."
   ]
  },
  {
   "cell_type": "markdown",
   "metadata": {},
   "source": [
    "The excess expected return over the risk-free\n",
    "rate required on the investment is β times the excess expected return on the market\n",
    "portfolio."
   ]
  },
  {
   "cell_type": "markdown",
   "metadata": {},
   "source": [
    "Beta measures the sensitivity of the return from the\n",
    "investment to the return from the market portfolio."
   ]
  },
  {
   "cell_type": "markdown",
   "metadata": {},
   "source": [
    "We can define the beta of any\n",
    "investment portfolio as in equation (1.3) by regressing its returns against the returns\n",
    "from the market portfolio."
   ]
  },
  {
   "cell_type": "markdown",
   "metadata": {},
   "source": [
    "We assumed that investors care only about the expected return and the stan-\n",
    "dard deviation of return of their portfolio. Another way of saying this is that\n",
    "investors look only at the first two moments of the return distribution. If returns\n",
    "are normally distributed, it is reasonable for investors to do this. However, the re-\n",
    "turns from many assets are non-normal. They have skewness and excess kurtosis."
   ]
  },
  {
   "cell_type": "markdown",
   "metadata": {},
   "source": [
    "In the case of positive skewness, very high returns\n",
    "are more likely and very low returns are less likely than the normal distribution\n",
    "would predict; in the case of negative skewness, very low returns are more likely\n",
    "and very high returns are less likely than the normal distribution would predict."
   ]
  },
  {
   "cell_type": "markdown",
   "metadata": {},
   "source": [
    "Excess kurtosis leads to a distribution where both very high and very low returns\n",
    "are more likely than the normal distribution would predict."
   ]
  },
  {
   "cell_type": "markdown",
   "metadata": {},
   "source": [
    "Most investors are\n",
    "concerned about the possibility of extreme negative outcomes. They are likely\n",
    "to want a higher expected return from investments with negative skewness or\n",
    "excess kurtosis."
   ]
  },
  {
   "cell_type": "markdown",
   "metadata": {},
   "source": [
    "We assumed that the ε variables for different investments in equation (1.3) are in-\n",
    "dependent. Equivalently we assumed the returns from investments are correlated\n",
    "with each other only because of their correlation with the market portfolio. This\n",
    "is clearly not true."
   ]
  },
  {
   "cell_type": "markdown",
   "metadata": {},
   "source": [
    "We assumed that investors focus on returns over just one period and the length\n",
    "of this period is the same for all investors. This is also clearly not true. Some\n",
    "investors such as pension funds have very long time horizons. Others such as\n",
    "day traders have very short time horizons."
   ]
  },
  {
   "cell_type": "markdown",
   "metadata": {},
   "source": [
    "We assumed that investors can borrow and lend at the same risk-free rate. This\n",
    "is approximately true in normal market conditions for a large financial institu-\n",
    "tion that has a good credit rating."
   ]
  },
  {
   "cell_type": "markdown",
   "metadata": {},
   "source": [
    "We did not consider tax. In some jurisdictions, capital gains are taxed differently\n",
    "from dividends and other sources of income. Some investments get special tax\n",
    "treatment and not all investors are subject to the same tax rate."
   ]
  },
  {
   "cell_type": "markdown",
   "metadata": {},
   "source": [
    "Finally, we assumed that all investors make the same estimates of expected re-\n",
    "turns, standard deviations of returns, and correlations between returns for avail-\n",
    "able investments. To put this another way, we assumed that investors have ho-\n",
    "mogeneous expectations. This is clearly not true"
   ]
  },
  {
   "cell_type": "markdown",
   "metadata": {},
   "source": [
    "Estimates of the betas of stocks are readily available and\n",
    "the expected return on a portfolio estimated by the capital asset pricing model is a\n",
    "commonly used benchmark for assessing the performance of the portfolio manager,"
   ]
  },
  {
   "cell_type": "markdown",
   "metadata": {},
   "source": [
    "<font color='cyan'>The capital asset pricing model relates the expected\n",
    "return on a portfolio to the expected return on the market. But it can also be used to\n",
    "relate the expected return on a portfolio to the actual return on the market:\n",
    "E(R P ) = R F + β(R M − R F )\n",
    "where R F is the risk-free rate and R P is the return on the portfolio"
   ]
  },
  {
   "cell_type": "markdown",
   "metadata": {},
   "source": [
    "Suppose that the actual return on the portfolio is greater than the expected\n",
    "return. The portfolio manager has produced a superior return for the amount of systematic\n",
    "risk being taken."
   ]
  },
  {
   "cell_type": "markdown",
   "metadata": {},
   "source": [
    "<font color='cyan'>The extra return is\n",
    "α = R P − R F − β(R M − R F )\n",
    "This is commonly referred to as the alpha created by the portfolio manager. 2"
   ]
  },
  {
   "cell_type": "markdown",
   "metadata": {},
   "source": [
    "Portfolio managers are continually searching for ways of producing a positive\n",
    "alpha. One way is by trying to pick stocks that outperform the market. Another is\n",
    "by market timing."
   ]
  },
  {
   "cell_type": "markdown",
   "metadata": {},
   "source": [
    "Although the capital asset pricing model is unrealistic in some respects, the alpha\n",
    "and beta parameters that come out of the model are widely used to characterize\n",
    "investments."
   ]
  },
  {
   "cell_type": "markdown",
   "metadata": {},
   "source": [
    "Beta describes the amount of systematic risk. The higher the value of\n",
    "beta, the greater the systematic risk being taken and the greater the extent to which\n",
    "returns are dependent on the performance of the market"
   ]
  },
  {
   "cell_type": "markdown",
   "metadata": {},
   "source": [
    "Alpha represents the extra\n",
    "return made from superior portfolio management (or perhaps just good luck)"
   ]
  },
  {
   "cell_type": "markdown",
   "metadata": {},
   "source": [
    "An\n",
    "investor can make a positive alpha only at the expense of other investors who are\n",
    "making a negative alpha. The weighted average alpha of all investors must be zero."
   ]
  },
  {
   "cell_type": "markdown",
   "metadata": {},
   "source": [
    "#### ARBITRAGE PRICING THEORY\n",
    "\n",
    "In arbitrage pricing theory, the return depends on several factors. (These factors\n",
    "might involve variables such as the gross national product, the domestic interest rate,\n",
    "and the inflation rate.)"
   ]
  },
  {
   "cell_type": "markdown",
   "metadata": {},
   "source": [
    "By exploring ways in which investors can form portfolios that\n",
    "eliminate exposure to the factors, arbitrage pricing theory shows that the expected\n",
    "return from an investment is linearly dependent on the factors."
   ]
  },
  {
   "cell_type": "markdown",
   "metadata": {},
   "source": [
    "In aIn arbitrage pricing theory there are several\n",
    "factors affecting investment returns. Each factor is a separate source of systematic\n",
    "risk. Unsystematic (i.e., diversifiable) risk in arbitrage pricing theory is the risk that\n",
    "is unrelated to all the factors.rbitrage pricing theory there are several\n",
    "factors affecting investment returns. Each factor is a separate source of systematic\n",
    "risk. Unsystematic (i.e., diversifiable) risk in arbitrage pricing theory is the risk that\n",
    "is unrelated to all the factors."
   ]
  },
  {
   "cell_type": "markdown",
   "metadata": {},
   "source": []
  },
  {
   "cell_type": "markdown",
   "metadata": {},
   "source": []
  },
  {
   "cell_type": "markdown",
   "metadata": {},
   "source": []
  },
  {
   "cell_type": "markdown",
   "metadata": {},
   "source": []
  },
  {
   "cell_type": "markdown",
   "metadata": {},
   "source": []
  },
  {
   "cell_type": "markdown",
   "metadata": {},
   "source": []
  },
  {
   "cell_type": "markdown",
   "metadata": {},
   "source": []
  },
  {
   "cell_type": "markdown",
   "metadata": {},
   "source": []
  },
  {
   "cell_type": "markdown",
   "metadata": {},
   "source": []
  },
  {
   "cell_type": "markdown",
   "metadata": {},
   "source": []
  },
  {
   "cell_type": "markdown",
   "metadata": {},
   "source": []
  },
  {
   "cell_type": "markdown",
   "metadata": {},
   "source": []
  },
  {
   "cell_type": "markdown",
   "metadata": {},
   "source": []
  },
  {
   "cell_type": "markdown",
   "metadata": {},
   "source": []
  },
  {
   "cell_type": "markdown",
   "metadata": {},
   "source": []
  },
  {
   "cell_type": "markdown",
   "metadata": {},
   "source": []
  },
  {
   "cell_type": "markdown",
   "metadata": {},
   "source": []
  }
 ],
 "metadata": {
  "kernelspec": {
   "display_name": "Python 3",
   "language": "python",
   "name": "python3"
  },
  "language_info": {
   "codemirror_mode": {
    "name": "ipython",
    "version": 3
   },
   "file_extension": ".py",
   "mimetype": "text/x-python",
   "name": "python",
   "nbconvert_exporter": "python",
   "pygments_lexer": "ipython3",
   "version": "3.6.7"
  }
 },
 "nbformat": 4,
 "nbformat_minor": 2
}
