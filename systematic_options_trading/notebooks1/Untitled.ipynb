{
 "cells": [
  {
   "cell_type": "markdown",
   "metadata": {},
   "source": [
    "<h4><a id=\"ch02lev2sec1\"></a>2.1.1 Description of Lognormal Distribution</h4>\n",
    "<p>The effectiveness of option combinations evaluation is mainly determined by the <span class=\"annotator-hl annotator-hl-temporary\">accuracy of the underlying asset prices forecast.</span> One of the possible ways to produce a forecast is <span class=\"annotator-hl annotator-hl-temporary\">building the probability distribution of the price</span>. When applying this method we do not try to predict the future price exactly but <span class=\"annotator-hl annotator-hl-temporary\">estimate the probabilities of many possible outcomes.</span> For the <span class=\"annotator-hl annotator-hl-temporary\">discrete price scale</span>, the distribution is established by <span class=\"annotator-hl annotator-hl-temporary\" style=\"\">assigning probabilities to all outcomes</span>. In the <span class=\"annotator-hl annotator-hl-temporary\" style=\"\">continuous case probability, density functions are used</span>. We begin to create criteria for evaluation of option combinations with applying one of such functions: l<span class=\"annotator-hl annotator-hl-temporary\" style=\"\">ogarithmic normal distribution.</span></p>"
   ]
  },
  {
   "cell_type": "markdown",
   "metadata": {},
   "source": []
  }
 ],
 "metadata": {
  "kernelspec": {
   "display_name": "Python 3",
   "language": "python",
   "name": "python3"
  },
  "language_info": {
   "codemirror_mode": {
    "name": "ipython",
    "version": 3
   },
   "file_extension": ".py",
   "mimetype": "text/x-python",
   "name": "python",
   "nbconvert_exporter": "python",
   "pygments_lexer": "ipython3",
   "version": "3.6.7"
  }
 },
 "nbformat": 4,
 "nbformat_minor": 2
}
