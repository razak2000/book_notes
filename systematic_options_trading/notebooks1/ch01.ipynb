{
 "cells": [
  {
   "cell_type": "markdown",
   "metadata": {},
   "source": [
    "At any given moment the market contains a considerable number of trading alternatives existing in the form of option combinations that correspond to various strategies and different underlying assets."
   ]
  },
  {
   "cell_type": "markdown",
   "metadata": {},
   "source": [
    "Within the concept of the systematic approach, we present this set (called <font color='blue'>“the initial set”) as a matrix with lines corresponding to underlying assets and columns—to option strategies. "
   ]
  },
  {
   "cell_type": "markdown",
   "metadata": {},
   "source": [
    "One matrix cell may contain several combinations corresponding to the same strategy and underlying asset. In this case the two-dimensional matrix turns into a three-dimensional one"
   ]
  },
  {
   "cell_type": "markdown",
   "metadata": {},
   "source": [
    "Taking into account that most optionable stocks have dozens of simultaneously traded option contracts (with different strikes and expiration dates), we conclude that <font color='blue'>an average initial set matrix can contain millions of combinations! "
   ]
  },
  {
   "cell_type": "markdown",
   "metadata": {},
   "source": [
    "Although such diversity complicates the selection, it provides a chance to discover trading opportunities arising permanently in the option market.  The method for revealing these situations is not trivial and requires combining many elements of the systematic approach."
   ]
  },
  {
   "cell_type": "markdown",
   "metadata": {},
   "source": [
    "Obviously, even a most experienced expert is unable to compare all variants without using formalized evaluation algorithms. Because the market situation is permanently changing, the decisions must be taken promptly in real-time mode."
   ]
  },
  {
   "cell_type": "markdown",
   "metadata": {},
   "source": [
    "Selection of superior combinations is a complicated task that can be solved only by applying a system of strictly defined and thoroughly <font color='blue'>formalized criteria. "
   ]
  },
  {
   "cell_type": "markdown",
   "metadata": {},
   "source": [
    "<font color='blue'>The main task of the systematic approach consists in the selection of a subset meeting a certain criterion (or a number of criteria) out of the initial set of option combinations."
   ]
  },
  {
   "cell_type": "markdown",
   "metadata": {},
   "source": [
    "As a result, the selected elements become preferable to the rejected variants."
   ]
  },
  {
   "cell_type": "markdown",
   "metadata": {},
   "source": [
    "To solve the selection problem, we need to define the set from which the preferred elements will be chosen and the criteria to which these elements have to correspond. "
   ]
  },
  {
   "cell_type": "markdown",
   "metadata": {},
   "source": [
    "We postulate as a working definition that<font color='blue'> a criterion is any numerical indicator suitable for evaluation and comparison of individual options and their combinations."
   ]
  },
  {
   "cell_type": "markdown",
   "metadata": {},
   "source": [
    "The procedure of criteria application implies the calculation of specially designed functionals for all the elements of the initial set."
   ]
  },
  {
   "cell_type": "markdown",
   "metadata": {},
   "source": [
    "<font color='blue'>An individual functional, which represents a unique combination of computational algorithms and mathematical functions, is called a criterion."
   ]
  },
  {
   "cell_type": "markdown",
   "metadata": {},
   "source": [
    "<font color='blue'>The argument of the criterion is an option combination, whereas its value is a real number."
   ]
  },
  {
   "cell_type": "markdown",
   "metadata": {},
   "source": [
    "To keep things simple we postulate the following general principle of criteria creation: <font color='blue'>The higher the criterion value, the better the profit potential of any given option combination."
   ]
  },
  {
   "cell_type": "markdown",
   "metadata": {},
   "source": [
    "<font color='blue'> There is a set of option combinations evaluated using a number of criteria. Based on these criteria values we have to select a subset of combinations with the best characteristics of future profit and risk."
   ]
  },
  {
   "cell_type": "markdown",
   "metadata": {},
   "source": [
    "The option price is largely determined by the uncertainty of future events. The more uncertain the future, the more expensive the options become."
   ]
  },
  {
   "cell_type": "markdown",
   "metadata": {},
   "source": [
    "<font color='blue'>Strictly speaking, the option price is determined by the distribution of probabilities assigned (by the person performing the option valuation) to all possible price outcomes of its underlying asset. There is always a strong relationship between the uncertainty level and the option value. "
   ]
  },
  {
   "cell_type": "markdown",
   "metadata": {},
   "source": [
    "This scheme represents the principle of option pricing by one particular investor; however, the whole market consists of a large number of participants. All of them evaluate options on the basis of different probability distributions. Furthermore, even investors with a similar estimate of probabilities of future events can still have different notions about what risk premium corresponds to their uncertainty levels."
   ]
  },
  {
   "cell_type": "markdown",
   "metadata": {},
   "source": [
    "<font color='blue'>The average uncertainty level of all market participants can be derived from the market prices of options. We call it common uncertainty. "
   ]
  },
  {
   "cell_type": "markdown",
   "metadata": {},
   "source": [
    "<font color='blue'>Common uncertainty is frequently expressed by implied volatility that is derived from the Black-Scholes formula (or other option pricing models) by substituting market prices of options there. "
   ]
  },
  {
   "cell_type": "markdown",
   "metadata": {},
   "source": [
    "Apart from this method of estimating common uncertainty, <font color='blue'>it is possible to develop other indicators that express it differently and are not burdened with option pricing models drawbacks."
   ]
  },
  {
   "cell_type": "markdown",
   "metadata": {},
   "source": [
    "<font color='blue'>We call the uncertainty level of one particular market participant (the investor) individual uncertainty. Although frequently derived from historical volatility, it can be expressed in a number of different ways."
   ]
  },
  {
   "cell_type": "markdown",
   "metadata": {},
   "source": [
    "<font color='blue'>The drawback of the historical volatility method lies in the fact that the investor fully relies on past market events that do not necessarily correspond to future developments."
   ]
  },
  {
   "cell_type": "markdown",
   "metadata": {},
   "source": [
    "<font color='blue'>The interrelationship between the two types of uncertainty, the common and the individual one, represents the main philosophical principle on which all criteria are based. "
   ]
  },
  {
   "cell_type": "markdown",
   "metadata": {},
   "source": [
    "<font color='blue'>This interrelationship can be expressed directly or indirectly, but it is always contained in the algorithm of criteria calculation."
   ]
  },
  {
   "cell_type": "markdown",
   "metadata": {},
   "source": [
    "An option for a certain underlying asset can be overvalued or undervalued at different time intervals. The direction of these deviations tends to change in time:"
   ]
  },
  {
   "cell_type": "markdown",
   "metadata": {},
   "source": [
    "<font color='blue'>Simply put, the trading success depends on our ability to identify such trends and to implement strategies in which overvalued options are sold and undervalued ones are bought."
   ]
  },
  {
   "cell_type": "markdown",
   "metadata": {},
   "source": [
    "<font color='blue'>The main mission of the criteria is to identify the potential trading opportunities by revealing unfairly valued options and their combinations."
   ]
  },
  {
   "cell_type": "markdown",
   "metadata": {},
   "source": [
    "Although investment in options is governed by the same basic rules, their valuation possesses some distinctive features peculiar only to these financial instruments."
   ]
  },
  {
   "cell_type": "markdown",
   "metadata": {},
   "source": [
    "The first peculiarity is the multitude of options for one underlying asset. <font color='blue'>At any given point in time, some of them can be overvalued and others can be undervalued. This enables us to create option combinations composed of elements possessing a whole range of fair value estimates. "
   ]
  },
  {
   "cell_type": "markdown",
   "metadata": {},
   "source": [
    "<font color='blue'>The fair value of an option combination is a complex characteristic compounded of fair values of its components.This property is not typical for stocks, commodities, or any other nonderivative product because all of them can have only one simple, not composed, fair value."
   ]
  },
  {
   "cell_type": "markdown",
   "metadata": {},
   "source": [
    "The second peculiarity was already mentioned in the section describing trading opportunities. It arises from the fact that the life of an option is limited.  \n",
    "\n",
    "<font color='blue'>options have a fixed expiration date. After this date the investor can state precisely whether his estimate was accurate."
   ]
  },
  {
   "cell_type": "markdown",
   "metadata": {},
   "source": [
    "<font color='blue'>The market evaluates options, which is reflected in their demand and supply prices. How can one judge on the fairness of these estimates? The basis for the judgment is criteria that compare the extent of the uncertainty regarding the future price of the underlying asset (common uncertainty reflected in options market prices) with the estimated (individual) uncertainty."
   ]
  },
  {
   "cell_type": "markdown",
   "metadata": {},
   "source": [
    "<font color='blue'>The mission fulfilled by criteria is to solve the problem of estimating the fairness of option market prices by comparing these two types of uncertainty."
   ]
  },
  {
   "cell_type": "markdown",
   "metadata": {},
   "source": [
    "<font color='blue'>The computational algorithm of any criterion must express the values of both types of uncertainty numerically, reduce them to a unified scale, and compare them with each other. "
   ]
  },
  {
   "cell_type": "markdown",
   "metadata": {},
   "source": [
    "<font color='blue'> If the common uncertainty rate is substantially higher (lower) than the individual one, options are overvalued (undervalued). If the two uncertainties are estimated at a level close to each other, the options are considered to be fairly valued."
   ]
  },
  {
   "cell_type": "markdown",
   "metadata": {},
   "source": [
    "<font color='blue'>The quality of a certain criterion is determined by its capability to reflect the divergence of these two uncertainties."
   ]
  },
  {
   "cell_type": "markdown",
   "metadata": {},
   "source": [
    "Regardless of their basic ideas and computational architectures, <font color='blue'>all criteria contain the common element expressing the degree of our individual uncertainty concerning the future. "
   ]
  },
  {
   "cell_type": "markdown",
   "metadata": {},
   "source": [
    "<font color='blue'>The uncertainty is formulated by making a forecast of future events (which may be expressed either directly or indirectly)."
   ]
  },
  {
   "cell_type": "markdown",
   "metadata": {},
   "source": [
    " <font color='blue'>The forecast is defined in the broad sense—as predictive information about the future that is obtained in any manner and by any means including historical data analysis, empirically established patterns, trends, and relationships and theoretical models. (Remember that the forecast can be erroneous or contain little useful information.)"
   ]
  },
  {
   "cell_type": "markdown",
   "metadata": {},
   "source": [
    "We distinguish between two fundamentally different approaches to the construction of forecasts."
   ]
  },
  {
   "cell_type": "markdown",
   "metadata": {},
   "source": [
    "The first approach, which is extensively used in many fields, is based on the analysis of past events frequency. <font color='blue'>The basic assumption here is that probability of future events can be derived from the frequencies of their past occurrences. "
   ]
  },
  {
   "cell_type": "markdown",
   "metadata": {},
   "source": [
    "<font color='blue'>Within the framework of this approach, attempts to forecast the asset price are usually based on historical price data. "
   ]
  },
  {
   "cell_type": "markdown",
   "metadata": {},
   "source": [
    "Researchers focused quite a lot of effort on finding an adequate description of market price fluctuations in terms of probability.  \n",
    "\n",
    "A great number of mathematical methods help to produce probabilistic scenarios of future events on the basis of past data."
   ]
  },
  {
   "cell_type": "markdown",
   "metadata": {},
   "source": [
    "Moreover, integrating different quantitative characteristics of options (for example, the payoff function) with respect to the probability density function, we obtain a whole class of option evaluation criteria—expected profit values, profit and loss ratios, profit probability, and many others."
   ]
  },
  {
   "cell_type": "markdown",
   "metadata": {},
   "source": [
    "<font color='blue'>The second approach to creating forecasts is based on the development of possible future scenarios by experts specializing in corresponding fields."
   ]
  },
  {
   "cell_type": "markdown",
   "metadata": {},
   "source": [
    "<font color='blue'>Expert forecasts rely on diverse factors including objective and subjective ones. "
   ]
  },
  {
   "cell_type": "markdown",
   "metadata": {},
   "source": [
    "Despite the nonscientific nature of such an approach, it is not necessarily poor. Some of the intuitively discovered brilliant ideas have only found their theoretical and empirical grounds much later in time."
   ]
  },
  {
   "cell_type": "markdown",
   "metadata": {},
   "source": [
    "<font color='blue'>Nevertheless, such a method of estimating the probabilities of future events remains limited to outstanding individuals and cannot be included in the paradigm of our systematic approach based exclusively on formalized rules."
   ]
  },
  {
   "cell_type": "markdown",
   "metadata": {},
   "source": [
    "<font color='blue'>Nevertheless, we can create criteria on the basis of expert forecasts. This can be done by expressing expert opinions numerically and combining them with standard probability distribution functions. We call such criteria criteria on the basis of expert distribution. "
   ]
  },
  {
   "cell_type": "markdown",
   "metadata": {},
   "source": [
    "This definition implies that these criteria are based not on past data (such as time series analysis) but on the fundamental analysis of a company, industry, or macroeconomic situation. "
   ]
  },
  {
   "cell_type": "markdown",
   "metadata": {},
   "source": [
    "<font color='blue'> Skilled experts can estimate probabilities of different outcomes of forthcoming corporate events (quarterly earnings, sales reports, new products launch, and so on). These estimates are then used to build the price probability distribution for the expected event date.\n",
    "\n"
   ]
  },
  {
   "cell_type": "markdown",
   "metadata": {},
   "source": [
    "<font color='blue'>The forecast can also be produced by creating a probabilistic scenario of future events on the basis of combining both previously mentioned approaches."
   ]
  },
  {
   "cell_type": "markdown",
   "metadata": {},
   "source": [
    "<font color='blue'>When using the term universal criteria, we refer to functionals allowing the comparison of option combinations related to different strategies and various underlying assets.\n",
    "\n",
    "<font color='blue'>An important advantage of such criteria is their capability to compare and rank heterogonous option combinations."
   ]
  },
  {
   "cell_type": "markdown",
   "metadata": {},
   "source": [
    "<font color='blue'>Every option combination has its own specific and unique payoff function. It means that regardless of its belonging to a certain underlying asset and strategy, any combination possesses a universal characteristic expressing its quality in terms of estimated future profits and losses. "
   ]
  },
  {
   "cell_type": "markdown",
   "metadata": {},
   "source": [
    "The payoff function can be formalized as $PF(B,S,x,t,par)$, where $B$ is a certain underlying asset, $S$ is a certain option strategy, $x$ is an underlying asset price, $t$ is a point in time for which the payoff function is calculated, and $par$—values of other parameters."
   ]
  },
  {
   "cell_type": "markdown",
   "metadata": {},
   "source": [
    "Suppose that we evaluate combinations consisting of options with the same expiration date. Formally, for every underlying asset and any future moment in time, we can build a probability density function with the underlying asset price as its argument and the probability of this price as its value."
   ]
  },
  {
   "cell_type": "markdown",
   "metadata": {},
   "source": [
    "Assume that we obtained probability density functions corresponding to our underlying assets at the moment of expiration. We denote them by $f(B,x)$, where $B$ is an underlying asset, and $x$ is its price at the moment of expiration. "
   ]
  },
  {
   "cell_type": "markdown",
   "metadata": {},
   "source": [
    "Knowing $f(B,x)$ means that the following integral can be easily calculated:\n",
    "$$ I(B, S) = \\int_0^\\infty PF(B,S,x,t,par) f(B,x) dx $$\n",
    "Here T is the expiration moment. \n"
   ]
  },
  {
   "cell_type": "markdown",
   "metadata": {},
   "source": [
    "In probability theory integrals $I(B,S)$ represent the mathematical expectation of the combination profit."
   ]
  },
  {
   "cell_type": "markdown",
   "metadata": {},
   "source": [
    "For universal criteria it is natural to conclude that if the expected profit of “Call butterfly for QQQQ” is greater than that of the “bear Put-spread for IBM,” then the first combination is preferable to the second one."
   ]
  },
  {
   "cell_type": "markdown",
   "metadata": {},
   "source": [
    "If we calculate $I(B,S)$ for each combination of the initial set matrix, we obtain a universal instrument allowing simultaneous comparison of all matrix elements regardless of the option strategy, underlying asset, or combinations creation algorithm."
   ]
  },
  {
   "cell_type": "markdown",
   "metadata": {},
   "source": [
    "Many of the universal criteria are intended to forecast different characteristics of option combinations."
   ]
  },
  {
   "cell_type": "markdown",
   "metadata": {},
   "source": [
    "Because future potential profit is our main interest, most universal criteria represent forecasts of combination profitability (expressed in various forms). "
   ]
  },
  {
   "cell_type": "markdown",
   "metadata": {},
   "source": [
    "Different estimates of relative profit value (ratio of the absolute profit to the initial investment) and yield (profit normalized by the time of the investment) form the whole class of forecasting universal criteria."
   ]
  },
  {
   "cell_type": "markdown",
   "metadata": {},
   "source": [
    "The forecast of the future underlying asset price is the most important point in creating universal forecasting criteria. The accuracy and the form of this forecast can be very different."
   ]
  },
  {
   "cell_type": "markdown",
   "metadata": {},
   "source": [
    "Some sources suggest considering price values outcomes and assigning probabilities to them (Macmillan, 2002)."
   ]
  },
  {
   "cell_type": "markdown",
   "metadata": {},
   "source": [
    "Application of different instruments of probability theory and statistics gives rise to a wide class of universal forecasting criteria. Competent development and application of these criteria is a useful tool for the selection of superior option combinations.\n",
    "\n"
   ]
  },
  {
   "cell_type": "markdown",
   "metadata": {},
   "source": [
    "To create universal criteria we can also use various quantitative characteristics that are not directly related to the forecasting of profitability or yield.  For example, the investor may be interested in estimates of various indicators that characterize the vulnerability of his position to different risks factors. "
   ]
  },
  {
   "cell_type": "markdown",
   "metadata": {},
   "source": [
    "A number of criteria can be constructed on the basis of different characteristics expressing variability of the underlying asset price. For example, the historical and implied volatilities may be combined in various ways to produce different indicators not related to profits of estimated combinations. "
   ]
  },
  {
   "cell_type": "markdown",
   "metadata": {},
   "source": [
    "Another method of creating nonforecasting universal criteria is to combine average values of forecasting criteria with variability indicators. For example, the ratio of mathematical expectation to the standard error (commonly referred to as the Sharp ratio) is universal yet not forecasting criterion."
   ]
  },
  {
   "cell_type": "markdown",
   "metadata": {},
   "source": [
    "Within the framework of the systematic approach, the most general way to present the criterion is by formalizing it as a function of two arguments: underlying asset $B$ and strategy $S$."
   ]
  },
  {
   "cell_type": "markdown",
   "metadata": {},
   "source": [
    "Criteria expressed as such functionals were called universal because they enable comparison of any option combinations regardless of strategies and underlying assets.\n",
    "\n"
   ]
  },
  {
   "cell_type": "markdown",
   "metadata": {},
   "source": [
    "However, there are situations when the structure and nature of the criterion are closely connected with the specificity of a certain option strategy. This can be illustrated by the example of the short straddle strategy. "
   ]
  },
  {
   "cell_type": "markdown",
   "metadata": {},
   "source": [
    "At the same time, such nonuniversal criterion is unsuitable to compare combinations created within different strategies (for example, short and long straddles)."
   ]
  },
  {
   "cell_type": "markdown",
   "metadata": {},
   "source": [
    "Moreover, some specific criteria are absolutely unsuitable for certain option strategies. For example, bear and bull Put- and Call-spreads cannot be evaluated by the criterion based on a break-even range because the payoff functions of these strategies have the only break-even point."
   ]
  },
  {
   "cell_type": "markdown",
   "metadata": {},
   "source": []
  },
  {
   "cell_type": "markdown",
   "metadata": {},
   "source": []
  },
  {
   "cell_type": "markdown",
   "metadata": {},
   "source": []
  },
  {
   "cell_type": "markdown",
   "metadata": {},
   "source": []
  },
  {
   "cell_type": "markdown",
   "metadata": {},
   "source": []
  },
  {
   "cell_type": "markdown",
   "metadata": {},
   "source": []
  },
  {
   "cell_type": "markdown",
   "metadata": {},
   "source": []
  },
  {
   "cell_type": "markdown",
   "metadata": {},
   "source": []
  },
  {
   "cell_type": "markdown",
   "metadata": {},
   "source": []
  },
  {
   "cell_type": "markdown",
   "metadata": {},
   "source": []
  },
  {
   "cell_type": "markdown",
   "metadata": {},
   "source": []
  },
  {
   "cell_type": "markdown",
   "metadata": {},
   "source": []
  },
  {
   "cell_type": "markdown",
   "metadata": {},
   "source": []
  },
  {
   "cell_type": "markdown",
   "metadata": {},
   "source": []
  },
  {
   "cell_type": "markdown",
   "metadata": {},
   "source": []
  },
  {
   "cell_type": "markdown",
   "metadata": {},
   "source": []
  },
  {
   "cell_type": "markdown",
   "metadata": {},
   "source": []
  },
  {
   "cell_type": "markdown",
   "metadata": {},
   "source": []
  },
  {
   "cell_type": "markdown",
   "metadata": {},
   "source": []
  },
  {
   "cell_type": "markdown",
   "metadata": {},
   "source": []
  },
  {
   "cell_type": "markdown",
   "metadata": {},
   "source": []
  },
  {
   "cell_type": "markdown",
   "metadata": {},
   "source": []
  }
 ],
 "metadata": {
  "kernelspec": {
   "display_name": "Python 3",
   "language": "python",
   "name": "python3"
  },
  "language_info": {
   "codemirror_mode": {
    "name": "ipython",
    "version": 3
   },
   "file_extension": ".py",
   "mimetype": "text/x-python",
   "name": "python",
   "nbconvert_exporter": "python",
   "pygments_lexer": "ipython3",
   "version": "3.6.7"
  },
  "latex_envs": {
   "LaTeX_envs_menu_present": true,
   "autoclose": false,
   "autocomplete": true,
   "bibliofile": "biblio.bib",
   "cite_by": "apalike",
   "current_citInitial": 1,
   "eqLabelWithNumbers": true,
   "eqNumInitial": 1,
   "hotkeys": {
    "equation": "Ctrl-E",
    "itemize": "Ctrl-I"
   },
   "labels_anchors": false,
   "latex_user_defs": false,
   "report_style_numbering": false,
   "user_envs_cfg": false
  },
  "varInspector": {
   "cols": {
    "lenName": 16,
    "lenType": 16,
    "lenVar": 40
   },
   "kernels_config": {
    "python": {
     "delete_cmd_postfix": "",
     "delete_cmd_prefix": "del ",
     "library": "var_list.py",
     "varRefreshCmd": "print(var_dic_list())"
    },
    "r": {
     "delete_cmd_postfix": ") ",
     "delete_cmd_prefix": "rm(",
     "library": "var_list.r",
     "varRefreshCmd": "cat(var_dic_list()) "
    }
   },
   "types_to_exclude": [
    "module",
    "function",
    "builtin_function_or_method",
    "instance",
    "_Feature"
   ],
   "window_display": false
  }
 },
 "nbformat": 4,
 "nbformat_minor": 2
}
