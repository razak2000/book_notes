{
 "cells": [
  {
   "cell_type": "markdown",
   "metadata": {},
   "source": [
    "The effectiveness of option combinations evaluation is mainly determined by the accuracy of the underlying asset prices forecast. One of the possible ways to produce a forecast is building the probability distribution of the price."
   ]
  },
  {
   "cell_type": "markdown",
   "metadata": {},
   "source": [
    "We begin to create criteria for evaluation of option combinations with applying one of such functions: logarithmic normal distribution."
   ]
  },
  {
   "cell_type": "markdown",
   "metadata": {},
   "source": [
    "Consider a problem of making a forecast for a certain stock price in $n$ days in the future. It is obvious that we cannot give a perfectly accurate estimate because the price depends on a huge number of interrelated factors unknown in advance."
   ]
  },
  {
   "cell_type": "markdown",
   "metadata": {},
   "source": [
    "If the price is considered as a continuous real number, the probabilistic forecast of the future underlying asset price can be expressed as a probability density function $f(B,x)$, where argument $B$ denotes a certain underlying asset, and $x$ is any possible price value."
   ]
  },
  {
   "cell_type": "markdown",
   "metadata": {},
   "source": [
    "Financial mathematics operates with series of underlying asset prices in consecutive time points $t$"
   ]
  },
  {
   "cell_type": "markdown",
   "metadata": {},
   "source": [
    "When price values are close, such relative changes (also called yields) are approximately equal to increments of natural logarithms of two adjacent prices\n",
    "$$\\frac{C(t_{i+1} - C(t_i)}{C(t_i)} = \\ln{C(t_{i+1)}} - \\ln{C(t_i)}$$"
   ]
  },
  {
   "cell_type": "markdown",
   "metadata": {},
   "source": [
    "In case of a continuous price series, the approximate equality turns into the exact one:\n",
    "$$dC(t)/C(t) = d \\ln{C(t)}$$"
   ]
  },
  {
   "cell_type": "markdown",
   "metadata": {},
   "source": [
    "Price changes are affected by numerous factors. Their joint effect is unpredictable, which brings us to the key assumption: At any point of time $t$ increments of price logarithms are random and independent of each other."
   ]
  },
  {
   "cell_type": "markdown",
   "metadata": {},
   "source": [
    "The assumption of randomness implies that price changes cannot be described by any deterministic model but rather resemble white noise or Brownian motion."
   ]
  },
  {
   "cell_type": "markdown",
   "metadata": {},
   "source": [
    "The assumption of independence implies that the given yield is not affected by the preceding yields and does not exert any influence on the consecutive yields."
   ]
  },
  {
   "cell_type": "markdown",
   "metadata": {},
   "source": [
    "The central limit theorem of the probability theory states that the average of a large number of independent samples has the distribution that is close to normal (also called Gaussian)"
   ]
  },
  {
   "cell_type": "markdown",
   "metadata": {},
   "source": [
    "Hence another key assumption is made: Increments of price logarithms are normally distributed."
   ]
  },
  {
   "cell_type": "markdown",
   "metadata": {},
   "source": [
    "This implies that the price logarithm itself is also a normally distributed random variable. Accordingly, the price distribution is called a logarithmically normal distribution or simply lognormal distribution."
   ]
  },
  {
   "cell_type": "markdown",
   "metadata": {},
   "source": [
    "Lognormal distribution is a standard price distribution model widely accepted by most economists. At the same time, its appropriateness for description of financial time series was frequently questioned, and this issue is widely debated on various scientific, theoretical, and practical occasions. "
   ]
  },
  {
   "cell_type": "markdown",
   "metadata": {},
   "source": [
    "Normal (Gaussian) distribution has two parameters: mean value $a$ and variance $\\sigma^2$.                       "
   ]
  },
  {
   "cell_type": "markdown",
   "metadata": {},
   "source": [
    "Lognormal distribution of a random variable is determined by the parameters of normal distribution of its natural logarithm:"
   ]
  },
  {
   "cell_type": "markdown",
   "metadata": {},
   "source": [
    "There is a simple relationship between the parameters of lognormal distribution and the corresponding normal distribution:\n",
    "$$ a = \\ln{(Mean)} - \\sigma^2/2 $$"
   ]
  },
  {
   "cell_type": "markdown",
   "metadata": {},
   "source": [
    "Using the concept of the classical probability theory, mathematical expectation of profit of an option combination at a certain point of time is determined as follows:\n",
    "$$MeanLogNorm(B, S) = \\int_0^\\infty PF(B, S, x) LogN(Mean, \\sigma, x) dx $$\n",
    "    where $PF(B,S,x)$ is a payoff function of combination $S$ with the underlying asset $B$; $LogN(Mean,\\sigma,x)$ is a probability density function of lognormal distribution;"
   ]
  },
  {
   "cell_type": "markdown",
   "metadata": {},
   "source": [
    "$Mean$, $\\sigma$, and $x$ are the parameters of lognormal distribution."
   ]
  },
  {
   "cell_type": "markdown",
   "metadata": {},
   "source": [
    "The payoff function $PF(B,S,x)$ in equation 2.1.1 can be replaced by another function, for example, by the yield function expressed as the ratio of the payoff function to the investment amount normalized by the investment period. In this case the value calculated by equation 2.1.1 stands for another criterion: the “expected yield on the basis of lognormal distribution."
   ]
  },
  {
   "cell_type": "markdown",
   "metadata": {},
   "source": [
    "Following the basic principle of option combinations evaluation by criteria, we adhere to the rule that combinations with higher expected profit are preferable to other alternatives."
   ]
  },
  {
   "cell_type": "markdown",
   "metadata": {},
   "source": [
    "The main advantage of option trading is the possibility to create market-neutral strategies that do not require predicting future price trend direction. Thus it is natural to assume that the mathematical expectation of the underlying asset price is equal to the current price as of the criterion calculation date."
   ]
  },
  {
   "cell_type": "markdown",
   "metadata": {},
   "source": [
    " It means that we do not make any assumptions about the growth or fall of the underlying asset but consider the current price as the most probable estimate for the forecast date. The alternative approach implies assigning an expert value to this parameter."
   ]
  },
  {
   "cell_type": "markdown",
   "metadata": {},
   "source": [
    "The value of the second parameter—the variance $\\sigma^2$ of normal distribution of the stock price logarithm—can be taken as equal to the square of stock historical volatility."
   ]
  },
  {
   "cell_type": "markdown",
   "metadata": {},
   "source": [
    "Apart from the classical model, there is a variety of elaborated formulae intended to calculate more precise values of historical volatility (Garman & Klass,1980; Parkinson, 1980, and so on). "
   ]
  },
  {
   "cell_type": "markdown",
   "metadata": {},
   "source": [
    "We dwell on the simplest case when historical volatility HV is calculated at a certain historical period as the mean-square deviation of logarithms of consecutive daily close prices ratios:\n",
    "$$HV = \\sqrt{\\frac{1}{PN}\\sum_{i=1}^N r_i^2} $$\n",
    "$$r_i = \\ln(\\frac{C_{(t_0 - i + 1)}}{C_{(t_0 - i)}} $$\n",
    "where $t_0$ is the current time; P is the period of historical volatility calculation (expressed in fractions of a year); N is the number of close prices ratios used (the number of days preceding the current date).\n",
    "\n"
   ]
  },
  {
   "cell_type": "markdown",
   "metadata": {},
   "source": [
    "Equation 2.1.2 is a simplified version of historical volatility modeling. However, our experience shows that its accuracy is sufficient for the purpose of criteria computation. "
   ]
  },
  {
   "cell_type": "markdown",
   "metadata": {},
   "source": [
    "We refer to the number of days preceding the current date ($N$) as the length of historical volatility calculation period. Its proper choice is a key moment in calculating this parameter because, as can be seen from equation 2.1.2, the variance value is extremely responsive to period length changes"
   ]
  },
  {
   "cell_type": "markdown",
   "metadata": {},
   "source": [
    "Rules of determining N are usually thoroughly protected intellectual property; they are discussed a lot but specific algorithms are always concealed. There is an opinion that most option trading specialists do not possess formalized algorithms for calculation of this parameter but rather rely on their intuition and experience"
   ]
  },
  {
   "cell_type": "markdown",
   "metadata": {},
   "source": [
    "There should be various rules for determination of $N$, and these rules should change depending on the option strategy in use, the forecast horizon, and the algorithm of underlying assets selection."
   ]
  },
  {
   "cell_type": "markdown",
   "metadata": {},
   "source": [
    "To illustrate the relationships between the “expected profit on the basis of lognormal distribution” criterion and its parameters, we constructed the option combination called $\\it\\text{proportional long strangle}$ using the AAPL stock as the underlying asset."
   ]
  },
  {
   "cell_type": "markdown",
   "metadata": {},
   "source": [
    "This example shows that the criterion value may turn out to be either negative or positive (and even rather high) depending on values of its parameters. "
   ]
  },
  {
   "cell_type": "markdown",
   "metadata": {},
   "source": [
    "The form of this relationship depends strongly on specific option strategy and underlying asset; furthermore, it can be changed in time even for the same {strategy × underlying asset} pair."
   ]
  },
  {
   "cell_type": "markdown",
   "metadata": {},
   "source": [
    "Thus when selecting parameter values, it is necessary to analyze every situation thoroughly and to consider it in the context of the current time point."
   ]
  },
  {
   "cell_type": "markdown",
   "metadata": {},
   "source": [
    "To derive variance from the $HV$ value, we have to apply the correction factor that would take into account the time period from the present time point until the forecast date for which we calculate the criterion value. This factor equals the square root of the ratio of the number of days until the forecast date to 365."
   ]
  },
  {
   "cell_type": "markdown",
   "metadata": {},
   "source": [
    "The obtained criterion value rather represents the most probable result. If we could run a series of statistical experiments with many possible outcomes, the average profit of all outcomes would work for the criterion value. "
   ]
  },
  {
   "cell_type": "markdown",
   "metadata": {},
   "source": [
    "The criterion expressing profit probability estimates the probability that at the time of options expiration (or any other forecast time point) a payoff function of a given combination will have positive value. In other words, this criterion estimates the probability that the combination will be profitable."
   ]
  },
  {
   "cell_type": "markdown",
   "metadata": {},
   "source": [
    " Whether the payoff function is positive or negative is determined by the price of the underlying asset at the forecast time."
   ]
  },
  {
   "cell_type": "markdown",
   "metadata": {},
   "source": [
    "The “profit probability on the basis of lognormal distribution” criterion is calculated by integrating the product of the combination payoff function by the probability density function over the price range (or ranges) for which the payoff function is positive.\n",
    "$$ ProbLogNorm(B, S) = \\int_0^\\infty \\theta(PF(B, S, x)) LogN(x) dx $$\n",
    "    where $\\theta(y)$ is the theta-function with argument $y = PF(B,S,x)$ which has the following values: θ(y) = 1, if y > 0, and θ(y) = 0 in other cases.\n",
    "\n"
   ]
  },
  {
   "cell_type": "markdown",
   "metadata": {},
   "source": [
    "To calculate this criterion value we use the same two parameters as in the case of expected profit: mathematical expectation of the underlying stock price at time t and the variance of normal distribution of the stock price logarithm."
   ]
  },
  {
   "cell_type": "markdown",
   "metadata": {},
   "source": [
    "The sense of expression 2.1.3 is easy to realize in the discrete case when a finite price series {$x_t,t = t_1,t_2,...,t_n$} is considered. Then our criterion turns into the sum of probabilities of elements forming the first subset:\n",
    "$$ProbLogNorm(B, S) = \\sum_{i \\in I^+} p(x_{t_i}) $$"
   ]
  },
  {
   "cell_type": "markdown",
   "metadata": {},
   "source": [
    "# LATEXIFY\n",
    "On the other hand, it seems natural to assume that the future should resemble the past and to transfer the maximum information on price movements from the known past to the forecast future. This is the aim of constructing the empirical distribution."
   ]
  },
  {
   "cell_type": "markdown",
   "metadata": {},
   "source": [
    "By analogy with the lognormal distribution, we assume that price change is a random variable. The additional assumption—specific for the empirical distribution—is that probability distribution of price increments can be built on the basis of their past values."
   ]
  },
  {
   "cell_type": "markdown",
   "metadata": {},
   "source": [
    "Within the framework of this approach, we collect history of price movements and derive the probabilities of future movements from the frequency of their past occurrence (Izraylevich and Tsudikman, 2009a)."
   ]
  },
  {
   "cell_type": "markdown",
   "metadata": {},
   "source": [
    "The length of the historical period used to build the distribution will be addressed as the historical horizon of the empirical distribution and will be denoted by L (L > τ)."
   ]
  },
  {
   "cell_type": "markdown",
   "metadata": {},
   "source": [
    "The larger the horizon, the more extensive statistics are at our disposal."
   ]
  },
  {
   "cell_type": "markdown",
   "metadata": {},
   "source": [
    "However, old historical data may give wrong information about patterns and trends prevailing in the present market. Thus the selection of the best L value is a nontrivial task that is as important as finding optimal N in the case of lognormal distribution."
   ]
  },
  {
   "cell_type": "markdown",
   "metadata": {},
   "source": [
    "Having horizon values of τ and L fixed, we consider relative increments of prices p(t) = C(t + τ)/C(t) for all points of time t (t = T0 – L + 1, T0 – L + 2,..., T0 – τ). Thus we get L – τ observations of price increments."
   ]
  },
  {
   "cell_type": "markdown",
   "metadata": {},
   "source": [
    "Multiplying the current price C(T0) by each of the relative increments we get a set of L – τ forecast price variants:"
   ]
  },
  {
   "cell_type": "markdown",
   "metadata": {},
   "source": [
    "The obtained set of price values can be used to build a probability density function of the price distribution Empiric(x). This can be done on the basis of the histogram of L – τ forecast price values."
   ]
  },
  {
   "cell_type": "markdown",
   "metadata": {},
   "source": [
    "The divergence between lognormal and empirical distributions usually decreases when the historical horizon of empirical distribution (L) increases."
   ]
  },
  {
   "cell_type": "markdown",
   "metadata": {},
   "source": [
    " It is clear from Figure 2.2.2 that the shorter the historical horizon, the more peculiar the shape of the empirical distribution and the stronger its difference from lognormal distribution."
   ]
  },
  {
   "cell_type": "markdown",
   "metadata": {},
   "source": [
    "Unlike lognormal distribution, empirical distribution reflects past trends and strong price movements."
   ]
  },
  {
   "cell_type": "markdown",
   "metadata": {},
   "source": [
    " Figure 2.2.2 illustrates that the selection of values for the “historical horizon” parameter L strongly influences the shape of empirical distribution. Consequently, L exerts a great influence on calculation of the criteria based on this distribution."
   ]
  },
  {
   "cell_type": "markdown",
   "metadata": {},
   "source": [
    "The “expected profit on the basis of empirical distribution” represents the integral of the combination payoff function taken over the probability density function of empirical distribution:\n",
    "<b> Eqn 2.2.1 </b> where PF(B,S,x) is a payoff function of combination S with underlying asset B;\n",
    "Empiric(x)dx is the probability density function of empirical distribution."
   ]
  },
  {
   "cell_type": "markdown",
   "metadata": {},
   "source": [
    "Equation 2.2.1 represents the formalized definition of this criterion. However, for the practical purpose of option valuation, it can be estimated easier by direct application of the set of forecast prices <b>Latex"
   ]
  },
  {
   "cell_type": "markdown",
   "metadata": {},
   "source": [
    "he mathematical expectation of the underlying price at the forecast time is calculated as follows:<b>Latex"
   ]
  },
  {
   "cell_type": "markdown",
   "metadata": {},
   "source": [
    "the expected profit on the basis of empirical distribution is <b> Eqn 2.2.2"
   ]
  },
  {
   "cell_type": "markdown",
   "metadata": {},
   "source": [
    "this criterion is obviously universal and forecasting. "
   ]
  },
  {
   "cell_type": "markdown",
   "metadata": {},
   "source": [
    "Calculating the criterion according to formula 2.2.2 means that its value is the average of L – t values of the payoff function that is calculated using forecast underlying asset prices."
   ]
  },
  {
   "cell_type": "markdown",
   "metadata": {},
   "source": [
    "This implies that in addition to the average we can calculate another characteristic expressing variability of payoff function values (either standard deviation or standard error). "
   ]
  },
  {
   "cell_type": "markdown",
   "metadata": {},
   "source": [
    "The ratio of the average to the variability allows the creation of a new criterion containing important additional information. This derivative criterion, and the original one, is universal, but it is not forecasting because it is an abstract indicator that does not refer to any real characteristic."
   ]
  },
  {
   "cell_type": "markdown",
   "metadata": {},
   "source": [
    "In contrast to the lognormal distribution model that has two parameters, empirical distribution possesses only one important parameter: the history horizon."
   ]
  },
  {
   "cell_type": "markdown",
   "metadata": {},
   "source": [
    "The second parameter—the forecast horizon—is determined objectively by selecting the future date for which the criterion is calculated."
   ]
  },
  {
   "cell_type": "markdown",
   "metadata": {},
   "source": [
    "It is widely known that selection of the parameter’s values is strongly influenced by subjective factors. Hence the more parameters included in the criterion model, the more it is affected by such unreliable factors. Besides, the large number of optimized parameters increases the risk of overoptimization (overadjustment to past data also referred to as curve fitting). "
   ]
  },
  {
   "cell_type": "markdown",
   "metadata": {},
   "source": [
    "Overoptimization means that trading systems showing impressive performance in back-testing experiments become unprofitable in real trading."
   ]
  },
  {
   "cell_type": "markdown",
   "metadata": {},
   "source": [
    "Therefore, the fact that the empirical distribution has only one important parameter represents its indisputable advantage over the lognormal one."
   ]
  },
  {
   "cell_type": "markdown",
   "metadata": {},
   "source": [
    "On the other hand, the fact that parameter L is the only one requires even more prudence in selecting its value. "
   ]
  },
  {
   "cell_type": "markdown",
   "metadata": {},
   "source": [
    "While in a multiparametric model some inaccuracy in optimization of one of the parameters can be offset by successful optimization of the others, in the case of one-parameter model any inaccuracy may become fatal."
   ]
  },
  {
   "cell_type": "markdown",
   "metadata": {},
   "source": [
    "mathematical expectation of profit may turn out to be either positive or negative depending on applied L values."
   ]
  },
  {
   "cell_type": "markdown",
   "metadata": {},
   "source": [
    " Figure 2.2.3 shows that the criterion may be either negative or positive depending on the parameter value used in the calculation."
   ]
  },
  {
   "cell_type": "markdown",
   "metadata": {},
   "source": [
    " It means that for some L values the combination can be deemed potentially profitable and vice versa for other L values. "
   ]
  },
  {
   "cell_type": "markdown",
   "metadata": {},
   "source": [
    "To complete the picture we should make a note about the second parameter of the empirical distribution: the forecast horizon τ. The name of this parameter indicates that its value is automatically defined at the point of fixing the future date for which the criterion is calculated."
   ]
  },
  {
   "cell_type": "markdown",
   "metadata": {},
   "source": [
    "Despite this, nothing (except logic) prevents us from assigning any whole number from 1 to L – τ to this parameter."
   ]
  },
  {
   "cell_type": "markdown",
   "metadata": {},
   "source": [
    " It is commonly known that the price changes more over longer time periods, that is, there is a straight relationship between absolute price changes and the length of time interval."
   ]
  },
  {
   "cell_type": "markdown",
   "metadata": {},
   "source": [
    "It means that by increasing the horizon of forecast we can artificially raise the potential of possible future price movements and vice versa. (Remember that the real forecast horizon remains the same; only the parameter value changes.)"
   ]
  },
  {
   "cell_type": "markdown",
   "metadata": {},
   "source": [
    "Thus, control over the “horizon of forecast” parameter represents an efficient tool of adjusting the criterion to the individual risk profile of an investor."
   ]
  },
  {
   "cell_type": "markdown",
   "metadata": {},
   "source": [
    "Profit Probability on the Basis of Empirical Distribution: As in the case of lognormal distribution, this criterion estimates the probability that at the specified future time point a profit value of a given combination will have positive value. "
   ]
  },
  {
   "cell_type": "markdown",
   "metadata": {},
   "source": [
    "For empirical distribution this criterion is formalized as follows: <b> Eqn 2.2.3\n",
    "    \n",
    "    where 1(y) is the theta-function with argument y = PF(B,S,x) which takes the following values: 1(y) = 1, if y > 0, and 1(y) = 0 in other cases."
   ]
  },
  {
   "cell_type": "markdown",
   "metadata": {},
   "source": [
    "In our simplified calculating scheme (when a finite series of discrete prices is considered), this criterion can be calculated as follows: <b> Eqn 2.2.4"
   ]
  },
  {
   "cell_type": "markdown",
   "metadata": {},
   "source": [
    "Several different techniques can be used to build empirical distribution and to compute criteria corresponding to it. Here we propose the method based on the simplified calculation procedure that operates on a finite series of discrete underlying prices (equations 2.2.2 and 2.2.4). \n",
    "\n",
    "The algorithm will be illustrated with calculation of two criteria: expected profit and profit probability on the basis of empirical distribution. "
   ]
  },
  {
   "cell_type": "markdown",
   "metadata": {},
   "source": [
    " If an investor does not intend to hold a position until expiration, he can calculate criteria values for any intermediate date (depending on the prospective position holding period)."
   ]
  },
  {
   "cell_type": "markdown",
   "metadata": {},
   "source": [
    " This requires two modifications of the algorithm previously described. Firstly, we have to adjust the horizon of forecast according to the period of position holding (number of days from the position opening until the intermediate date)."
   ]
  },
  {
   "cell_type": "markdown",
   "metadata": {},
   "source": [
    "Secondly, the payoff function values should be calculated not for the expiration date but for the intermediate one."
   ]
  },
  {
   "cell_type": "markdown",
   "metadata": {},
   "source": [
    "Although the calculation of payoff values for the expiration date is unambiguously defined, their estimation for any intermediate date is possible only by the application of option pricing models."
   ]
  },
  {
   "cell_type": "markdown",
   "metadata": {},
   "source": [
    "Because all models—including the most sophisticated ones—have drawbacks arising from their basic assumptions, values of criteria calculated at intermediate dates may inherit various inaccuracies."
   ]
  },
  {
   "cell_type": "markdown",
   "metadata": {},
   "source": [
    "Market statistics is usually not stationary. The future does not always repeat the past"
   ]
  },
  {
   "cell_type": "markdown",
   "metadata": {},
   "source": [
    "Strong trends and narrow trade ranges alternate unpredictably, and volatile periods come to the place of tranquility irregularly without any distinguishable periodicity. "
   ]
  },
  {
   "cell_type": "markdown",
   "metadata": {},
   "source": [
    "That is why empirical distribution as a plain combination of past observations is not always the best way to create a probabilistic forecast."
   ]
  },
  {
   "cell_type": "markdown",
   "metadata": {},
   "source": [
    "One of the modification methods is based on the introduction of weight coefficients for past price movements. Higher weights are attributed to recent observations, whereas old data get relatively low weights. "
   ]
  },
  {
   "cell_type": "markdown",
   "metadata": {},
   "source": [
    "Such weighting permits to differentiate the influence of observations depending on their time of occurrence"
   ]
  },
  {
   "cell_type": "markdown",
   "metadata": {},
   "source": [
    "Introduction of the weight coefficient modifies the equations 2.2.2 and 2.2.4 as follows: <b> Eq 2.2.5 and 2.2.6 </b>\n",
    "    where $\\alpha_i > 0, \\sum_i \\alpha_j = 1$ is a series of increasing positive weight coefficients."
   ]
  },
  {
   "cell_type": "markdown",
   "metadata": {},
   "source": [
    "The function $a(j)$, which sets the weights {$a_j$}can be of any form; it can be linear (with weight coefficients decreasing in time evenly), exponential, and so on."
   ]
  },
  {
   "cell_type": "markdown",
   "metadata": {},
   "source": [
    "Selection of a specific formula for this function can substitute the optimization of such important empirical distribution parameter as the horizon of history."
   ]
  },
  {
   "cell_type": "markdown",
   "metadata": {},
   "source": [
    " It can be achieved in the following way: The horizon of history is fixed at its maximum (for example, more than several years or full historical database available). "
   ]
  },
  {
   "cell_type": "markdown",
   "metadata": {},
   "source": [
    "In this situation optimization of $L$ is replaced by the selection of the way of “forgetting past data” that is done by choosing the appropriate equation for $a(j)$ function."
   ]
  },
  {
   "cell_type": "markdown",
   "metadata": {},
   "source": [
    "deliberate selection of $a(j)$ function can objectively reflect the investor’s perception of market patterns and cycles."
   ]
  },
  {
   "cell_type": "markdown",
   "metadata": {},
   "source": [
    "The second method of empirical distribution modification is based on its symmetrization. This procedure is performed through doubling the observations sample by adding to each p(t) = C(t + τ)/C(t) its inverse value $p^{–1}(t) = C(t)/C(t + τ)$."
   ]
  },
  {
   "cell_type": "markdown",
   "metadata": {},
   "source": [
    "This operation enriches the initial information used to calculate criteria by incorporating not only recorded past movements into the final distribution but their inverse values as well."
   ]
  },
  {
   "cell_type": "markdown",
   "metadata": {},
   "source": [
    "Such modification allows for realizing two plausible assumptions. Firstly, it rejects the hypothesis of continuing market trends (empirical distributions reflect trends that prevailed in the past). Secondly, future inverse price movements are likely to have characteristics similar to past movements."
   ]
  },
  {
   "cell_type": "markdown",
   "metadata": {},
   "source": [
    " The procedure of symmetrization does not only smooth the empirical distribution probability density function, but also eliminates its asymmetry while maintaining individual features and differences with lognormal distribution (Figure 2.2.5).\n",
    "\n"
   ]
  },
  {
   "cell_type": "markdown",
   "metadata": {},
   "source": [
    "The criterion expressing profit expected on the basis of symmetrized empirical distribution is formalized as follows: <b> Eqn 2.2.7 and 2.2.8 </b>\n",
    "    where $SymEmpiric(x)$ is the probability density function of the symmetrized empirical distribution.\n",
    "    "
   ]
  },
  {
   "cell_type": "markdown",
   "metadata": {},
   "source": [
    "Extensive statistical studies (not presented here) suggest that two criteria do not duplicate but rather supplement each other."
   ]
  },
  {
   "cell_type": "markdown",
   "metadata": {},
   "source": [
    "# 2.3"
   ]
  },
  {
   "cell_type": "markdown",
   "metadata": {},
   "source": []
  },
  {
   "cell_type": "markdown",
   "metadata": {},
   "source": []
  },
  {
   "cell_type": "markdown",
   "metadata": {},
   "source": []
  },
  {
   "cell_type": "markdown",
   "metadata": {},
   "source": []
  },
  {
   "cell_type": "markdown",
   "metadata": {},
   "source": []
  },
  {
   "cell_type": "markdown",
   "metadata": {},
   "source": []
  },
  {
   "cell_type": "markdown",
   "metadata": {},
   "source": []
  },
  {
   "cell_type": "markdown",
   "metadata": {},
   "source": []
  },
  {
   "cell_type": "markdown",
   "metadata": {},
   "source": []
  },
  {
   "cell_type": "markdown",
   "metadata": {},
   "source": []
  },
  {
   "cell_type": "markdown",
   "metadata": {},
   "source": []
  },
  {
   "cell_type": "markdown",
   "metadata": {},
   "source": []
  },
  {
   "cell_type": "markdown",
   "metadata": {},
   "source": []
  },
  {
   "cell_type": "markdown",
   "metadata": {},
   "source": []
  },
  {
   "cell_type": "markdown",
   "metadata": {},
   "source": []
  },
  {
   "cell_type": "markdown",
   "metadata": {},
   "source": []
  },
  {
   "cell_type": "markdown",
   "metadata": {},
   "source": []
  },
  {
   "cell_type": "markdown",
   "metadata": {},
   "source": []
  },
  {
   "cell_type": "markdown",
   "metadata": {},
   "source": []
  },
  {
   "cell_type": "markdown",
   "metadata": {},
   "source": []
  },
  {
   "cell_type": "markdown",
   "metadata": {},
   "source": []
  },
  {
   "cell_type": "markdown",
   "metadata": {},
   "source": []
  },
  {
   "cell_type": "markdown",
   "metadata": {},
   "source": []
  },
  {
   "cell_type": "markdown",
   "metadata": {},
   "source": []
  },
  {
   "cell_type": "markdown",
   "metadata": {},
   "source": []
  },
  {
   "cell_type": "markdown",
   "metadata": {},
   "source": []
  },
  {
   "cell_type": "markdown",
   "metadata": {},
   "source": []
  },
  {
   "cell_type": "markdown",
   "metadata": {},
   "source": []
  },
  {
   "cell_type": "markdown",
   "metadata": {},
   "source": []
  },
  {
   "cell_type": "markdown",
   "metadata": {},
   "source": []
  },
  {
   "cell_type": "markdown",
   "metadata": {},
   "source": []
  },
  {
   "cell_type": "markdown",
   "metadata": {},
   "source": []
  },
  {
   "cell_type": "markdown",
   "metadata": {},
   "source": []
  },
  {
   "cell_type": "markdown",
   "metadata": {},
   "source": []
  },
  {
   "cell_type": "markdown",
   "metadata": {},
   "source": []
  },
  {
   "cell_type": "markdown",
   "metadata": {},
   "source": []
  },
  {
   "cell_type": "markdown",
   "metadata": {},
   "source": []
  },
  {
   "cell_type": "markdown",
   "metadata": {},
   "source": []
  },
  {
   "cell_type": "markdown",
   "metadata": {},
   "source": []
  },
  {
   "cell_type": "markdown",
   "metadata": {},
   "source": []
  },
  {
   "cell_type": "markdown",
   "metadata": {},
   "source": []
  },
  {
   "cell_type": "markdown",
   "metadata": {},
   "source": []
  },
  {
   "cell_type": "markdown",
   "metadata": {},
   "source": []
  },
  {
   "cell_type": "markdown",
   "metadata": {},
   "source": []
  },
  {
   "cell_type": "markdown",
   "metadata": {},
   "source": []
  },
  {
   "cell_type": "markdown",
   "metadata": {},
   "source": []
  },
  {
   "cell_type": "markdown",
   "metadata": {},
   "source": []
  },
  {
   "cell_type": "markdown",
   "metadata": {},
   "source": []
  },
  {
   "cell_type": "markdown",
   "metadata": {},
   "source": []
  },
  {
   "cell_type": "markdown",
   "metadata": {},
   "source": []
  },
  {
   "cell_type": "markdown",
   "metadata": {},
   "source": []
  },
  {
   "cell_type": "markdown",
   "metadata": {},
   "source": []
  },
  {
   "cell_type": "markdown",
   "metadata": {},
   "source": []
  },
  {
   "cell_type": "markdown",
   "metadata": {},
   "source": []
  },
  {
   "cell_type": "markdown",
   "metadata": {},
   "source": []
  },
  {
   "cell_type": "markdown",
   "metadata": {},
   "source": []
  },
  {
   "cell_type": "markdown",
   "metadata": {},
   "source": []
  },
  {
   "cell_type": "markdown",
   "metadata": {},
   "source": []
  }
 ],
 "metadata": {
  "kernelspec": {
   "display_name": "Python 3",
   "language": "python",
   "name": "python3"
  },
  "language_info": {
   "codemirror_mode": {
    "name": "ipython",
    "version": 3
   },
   "file_extension": ".py",
   "mimetype": "text/x-python",
   "name": "python",
   "nbconvert_exporter": "python",
   "pygments_lexer": "ipython3",
   "version": "3.6.7"
  }
 },
 "nbformat": 4,
 "nbformat_minor": 2
}
