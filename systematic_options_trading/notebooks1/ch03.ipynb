{
 "cells": [
  {
   "cell_type": "markdown",
   "metadata": {},
   "source": [
    "Before judging on the suitability of a particular criterion, it has to be tested thoroughly. To carry out such a test, we have to establish a set of numerical characteristics that would reflect the performance of a criterion. Hereafter such characteristics will be referred to as “indicators of criteria effectiveness.”"
   ]
  },
  {
   "cell_type": "markdown",
   "metadata": {},
   "source": [
    "To maximize the test reliability, it is desirable not to be restricted by one indicator but to use as many of them as possible (within reasonable limits, of course). "
   ]
  },
  {
   "cell_type": "markdown",
   "metadata": {},
   "source": [
    "The criteria effectiveness strongly depends on the type of the task it is intended to deal with"
   ]
  },
  {
   "cell_type": "markdown",
   "metadata": {},
   "source": [
    "Talking about types of task, we mean different areas of criteria application such as selecting option combinations, strategies, and underlying assets"
   ]
  },
  {
   "cell_type": "markdown",
   "metadata": {},
   "source": [
    "we distinguished between two basic groups of criteria: universal and specific ones. As follows from the name, the former can be applied to resolve almost any kind of problems whereas the latter are not as multifunctional."
   ]
  },
  {
   "cell_type": "markdown",
   "metadata": {},
   "source": [
    "The criterion often shows high effectiveness in certain situations but may become useless in other circumstances."
   ]
  },
  {
   "cell_type": "markdown",
   "metadata": {},
   "source": [
    "Hence, in this chapter we concentrate on evaluation of criteria quality when they are used to accomplish one general task: sorting option combinations by their potential profitability. "
   ]
  },
  {
   "cell_type": "markdown",
   "metadata": {},
   "source": [
    "A certain criterion may successfully detect profitable variants within the set of combinations created under one strategy, but it may be ineffective in selecting combinations created under another strategy"
   ]
  },
  {
   "cell_type": "markdown",
   "metadata": {},
   "source": [
    "the correlation between the outcome and the forecast (most criteria do include a forecast in one form or another) is the most direct and intuitively understandable indicator of the criterion’s suitability for determining trading opportunities."
   ]
  },
  {
   "cell_type": "markdown",
   "metadata": {},
   "source": [
    " this indicator is universal in the sense that it is suitable for evaluation of any criterion within all option strategies"
   ]
  },
  {
   "cell_type": "markdown",
   "metadata": {},
   "source": [
    "it is easy to compute and does not require any complicated data processing except building a simple regression model."
   ]
  },
  {
   "cell_type": "markdown",
   "metadata": {},
   "source": [
    "The evaluation of criterion effectiveness by means of the correlation is based on the relationship between criteria values and realized profit. "
   ]
  },
  {
   "cell_type": "markdown",
   "metadata": {},
   "source": [
    "Applying a regression model to this relationship allows an estimation of the fraction of the profit variance explained by the criterion variation and of the fraction of the profit variance caused by random factors."
   ]
  },
  {
   "cell_type": "markdown",
   "metadata": {},
   "source": [
    " The square of the correlation coefficient (also referred to as “coefficient of determination”) shows how well the regression equation (which reflects the linear relationship between the profit and the criterion) fits actual data"
   ]
  },
  {
   "cell_type": "markdown",
   "metadata": {},
   "source": [
    "The coefficient of determination ranges from zero (when the profit does not depend on the criteria) to one (profit changes are fully determined by criterion changes)."
   ]
  },
  {
   "cell_type": "markdown",
   "metadata": {},
   "source": [
    "The value of the correlation coefficient expressing the {criterion × profit} relationship is usually small and variable in time even when the criterion is correctly parameterized and possesses good forecasting properties."
   ]
  },
  {
   "cell_type": "markdown",
   "metadata": {},
   "source": [
    "This holds true even when the predictive power of the criterion is known in advance and was verified both empirically and in back-testing."
   ]
  },
  {
   "cell_type": "markdown",
   "metadata": {},
   "source": [
    "Relationships between criterion and profit values are used to obtain correlation coefficients. The whole procedure is repeated for each criterion under examination."
   ]
  },
  {
   "cell_type": "markdown",
   "metadata": {},
   "source": [
    "We begin with considering the correlation between criterion and profit values for several randomly selected dates. "
   ]
  },
  {
   "cell_type": "markdown",
   "metadata": {},
   "source": [
    " it is necessary to verify if the obtained results are representative."
   ]
  },
  {
   "cell_type": "markdown",
   "metadata": {},
   "source": [
    " It is quite reasonable to suppose that the weak relationship between the criteria and the profit values is caused by the influence of external factors that add noise to the system and reduce correlation. "
   ]
  },
  {
   "cell_type": "markdown",
   "metadata": {},
   "source": [
    "We suppose that at least some of these factors have a chaotic nature, and their impact on profit can change a vector in the course of time. If this assumption is true, these factors can be neutralized by combining several days in the analysis"
   ]
  },
  {
   "cell_type": "markdown",
   "metadata": {},
   "source": [
    "Combining does not mean mixing data that belongs to several days in one analysis "
   ]
  },
  {
   "cell_type": "markdown",
   "metadata": {},
   "source": [
    "We propose the following procedure of data processing. Two successive dates are selected and combinations corresponding to each of them are sorted by criterion values. Then we combine these two orderings by calculating the average of two criterion values for combinations occupying the two first positions."
   ]
  },
  {
   "cell_type": "markdown",
   "metadata": {},
   "source": [
    "The average profit value for these two combinations is calculated in a similar way. Then we go on to the second positions in both orderings and calculate the averages for the criterion and the profit. The same procedure is applied for all positions up to the 1,500th."
   ]
  },
  {
   "cell_type": "markdown",
   "metadata": {},
   "source": [
    "This transformation provides us with a set of data consisting of averaged criterion and profit values."
   ]
  },
  {
   "cell_type": "markdown",
   "metadata": {},
   "source": [
    " The more dates we include in the averaging, the higher the determination coefficients are. ???(may be in this example)"
   ]
  },
  {
   "cell_type": "markdown",
   "metadata": {},
   "source": [
    " Examining the averaging period, we stopped at the tenth day. It is necessary to continue expanding this period to obtain the optimal value of this parameter. "
   ]
  },
  {
   "cell_type": "markdown",
   "metadata": {},
   "source": [
    "Furthermore, we have to find out how the averaging procedure influences the evaluation of other criteria."
   ]
  },
  {
   "cell_type": "markdown",
   "metadata": {},
   "source": [
    " The influence of the transformation procedure on the dynamics of the correlation coefficients should be analyzed as well.\n",
    "\n"
   ]
  },
  {
   "cell_type": "markdown",
   "metadata": {},
   "source": [
    "# 3.2.3"
   ]
  },
  {
   "cell_type": "markdown",
   "metadata": {},
   "source": []
  },
  {
   "cell_type": "markdown",
   "metadata": {},
   "source": []
  },
  {
   "cell_type": "markdown",
   "metadata": {},
   "source": []
  },
  {
   "cell_type": "markdown",
   "metadata": {},
   "source": []
  },
  {
   "cell_type": "markdown",
   "metadata": {},
   "source": []
  },
  {
   "cell_type": "markdown",
   "metadata": {},
   "source": []
  },
  {
   "cell_type": "markdown",
   "metadata": {},
   "source": []
  },
  {
   "cell_type": "markdown",
   "metadata": {},
   "source": []
  },
  {
   "cell_type": "markdown",
   "metadata": {},
   "source": []
  },
  {
   "cell_type": "markdown",
   "metadata": {},
   "source": []
  },
  {
   "cell_type": "markdown",
   "metadata": {},
   "source": []
  },
  {
   "cell_type": "markdown",
   "metadata": {},
   "source": []
  },
  {
   "cell_type": "markdown",
   "metadata": {},
   "source": []
  },
  {
   "cell_type": "markdown",
   "metadata": {},
   "source": []
  },
  {
   "cell_type": "markdown",
   "metadata": {},
   "source": []
  },
  {
   "cell_type": "markdown",
   "metadata": {},
   "source": []
  },
  {
   "cell_type": "markdown",
   "metadata": {},
   "source": []
  },
  {
   "cell_type": "markdown",
   "metadata": {},
   "source": []
  },
  {
   "cell_type": "markdown",
   "metadata": {},
   "source": []
  },
  {
   "cell_type": "markdown",
   "metadata": {},
   "source": []
  },
  {
   "cell_type": "markdown",
   "metadata": {},
   "source": []
  },
  {
   "cell_type": "markdown",
   "metadata": {},
   "source": []
  },
  {
   "cell_type": "markdown",
   "metadata": {},
   "source": []
  },
  {
   "cell_type": "markdown",
   "metadata": {},
   "source": []
  },
  {
   "cell_type": "markdown",
   "metadata": {},
   "source": []
  },
  {
   "cell_type": "markdown",
   "metadata": {},
   "source": []
  },
  {
   "cell_type": "markdown",
   "metadata": {},
   "source": []
  },
  {
   "cell_type": "markdown",
   "metadata": {},
   "source": []
  },
  {
   "cell_type": "markdown",
   "metadata": {},
   "source": []
  },
  {
   "cell_type": "markdown",
   "metadata": {},
   "source": []
  },
  {
   "cell_type": "markdown",
   "metadata": {},
   "source": []
  },
  {
   "cell_type": "markdown",
   "metadata": {},
   "source": []
  },
  {
   "cell_type": "markdown",
   "metadata": {},
   "source": []
  },
  {
   "cell_type": "markdown",
   "metadata": {},
   "source": []
  },
  {
   "cell_type": "markdown",
   "metadata": {},
   "source": []
  },
  {
   "cell_type": "markdown",
   "metadata": {},
   "source": []
  },
  {
   "cell_type": "markdown",
   "metadata": {},
   "source": []
  }
 ],
 "metadata": {
  "kernelspec": {
   "display_name": "Python 3",
   "language": "python",
   "name": "python3"
  },
  "language_info": {
   "codemirror_mode": {
    "name": "ipython",
    "version": 3
   },
   "file_extension": ".py",
   "mimetype": "text/x-python",
   "name": "python",
   "nbconvert_exporter": "python",
   "pygments_lexer": "ipython3",
   "version": "3.6.7"
  }
 },
 "nbformat": 4,
 "nbformat_minor": 2
}
