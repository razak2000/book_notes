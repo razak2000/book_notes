{
 "cells": [
  {
   "cell_type": "markdown",
   "metadata": {},
   "source": [
    "research aimed at discovery and practical application of statistical regularities and probabilistic characteristics of option trading."
   ]
  },
  {
   "cell_type": "markdown",
   "metadata": {},
   "source": [
    "developing a system of algorithms and rules that provide you with statistical advantage over the average market participant."
   ]
  },
  {
   "cell_type": "markdown",
   "metadata": {},
   "source": [
    "Statistical edge and probabilistic advantages depend on our ability to select the best variants from a great number of available alternatives. "
   ]
  },
  {
   "cell_type": "markdown",
   "metadata": {},
   "source": [
    "The options market is incredibly broad and diverse, whereas promising trading opportunities are rare and hard to identify. "
   ]
  },
  {
   "cell_type": "markdown",
   "metadata": {},
   "source": [
    "Continuous analyses of large data sets covering the entire options market is the only way to identify sparse trading opportunities that can be described as “the best of the available ones.”"
   ]
  },
  {
   "cell_type": "markdown",
   "metadata": {},
   "source": [
    "An important peculiarity of the U.S. options market is the competition of many exchanges offering the same product (that is, options for the same underlying asset)"
   ]
  },
  {
   "cell_type": "markdown",
   "metadata": {},
   "source": [
    "Use of options to manage risks is called hedging. "
   ]
  },
  {
   "cell_type": "markdown",
   "metadata": {},
   "source": [
    "The main feature of options distinguishing them from the majority of other financial instruments is the nonlinearity of their payoff function (which is the relationship between profit and the future underlying asset price). This feature enables the creation of option combinations possessing almost any desired profit profile that makes options an indispensable instrument in achieving various goals for many financial market participants.\n"
   ]
  },
  {
   "cell_type": "markdown",
   "metadata": {},
   "source": [
    "The systematic approach presented in this book is based on universal principles that can be applied to options on any type of underlying assets: stocks, futures, currencies, interest rates, and commodities. The same is true regarding different markets"
   ]
  },
  {
   "cell_type": "markdown",
   "metadata": {},
   "source": [
    "The research described in this book is based on a database containing 7 years of price history of 2,500 stocks and their options."
   ]
  },
  {
   "cell_type": "markdown",
   "metadata": {},
   "source": [
    "A substantial number of scientific articles and books are devoted to the development of advanced option pricing models. "
   ]
  },
  {
   "cell_type": "markdown",
   "metadata": {},
   "source": [
    "They apply probability theory and discuss various complicated issues, including volatility abnormalities, nonlinearities, and interrelationships between parameters."
   ]
  },
  {
   "cell_type": "markdown",
   "metadata": {},
   "source": [
    "A strict and extensive mathematical background of option theory is given by Peter James (James, 2003). This book represents the basis for researchers entering the world of options, though its complexity makes it comprehensible only to specialists with deep knowledge of mathematics."
   ]
  },
  {
   "cell_type": "markdown",
   "metadata": {},
   "source": [
    "Option pricing is widely discussed in Espen Haug’s book (Haug, 2006). It can be used as a universal handbook covering up-to-date progress in price modeling (see also Achdou and Pironneau, 2005, Rouah and Vainberg, 2007)"
   ]
  },
  {
   "cell_type": "markdown",
   "metadata": {},
   "source": [
    "Although the majority of theoretical works have not yet been implemented, some of the mathematical models are widely used by option exchanges, brokers, market-makers, and traders."
   ]
  },
  {
   "cell_type": "markdown",
   "metadata": {},
   "source": [
    "Various aspects of volatility modeling and their implications on derivatives pricing were reviewed by Jim Gatheral and Nassim Taleb (Gatheral and Taleb, 2006). The authors examine all main properties of stochastic, local, and implied volatilities and describe many classical and advanced mathematical models. "
   ]
  },
  {
   "cell_type": "markdown",
   "metadata": {},
   "source": [
    "An excellent example of a handbook covering most aspects of option trading is the work by Michael Thomsett (Thomsett, 2009). An option trader can find there a detailed description of many useful strategies. "
   ]
  },
  {
   "cell_type": "markdown",
   "metadata": {},
   "source": [
    "Certain books are dedicated to specific option strategies. For example, the idea of volatility trading is popularly described in the work of Kevin Connolly (Connolly, 1997). Without resorting to complicated mathematics, the author applies dynamic hedging to combinations consisting of options and their underlying assets."
   ]
  },
  {
   "cell_type": "markdown",
   "metadata": {},
   "source": [
    "The potential benefit of adopting ideas from adjacent scientific fields is far from being exhausted. For example, in classical option pricing theory the assumption of randomness of underlying asset price changes is the most questionable issue. "
   ]
  },
  {
   "cell_type": "markdown",
   "metadata": {},
   "source": [
    "The work of Edgar Peters (Peters, 1996) represents an interesting example of a more sophisticated approach to the description of price behavior. "
   ]
  },
  {
   "cell_type": "markdown",
   "metadata": {},
   "source": [
    "The main topic of theoretical research (though directly related to investment practice) is the determination of the fair option value. The term fair value stands for the price that implies zero profit for both option sellers and buyers."
   ]
  },
  {
   "cell_type": "markdown",
   "metadata": {},
   "source": [
    "It is common knowledge that apart from parameters that are objectively defined (current underlying asset price, strike, risk-free interest rate, and so on), the option price is determined by the forecast of underlying asset price dynamics. "
   ]
  },
  {
   "cell_type": "markdown",
   "metadata": {},
   "source": [
    " In the classical model this forecast is expressed by a probability density function of lognormal distribution that is specified by two parameters: variance derived from historical volatility and mean value that is usually considered to be equal to the current price."
   ]
  },
  {
   "cell_type": "markdown",
   "metadata": {},
   "source": [
    "This form of forecast has a number of drawbacks, though attempts to use other probability distributions gave only local improvements and added new drawbacks."
   ]
  },
  {
   "cell_type": "markdown",
   "metadata": {},
   "source": [
    "Hence the main gap in option theory can be defined as the absence of alternative methods for creating probability forecasts of the future underlying asset price."
   ]
  },
  {
   "cell_type": "markdown",
   "metadata": {},
   "source": [
    "We consider attempts to create one universal function for all cases to be unproductive. It should rather be a set of rules and algorithms for generating a whole class of density functions, each of which will be appropriate in certain conditions."
   ]
  },
  {
   "cell_type": "markdown",
   "metadata": {},
   "source": [
    "The development of effective algorithms generating appropriate probability density functions will minimize the difference between modeled prices and fair values of options."
   ]
  },
  {
   "cell_type": "markdown",
   "metadata": {},
   "source": [
    "Apart from developing high-quality probabilistic forecasts, further research should target the development of optimization algorithms for parameters used in option pricing models"
   ]
  },
  {
   "cell_type": "markdown",
   "metadata": {},
   "source": [
    "Even in the Black-Scholes model—which is relatively simple and contains only a few parameters—the outcome strongly depends on the variance value. Historical volatility, which is usually used to derive variance, depends on the length of the historical period used for its calculation."
   ]
  },
  {
   "cell_type": "markdown",
   "metadata": {},
   "source": [
    "The value of this parameter can change the modeled option price considerably"
   ]
  },
  {
   "cell_type": "markdown",
   "metadata": {},
   "source": [
    "As models become more complicated, the number of parameters increases and their combined influence becomes more pronounced."
   ]
  },
  {
   "cell_type": "markdown",
   "metadata": {},
   "source": [
    "Another essential drawback of option theory consists in the insufficient development of specific risk indicators. (Some alternative indicators are described in Izraylevich and Tsudikman, 2009d, 2010.)"
   ]
  },
  {
   "cell_type": "markdown",
   "metadata": {},
   "source": [
    "The majority of works on this issue are based on calculating the Greeks that are derivatives of the option price with respect to the underlying asset price (delta), volatility (vega), time (theta), and the interest rate (rho). (Derivatives of higher orders are also used.) "
   ]
  },
  {
   "cell_type": "markdown",
   "metadata": {},
   "source": [
    "Derivatives are calculated analytically using formulae of option pricing models. This implies that risk indicators obtained in this way inherit all the drawbacks of initial models."
   ]
  },
  {
   "cell_type": "markdown",
   "metadata": {},
   "source": [
    "Just as options market prices rarely match with the modeled ones, the Greeks calculated analytically almost never coincide with real changes in option values. "
   ]
  },
  {
   "cell_type": "markdown",
   "metadata": {},
   "source": [
    " estimation of risks of an option portfolio as a whole entity."
   ]
  },
  {
   "cell_type": "markdown",
   "metadata": {},
   "source": [
    "Some risk indicators, such as theta and rho, are additive. Hence the dependence of the portfolio on time decay or interest rate change can be easily expressed as the sum of thetas or rhos of all options included in the portfolio."
   ]
  },
  {
   "cell_type": "markdown",
   "metadata": {},
   "source": [
    "On the contrary, delta and vega are nonadditive. Therefore, if the portfolio consists of options on several underlying assets, summing separate deltas and vegas is meaningless. "
   ]
  },
  {
   "cell_type": "markdown",
   "metadata": {},
   "source": [
    "One of the possible ways to solve this problem is to present the delta of each option as a derivative with respect to some index (such as S&P500 or NASDAQ) rather than with respect to the price of a corresponding underlying asset. (This issue is discussed in Izraylevich and Tsudikman, 2009b.)"
   ]
  },
  {
   "cell_type": "markdown",
   "metadata": {},
   "source": [
    "In the same way vegas of separate options can be expressed as derivatives with respect to volatility index (such as VIX or VXN) rather than with respect to volatility of a separate underlying asset. These procedures produce additive deltas and vegas that enable calculation of risk indicators (by summation of additive deltas and vegas) characterizing the whole portfolio."
   ]
  },
  {
   "cell_type": "markdown",
   "metadata": {},
   "source": [
    "One of the main issues in the option trading is the problem of selecting the best variants among many available alternatives. "
   ]
  },
  {
   "cell_type": "markdown",
   "metadata": {},
   "source": [
    "The choice is wide and the objects to examine and assess are compound structures."
   ]
  },
  {
   "cell_type": "markdown",
   "metadata": {},
   "source": [
    "In the literature and in multiple services offered by brokerage firms and Internet sources, the problem of choice is generally solved through application of different market scanners and rankers."
   ]
  },
  {
   "cell_type": "markdown",
   "metadata": {},
   "source": [
    "A typical scanner screens the market for underlying assets that currently have extreme characteristics, such as divergence between historical and implied volatilities, daily volatility fluctuations, changes in trading volume, and so on. "
   ]
  },
  {
   "cell_type": "markdown",
   "metadata": {},
   "source": [
    "Afterward a ranker orders underlying assets according to the suitability for a particular option strategy.Then suitable combinations should be designed for all chosen underlying assets. "
   ]
  },
  {
   "cell_type": "markdown",
   "metadata": {},
   "source": [
    "We regard the choice of suitable underlying assets for the a priori defined strategy as a differential approach."
   ]
  },
  {
   "cell_type": "markdown",
   "metadata": {},
   "source": [
    "Differential selection deprives the investor of the potential to utilize the whole spectrum of various trading opportunities provided by the market completely and effectively."
   ]
  },
  {
   "cell_type": "markdown",
   "metadata": {},
   "source": [
    "The systematic approach enables simultaneous processing of a considerable number of option strategies and underlying assets. "
   ]
  },
  {
   "cell_type": "markdown",
   "metadata": {},
   "source": [
    "The main goal of the systematic approach is to create a complex portfolio containing a potentially unlimited number of option combinations corresponding to a variety of strategies and underlying assets."
   ]
  },
  {
   "cell_type": "markdown",
   "metadata": {},
   "source": [
    "Its application ensures that all trading opportunities appearing at any particular moment will be thoroughly estimated and none of the variants worth considering will be omitted."
   ]
  },
  {
   "cell_type": "markdown",
   "metadata": {},
   "source": [
    "The systematic approach is realized through consecutive execution of the following procedures: valuation, comparative analyses, and selection."
   ]
  },
  {
   "cell_type": "markdown",
   "metadata": {},
   "source": [
    "These procedures are applied to the multitude of option combinations."
   ]
  },
  {
   "cell_type": "markdown",
   "metadata": {},
   "source": [
    "The combination represents a complex structure consisting of any number of long and/or short individual options corresponding to certain underlying assets."
   ]
  },
  {
   "cell_type": "markdown",
   "metadata": {},
   "source": [
    "Each option combination can be characterized by the shape of its payoff function. "
   ]
  },
  {
   "cell_type": "markdown",
   "metadata": {},
   "source": [
    "When referring to the option trading strategy, we will imply a certain definitive shape of the payoff function that is inherent to all combinations belonging to the same strategy and that is qualitatively distinguishable from payoff functions of combinations not belonging to this strategy. "
   ]
  },
  {
   "cell_type": "markdown",
   "metadata": {},
   "source": [
    "he set of option combinations available at any given moment in time for valuation, analyses, and selection of promising trading opportunities will be referred to as the initial set."
   ]
  },
  {
   "cell_type": "markdown",
   "metadata": {},
   "source": [
    "Option combinations are valuated through the application of strictly formalized criteria developed specially for this purpose and expressing potential profitability and risk of the assessed variants in different ways."
   ]
  },
  {
   "cell_type": "markdown",
   "metadata": {},
   "source": [
    "Criteria represent mathematical constructions with different degrees of complexity and one or many parameters. "
   ]
  },
  {
   "cell_type": "markdown",
   "metadata": {},
   "source": [
    "Optimization of parameters is performed either by means of statistical analyses of historical time series or by expert forecasts. "
   ]
  },
  {
   "cell_type": "markdown",
   "metadata": {},
   "source": [
    "Because parameters optimized on historical data are inclined to suffer from the disadvantage of curve fitting, close attention should be paid to the validity of statistical patterns used to determine their optimal values. "
   ]
  },
  {
   "cell_type": "markdown",
   "metadata": {},
   "source": [
    "Expert forecasts also have significant drawbacks because they reflect opinions of particular specialists and thus represent rather subjective estimates."
   ]
  },
  {
   "cell_type": "markdown",
   "metadata": {},
   "source": [
    "A systematic approach, applying both statistical analyses and expert forecasts, allows diminishing their drawbacks while amplifying advantages of these two parameterization methods."
   ]
  },
  {
   "cell_type": "markdown",
   "metadata": {},
   "source": [
    "Development of sophisticated criteria capable of valuating option combinations adequately, and optimization of their parameters, are the crucial issues that determine the practical success of systematic approach. "
   ]
  },
  {
   "cell_type": "markdown",
   "metadata": {},
   "source": [
    "After being valuated by criteria, every combination receives a numerical characteristic reflecting its investment attractiveness."
   ]
  },
  {
   "cell_type": "markdown",
   "metadata": {},
   "source": [
    "Option combinations can be valuated by one or several criteria. In the latter case the number of characteristics attributed to each combination is equal to the number of criteria."
   ]
  },
  {
   "cell_type": "markdown",
   "metadata": {},
   "source": [
    "Following the completion of the valuation stage, the characteristics attributed to combinations need to be analyzed."
   ]
  },
  {
   "cell_type": "markdown",
   "metadata": {},
   "source": [
    "During the analysis every combination is compared with all the others according to their characteristics."
   ]
  },
  {
   "cell_type": "markdown",
   "metadata": {},
   "source": [
    "As a result, all variants constituting the initial set are ordered according to their quality indicators."
   ]
  },
  {
   "cell_type": "markdown",
   "metadata": {},
   "source": [
    "If the valuation was based on several criteria, then the analysis generates several orderings. In this case the same combination can have different positions in different orderings. "
   ]
  },
  {
   "cell_type": "markdown",
   "metadata": {},
   "source": [
    "Subsequently all orderings can be either used separately or combined into a unified one."
   ]
  },
  {
   "cell_type": "markdown",
   "metadata": {},
   "source": [
    "The unified ordering can be either complete or partial."
   ]
  },
  {
   "cell_type": "markdown",
   "metadata": {},
   "source": [
    "Usually partial ordering appears when a complete one is unachievable. This may happen if some items turn out to be incomparable by certain criteria or if they are valued differently according to different criteria."
   ]
  },
  {
   "cell_type": "markdown",
   "metadata": {},
   "source": [
    "In such cases the entire set of alternatives is divided into groups, and these groups are consequently ordered as joint entities."
   ]
  },
  {
   "cell_type": "markdown",
   "metadata": {},
   "source": [
    "At the next stage the results of the comparative analysis are used to select a limited number of combinations possessing superior quality characteristics."
   ]
  },
  {
   "cell_type": "markdown",
   "metadata": {},
   "source": [
    "This procedure needs to be arranged thoroughly because it leads to the irreversible decision as to which combinations will enter the portfolio and which ones will be rejected.\""
   ]
  },
  {
   "cell_type": "markdown",
   "metadata": {},
   "source": [
    "You need to consider three main principles when choosing combinations suitable for inclusion into the portfolio.\n",
    "- The number of combinations selected should be large enough to maintain diversification of the portfolio above some minimum level. Like in the classic portfolio theory, it minimizes specific risks related to individual underlying assets.\n",
    "\n",
    "- Criteria values of selected combinations should exceed the values of the rejected ones. The minimal threshold for this excess should be established for each particular situation.\n",
    "\n",
    "- The relative superiority of some combinations over others (resulting from the comparison of their criteria values) should not be considered as the sufficient reason for selection. The absolute criteria values must also be taken into account. "
   ]
  },
  {
   "cell_type": "markdown",
   "metadata": {},
   "source": [
    "In practice, however, these principles contradict one another. Thus, following the second and the third principles an investor endeavors to decrease the number of combinations selected. "
   ]
  },
  {
   "cell_type": "markdown",
   "metadata": {},
   "source": [
    "At the same time the principle of portfolio diversification induces the opposite tendency—to increase this number."
   ]
  },
  {
   "cell_type": "markdown",
   "metadata": {},
   "source": [
    "Thereby the structure of the resulting portfolio represents a compromise (trade-off) between all three principles."
   ]
  },
  {
   "cell_type": "markdown",
   "metadata": {},
   "source": [
    "The selection procedure represents a set of rules determining how to draw the line separating potentially profitable combinations from those that lack such potential. "
   ]
  },
  {
   "cell_type": "markdown",
   "metadata": {},
   "source": [
    "In other words, the utility function may be defined as the relationship between an average return (the maximum drawdown, the Sharpe ratio, or any other characteristic reflecting the investor’s satisfaction) and the number of combinations selected."
   ]
  },
  {
   "cell_type": "markdown",
   "metadata": {},
   "source": [
    "Analytical methods are not applicable to the majority of utility functions because no formulae establish the relations between the value and the argument of these functions. Hence the values of utility functions are usually derived empirically from historical time series using different statistical techniques."
   ]
  },
  {
   "cell_type": "markdown",
   "metadata": {},
   "source": [
    "If several utility functions are used simultaneously, they need to be combined into one unified function."
   ]
  },
  {
   "cell_type": "markdown",
   "metadata": {},
   "source": [
    "The main requirement for the methods used to combine different utility functions is the unambiguity of the outcome that must be consistently interpretable. It means that the resultant function should be unimodal with a single evident maximum corresponding to the optimal number of combinations to be selected. "
   ]
  },
  {
   "cell_type": "markdown",
   "metadata": {},
   "source": [
    " Statistics offers several methods to combine empirical functions; the most popular are multiplicative and additive convolutions."
   ]
  },
  {
   "cell_type": "markdown",
   "metadata": {},
   "source": [
    "We have developed an additional method—a minimax convolution (see Chapter 5, “Selection of Option Strategies”) that in most cases brings more reliable and unambiguous results."
   ]
  },
  {
   "cell_type": "markdown",
   "metadata": {},
   "source": [
    "The initial set consists of a huge number of option combinations that must be processed during the execution of valuation, analyses, and selection procedures. "
   ]
  },
  {
   "cell_type": "markdown",
   "metadata": {},
   "source": [
    "Therefore, the initial set needs to be decreased to some reasonable quantities that are possible to work with on personal computers. "
   ]
  },
  {
   "cell_type": "markdown",
   "metadata": {},
   "source": [
    "You can achieve this decrease through the creation of combination-generating algorithms that produce only potentially appropriate combinations instead of generating all possible variants. (Their appropriateness is determined by specific requirements and limitations of the particular investor.)"
   ]
  },
  {
   "cell_type": "markdown",
   "metadata": {},
   "source": [
    "First, the investor must decide what strategies to use and then generate combinations corresponding exclusively to these strategies. This can significantly decrease the number of variants in the initial set."
   ]
  },
  {
   "cell_type": "markdown",
   "metadata": {},
   "source": [
    "Then additional reasonable limitations should be applied within every strategy. "
   ]
  },
  {
   "cell_type": "markdown",
   "metadata": {},
   "source": [
    "Such limits, on the one hand, are well founded and, on the other hand, they do not prevent an investor from taking full advantage of the majority of opportunities appearing in the options market."
   ]
  },
  {
   "cell_type": "markdown",
   "metadata": {},
   "source": [
    "At the same time, these limitations reduce the initial set to such an extent that makes it processible for personal computers."
   ]
  },
  {
   "cell_type": "markdown",
   "metadata": {},
   "source": [
    "Further facilitation of computational procedures can be achieved if selection is realized as a series of consecutive subselections. "
   ]
  },
  {
   "cell_type": "markdown",
   "metadata": {},
   "source": [
    "Before initiating any selection procedure, a range of potentially suitable underlying assets and trading strategies should be determined."
   ]
  },
  {
   "cell_type": "markdown",
   "metadata": {},
   "source": [
    "At the same time the algorithms used to generate option combinations must be established."
   ]
  },
  {
   "cell_type": "markdown",
   "metadata": {},
   "source": [
    "After that the initial set of variants available for trading can be represented as a three-dimensional space ({underlying assets × strategies × combinations}) on which the consecutive subselection procedures are executed."
   ]
  },
  {
   "cell_type": "markdown",
   "metadata": {},
   "source": [
    "The procedure of selection can be viewed as a reduction of the three-dimensional matrix. We propose to realize it as a sequence of three consecutive operations (each of which can be regarded as a subselection)."
   ]
  },
  {
   "cell_type": "markdown",
   "metadata": {},
   "source": [
    "The first operation represents selection of one or several best option combinations corresponding to a specific underlying asset and a given strategy."
   ]
  },
  {
   "cell_type": "markdown",
   "metadata": {},
   "source": [
    "The second operation consists of choosing one or several superior option trading strategies for every underlying asset. "
   ]
  },
  {
   "cell_type": "markdown",
   "metadata": {},
   "source": [
    "The third operation is intended to select the best variants from the lists of underlying assets corresponding to every strategy."
   ]
  },
  {
   "cell_type": "markdown",
   "metadata": {},
   "source": [
    "This sequence of operations represents only one possible way to perform the procedures of valuation, analyses, and selection. Some other, more complicated approaches to the reduction of the initial set matrix can be developed."
   ]
  },
  {
   "cell_type": "markdown",
   "metadata": {},
   "source": [
    "This book covers various aspects of dealing with trading opportunities provided by options: from their detection and investigation to selection and deriving profits. This statement a priori assumes the existence of trading opportunities. "
   ]
  },
  {
   "cell_type": "markdown",
   "metadata": {},
   "source": [
    "A trading opportunity is the deviation of the market price of an option (or any option combination) from its fair value. "
   ]
  },
  {
   "cell_type": "markdown",
   "metadata": {},
   "source": [
    "The fair value is the price that implies zero profit for both the seller and the buyer of the option."
   ]
  },
  {
   "cell_type": "markdown",
   "metadata": {},
   "source": [
    "It is common knowledge that the efficient market concept is an idealization unachievable at present days."
   ]
  },
  {
   "cell_type": "markdown",
   "metadata": {},
   "source": [
    "Financial markets are ineffective; asset prices constantly fluctuate and deviate from their fair value thereby creating various trading opportunities."
   ]
  },
  {
   "cell_type": "markdown",
   "metadata": {},
   "source": [
    "Because we define the trading opportunity as the difference between the market price and the fair value, we need to establish the algorithms to estimate these variables."
   ]
  },
  {
   "cell_type": "markdown",
   "metadata": {},
   "source": [
    "At each moment the market price is characterized by three indicators: last, bid, and ask prices. "
   ]
  },
  {
   "cell_type": "markdown",
   "metadata": {},
   "source": [
    "To discover them it is preferable to use bid and ask prices.\n"
   ]
  },
  {
   "cell_type": "markdown",
   "metadata": {},
   "source": [
    "If the investor prefers to be on the conservative side, the worst of these two prices should be used (that is, ask price—when buying options, and bid price—when selling them). This approach decreases the probability of a mistake but reduces the number of trading opportunities considerably. "
   ]
  },
  {
   "cell_type": "markdown",
   "metadata": {},
   "source": [
    "The less conservative investor can use the combination of bid and ask prices—their simple average or weighted average with different weights for the best and the worst price. In this case the probability of erroneous inclusion of the option into the category of “trading opportunities” is higher, but the sample is more representative."
   ]
  },
  {
   "cell_type": "markdown",
   "metadata": {},
   "source": [
    "Estimating the fair value of any asset is an extremely difficult task, and options are not an exception. Their distinctive feature is that, in contrast to other financial instruments, options have expiration dates. This enables us to evaluate the accuracy of the fair value estimate in a reasonably short time period."
   ]
  },
  {
   "cell_type": "markdown",
   "metadata": {},
   "source": [
    "The quantitative expression of trading opportunities can be obtained by subtracting the fair value of an option from its current market price"
   ]
  },
  {
   "cell_type": "markdown",
   "metadata": {},
   "source": [
    "For comparability of results the difference should be normalized by the strike price (allowing us to express the differences between fair and market prices in percentage).\n"
   ]
  },
  {
   "cell_type": "markdown",
   "metadata": {},
   "source": [
    "We assume the market price of an option to be equal to the average between the bid and the ask prices. The option fair value can be calculated using the method proposed by Ralph Vince (Vince, 1992):"
   ]
  },
  {
   "cell_type": "markdown",
   "metadata": {},
   "source": [
    "Option fair value = $\\sum_{i=1}^N (p_ia_i)$"
   ]
  },
  {
   "cell_type": "markdown",
   "metadata": {},
   "source": [
    "where $p_i$ is the probability of outcome $i$,\n",
    "\n",
    "$a_i$ is the profit or loss of outcome $i$, and\n",
    "\n",
    "$N$ is the number of possible outcomes."
   ]
  },
  {
   "cell_type": "markdown",
   "metadata": {},
   "source": [
    "To obtain the most accurate estimate of the fair value, Vince permits looking into the future"
   ]
  },
  {
   "cell_type": "markdown",
   "metadata": {},
   "source": [
    "Knowing the underlying asset price at the expiration date, we can find out the exact fair value of any option. "
   ]
  },
  {
   "cell_type": "markdown",
   "metadata": {},
   "source": [
    "Zero (or close to zero) difference between the market price and the fair value indicates absence of trading opportunities. "
   ]
  },
  {
   "cell_type": "markdown",
   "metadata": {},
   "source": [
    "The positive difference indicates that the option is overvalued and there is a trading opportunity to sell it."
   ]
  },
  {
   "cell_type": "markdown",
   "metadata": {},
   "source": [
    "Similarly, the negative difference indicates that the option is undervalued and there is a trading strike price opportunity to buy it."
   ]
  },
  {
   "cell_type": "markdown",
   "metadata": {},
   "source": [
    "To avoid zero fair values we evaluated trading opportunities of simple option combinations (straddles) rather than of separate options."
   ]
  },
  {
   "cell_type": "markdown",
   "metadata": {},
   "source": [
    "To demonstrate the intraday structure of strike price trading opportunities existing in the options market, we arbitrarily chose several dates (May 1, June 1, July 2, 2007) and analyzed the deviations between the market and the fair values on these days. "
   ]
  },
  {
   "cell_type": "markdown",
   "metadata": {},
   "source": [
    "We propose the following heuristic rule to separate combinations with trading opportunities from others that do not possess any trading potential or only have an insignificant one. "
   ]
  },
  {
   "cell_type": "markdown",
   "metadata": {},
   "source": [
    "Combinations with a difference between the market price and the fair value of no more than one percent (that is, within the range of –1% to 1%) are considered as lacking trading opportunities. Combinations with a difference that is outside this range are considered as having trading opportunities."
   ]
  },
  {
   "cell_type": "markdown",
   "metadata": {},
   "source": [
    "Combinations with a difference of >1% are overvalued; combinations with a difference of <–1% are undervalued."
   ]
  },
  {
   "cell_type": "markdown",
   "metadata": {},
   "source": [
    "The best way to represent the structure of trading opportunities is to build a frequency distribution of the differences between market and fair prices (see Figure I.2). "
   ]
  },
  {
   "cell_type": "markdown",
   "metadata": {},
   "source": [
    "The frequency distribution of differences between market and fair values deviates from normal distribution considerably (see Figure I.2)."
   ]
  },
  {
   "cell_type": "markdown",
   "metadata": {},
   "source": [
    "Small differences corresponding to the absence of trading opportunities are more frequent than it is expected under the normal distribution. Medium differences are observed less frequently than under normal distribution. "
   ]
  },
  {
   "cell_type": "markdown",
   "metadata": {},
   "source": [
    "So far we have been analyzing the distribution of trading opportunities between different underlying assets (to be more exact, between combinations corresponding to these assets) within one day. "
   ]
  },
  {
   "cell_type": "markdown",
   "metadata": {},
   "source": [
    "At the next stage the time dynamics of trading opportunities will be considered for separate underlyings."
   ]
  },
  {
   "cell_type": "markdown",
   "metadata": {},
   "source": [
    "We begin with one stock (AAPL will be used as an example) and calculate the difference between market prices and fair values of straddles for all dates within the period from January 2001 until August 2007."
   ]
  },
  {
   "cell_type": "markdown",
   "metadata": {},
   "source": [
    "Visual analysis of these data reveals that undervalued periods alternate with overvalued periods. In general, we can say that the dynamics of this process is characterized by quasiperiodical cycles. "
   ]
  },
  {
   "cell_type": "markdown",
   "metadata": {},
   "source": [
    "Previously we mentioned that the intensity of trading opportunities can vary widely. Although we agreed to consider the difference between the market and the fair values of more than 1% as indicating the presence of a trading opportunity, the profit potential may be quite low if the differences exceed 1% by just a slight margin. "
   ]
  },
  {
   "cell_type": "markdown",
   "metadata": {},
   "source": [
    "On the other hand, the difference of 5% and over has a strong profit potential. "
   ]
  },
  {
   "cell_type": "markdown",
   "metadata": {},
   "source": [
    "As it follows from Figure I.3 (and other research not presented here), medium trading opportunities (with a profit potential of approximately 2% to 4%) are prevailing in the market."
   ]
  },
  {
   "cell_type": "markdown",
   "metadata": {},
   "source": [
    "However, it should not have a negative impact on our evaluation of trading opportunities because these medium deviations of market prices from their fair values occur quite frequently.\n",
    "\n"
   ]
  },
  {
   "cell_type": "markdown",
   "metadata": {},
   "source": [
    "The dynamics of trading opportunities analyzed by the example of AAPL indicates the approximate equality of periods when the options of a certain underlying asset are overvalued and when they are undervalued. "
   ]
  },
  {
   "cell_type": "markdown",
   "metadata": {},
   "source": [
    "Two distributions are shifted relative to each other: overvalued—toward the longer fractions of time, undervalued—toward the shorter fractions of time (see Figure I.4). This means that options are more often overvalued than undervalued. "
   ]
  },
  {
   "cell_type": "markdown",
   "metadata": {},
   "source": [
    "Moreover, options relating to approximately 5% of stocks are overvalued for more than 70% of the time. On the other hand, options relating to only 3% of stocks are undervalued for just 50 % to 60% of the time."
   ]
  },
  {
   "cell_type": "markdown",
   "metadata": {},
   "source": [
    "This means that options of some stocks are permanently overvalued, whereas constantly undervalued options are relatively rare."
   ]
  },
  {
   "cell_type": "markdown",
   "metadata": {},
   "source": [
    "The following conclusions can be drawn from this statistical investigation. Considerable trading opportunities consisting of overvalued and undervalued options are constantly available in the market."
   ]
  },
  {
   "cell_type": "markdown",
   "metadata": {},
   "source": [
    "However, their relative ratios have complicated time dynamics that can hardly be forecasted by discovering persistent cycles with regular periodicity. "
   ]
  },
  {
   "cell_type": "markdown",
   "metadata": {},
   "source": [
    "Consequently, an accurate prediction of future trading opportunities—whether most of the options will be overvalued or undervalued—seems to be unfeasible. "
   ]
  },
  {
   "cell_type": "markdown",
   "metadata": {},
   "source": [
    " Therefore, at every moment in time the investor should determine the trading potential of each separate combination and create corresponding strategies based on selling overvalued, buying undervalued, and excluding fairly valued options and their combinations."
   ]
  },
  {
   "cell_type": "code",
   "execution_count": null,
   "metadata": {},
   "outputs": [],
   "source": [
    "                                    "
   ]
  }
 ],
 "metadata": {
  "kernelspec": {
   "display_name": "Python 3",
   "language": "python",
   "name": "python3"
  },
  "language_info": {
   "codemirror_mode": {
    "name": "ipython",
    "version": 3
   },
   "file_extension": ".py",
   "mimetype": "text/x-python",
   "name": "python",
   "nbconvert_exporter": "python",
   "pygments_lexer": "ipython3",
   "version": "3.6.7"
  }
 },
 "nbformat": 4,
 "nbformat_minor": 2
}
