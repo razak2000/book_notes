{
 "cells": [
  {
   "cell_type": "code",
   "execution_count": 2,
   "metadata": {
    "collapsed": true
   },
   "outputs": [],
   "source": [
    "import os\n",
    "import nbformat as nbf\n"
   ]
  },
  {
   "cell_type": "code",
   "execution_count": 3,
   "metadata": {},
   "outputs": [],
   "source": [
    "book_folder = '/home/abdul/study/books'"
   ]
  },
  {
   "cell_type": "code",
   "execution_count": 4,
   "metadata": {},
   "outputs": [
    {
     "name": "stdout",
     "output_type": "stream",
     "text": [
      "['misc', 'optimal_state_estimation', 'systematic_options_trading', 'quantopian_lectures', 'kalman_and_bayesian_filters_in_python', 'day_trading_options_jeff_augen', 'derivatives_analytics_with_python', 'automated_option_trading', 'mastering_probabilistic_graphical_models_using_python', 'advances_in_financial_machine_learning', 'options_futures_derivaties_hull', 'machine_trading', 'ipython', 'volatility edge', 'complete_guide_of_option_trading', 'hands_on_machine_learning_for_algorithmic_trading', 'introduction_to_randomr_signals_and_applied_kalman_filte', 'risk_management_and_financial_institutions']\n"
     ]
    }
   ],
   "source": [
    "sub_folders = [f for f in os.listdir(book_folder) if os.path.isdir(os.path.join(book_folder, f)) and not f.startswith('.') ]\n",
    " \n",
    "print(sub_folders)\n"
   ]
  },
  {
   "cell_type": "code",
   "execution_count": 7,
   "metadata": {},
   "outputs": [],
   "source": [
    "def write_notebook(input_folder, output_folder = 'notebooks_unlatexed'):\n",
    "    for root, dirs, files in os.walk(os.path.join(book_folder,input_folder)):\n",
    "        if root.endswith('chapters'):\n",
    "            # create output folder if not already exists\n",
    "            if len(files) != 0:\n",
    "                of = os.path.join(os.path.dirname(root), output_folder)\n",
    "                if not os.path.exists(of):\n",
    "                    os.makedirs(of) \n",
    "            text_files = [f for f in files if f.endswith('.txt')]   \n",
    "            for tf in text_files:\n",
    "                with open(os.path.join(root, tf), 'r') as f:\n",
    "                    text_data = f.read()\n",
    "                    data = text_data.split('\\n\\n')\n",
    "                    cells = [nbf.v4.new_markdown_cell(text) for text in data]\n",
    "                    nb = nbf.v4.new_notebook()\n",
    "                    nb['cells'] = cells\n",
    "                    output_file = os.path.join(of, tf.split('.')[0])+ '.ipynb'\n",
    "                    with open(output_file, 'w') as f:\n",
    "                        nbf.write(nb, f)\n",
    "\n",
    "# for sf in sub_folders:\n",
    "#     write_notebook(sf)\n"
   ]
  },
  {
   "cell_type": "code",
   "execution_count": 6,
   "metadata": {},
   "outputs": [],
   "source": [
    "# soft_skills_folder = book_folder + '/misc/soft-skills'\n",
    "# write_notebook(soft_skills_folder)"
   ]
  },
  {
   "cell_type": "code",
   "execution_count": 7,
   "metadata": {},
   "outputs": [],
   "source": [
    "# coursera_folder = '/home/abdul/study/coursera'\n",
    "# course = 'stochasticprocesses'\n",
    "# course_folder = os.path.join(coursera_folder, course)\n",
    "# write_notebook(course_folder, output_folder='notebooks')"
   ]
  },
  {
   "cell_type": "code",
   "execution_count": 8,
   "metadata": {},
   "outputs": [],
   "source": [
    "stanford_cnn_folder = '/home/abdul/study/courses/stanford/CS231n_CNN'\n",
    "write_notebook(stanford_cnn_folder, output_folder='notes')"
   ]
  },
  {
   "cell_type": "code",
   "execution_count": null,
   "metadata": {},
   "outputs": [],
   "source": [
    "systematic_option_trading_folder = '/home/abdul/study/books/systematic_options_trading'\n",
    "write_notebook(systematic_option_trading_folder)"
   ]
  },
  {
   "cell_type": "code",
   "execution_count": 11,
   "metadata": {},
   "outputs": [],
   "source": []
  },
  {
   "cell_type": "code",
   "execution_count": 11,
   "metadata": {},
   "outputs": [],
   "source": []
  },
  {
   "cell_type": "code",
   "execution_count": 11,
   "metadata": {},
   "outputs": [],
   "source": []
  },
  {
   "cell_type": "code",
   "execution_count": 11,
   "metadata": {},
   "outputs": [],
   "source": []
  },
  {
   "cell_type": "code",
   "execution_count": 11,
   "metadata": {},
   "outputs": [],
   "source": []
  },
  {
   "cell_type": "code",
   "execution_count": 11,
   "metadata": {},
   "outputs": [],
   "source": []
  },
  {
   "cell_type": "code",
   "execution_count": 11,
   "metadata": {},
   "outputs": [],
   "source": []
  },
  {
   "cell_type": "code",
   "execution_count": 11,
   "metadata": {},
   "outputs": [],
   "source": []
  },
  {
   "cell_type": "code",
   "execution_count": 11,
   "metadata": {},
   "outputs": [],
   "source": []
  },
  {
   "cell_type": "code",
   "execution_count": null,
   "metadata": {},
   "outputs": [],
   "source": []
  }
 ],
 "metadata": {
  "kernelspec": {
   "display_name": "Python 3",
   "language": "python",
   "name": "python3"
  },
  "language_info": {
   "codemirror_mode": {
    "name": "ipython",
    "version": 3
   },
   "file_extension": ".py",
   "mimetype": "text/x-python",
   "name": "python",
   "nbconvert_exporter": "python",
   "pygments_lexer": "ipython3",
   "version": "3.6.7"
  }
 },
 "nbformat": 4,
 "nbformat_minor": 2
}
