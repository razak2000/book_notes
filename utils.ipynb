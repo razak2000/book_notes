{
 "cells": [
  {
   "cell_type": "code",
   "execution_count": 1,
   "metadata": {
    "collapsed": true
   },
   "outputs": [],
   "source": [
    "import PyPDF2\n",
    "import re\n",
    "import os"
   ]
  },
  {
   "cell_type": "code",
   "execution_count": 2,
   "metadata": {
    "collapsed": true
   },
   "outputs": [],
   "source": [
    "book = 'hull-options-futures-10th-ed.pdf'\n",
    "books_folder = '/home/abdul/Documents/trading'\n",
    "book_path = os.path.join(books_folder, book)\n"
   ]
  },
  {
   "cell_type": "code",
   "execution_count": 3,
   "metadata": {},
   "outputs": [],
   "source": [
    "# data = None\n",
    "# with open(book_path, 'rb') as pdfFileObj:\n",
    "#     read_pdf = PyPDF2.PdfFileReader(pdfFileObj)\n",
    "#     page = read_pdf.getPage(0)\n",
    "#     page_mode = read_pdf.getPage(0)\n",
    "#     print(page_mode)"
   ]
  },
  {
   "cell_type": "code",
   "execution_count": 11,
   "metadata": {},
   "outputs": [],
   "source": [
    "words_suffix_file = '/home/abdul/study/books/misc/words/useful_words_suffix_sorted.txt'\n",
    "words_test_file = '/home/abdul/study/books/misc/words/test_words.txt'"
   ]
  },
  {
   "cell_type": "code",
   "execution_count": 41,
   "metadata": {
    "collapsed": false
   },
   "outputs": [],
   "source": [
    "words_suffix_dict = dict()\n",
    "with open(words_suffix_file) as fi:\n",
    "    for line in fi:\n",
    "        [left, right] = line.split()\n",
    "        if words_suffix_dict.get(left):\n",
    "            words_suffix_dict[left].append(right)\n",
    "            # print(right)\n",
    "        else:\n",
    "            words_suffix_dict[left] = [right]\n"
   ]
  },
  {
   "cell_type": "code",
   "execution_count": 42,
   "metadata": {},
   "outputs": [],
   "source": [
    "word_dict_single_suffix = {k:v for k,v in words_suffix_dict.items() if len(v) == 1}\n",
    "word_dict_multi_suffix = {k:v for k,v in words_suffix_dict.items() if len(v) > 1}\n"
   ]
  },
  {
   "cell_type": "code",
   "execution_count": 43,
   "metadata": {},
   "outputs": [],
   "source": [
    "single_suffix_output_file = 'useful_words_suffix_single.txt'\n",
    "multi_suffix_output_file = 'useful_words_suffix_multi.txt'\n",
    "suffix_output_file = 'useful_words_suffix.txt'\n",
    "words_folder = '/home/abdul/study/books/misc/words/'"
   ]
  },
  {
   "cell_type": "code",
   "execution_count": 48,
   "metadata": {},
   "outputs": [],
   "source": [
    "def write_dict(output_file, dict_out):\n",
    "    with open(os.path.join(words_folder,output_file), 'w') as fo:\n",
    "        for k, v in dict_out.items(): \n",
    "            line = '{}: {}\\n'.format(k, ', '.join(v))\n",
    "            fo.write(line)            "
   ]
  },
  {
   "cell_type": "code",
   "execution_count": 49,
   "metadata": {},
   "outputs": [],
   "source": [
    "write_dict(single_suffix_output_file, word_dict_single_suffix)\n",
    "write_dict(multi_suffix_output_file, word_dict_multi_suffix)\n",
    "write_dict(suffix_output_file, words_suffix_dict)"
   ]
  },
  {
   "cell_type": "code",
   "execution_count": null,
   "metadata": {},
   "outputs": [],
   "source": []
  }
 ],
 "metadata": {
  "kernelspec": {
   "display_name": "Python 2",
   "language": "python",
   "name": "python2"
  },
  "language_info": {
   "codemirror_mode": {
    "name": "ipython",
    "version": 2
   },
   "file_extension": ".py",
   "mimetype": "text/x-python",
   "name": "python",
   "nbconvert_exporter": "python",
   "pygments_lexer": "ipython2",
   "version": "2.7.6"
  }
 },
 "nbformat": 4,
 "nbformat_minor": 0
}
